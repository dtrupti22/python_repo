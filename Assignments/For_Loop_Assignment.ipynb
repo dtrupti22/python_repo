{
 "cells": [
  {
   "cell_type": "markdown",
   "id": "4290b37d-edda-4f07-8dfd-25910ea275d7",
   "metadata": {},
   "source": [
    "## Basic Level:"
   ]
  },
  {
   "cell_type": "markdown",
   "id": "fc42fea0-96c8-4e0e-a1a1-78639914d70b",
   "metadata": {},
   "source": [
    "1. Write a Python program to print the numbers from 1 to 10 using a `for` loop."
   ]
  },
  {
   "cell_type": "code",
   "execution_count": 1,
   "id": "389d7fd8-5cca-4b72-aeaf-c8cb1b225830",
   "metadata": {},
   "outputs": [
    {
     "name": "stdout",
     "output_type": "stream",
     "text": [
      "1\n",
      "2\n",
      "3\n",
      "4\n",
      "5\n",
      "6\n",
      "7\n",
      "8\n",
      "9\n",
      "10\n"
     ]
    }
   ],
   "source": [
    "# Run for loop for the range of 1 to 11\n",
    "for i in range(1, 11):\n",
    "    # Print the number\n",
    "    print(i)"
   ]
  },
  {
   "cell_type": "markdown",
   "id": "e247f4e2-908f-47af-a737-ff3ac90bd23d",
   "metadata": {},
   "source": [
    "2. Create a program that calculates the sum of all numbers in a list using a `for` loop."
   ]
  },
  {
   "cell_type": "code",
   "execution_count": 2,
   "id": "ef83a4e6-2f1d-478d-aca7-b1a0ab27f759",
   "metadata": {},
   "outputs": [
    {
     "name": "stdout",
     "output_type": "stream",
     "text": [
      "Sum of all values in list [23, 11, 45, 89, 12, 56] is: 236\n"
     ]
    }
   ],
   "source": [
    "# Declare list of numbers and sum variable\n",
    "numbers = [23, 11, 45, 89,12, 56]\n",
    "toal_sum = 0\n",
    "\n",
    "for num in numbers:\n",
    "    toal_sum += num\n",
    "\n",
    "print(f\"Sum of all values in list {numbers} is: {toal_sum}\")"
   ]
  },
  {
   "cell_type": "markdown",
   "id": "026127d6-1235-43f0-bd18-7c465fd0a5e8",
   "metadata": {},
   "source": [
    "3. Write a program to print the characters of a string in reverse order using a `for` loop."
   ]
  },
  {
   "cell_type": "code",
   "execution_count": 3,
   "id": "86b3d008-d186-48a6-b956-b6d52ec8ddc0",
   "metadata": {},
   "outputs": [
    {
     "name": "stdout",
     "output_type": "stream",
     "text": [
      "characters in string umbrella are as follows: \n",
      "u\n",
      "m\n",
      "b\n",
      "r\n",
      "e\n",
      "l\n",
      "l\n",
      "a\n"
     ]
    }
   ],
   "source": [
    "# Declare the string\n",
    "\n",
    "string = 'umbrella'\n",
    "print(f\"characters in string {string} are as follows: \")\n",
    "\n",
    "for char in string:\n",
    "    print(char)"
   ]
  },
  {
   "cell_type": "markdown",
   "id": "99c8aade-0975-4deb-a173-d78c049c0243",
   "metadata": {},
   "source": [
    "4. Develop a program that finds the factorial of a given number using a `for` loop."
   ]
  },
  {
   "cell_type": "code",
   "execution_count": 4,
   "id": "a571151d-ea5e-4304-8586-c59228a7cc96",
   "metadata": {},
   "outputs": [
    {
     "name": "stdin",
     "output_type": "stream",
     "text": [
      "Enter the number:  6\n"
     ]
    },
    {
     "name": "stdout",
     "output_type": "stream",
     "text": [
      "Factorial of number 6 is: 720\n"
     ]
    }
   ],
   "source": [
    "# get the user input \n",
    "\n",
    "number = int(input(\"Enter the number: \"))\n",
    "\n",
    "# Declare result variable and initialize it o 1 as 0 and 1! is 1\n",
    "fact = 1\n",
    "\n",
    "if number < 0:\n",
    "    print(\"Please enter positive number\")\n",
    "else:\n",
    "    for i in range(2,number+1):\n",
    "        fact*=i\n",
    "    print(f\"Factorial of number {number} is: {fact}\")"
   ]
  },
  {
   "cell_type": "markdown",
   "id": "a390e998-ce2e-48b1-9de4-d96918ff62a2",
   "metadata": {},
   "source": [
    "5. Create a program to print the multiplication table of a given number using a `for` loop."
   ]
  },
  {
   "cell_type": "code",
   "execution_count": 5,
   "id": "4516a2a2-d755-43d4-a824-d7c3d036277a",
   "metadata": {},
   "outputs": [
    {
     "name": "stdin",
     "output_type": "stream",
     "text": [
      "Enter the number to print multiplication table:  21\n"
     ]
    },
    {
     "name": "stdout",
     "output_type": "stream",
     "text": [
      "\n",
      "21 x 1 =  21\n",
      "21 x 2 =  42\n",
      "21 x 3 =  63\n",
      "21 x 4 =  84\n",
      "21 x 5 =  105\n",
      "21 x 6 =  126\n",
      "21 x 7 =  147\n",
      "21 x 8 =  168\n",
      "21 x 9 =  189\n",
      "21 x 10 =  210\n"
     ]
    }
   ],
   "source": [
    "#Get the user input\n",
    "number = int(input(\"Enter the number to print multiplication table: \"))\n",
    "\n",
    "print(\"\")\n",
    "\n",
    "for i in range(1, 11):\n",
    "    print(f\"{number} x {i} = \", number*i)"
   ]
  },
  {
   "cell_type": "markdown",
   "id": "7cda5f89-6687-4d5c-987a-31206cb7aa48",
   "metadata": {},
   "source": [
    "6. Write a program that counts the number of even and odd numbers in a list using a `for` loop."
   ]
  },
  {
   "cell_type": "code",
   "execution_count": 6,
   "id": "6c0675b8-6648-4265-ac78-4daf5cfcf161",
   "metadata": {},
   "outputs": [
    {
     "name": "stdout",
     "output_type": "stream",
     "text": [
      "The odd and even count in the list [23, 11, 45, 89, 12, 56, 63, 78] is as follows: \n",
      "Odd count:  5\n",
      "Even Count:  3\n"
     ]
    }
   ],
   "source": [
    "# Declare list of numbers and sum variable\n",
    "numbers = [23, 11, 45, 89,12, 56, 63,78]\n",
    "odd_num = 0\n",
    "even_num = 0\n",
    "\n",
    "for num in numbers:\n",
    "    if num %2 == 0:\n",
    "        even_num +=1\n",
    "    else:\n",
    "        odd_num+=1\n",
    "\n",
    "print(f\"The odd and even count in the list {numbers} is as follows: \")\n",
    "print(\"Odd count: \", odd_num)\n",
    "print(\"Even Count: \", even_num)"
   ]
  },
  {
   "cell_type": "markdown",
   "id": "cf861f6a-fd18-4b84-ba7d-388113915730",
   "metadata": {},
   "source": [
    "7. Develop a program that prints the squares of numbers from 1 to 5 using a `for` loop."
   ]
  },
  {
   "cell_type": "code",
   "execution_count": 7,
   "id": "dcfb7183-9e51-40e5-9ae8-4d51cff65c6b",
   "metadata": {},
   "outputs": [
    {
     "name": "stdout",
     "output_type": "stream",
     "text": [
      "The square of number 1 is:  1\n",
      "The square of number 2 is:  4\n",
      "The square of number 3 is:  9\n",
      "The square of number 4 is:  16\n",
      "The square of number 5 is:  25\n"
     ]
    }
   ],
   "source": [
    "for num in range(1,6):\n",
    "    print(f\"The square of number {num} is: \", num**2)"
   ]
  },
  {
   "cell_type": "markdown",
   "id": "be942a49-af37-4367-a173-c66b809ca919",
   "metadata": {},
   "source": [
    "8. Create a program to find the length of a string without using the `len()` function."
   ]
  },
  {
   "cell_type": "code",
   "execution_count": 8,
   "id": "1a28ae47-8f0f-4736-9673-86cf7bba0ff6",
   "metadata": {},
   "outputs": [
    {
     "name": "stdin",
     "output_type": "stream",
     "text": [
      "Enter the string to calculate the length umbrella\n"
     ]
    },
    {
     "name": "stdout",
     "output_type": "stream",
     "text": [
      "The length of entered string umbrella is:  8\n"
     ]
    }
   ],
   "source": [
    "# Declare the string\n",
    "\n",
    "string = input(\"Enter the string to calculate the length\")\n",
    "\n",
    "# Declare the legth counter variable\n",
    "length = 0\n",
    "\n",
    "# Iterate through each element and increment length counter variable\n",
    "for char in string:\n",
    "    length+=1\n",
    "\n",
    "# Print the output\n",
    "print(f\"The length of entered string {string} is: \", length)  "
   ]
  },
  {
   "cell_type": "markdown",
   "id": "d0792ec2-84f3-4902-b3cd-02bd1373d758",
   "metadata": {},
   "source": [
    "9. Write a program that calculates the average of a list of numbers using a `for` loop."
   ]
  },
  {
   "cell_type": "code",
   "execution_count": 9,
   "id": "254002fc-8992-4c13-8a84-a0c31945495d",
   "metadata": {},
   "outputs": [
    {
     "name": "stdout",
     "output_type": "stream",
     "text": [
      "The average of given list [23, 11, 45, 89, 12, 56, 63, 78] is: 47.125\n"
     ]
    }
   ],
   "source": [
    "# Declare list of numbers and sum variable\n",
    "numbers = [23, 11, 45, 89,12, 56, 63,78]\n",
    "total = 0\n",
    "average = 0\n",
    "\n",
    "for num in numbers:\n",
    "    total+=num\n",
    "average = total/len(numbers)\n",
    "\n",
    "print(f\"The average of given list {numbers} is: {average}\")"
   ]
  },
  {
   "cell_type": "markdown",
   "id": "ee6bad64-a0b9-40b5-bac6-201f4e35c283",
   "metadata": {},
   "source": [
    "10. Develop a program that prints the first `n` Fibonacci numbers using a `for` loop."
   ]
  },
  {
   "cell_type": "code",
   "execution_count": 10,
   "id": "8629384c-b9c5-4d42-93a4-1e4fdfef7a8f",
   "metadata": {},
   "outputs": [
    {
     "name": "stdin",
     "output_type": "stream",
     "text": [
      "Enter the number to generate fibbonacci sequence:  8\n"
     ]
    },
    {
     "name": "stdout",
     "output_type": "stream",
     "text": [
      "0\n",
      "1\n",
      "1\n",
      "2\n",
      "3\n",
      "5\n",
      "8\n",
      "13\n"
     ]
    }
   ],
   "source": [
    "# Get the input number from user\n",
    "num = int(input(\"Enter the number to generate fibbonacci sequence: \"))\n",
    "\n",
    "x,y,z = 0,1,0\n",
    "for i in range(0, num):\n",
    "    print(x)\n",
    "    z = x + y\n",
    "    x = y\n",
    "    y = z"
   ]
  },
  {
   "cell_type": "markdown",
   "id": "175d1c20-e926-4725-a7f3-15d0738e9c07",
   "metadata": {},
   "source": [
    "## Intermediate Level:"
   ]
  },
  {
   "cell_type": "markdown",
   "id": "410b836a-12af-40b1-aa6b-56cb4166b53d",
   "metadata": {},
   "source": [
    "11. Write a program to check if a given list contains any duplicates using a `for` loop."
   ]
  },
  {
   "cell_type": "code",
   "execution_count": 11,
   "id": "4214af80-a5ce-4eea-b3dc-7eae3dc77198",
   "metadata": {},
   "outputs": [
    {
     "name": "stdout",
     "output_type": "stream",
     "text": [
      "The duplicates in number list [23, 11, 45, 89, 12, 56, 63, 78, 56, 11] are:  [56, 11]\n"
     ]
    }
   ],
   "source": [
    "# Declare list of numbers and sum variable\n",
    "numbers = [23, 11, 45, 89,12, 56, 63, 78, 56, 11]\n",
    "\n",
    "# Declare unique numbers list\n",
    "unique = []\n",
    "\n",
    "# Declare duplicates numbers list\n",
    "duplicates = []\n",
    "\n",
    "for num in numbers:\n",
    "    if num not in unique:\n",
    "        unique.append(num)\n",
    "    else:\n",
    "        duplicates.append(num)\n",
    "        \n",
    "print(f\"The duplicates in number list {numbers} are: \", duplicates)"
   ]
  },
  {
   "cell_type": "markdown",
   "id": "d555e590-37d8-4fdb-a839-aca992780e7e",
   "metadata": {},
   "source": [
    "12. Create a program that prints the prime numbers in a given range using a `for` loop."
   ]
  },
  {
   "cell_type": "code",
   "execution_count": 12,
   "id": "be8b5d4f-3c80-4bea-a316-96dafa201003",
   "metadata": {},
   "outputs": [
    {
     "name": "stdin",
     "output_type": "stream",
     "text": [
      "Enter a range of numbers separated by space:  7 45\n"
     ]
    },
    {
     "name": "stdout",
     "output_type": "stream",
     "text": [
      "Prime numbers between 23 and 11 are: [7, 11, 13, 17, 19, 23, 29, 31, 37, 41, 43]\n"
     ]
    }
   ],
   "source": [
    "# Step 1: Define function to check number is prime or not\n",
    "\n",
    "def isPrimeNumber(number):\n",
    "    isprime = True\n",
    "\n",
    "    if number > 1:\n",
    "        # If number is divisible by any other number then is is not a prime, so check for factors\n",
    "        for i in range(2, number):\n",
    "            if (number % i) == 0:\n",
    "                # number is divisilbe by i so it is not a prime number\n",
    "                isprime = False\n",
    "                break\n",
    "    else:\n",
    "        isprime = False\n",
    "    \n",
    "    return isprime\n",
    "    \n",
    "a, b = input(\"Enter a range of numbers separated by space: \").split()\n",
    "\n",
    "prime = []\n",
    "\n",
    "for num in range(int(a), int(b)):\n",
    "    if isPrimeNumber(num):\n",
    "        prime.append(num)\n",
    "\n",
    "print(f\"Prime numbers between {numbers[0]} and {numbers[1]} are: {prime}\")"
   ]
  },
  {
   "cell_type": "markdown",
   "id": "67ee5e97-f34a-459c-85ef-bc4c89594b6c",
   "metadata": {},
   "source": [
    "13. Develop a program that counts the number of vowels in a string using a `for` loop."
   ]
  },
  {
   "cell_type": "code",
   "execution_count": 13,
   "id": "bbdf94b6-0b98-4b86-a616-d921691e8458",
   "metadata": {},
   "outputs": [
    {
     "name": "stdin",
     "output_type": "stream",
     "text": [
      "Enter the string to calculate vowels calculative\n"
     ]
    },
    {
     "name": "stdout",
     "output_type": "stream",
     "text": [
      "The vowels count in entered string calculative is:  5\n"
     ]
    }
   ],
   "source": [
    "# get the input string\n",
    "\n",
    "string = input(\"Enter the string to calculate vowels\")\n",
    "\n",
    "# Declare the vowels counter variable\n",
    "vowels_count = 0\n",
    "\n",
    "# Iterate through each element and increment length counter variable\n",
    "for char in string:\n",
    "    if char.lower() in 'aeiou':\n",
    "        vowels_count+=1\n",
    "\n",
    "# Print the output\n",
    "print(f\"The vowels count in entered string {string} is: \", vowels_count)  "
   ]
  },
  {
   "cell_type": "markdown",
   "id": "9ae831e9-b5ba-4e69-987d-c5f8dec266ad",
   "metadata": {},
   "source": [
    "14. Write a program to find the maximum element in a 2D list using a nested `for` loop."
   ]
  },
  {
   "cell_type": "code",
   "execution_count": 14,
   "id": "285723ec-c628-4f8a-afd1-6896cc8b63b0",
   "metadata": {},
   "outputs": [
    {
     "name": "stdout",
     "output_type": "stream",
     "text": [
      "The maximum element in the 2D list is: 39\n"
     ]
    }
   ],
   "source": [
    "# Declare 2D list\n",
    "twoDList = [\n",
    "    [1,2,3,4,8],\n",
    "    [5,39,6,11,13,8], \n",
    "    [29,10,21,19]\n",
    "]\n",
    "\n",
    "# Initialize a maximum variable with first element in the list\n",
    "max_ele = twoDList[0][0]\n",
    "\n",
    "# Iterate through the 2D list using nested loops\n",
    "for row in twoDList:\n",
    "    for element in row:\n",
    "        if element > max_ele:\n",
    "            max_ele = element\n",
    "\n",
    "# Print the maximum element\n",
    "print(f\"The maximum element in the 2D list is: {max_ele}\")"
   ]
  },
  {
   "cell_type": "markdown",
   "id": "6873a002-95ea-4ece-9101-44748625ad77",
   "metadata": {},
   "source": [
    "15. Create a program that removes all occurrences of a specific element from a list using a `for` loop."
   ]
  },
  {
   "cell_type": "code",
   "execution_count": 15,
   "id": "b518231c-cba0-479d-930c-efb818a1aa47",
   "metadata": {},
   "outputs": [
    {
     "name": "stdin",
     "output_type": "stream",
     "text": [
      "Enter the element to remove all occurences of it 45\n"
     ]
    },
    {
     "name": "stdout",
     "output_type": "stream",
     "text": [
      "\n",
      "List before removing occurrences of 45 is [23, 11, 45, 89, 12, 45, 56, 63, 78]\n",
      "\n",
      "The modified list after removing occurrences of 45 is [23, 11, 89, 12, 56, 63, 78]\n"
     ]
    }
   ],
   "source": [
    "# Declare list of numbers and sum variable\n",
    "numbers = [23, 11, 45, 89,12, 45, 56, 63, 78]\n",
    "\n",
    "# Declare modified list\n",
    "modifiedList = []\n",
    "\n",
    "element = int(input(\"Enter the element to remove all occurences of it\"))\n",
    "\n",
    "for num in numbers:\n",
    "    if num != element:\n",
    "        modifiedList.append(num)\n",
    "        \n",
    "print(f\"\\nList before removing occurrences of {element} is {numbers}\\n\")\n",
    "print(f\"The modified list after removing occurrences of {element} is {modifiedList}\")"
   ]
  },
  {
   "cell_type": "markdown",
   "id": "134dd2a0-8e46-4d85-ace9-a24cae90df70",
   "metadata": {},
   "source": [
    "16. Develop a program that generates a multiplication table for numbers from 1 to 5 using a nested `for` loop."
   ]
  },
  {
   "cell_type": "code",
   "execution_count": 16,
   "id": "39690b14-e563-419b-9b40-9da25eb2661f",
   "metadata": {},
   "outputs": [
    {
     "name": "stdout",
     "output_type": "stream",
     "text": [
      "Table of 1:\n",
      "1 x 1 =  1\n",
      "1 x 2 =  2\n",
      "1 x 3 =  3\n",
      "1 x 4 =  4\n",
      "1 x 5 =  5\n",
      "1 x 6 =  6\n",
      "1 x 7 =  7\n",
      "1 x 8 =  8\n",
      "1 x 9 =  9\n",
      "1 x 10 =  10\n",
      "**************************************************\n",
      "Table of 2:\n",
      "2 x 1 =  2\n",
      "2 x 2 =  4\n",
      "2 x 3 =  6\n",
      "2 x 4 =  8\n",
      "2 x 5 =  10\n",
      "2 x 6 =  12\n",
      "2 x 7 =  14\n",
      "2 x 8 =  16\n",
      "2 x 9 =  18\n",
      "2 x 10 =  20\n",
      "**************************************************\n",
      "Table of 3:\n",
      "3 x 1 =  3\n",
      "3 x 2 =  6\n",
      "3 x 3 =  9\n",
      "3 x 4 =  12\n",
      "3 x 5 =  15\n",
      "3 x 6 =  18\n",
      "3 x 7 =  21\n",
      "3 x 8 =  24\n",
      "3 x 9 =  27\n",
      "3 x 10 =  30\n",
      "**************************************************\n",
      "Table of 4:\n",
      "4 x 1 =  4\n",
      "4 x 2 =  8\n",
      "4 x 3 =  12\n",
      "4 x 4 =  16\n",
      "4 x 5 =  20\n",
      "4 x 6 =  24\n",
      "4 x 7 =  28\n",
      "4 x 8 =  32\n",
      "4 x 9 =  36\n",
      "4 x 10 =  40\n",
      "**************************************************\n",
      "Table of 5:\n",
      "5 x 1 =  5\n",
      "5 x 2 =  10\n",
      "5 x 3 =  15\n",
      "5 x 4 =  20\n",
      "5 x 5 =  25\n",
      "5 x 6 =  30\n",
      "5 x 7 =  35\n",
      "5 x 8 =  40\n",
      "5 x 9 =  45\n",
      "5 x 10 =  50\n",
      "**************************************************\n"
     ]
    }
   ],
   "source": [
    "for num in range(1,6):\n",
    "    print(f\"Table of {num}:\")\n",
    "    for multiplier in range(1, 11):\n",
    "        print(f\"{num} x {multiplier} = \", num*multiplier)\n",
    "    print(\"*\"*50)"
   ]
  },
  {
   "cell_type": "markdown",
   "id": "562d8dcd-1d90-4750-89d6-bcbe3efa2408",
   "metadata": {},
   "source": [
    "17. Write a program that converts a list of Fahrenheit temperatures to Celsius using a `for` loop."
   ]
  },
  {
   "cell_type": "code",
   "execution_count": 17,
   "id": "aa8e31cd-d096-4c21-95c3-4fd711371aab",
   "metadata": {},
   "outputs": [
    {
     "name": "stdout",
     "output_type": "stream",
     "text": [
      "Fahrenheit Temperatures: [90.4, 87, 92, 83, 56.54]\n",
      "Celsius Temperatures: [32.44444444444444, 30.555555555555557, 33.333333333333336, 28.333333333333332, 13.633333333333333]\n"
     ]
    }
   ],
   "source": [
    "fahrenheit_temperatures = [90.4, 87, 92, 83, 56.54]\n",
    "celsius_temperatures = []\n",
    "\n",
    "# Calculate temperature in Fahrenheit by using formula\n",
    "for temp in fahrenheit_temperatures:\n",
    "    temp_conv = (temp - 32) * 5/9\n",
    "    celsius_temperatures.append(temp_conv)\n",
    "\n",
    "# Print the converted Celsius temperatures\n",
    "print(\"Fahrenheit Temperatures:\", fahrenheit_temperatures)\n",
    "print(\"Celsius Temperatures:\", celsius_temperatures)"
   ]
  },
  {
   "cell_type": "markdown",
   "id": "c7da34de-1611-4e3e-8b38-b74b097addf4",
   "metadata": {},
   "source": [
    "18. Create a program to print the common elements from two lists using a `for` loop."
   ]
  },
  {
   "cell_type": "code",
   "execution_count": 18,
   "id": "851cbfab-4000-4fc5-b546-e120c19a00a8",
   "metadata": {},
   "outputs": [
    {
     "name": "stdout",
     "output_type": "stream",
     "text": [
      "Common elements in two lists are: [78, 43, 23]\n"
     ]
    }
   ],
   "source": [
    "# Declare two lists\n",
    "list1 = [24,56,78,67,43,89,99,23]\n",
    "list2 = [30,58,78,79,43,88,98,23]\n",
    "\n",
    "# Initialize an empty list to store common elements\n",
    "common_elements = []\n",
    "\n",
    "for ele in list1:\n",
    "    if ele in list2:\n",
    "        common_elements.append(ele)\n",
    "\n",
    "print(f\"Common elements in two lists are: {common_elements}\")"
   ]
  },
  {
   "cell_type": "markdown",
   "id": "8cd14a37-b369-427e-abc5-d1698f5c760e",
   "metadata": {},
   "source": [
    "19. Develop a program that prints the pattern of right-angled triangles using a `for` loop. Use ‘*’ to draw the \n",
    "pattern"
   ]
  },
  {
   "cell_type": "code",
   "execution_count": 19,
   "id": "2fb39ebd-9ece-43c9-b2a5-662d4bc1ccd0",
   "metadata": {},
   "outputs": [
    {
     "name": "stdin",
     "output_type": "stream",
     "text": [
      "Enter the number of triangles:  5\n"
     ]
    },
    {
     "name": "stdout",
     "output_type": "stream",
     "text": [
      "* \n",
      "* * \n",
      "* * * \n",
      "* * * * \n",
      "* * * * * \n"
     ]
    }
   ],
   "source": [
    "# Get the number of rows from the user\n",
    "rows = int(input(\"Enter the number of triangles: \"))\n",
    "\n",
    "# Iterate through the number of rows\n",
    "for i in range(1, rows + 1):\n",
    "    # Print each row of the current triangle\n",
    "    for j in range(1, i+1):\n",
    "        print(\"*\", end=\" \")\n",
    "    print() \n"
   ]
  },
  {
   "cell_type": "markdown",
   "id": "65443725-4aa6-43d7-99a6-df162c75ade0",
   "metadata": {},
   "source": [
    "20. Write a program to find the greatest common divisor (GCD) of two numbers using a `for` loop"
   ]
  },
  {
   "cell_type": "code",
   "execution_count": 20,
   "id": "50c205f7-f282-41fe-9058-29f9196f5fc1",
   "metadata": {},
   "outputs": [
    {
     "name": "stdin",
     "output_type": "stream",
     "text": [
      "Enter the first number:  12\n",
      "Enter the second number:  20\n"
     ]
    },
    {
     "name": "stdout",
     "output_type": "stream",
     "text": [
      "The greatest common divisor of 12 and 20 is 4.\n"
     ]
    }
   ],
   "source": [
    "# Get input numbers from the user\n",
    "num1 = int(input(\"Enter the first number: \"))\n",
    "num2 = int(input(\"Enter the second number: \"))\n",
    "\n",
    "if num1 > num2:\n",
    "    num1, num2 = num2, num1\n",
    "\n",
    "# Iterate through all possible divisors\n",
    "for i in range(1, num1 + 1):\n",
    "    if num1 % i == 0 and num2 % i == 0:\n",
    "        gcd = i\n",
    "\n",
    "# Print the GCD\n",
    "print(f\"The greatest common divisor of {num1} and {num2} is {gcd}.\")\n"
   ]
  },
  {
   "cell_type": "markdown",
   "id": "7387abd7-6516-4017-a062-c6d93cc20fd4",
   "metadata": {},
   "source": [
    "## Advanced Level:"
   ]
  },
  {
   "cell_type": "markdown",
   "id": "d136b593-e1ba-4c35-a7b2-ce39952cf5b6",
   "metadata": {},
   "source": [
    "21. Create a program that calculates the sum of the digits of numbers in a list using a list comprehension."
   ]
  },
  {
   "cell_type": "code",
   "execution_count": 21,
   "id": "88ab04f3-8a2e-4746-bad7-5be63f8410af",
   "metadata": {},
   "outputs": [
    {
     "name": "stdout",
     "output_type": "stream",
     "text": [
      "Number: 23, Sum of Digits: 5\n",
      "Number: 45, Sum of Digits: 9\n",
      "Number: 90, Sum of Digits: 9\n",
      "Number: 123, Sum of Digits: 6\n",
      "Number: 456, Sum of Digits: 15\n",
      "Number: 1789, Sum of Digits: 25\n",
      "Number: 27, Sum of Digits: 9\n"
     ]
    }
   ],
   "source": [
    "def getSumOfDigits(num):\n",
    "    summation = 0\n",
    "    for digit in str(num): \n",
    "        summation += int(digit)\n",
    "    return summation\n",
    "\n",
    "num_list = [23,45,90,123,456,1789, 27]\n",
    "\n",
    "digit_sums = [getSumOfDigits(num) for num in num_list]\n",
    "\n",
    "# Print the numbers and their sums of digits\n",
    "for i in range(len(num_list)):\n",
    "    print(f\"Number: {num_list[i]}, Sum of Digits: {digit_sums[i]}\")"
   ]
  },
  {
   "cell_type": "markdown",
   "id": "f8649b20-9d94-4bae-b9a6-bfae4c232ef2",
   "metadata": {},
   "source": [
    "22. Write a program to find the prime factors of a given number using a `for` loop and list comprehension."
   ]
  },
  {
   "cell_type": "code",
   "execution_count": 22,
   "id": "6099d289-7aff-48ee-944a-dd41336701ab",
   "metadata": {},
   "outputs": [
    {
     "name": "stdin",
     "output_type": "stream",
     "text": [
      "Enter the number to find prime factors 247\n"
     ]
    },
    {
     "name": "stdout",
     "output_type": "stream",
     "text": [
      "The prime factors of number 247 are as follow: [13, 19]\n"
     ]
    }
   ],
   "source": [
    "#Define function to check if number is prime\n",
    "def isPrime(number):\n",
    "    isprime = True\n",
    "\n",
    "    if number > 1:\n",
    "        # If number is divisible by any other number then is is not a prime, so check for factors\n",
    "        for i in range(2, int(number**0.5)+1):\n",
    "            if (number % i) == 0:\n",
    "                # number is divisilbe by i so it is not a prime number\n",
    "                isprime = False\n",
    "                break\n",
    "    else:\n",
    "        isprime = False\n",
    "    \n",
    "    return isprime\n",
    "\n",
    "# Get the input from the user\n",
    "num = int(input(\"Enter the number to find prime factors\"))\n",
    "\n",
    "# Get the factors which are prime using list compreshension\n",
    "factors = [i for i in range(2, num + 1) if num % i == 0 and isPrime(i)]\n",
    "\n",
    "\n",
    "# Print the results\n",
    "print(f\"The prime factors of number {num} are as follow: {factors}\")\n"
   ]
  },
  {
   "cell_type": "markdown",
   "id": "7d1ad663-f20c-4864-91c3-6722cee94ffe",
   "metadata": {},
   "source": [
    "23. Develop a program that extracts unique elements from a list and stores them in a new list using a list \n",
    "comprehension."
   ]
  },
  {
   "cell_type": "code",
   "execution_count": 23,
   "id": "c656771c-d686-4ec0-8c63-96ac33fa93d1",
   "metadata": {},
   "outputs": [
    {
     "name": "stdout",
     "output_type": "stream",
     "text": [
      "The unique elements in number list [23, 11, 11, 89, 12, 12, 63, 78, 56, 11] are:  [23, 89, 63, 78, 56]\n"
     ]
    }
   ],
   "source": [
    "# Declare list of numbers and sum variable\n",
    "numbers = [23, 11, 11, 89,12, 12, 63, 78, 56, 11]\n",
    "\n",
    "# Declare unique numbers list\n",
    "unique = [num for num in numbers if numbers.count(num) == 1]\n",
    "        \n",
    "print(f\"The unique elements in number list {numbers} are: \", unique)"
   ]
  },
  {
   "cell_type": "markdown",
   "id": "a588c426-1c59-4ca8-ab90-7e146c182d0f",
   "metadata": {},
   "source": [
    "24. Create a program that generates a list of all palindromic numbers up to a specified limit using a list \n",
    "comprehension."
   ]
  },
  {
   "cell_type": "code",
   "execution_count": 24,
   "id": "b64197bc-30c0-4b35-9c6b-a201d87852cf",
   "metadata": {},
   "outputs": [
    {
     "name": "stdin",
     "output_type": "stream",
     "text": [
      "Enter a limit to get palindromic numbers:  35\n"
     ]
    },
    {
     "name": "stdout",
     "output_type": "stream",
     "text": [
      "Palindromic numbers up to 35: [1, 2, 3, 4, 5, 6, 7, 8, 9, 11, 22, 33]\n"
     ]
    }
   ],
   "source": [
    "# Get the user input for limit\n",
    "limit = int(input(\"Enter a limit to get palindromic numbers: \"))\n",
    "\n",
    "if limit < 0:\n",
    "    print(\"Please enter positive limit\")\n",
    "else:\n",
    "    # Use a list comprehension to generate a list of palindromic numbers\n",
    "    palindromic_numbers = [num for num in range(1, limit + 1) if str(num) == str(num)[::-1]]\n",
    "\n",
    "    # Print the list of palindromic numbers\n",
    "    print(f\"Palindromic numbers up to {limit}: {palindromic_numbers}\")\n"
   ]
  },
  {
   "cell_type": "markdown",
   "id": "82b1a800-8207-465b-9c95-a5eee6156a46",
   "metadata": {},
   "source": [
    "25. Write a program to flatten a nested list using list comprehension."
   ]
  },
  {
   "cell_type": "code",
   "execution_count": 25,
   "id": "9c9260aa-0dc0-49fe-b9d0-bd10bb1d0d3c",
   "metadata": {},
   "outputs": [
    {
     "name": "stdout",
     "output_type": "stream",
     "text": [
      "flatten list: [12, 24, 36, 'A', 'B', 'C', 48, 60, 72]\n"
     ]
    }
   ],
   "source": [
    "nested_list = [[12, 24, 36], [\"A\", \"B\", \"C\"], [48, 60, 72]]\n",
    "flatten_list = [ele for sublist in nested_list for ele in sublist]\n",
    "\n",
    "print(\"flatten list:\" , flatten_list)\n"
   ]
  },
  {
   "cell_type": "markdown",
   "id": "9e22dc0c-fa58-4283-bdfc-ccf757f82c64",
   "metadata": {},
   "source": [
    "26. Develop a program that computes the sum of even and odd numbers in a list separately using list \n",
    "comprehension."
   ]
  },
  {
   "cell_type": "code",
   "execution_count": 26,
   "id": "6f96409e-1a88-44ae-90ec-c213634a36a3",
   "metadata": {},
   "outputs": [
    {
     "name": "stdout",
     "output_type": "stream",
     "text": [
      "Sum of Even Numbers: 146\n",
      "Sum of Odd Numbers: 231\n"
     ]
    }
   ],
   "source": [
    "# Declare list of numbers\n",
    "numbers = [23, 11, 45, 89,12, 56, 63,78]\n",
    "\n",
    "# Use list comprehension to separate even and odd numbers and get sum\n",
    "sum_even = sum([x for x in numbers if x % 2 == 0])\n",
    "sum_odd = sum([x for x in numbers if x % 2 != 0])\n",
    "\n",
    "# Print the results\n",
    "print(\"Sum of Even Numbers:\", sum_even)\n",
    "print(\"Sum of Odd Numbers:\", sum_odd)\n"
   ]
  },
  {
   "cell_type": "markdown",
   "id": "3b8c5e41-828d-4a7a-a321-4e712d9b7944",
   "metadata": {},
   "source": [
    "27. Create a program that generates a list of squares of odd numbers between 1 and 10 using list \n",
    "comprehension."
   ]
  },
  {
   "cell_type": "code",
   "execution_count": 27,
   "id": "607280c2-c1ff-4de1-8df4-2ee8838fc19e",
   "metadata": {},
   "outputs": [
    {
     "name": "stdout",
     "output_type": "stream",
     "text": [
      "list of squares of Odd Numbers: [1, 9, 25, 49, 81]\n"
     ]
    }
   ],
   "source": [
    "# Use list comprehension to separate even and odd numbers and get sum\n",
    "\n",
    "odd_squares = [num**2 for num in range(1,11) if num % 2 != 0]\n",
    "\n",
    "# Print the results\n",
    "print(\"list of squares of Odd Numbers:\", odd_squares)\n"
   ]
  },
  {
   "cell_type": "markdown",
   "id": "bfaaa459-aaf6-41f4-b57b-146f221ad4af",
   "metadata": {},
   "source": [
    "28. Write a program that combines two lists into a dictionary using list comprehension."
   ]
  },
  {
   "cell_type": "code",
   "execution_count": 28,
   "id": "7aaf67b9-14b4-438d-b0a3-8ade8f240913",
   "metadata": {},
   "outputs": [
    {
     "name": "stdout",
     "output_type": "stream",
     "text": [
      "Dictionary after combining two lists {'EmpID': 12345, 'Name': 'Aryan', 'Role': 'Developer'}\n"
     ]
    }
   ],
   "source": [
    "# Define two lists keys and values to create combined dictionary\n",
    "\n",
    "keys = [\"EmpID\", \"Name\", \"Role\"]\n",
    "values = [12345, \"Aryan\", \"Developer\"]\n",
    "\n",
    "# Use list comprehension to create dictionary\n",
    "dictionary = {keys[i] : values[i] for i in range(0, len(keys))}\n",
    "\n",
    "# Print the result\n",
    "print(\"Dictionary after combining two lists\", dictionary)"
   ]
  },
  {
   "cell_type": "markdown",
   "id": "340bd479-1854-4360-95c5-c576e0dc2a6d",
   "metadata": {},
   "source": [
    "29. Develop a program that extracts the vowels from a string and stores them in a list using list comprehension."
   ]
  },
  {
   "cell_type": "code",
   "execution_count": 29,
   "id": "1011d449-dd01-4ca7-8026-b989c9d2d46d",
   "metadata": {},
   "outputs": [
    {
     "name": "stdin",
     "output_type": "stream",
     "text": [
      "Enter the string to get vowels list I have an orange umbrella\n"
     ]
    },
    {
     "name": "stdout",
     "output_type": "stream",
     "text": [
      "Extracted vowels from the entred string:  ['I', 'a', 'e', 'a', 'o', 'a', 'e', 'u', 'e', 'a']\n"
     ]
    }
   ],
   "source": [
    "# Get input from the user\n",
    "string = input(\"Enter the string to get vowels list\")\n",
    "\n",
    "vowels = [ch for ch in string if ch.lower() in 'aeiou']\n",
    "\n",
    "print(\"Extracted vowels from the entred string: \",vowels)\n"
   ]
  },
  {
   "cell_type": "markdown",
   "id": "8a16b5d7-920b-4915-a2c1-17e2250c71a3",
   "metadata": {},
   "source": [
    "30. Create a program that removes all non-numeric characters from a list of strings using list comprehension."
   ]
  },
  {
   "cell_type": "code",
   "execution_count": 30,
   "id": "c0d0a0f7-0c99-4853-9a47-f9f104aa3623",
   "metadata": {},
   "outputs": [
    {
     "name": "stdout",
     "output_type": "stream",
     "text": [
      "non numeric characters from the list:  ['a', 'abc', 'e', '@', '-', 'xyz']\n"
     ]
    }
   ],
   "source": [
    "mix_list = ['a', 'abc', '12', 'e', '24', '@', '-', 'xyz', '35']\n",
    "\n",
    "non_numeric = [ele for ele in mix_list if not ele.isdigit()]\n",
    "\n",
    "print(\"non numeric characters from the list: \",non_numeric)"
   ]
  },
  {
   "cell_type": "markdown",
   "id": "ae74a467-df18-4e39-86d7-ea229eba3dfb",
   "metadata": {},
   "source": [
    "## Challenge Level:"
   ]
  },
  {
   "cell_type": "markdown",
   "id": "35e2afca-7b54-42fd-a890-87a053de8776",
   "metadata": {},
   "source": [
    "31. Write a program to generate a list of prime numbers using the Sieve of Eratosthenes algorithm and list \n",
    "comprehension."
   ]
  },
  {
   "cell_type": "code",
   "execution_count": 31,
   "id": "52d36183-9d4c-46b8-8288-ba1d2c50e1cb",
   "metadata": {},
   "outputs": [
    {
     "name": "stdin",
     "output_type": "stream",
     "text": [
      "Enter a limit to get prime numbers:  40\n"
     ]
    },
    {
     "name": "stdout",
     "output_type": "stream",
     "text": [
      "Prime Numbers: [2, 3, 5, 7, 11, 13, 17, 19, 23, 29, 31, 37]\n"
     ]
    }
   ],
   "source": [
    "# Function to generate a list of prime numbers using the Sieve of Eratosthenes algorithm\n",
    "def sieve_eratosthenes(limit):\n",
    "    sieve = [True] * (limit + 1)\n",
    "\n",
    "    for number in range(2, int(limit ** 0.5) + 1):\n",
    "        if sieve[number]:\n",
    "            # Get the multiples of number and mark them as false\n",
    "            for multiple in range(number * number, limit + 1, number):\n",
    "                sieve[multiple] = False\n",
    "\n",
    "    # create a list of prime numbers using list comprehension\n",
    "    prime_numbers = [num for num in range(2, limit + 1) if sieve[num]]\n",
    "    return prime_numbers\n",
    "\n",
    "# Get the limit from the user\n",
    "limit = int(input(\"Enter a limit to get prime numbers: \"))\n",
    "if limit < 2:\n",
    "    print(\"Please enter limit less geater than 2.\")\n",
    "else:\n",
    "    prime_list = sieve_eratosthenes(limit)\n",
    "    print(\"Prime Numbers:\", prime_list)"
   ]
  },
  {
   "cell_type": "markdown",
   "id": "cda3d2f3-c04f-4f45-b0d8-ca7b56dfcbf8",
   "metadata": {},
   "source": [
    "32. Create a program that generates a list of all Pythagorean triplets up to a specified limit using list \n",
    "comprehension."
   ]
  },
  {
   "cell_type": "code",
   "execution_count": 32,
   "id": "72018c8a-caf0-4754-9dff-50f854d4b600",
   "metadata": {},
   "outputs": [
    {
     "name": "stdin",
     "output_type": "stream",
     "text": [
      "Enter the limit:  9\n"
     ]
    },
    {
     "name": "stdout",
     "output_type": "stream",
     "text": [
      "Triplets up to limit 9: [(3, 4, 5)]\n"
     ]
    }
   ],
   "source": [
    "# Pythagorean triplets formula\n",
    "# a^2 + b^2 = c^2\n",
    "\n",
    "# Get the user input limit\n",
    "limit = int(input(\"Enter the limit: \"))\n",
    "\n",
    "if limit < 0:\n",
    "    print(\"Please enter proper limit\")\n",
    "else:\n",
    "    triplets = [(a,b,c) for a in range(1, limit +1) for b in range(a, limit + 1) for c in range(b, limit +1) if a**2 + b**2 == c**2]\n",
    "    print(f\"Triplets up to limit {limit}:\", triplets)"
   ]
  },
  {
   "cell_type": "markdown",
   "id": "3a623bb3-9c0d-4fe2-90fb-be758c780384",
   "metadata": {},
   "source": [
    "33. Develop a program that generates a list of all possible combinations of two lists using list comprehension."
   ]
  },
  {
   "cell_type": "code",
   "execution_count": 33,
   "id": "fa76b0af-1341-4fa2-9f47-306d48f47fe7",
   "metadata": {},
   "outputs": [
    {
     "name": "stdout",
     "output_type": "stream",
     "text": [
      "First list: [11, 12, 13]\n",
      "Second List: ['P', 'Q', 'R']\n",
      "All Combinations: [(11, 'P'), (11, 'Q'), (11, 'R'), (12, 'P'), (12, 'Q'), (12, 'R'), (13, 'P'), (13, 'Q'), (13, 'R')]\n"
     ]
    }
   ],
   "source": [
    "# Declare two lists\n",
    "list1 = [11, 12, 13]\n",
    "list2 = ['P', 'Q', 'R']\n",
    "\n",
    "# Use list comprehension to get all possible combinations\n",
    "combinations = [(els1, els2) for els1 in list1 for els2 in list2]\n",
    "\n",
    "# Print the result\n",
    "print(\"First list:\", list1)\n",
    "print(\"Second List:\", list2)\n",
    "print(\"All Combinations:\", combinations)"
   ]
  },
  {
   "cell_type": "markdown",
   "id": "d322aae4-0ca7-4681-942c-6d07caa5f212",
   "metadata": {},
   "source": [
    "34. Write a program that calculates the mean, median, and mode of a list of numbers using list \n",
    "comprehension."
   ]
  },
  {
   "cell_type": "code",
   "execution_count": 34,
   "id": "6cd2b03f-cd93-443b-b22c-ce11d108062b",
   "metadata": {},
   "outputs": [
    {
     "name": "stdout",
     "output_type": "stream",
     "text": [
      "Number List: [2, 2, 2, 3, 4, 4, 5, 6, 78, 99]\n",
      "Mean: 20.5\n",
      "Median: 4.0\n",
      "Mode: 2\n"
     ]
    }
   ],
   "source": [
    "# Sample list of numbers\n",
    "numbers = [2, 2, 2, 3, 4, 4, 5, 6, 78, 99]\n",
    "\n",
    "# Calculate the mean using list comprehension\n",
    "mean = sum(numbers) / len(numbers)\n",
    "\n",
    "# Calculate the median using list comprehension\n",
    "sorted_numbers = sorted(numbers)\n",
    "mid = len(sorted_numbers) // 2\n",
    "median = (sorted_numbers[mid] + sorted_numbers[mid - 1]) / 2 if len(sorted_numbers) % 2 == 0 else sorted_numbers[mid]\n",
    "\n",
    "mode = max(numbers, key=numbers.count)\n",
    "\n",
    "# Print the results\n",
    "print(\"Number List:\", numbers)\n",
    "print(\"Mean:\", mean)\n",
    "print(\"Median:\", median)\n",
    "print(\"Mode:\", mode)"
   ]
  },
  {
   "cell_type": "markdown",
   "id": "3c0b5f41-f1b6-4995-b1bb-5d6fa8bb1c8a",
   "metadata": {},
   "source": [
    "35. Create a program that generates Pascal's triangle up to a specified number of rows using list \n",
    "comprehension."
   ]
  },
  {
   "cell_type": "code",
   "execution_count": 35,
   "id": "8f1c6626-ee93-40c9-8bb2-837ca55605bc",
   "metadata": {},
   "outputs": [
    {
     "name": "stdin",
     "output_type": "stream",
     "text": [
      "Enter the number of rows for Pascal's triangle:  5\n"
     ]
    },
    {
     "name": "stdout",
     "output_type": "stream",
     "text": [
      "    1     \n",
      "   1 1    \n",
      "  1 2 1   \n",
      " 1 3 3 1  \n",
      "1 4 6 4 1 \n"
     ]
    }
   ],
   "source": [
    "# Get the user input rows\n",
    "num_rows = int(input(\"Enter the number of rows for Pascal's triangle: \"))\n",
    "if num_rows < 1:\n",
    "    print(\"Please enter a positive number greater than or equal to 1.\")\n",
    "else:\n",
    "    # Initialize list with initial 1 value\n",
    "    triangle = [[1]]\n",
    "\n",
    "    for j in range(1, num_rows): \n",
    "        # Use list comprehension to get the row i.e 1 1, [1 (1+1), 1], [1, (2+1), (2+1), 1] and so on\n",
    "        row = [1] + [triangle[-1][i] + triangle[-1][i + 1] for i in range(len(triangle[-1]) - 1)] + [1]\n",
    "        triangle.append(row)\n",
    "    \n",
    "# Print Pascal's triangle\n",
    "for row in triangle:\n",
    "    # convert int list to string list using map and pass it as iterable in join function\n",
    "    print(\" \".join(map(str, row)).center(num_rows * 2))\n"
   ]
  },
  {
   "cell_type": "markdown",
   "id": "741dfcbb-ea11-4fa0-8a1b-9bd5f75aab71",
   "metadata": {},
   "source": [
    "#### 36. Develop a program that calculates the sum of the digits of a factorial of numbers from 1 to 5 using list \n",
    "comprehension."
   ]
  },
  {
   "cell_type": "code",
   "execution_count": 37,
   "id": "4cbc9649-a1c6-4469-8c52-62ae806226a5",
   "metadata": {},
   "outputs": [
    {
     "name": "stdout",
     "output_type": "stream",
     "text": [
      "Factorial of 1: 1\n",
      "Sum of digits of factorial of 1: 1\n",
      "**************************************************\n",
      "Factorial of 2: 2\n",
      "Sum of digits of factorial of 2: 2\n",
      "**************************************************\n",
      "Factorial of 3: 6\n",
      "Sum of digits of factorial of 3: 6\n",
      "**************************************************\n",
      "Factorial of 4: 24\n",
      "Sum of digits of factorial of 4: 6\n",
      "**************************************************\n",
      "Factorial of 5: 120\n",
      "Sum of digits of factorial of 5: 3\n",
      "**************************************************\n"
     ]
    }
   ],
   "source": [
    "# Function to calculate the factorial of a number\n",
    "def factorial(n):\n",
    "    if n == 0:\n",
    "        return 1\n",
    "    else:\n",
    "        return n * factorial(n - 1)\n",
    "\n",
    "# Calculate the sum of digits of the factorial of numbers from 1 to 5\n",
    "sums = [sum(int(digit) for digit in str(factorial(i))) for i in range(1, 6)]\n",
    "\n",
    "# Print the results\n",
    "for i in range(1, 6):\n",
    "    print(f\"Factorial of {i}:\", factorial(i))\n",
    "    print(f\"Sum of digits of factorial of {i}:\", sums[i-1])\n",
    "    print(\"*\"*50)"
   ]
  },
  {
   "cell_type": "markdown",
   "id": "dbc15907-a3b8-479c-9882-e620cc4a5e21",
   "metadata": {},
   "source": [
    "37. Write a program that finds the longest word in a sentence using list comprehension."
   ]
  },
  {
   "cell_type": "code",
   "execution_count": 38,
   "id": "f66886d1-4694-4b74-83f6-b5b1e2af9680",
   "metadata": {},
   "outputs": [
    {
     "name": "stdin",
     "output_type": "stream",
     "text": [
      "Enter the sentence to find longest word This is for loop assignment\n"
     ]
    },
    {
     "data": {
      "text/plain": [
       "['assignment']"
      ]
     },
     "execution_count": 38,
     "metadata": {},
     "output_type": "execute_result"
    }
   ],
   "source": [
    "sentence = input(\"Enter the sentence to find longest word\")\n",
    "words = sentence.split()\n",
    "\n",
    "max_length = max(len(word) for word in words)\n",
    "\n",
    "# Filter and collect the longest word(s)\n",
    "longest_words = [word for word in words if len(word) == max_length]\n",
    "longest_words"
   ]
  },
  {
   "cell_type": "markdown",
   "id": "2bd60c4c-aa7e-43e9-9e61-1e16e490d2df",
   "metadata": {},
   "source": [
    "38. Create a program that filters a list of strings to include only those with more than three vowels using list \n",
    "comprehension."
   ]
  },
  {
   "cell_type": "code",
   "execution_count": 39,
   "id": "813abcee-7d07-47f6-a6f3-db2e671744ba",
   "metadata": {},
   "outputs": [
    {
     "name": "stdout",
     "output_type": "stream",
     "text": [
      "Original List:  ['apple', 'infinite', 'charlie', 'aerospace', 'aura']\n",
      "Filtered list of words having more than 3 words:  ['infinite', 'aerospace']\n"
     ]
    }
   ],
   "source": [
    "def getVowelsCount(word):\n",
    "    count = 0\n",
    "    for ch in word:\n",
    "        if ch.lower() in 'aeiou':\n",
    "            count+=1\n",
    "    return count\n",
    "\n",
    "str_list = ['apple', 'infinite','charlie', 'aerospace', 'aura']\n",
    "\n",
    "filtered_list = [word for word in str_list if getVowelsCount(word) >3]\n",
    "\n",
    "print(\"Original List: \", str_list)\n",
    "print(\"Filtered list of words having more than 3 words: \", filtered_list)"
   ]
  },
  {
   "cell_type": "markdown",
   "id": "9f54f57c-b789-44ab-9409-b12029a69757",
   "metadata": {},
   "source": [
    "39. Develop a program that calculates the sum of the digits of numbers from 1 to 1000 using list \n",
    "comprehension."
   ]
  },
  {
   "cell_type": "code",
   "execution_count": 40,
   "id": "e4080d06-0092-4f7b-805f-0f7996902dbb",
   "metadata": {},
   "outputs": [
    {
     "name": "stdout",
     "output_type": "stream",
     "text": [
      "Sum of digits of 1: 1\n",
      "Sum of digits of 2: 2\n",
      "Sum of digits of 3: 3\n",
      "Sum of digits of 4: 4\n",
      "Sum of digits of 5: 5\n",
      "Sum of digits of 6: 6\n",
      "Sum of digits of 7: 7\n",
      "Sum of digits of 8: 8\n",
      "Sum of digits of 9: 9\n",
      "Sum of digits of 10: 1\n",
      "Sum of digits of 11: 2\n",
      "Sum of digits of 12: 3\n",
      "Sum of digits of 13: 4\n",
      "Sum of digits of 14: 5\n",
      "Sum of digits of 15: 6\n",
      "Sum of digits of 16: 7\n",
      "Sum of digits of 17: 8\n",
      "Sum of digits of 18: 9\n",
      "Sum of digits of 19: 10\n",
      "Sum of digits of 20: 2\n",
      "Sum of digits of 21: 3\n",
      "Sum of digits of 22: 4\n",
      "Sum of digits of 23: 5\n",
      "Sum of digits of 24: 6\n",
      "Sum of digits of 25: 7\n",
      "Sum of digits of 26: 8\n",
      "Sum of digits of 27: 9\n",
      "Sum of digits of 28: 10\n",
      "Sum of digits of 29: 11\n",
      "Sum of digits of 30: 3\n",
      "Sum of digits of 31: 4\n",
      "Sum of digits of 32: 5\n",
      "Sum of digits of 33: 6\n",
      "Sum of digits of 34: 7\n",
      "Sum of digits of 35: 8\n",
      "Sum of digits of 36: 9\n",
      "Sum of digits of 37: 10\n",
      "Sum of digits of 38: 11\n",
      "Sum of digits of 39: 12\n",
      "Sum of digits of 40: 4\n",
      "Sum of digits of 41: 5\n",
      "Sum of digits of 42: 6\n",
      "Sum of digits of 43: 7\n",
      "Sum of digits of 44: 8\n",
      "Sum of digits of 45: 9\n",
      "Sum of digits of 46: 10\n",
      "Sum of digits of 47: 11\n",
      "Sum of digits of 48: 12\n",
      "Sum of digits of 49: 13\n",
      "Sum of digits of 50: 5\n",
      "Sum of digits of 51: 6\n",
      "Sum of digits of 52: 7\n",
      "Sum of digits of 53: 8\n",
      "Sum of digits of 54: 9\n",
      "Sum of digits of 55: 10\n",
      "Sum of digits of 56: 11\n",
      "Sum of digits of 57: 12\n",
      "Sum of digits of 58: 13\n",
      "Sum of digits of 59: 14\n",
      "Sum of digits of 60: 6\n",
      "Sum of digits of 61: 7\n",
      "Sum of digits of 62: 8\n",
      "Sum of digits of 63: 9\n",
      "Sum of digits of 64: 10\n",
      "Sum of digits of 65: 11\n",
      "Sum of digits of 66: 12\n",
      "Sum of digits of 67: 13\n",
      "Sum of digits of 68: 14\n",
      "Sum of digits of 69: 15\n",
      "Sum of digits of 70: 7\n",
      "Sum of digits of 71: 8\n",
      "Sum of digits of 72: 9\n",
      "Sum of digits of 73: 10\n",
      "Sum of digits of 74: 11\n",
      "Sum of digits of 75: 12\n",
      "Sum of digits of 76: 13\n",
      "Sum of digits of 77: 14\n",
      "Sum of digits of 78: 15\n",
      "Sum of digits of 79: 16\n",
      "Sum of digits of 80: 8\n",
      "Sum of digits of 81: 9\n",
      "Sum of digits of 82: 10\n",
      "Sum of digits of 83: 11\n",
      "Sum of digits of 84: 12\n",
      "Sum of digits of 85: 13\n",
      "Sum of digits of 86: 14\n",
      "Sum of digits of 87: 15\n",
      "Sum of digits of 88: 16\n",
      "Sum of digits of 89: 17\n",
      "Sum of digits of 90: 9\n",
      "Sum of digits of 91: 10\n",
      "Sum of digits of 92: 11\n",
      "Sum of digits of 93: 12\n",
      "Sum of digits of 94: 13\n",
      "Sum of digits of 95: 14\n",
      "Sum of digits of 96: 15\n",
      "Sum of digits of 97: 16\n",
      "Sum of digits of 98: 17\n",
      "Sum of digits of 99: 18\n",
      "Sum of digits of 100: 1\n",
      "Sum of digits of 101: 2\n",
      "Sum of digits of 102: 3\n",
      "Sum of digits of 103: 4\n",
      "Sum of digits of 104: 5\n",
      "Sum of digits of 105: 6\n",
      "Sum of digits of 106: 7\n",
      "Sum of digits of 107: 8\n",
      "Sum of digits of 108: 9\n",
      "Sum of digits of 109: 10\n",
      "Sum of digits of 110: 2\n",
      "Sum of digits of 111: 3\n",
      "Sum of digits of 112: 4\n",
      "Sum of digits of 113: 5\n",
      "Sum of digits of 114: 6\n",
      "Sum of digits of 115: 7\n",
      "Sum of digits of 116: 8\n",
      "Sum of digits of 117: 9\n",
      "Sum of digits of 118: 10\n",
      "Sum of digits of 119: 11\n",
      "Sum of digits of 120: 3\n",
      "Sum of digits of 121: 4\n",
      "Sum of digits of 122: 5\n",
      "Sum of digits of 123: 6\n",
      "Sum of digits of 124: 7\n",
      "Sum of digits of 125: 8\n",
      "Sum of digits of 126: 9\n",
      "Sum of digits of 127: 10\n",
      "Sum of digits of 128: 11\n",
      "Sum of digits of 129: 12\n",
      "Sum of digits of 130: 4\n",
      "Sum of digits of 131: 5\n",
      "Sum of digits of 132: 6\n",
      "Sum of digits of 133: 7\n",
      "Sum of digits of 134: 8\n",
      "Sum of digits of 135: 9\n",
      "Sum of digits of 136: 10\n",
      "Sum of digits of 137: 11\n",
      "Sum of digits of 138: 12\n",
      "Sum of digits of 139: 13\n",
      "Sum of digits of 140: 5\n",
      "Sum of digits of 141: 6\n",
      "Sum of digits of 142: 7\n",
      "Sum of digits of 143: 8\n",
      "Sum of digits of 144: 9\n",
      "Sum of digits of 145: 10\n",
      "Sum of digits of 146: 11\n",
      "Sum of digits of 147: 12\n",
      "Sum of digits of 148: 13\n",
      "Sum of digits of 149: 14\n",
      "Sum of digits of 150: 6\n",
      "Sum of digits of 151: 7\n",
      "Sum of digits of 152: 8\n",
      "Sum of digits of 153: 9\n",
      "Sum of digits of 154: 10\n",
      "Sum of digits of 155: 11\n",
      "Sum of digits of 156: 12\n",
      "Sum of digits of 157: 13\n",
      "Sum of digits of 158: 14\n",
      "Sum of digits of 159: 15\n",
      "Sum of digits of 160: 7\n",
      "Sum of digits of 161: 8\n",
      "Sum of digits of 162: 9\n",
      "Sum of digits of 163: 10\n",
      "Sum of digits of 164: 11\n",
      "Sum of digits of 165: 12\n",
      "Sum of digits of 166: 13\n",
      "Sum of digits of 167: 14\n",
      "Sum of digits of 168: 15\n",
      "Sum of digits of 169: 16\n",
      "Sum of digits of 170: 8\n",
      "Sum of digits of 171: 9\n",
      "Sum of digits of 172: 10\n",
      "Sum of digits of 173: 11\n",
      "Sum of digits of 174: 12\n",
      "Sum of digits of 175: 13\n",
      "Sum of digits of 176: 14\n",
      "Sum of digits of 177: 15\n",
      "Sum of digits of 178: 16\n",
      "Sum of digits of 179: 17\n",
      "Sum of digits of 180: 9\n",
      "Sum of digits of 181: 10\n",
      "Sum of digits of 182: 11\n",
      "Sum of digits of 183: 12\n",
      "Sum of digits of 184: 13\n",
      "Sum of digits of 185: 14\n",
      "Sum of digits of 186: 15\n",
      "Sum of digits of 187: 16\n",
      "Sum of digits of 188: 17\n",
      "Sum of digits of 189: 18\n",
      "Sum of digits of 190: 10\n",
      "Sum of digits of 191: 11\n",
      "Sum of digits of 192: 12\n",
      "Sum of digits of 193: 13\n",
      "Sum of digits of 194: 14\n",
      "Sum of digits of 195: 15\n",
      "Sum of digits of 196: 16\n",
      "Sum of digits of 197: 17\n",
      "Sum of digits of 198: 18\n",
      "Sum of digits of 199: 19\n",
      "Sum of digits of 200: 2\n",
      "Sum of digits of 201: 3\n",
      "Sum of digits of 202: 4\n",
      "Sum of digits of 203: 5\n",
      "Sum of digits of 204: 6\n",
      "Sum of digits of 205: 7\n",
      "Sum of digits of 206: 8\n",
      "Sum of digits of 207: 9\n",
      "Sum of digits of 208: 10\n",
      "Sum of digits of 209: 11\n",
      "Sum of digits of 210: 3\n",
      "Sum of digits of 211: 4\n",
      "Sum of digits of 212: 5\n",
      "Sum of digits of 213: 6\n",
      "Sum of digits of 214: 7\n",
      "Sum of digits of 215: 8\n",
      "Sum of digits of 216: 9\n",
      "Sum of digits of 217: 10\n",
      "Sum of digits of 218: 11\n",
      "Sum of digits of 219: 12\n",
      "Sum of digits of 220: 4\n",
      "Sum of digits of 221: 5\n",
      "Sum of digits of 222: 6\n",
      "Sum of digits of 223: 7\n",
      "Sum of digits of 224: 8\n",
      "Sum of digits of 225: 9\n",
      "Sum of digits of 226: 10\n",
      "Sum of digits of 227: 11\n",
      "Sum of digits of 228: 12\n",
      "Sum of digits of 229: 13\n",
      "Sum of digits of 230: 5\n",
      "Sum of digits of 231: 6\n",
      "Sum of digits of 232: 7\n",
      "Sum of digits of 233: 8\n",
      "Sum of digits of 234: 9\n",
      "Sum of digits of 235: 10\n",
      "Sum of digits of 236: 11\n",
      "Sum of digits of 237: 12\n",
      "Sum of digits of 238: 13\n",
      "Sum of digits of 239: 14\n",
      "Sum of digits of 240: 6\n",
      "Sum of digits of 241: 7\n",
      "Sum of digits of 242: 8\n",
      "Sum of digits of 243: 9\n",
      "Sum of digits of 244: 10\n",
      "Sum of digits of 245: 11\n",
      "Sum of digits of 246: 12\n",
      "Sum of digits of 247: 13\n",
      "Sum of digits of 248: 14\n",
      "Sum of digits of 249: 15\n",
      "Sum of digits of 250: 7\n",
      "Sum of digits of 251: 8\n",
      "Sum of digits of 252: 9\n",
      "Sum of digits of 253: 10\n",
      "Sum of digits of 254: 11\n",
      "Sum of digits of 255: 12\n",
      "Sum of digits of 256: 13\n",
      "Sum of digits of 257: 14\n",
      "Sum of digits of 258: 15\n",
      "Sum of digits of 259: 16\n",
      "Sum of digits of 260: 8\n",
      "Sum of digits of 261: 9\n",
      "Sum of digits of 262: 10\n",
      "Sum of digits of 263: 11\n",
      "Sum of digits of 264: 12\n",
      "Sum of digits of 265: 13\n",
      "Sum of digits of 266: 14\n",
      "Sum of digits of 267: 15\n",
      "Sum of digits of 268: 16\n",
      "Sum of digits of 269: 17\n",
      "Sum of digits of 270: 9\n",
      "Sum of digits of 271: 10\n",
      "Sum of digits of 272: 11\n",
      "Sum of digits of 273: 12\n",
      "Sum of digits of 274: 13\n",
      "Sum of digits of 275: 14\n",
      "Sum of digits of 276: 15\n",
      "Sum of digits of 277: 16\n",
      "Sum of digits of 278: 17\n",
      "Sum of digits of 279: 18\n",
      "Sum of digits of 280: 10\n",
      "Sum of digits of 281: 11\n",
      "Sum of digits of 282: 12\n",
      "Sum of digits of 283: 13\n",
      "Sum of digits of 284: 14\n",
      "Sum of digits of 285: 15\n",
      "Sum of digits of 286: 16\n",
      "Sum of digits of 287: 17\n",
      "Sum of digits of 288: 18\n",
      "Sum of digits of 289: 19\n",
      "Sum of digits of 290: 11\n",
      "Sum of digits of 291: 12\n",
      "Sum of digits of 292: 13\n",
      "Sum of digits of 293: 14\n",
      "Sum of digits of 294: 15\n",
      "Sum of digits of 295: 16\n",
      "Sum of digits of 296: 17\n",
      "Sum of digits of 297: 18\n",
      "Sum of digits of 298: 19\n",
      "Sum of digits of 299: 20\n",
      "Sum of digits of 300: 3\n",
      "Sum of digits of 301: 4\n",
      "Sum of digits of 302: 5\n",
      "Sum of digits of 303: 6\n",
      "Sum of digits of 304: 7\n",
      "Sum of digits of 305: 8\n",
      "Sum of digits of 306: 9\n",
      "Sum of digits of 307: 10\n",
      "Sum of digits of 308: 11\n",
      "Sum of digits of 309: 12\n",
      "Sum of digits of 310: 4\n",
      "Sum of digits of 311: 5\n",
      "Sum of digits of 312: 6\n",
      "Sum of digits of 313: 7\n",
      "Sum of digits of 314: 8\n",
      "Sum of digits of 315: 9\n",
      "Sum of digits of 316: 10\n",
      "Sum of digits of 317: 11\n",
      "Sum of digits of 318: 12\n",
      "Sum of digits of 319: 13\n",
      "Sum of digits of 320: 5\n",
      "Sum of digits of 321: 6\n",
      "Sum of digits of 322: 7\n",
      "Sum of digits of 323: 8\n",
      "Sum of digits of 324: 9\n",
      "Sum of digits of 325: 10\n",
      "Sum of digits of 326: 11\n",
      "Sum of digits of 327: 12\n",
      "Sum of digits of 328: 13\n",
      "Sum of digits of 329: 14\n",
      "Sum of digits of 330: 6\n",
      "Sum of digits of 331: 7\n",
      "Sum of digits of 332: 8\n",
      "Sum of digits of 333: 9\n",
      "Sum of digits of 334: 10\n",
      "Sum of digits of 335: 11\n",
      "Sum of digits of 336: 12\n",
      "Sum of digits of 337: 13\n",
      "Sum of digits of 338: 14\n",
      "Sum of digits of 339: 15\n",
      "Sum of digits of 340: 7\n",
      "Sum of digits of 341: 8\n",
      "Sum of digits of 342: 9\n",
      "Sum of digits of 343: 10\n",
      "Sum of digits of 344: 11\n",
      "Sum of digits of 345: 12\n",
      "Sum of digits of 346: 13\n",
      "Sum of digits of 347: 14\n",
      "Sum of digits of 348: 15\n",
      "Sum of digits of 349: 16\n",
      "Sum of digits of 350: 8\n",
      "Sum of digits of 351: 9\n",
      "Sum of digits of 352: 10\n",
      "Sum of digits of 353: 11\n",
      "Sum of digits of 354: 12\n",
      "Sum of digits of 355: 13\n",
      "Sum of digits of 356: 14\n",
      "Sum of digits of 357: 15\n",
      "Sum of digits of 358: 16\n",
      "Sum of digits of 359: 17\n",
      "Sum of digits of 360: 9\n",
      "Sum of digits of 361: 10\n",
      "Sum of digits of 362: 11\n",
      "Sum of digits of 363: 12\n",
      "Sum of digits of 364: 13\n",
      "Sum of digits of 365: 14\n",
      "Sum of digits of 366: 15\n",
      "Sum of digits of 367: 16\n",
      "Sum of digits of 368: 17\n",
      "Sum of digits of 369: 18\n",
      "Sum of digits of 370: 10\n",
      "Sum of digits of 371: 11\n",
      "Sum of digits of 372: 12\n",
      "Sum of digits of 373: 13\n",
      "Sum of digits of 374: 14\n",
      "Sum of digits of 375: 15\n",
      "Sum of digits of 376: 16\n",
      "Sum of digits of 377: 17\n",
      "Sum of digits of 378: 18\n",
      "Sum of digits of 379: 19\n",
      "Sum of digits of 380: 11\n",
      "Sum of digits of 381: 12\n",
      "Sum of digits of 382: 13\n",
      "Sum of digits of 383: 14\n",
      "Sum of digits of 384: 15\n",
      "Sum of digits of 385: 16\n",
      "Sum of digits of 386: 17\n",
      "Sum of digits of 387: 18\n",
      "Sum of digits of 388: 19\n",
      "Sum of digits of 389: 20\n",
      "Sum of digits of 390: 12\n",
      "Sum of digits of 391: 13\n",
      "Sum of digits of 392: 14\n",
      "Sum of digits of 393: 15\n",
      "Sum of digits of 394: 16\n",
      "Sum of digits of 395: 17\n",
      "Sum of digits of 396: 18\n",
      "Sum of digits of 397: 19\n",
      "Sum of digits of 398: 20\n",
      "Sum of digits of 399: 21\n",
      "Sum of digits of 400: 4\n",
      "Sum of digits of 401: 5\n",
      "Sum of digits of 402: 6\n",
      "Sum of digits of 403: 7\n",
      "Sum of digits of 404: 8\n",
      "Sum of digits of 405: 9\n",
      "Sum of digits of 406: 10\n",
      "Sum of digits of 407: 11\n",
      "Sum of digits of 408: 12\n",
      "Sum of digits of 409: 13\n",
      "Sum of digits of 410: 5\n",
      "Sum of digits of 411: 6\n",
      "Sum of digits of 412: 7\n",
      "Sum of digits of 413: 8\n",
      "Sum of digits of 414: 9\n",
      "Sum of digits of 415: 10\n",
      "Sum of digits of 416: 11\n",
      "Sum of digits of 417: 12\n",
      "Sum of digits of 418: 13\n",
      "Sum of digits of 419: 14\n",
      "Sum of digits of 420: 6\n",
      "Sum of digits of 421: 7\n",
      "Sum of digits of 422: 8\n",
      "Sum of digits of 423: 9\n",
      "Sum of digits of 424: 10\n",
      "Sum of digits of 425: 11\n",
      "Sum of digits of 426: 12\n",
      "Sum of digits of 427: 13\n",
      "Sum of digits of 428: 14\n",
      "Sum of digits of 429: 15\n",
      "Sum of digits of 430: 7\n",
      "Sum of digits of 431: 8\n",
      "Sum of digits of 432: 9\n",
      "Sum of digits of 433: 10\n",
      "Sum of digits of 434: 11\n",
      "Sum of digits of 435: 12\n",
      "Sum of digits of 436: 13\n",
      "Sum of digits of 437: 14\n",
      "Sum of digits of 438: 15\n",
      "Sum of digits of 439: 16\n",
      "Sum of digits of 440: 8\n",
      "Sum of digits of 441: 9\n",
      "Sum of digits of 442: 10\n",
      "Sum of digits of 443: 11\n",
      "Sum of digits of 444: 12\n",
      "Sum of digits of 445: 13\n",
      "Sum of digits of 446: 14\n",
      "Sum of digits of 447: 15\n",
      "Sum of digits of 448: 16\n",
      "Sum of digits of 449: 17\n",
      "Sum of digits of 450: 9\n",
      "Sum of digits of 451: 10\n",
      "Sum of digits of 452: 11\n",
      "Sum of digits of 453: 12\n",
      "Sum of digits of 454: 13\n",
      "Sum of digits of 455: 14\n",
      "Sum of digits of 456: 15\n",
      "Sum of digits of 457: 16\n",
      "Sum of digits of 458: 17\n",
      "Sum of digits of 459: 18\n",
      "Sum of digits of 460: 10\n",
      "Sum of digits of 461: 11\n",
      "Sum of digits of 462: 12\n",
      "Sum of digits of 463: 13\n",
      "Sum of digits of 464: 14\n",
      "Sum of digits of 465: 15\n",
      "Sum of digits of 466: 16\n",
      "Sum of digits of 467: 17\n",
      "Sum of digits of 468: 18\n",
      "Sum of digits of 469: 19\n",
      "Sum of digits of 470: 11\n",
      "Sum of digits of 471: 12\n",
      "Sum of digits of 472: 13\n",
      "Sum of digits of 473: 14\n",
      "Sum of digits of 474: 15\n",
      "Sum of digits of 475: 16\n",
      "Sum of digits of 476: 17\n",
      "Sum of digits of 477: 18\n",
      "Sum of digits of 478: 19\n",
      "Sum of digits of 479: 20\n",
      "Sum of digits of 480: 12\n",
      "Sum of digits of 481: 13\n",
      "Sum of digits of 482: 14\n",
      "Sum of digits of 483: 15\n",
      "Sum of digits of 484: 16\n",
      "Sum of digits of 485: 17\n",
      "Sum of digits of 486: 18\n",
      "Sum of digits of 487: 19\n",
      "Sum of digits of 488: 20\n",
      "Sum of digits of 489: 21\n",
      "Sum of digits of 490: 13\n",
      "Sum of digits of 491: 14\n",
      "Sum of digits of 492: 15\n",
      "Sum of digits of 493: 16\n",
      "Sum of digits of 494: 17\n",
      "Sum of digits of 495: 18\n",
      "Sum of digits of 496: 19\n",
      "Sum of digits of 497: 20\n",
      "Sum of digits of 498: 21\n",
      "Sum of digits of 499: 22\n",
      "Sum of digits of 500: 5\n",
      "Sum of digits of 501: 6\n",
      "Sum of digits of 502: 7\n",
      "Sum of digits of 503: 8\n",
      "Sum of digits of 504: 9\n",
      "Sum of digits of 505: 10\n",
      "Sum of digits of 506: 11\n",
      "Sum of digits of 507: 12\n",
      "Sum of digits of 508: 13\n",
      "Sum of digits of 509: 14\n",
      "Sum of digits of 510: 6\n",
      "Sum of digits of 511: 7\n",
      "Sum of digits of 512: 8\n",
      "Sum of digits of 513: 9\n",
      "Sum of digits of 514: 10\n",
      "Sum of digits of 515: 11\n",
      "Sum of digits of 516: 12\n",
      "Sum of digits of 517: 13\n",
      "Sum of digits of 518: 14\n",
      "Sum of digits of 519: 15\n",
      "Sum of digits of 520: 7\n",
      "Sum of digits of 521: 8\n",
      "Sum of digits of 522: 9\n",
      "Sum of digits of 523: 10\n",
      "Sum of digits of 524: 11\n",
      "Sum of digits of 525: 12\n",
      "Sum of digits of 526: 13\n",
      "Sum of digits of 527: 14\n",
      "Sum of digits of 528: 15\n",
      "Sum of digits of 529: 16\n",
      "Sum of digits of 530: 8\n",
      "Sum of digits of 531: 9\n",
      "Sum of digits of 532: 10\n",
      "Sum of digits of 533: 11\n",
      "Sum of digits of 534: 12\n",
      "Sum of digits of 535: 13\n",
      "Sum of digits of 536: 14\n",
      "Sum of digits of 537: 15\n",
      "Sum of digits of 538: 16\n",
      "Sum of digits of 539: 17\n",
      "Sum of digits of 540: 9\n",
      "Sum of digits of 541: 10\n",
      "Sum of digits of 542: 11\n",
      "Sum of digits of 543: 12\n",
      "Sum of digits of 544: 13\n",
      "Sum of digits of 545: 14\n",
      "Sum of digits of 546: 15\n",
      "Sum of digits of 547: 16\n",
      "Sum of digits of 548: 17\n",
      "Sum of digits of 549: 18\n",
      "Sum of digits of 550: 10\n",
      "Sum of digits of 551: 11\n",
      "Sum of digits of 552: 12\n",
      "Sum of digits of 553: 13\n",
      "Sum of digits of 554: 14\n",
      "Sum of digits of 555: 15\n",
      "Sum of digits of 556: 16\n",
      "Sum of digits of 557: 17\n",
      "Sum of digits of 558: 18\n",
      "Sum of digits of 559: 19\n",
      "Sum of digits of 560: 11\n",
      "Sum of digits of 561: 12\n",
      "Sum of digits of 562: 13\n",
      "Sum of digits of 563: 14\n",
      "Sum of digits of 564: 15\n",
      "Sum of digits of 565: 16\n",
      "Sum of digits of 566: 17\n",
      "Sum of digits of 567: 18\n",
      "Sum of digits of 568: 19\n",
      "Sum of digits of 569: 20\n",
      "Sum of digits of 570: 12\n",
      "Sum of digits of 571: 13\n",
      "Sum of digits of 572: 14\n",
      "Sum of digits of 573: 15\n",
      "Sum of digits of 574: 16\n",
      "Sum of digits of 575: 17\n",
      "Sum of digits of 576: 18\n",
      "Sum of digits of 577: 19\n",
      "Sum of digits of 578: 20\n",
      "Sum of digits of 579: 21\n",
      "Sum of digits of 580: 13\n",
      "Sum of digits of 581: 14\n",
      "Sum of digits of 582: 15\n",
      "Sum of digits of 583: 16\n",
      "Sum of digits of 584: 17\n",
      "Sum of digits of 585: 18\n",
      "Sum of digits of 586: 19\n",
      "Sum of digits of 587: 20\n",
      "Sum of digits of 588: 21\n",
      "Sum of digits of 589: 22\n",
      "Sum of digits of 590: 14\n",
      "Sum of digits of 591: 15\n",
      "Sum of digits of 592: 16\n",
      "Sum of digits of 593: 17\n",
      "Sum of digits of 594: 18\n",
      "Sum of digits of 595: 19\n",
      "Sum of digits of 596: 20\n",
      "Sum of digits of 597: 21\n",
      "Sum of digits of 598: 22\n",
      "Sum of digits of 599: 23\n",
      "Sum of digits of 600: 6\n",
      "Sum of digits of 601: 7\n",
      "Sum of digits of 602: 8\n",
      "Sum of digits of 603: 9\n",
      "Sum of digits of 604: 10\n",
      "Sum of digits of 605: 11\n",
      "Sum of digits of 606: 12\n",
      "Sum of digits of 607: 13\n",
      "Sum of digits of 608: 14\n",
      "Sum of digits of 609: 15\n",
      "Sum of digits of 610: 7\n",
      "Sum of digits of 611: 8\n",
      "Sum of digits of 612: 9\n",
      "Sum of digits of 613: 10\n",
      "Sum of digits of 614: 11\n",
      "Sum of digits of 615: 12\n",
      "Sum of digits of 616: 13\n",
      "Sum of digits of 617: 14\n",
      "Sum of digits of 618: 15\n",
      "Sum of digits of 619: 16\n",
      "Sum of digits of 620: 8\n",
      "Sum of digits of 621: 9\n",
      "Sum of digits of 622: 10\n",
      "Sum of digits of 623: 11\n",
      "Sum of digits of 624: 12\n",
      "Sum of digits of 625: 13\n",
      "Sum of digits of 626: 14\n",
      "Sum of digits of 627: 15\n",
      "Sum of digits of 628: 16\n",
      "Sum of digits of 629: 17\n",
      "Sum of digits of 630: 9\n",
      "Sum of digits of 631: 10\n",
      "Sum of digits of 632: 11\n",
      "Sum of digits of 633: 12\n",
      "Sum of digits of 634: 13\n",
      "Sum of digits of 635: 14\n",
      "Sum of digits of 636: 15\n",
      "Sum of digits of 637: 16\n",
      "Sum of digits of 638: 17\n",
      "Sum of digits of 639: 18\n",
      "Sum of digits of 640: 10\n",
      "Sum of digits of 641: 11\n",
      "Sum of digits of 642: 12\n",
      "Sum of digits of 643: 13\n",
      "Sum of digits of 644: 14\n",
      "Sum of digits of 645: 15\n",
      "Sum of digits of 646: 16\n",
      "Sum of digits of 647: 17\n",
      "Sum of digits of 648: 18\n",
      "Sum of digits of 649: 19\n",
      "Sum of digits of 650: 11\n",
      "Sum of digits of 651: 12\n",
      "Sum of digits of 652: 13\n",
      "Sum of digits of 653: 14\n",
      "Sum of digits of 654: 15\n",
      "Sum of digits of 655: 16\n",
      "Sum of digits of 656: 17\n",
      "Sum of digits of 657: 18\n",
      "Sum of digits of 658: 19\n",
      "Sum of digits of 659: 20\n",
      "Sum of digits of 660: 12\n",
      "Sum of digits of 661: 13\n",
      "Sum of digits of 662: 14\n",
      "Sum of digits of 663: 15\n",
      "Sum of digits of 664: 16\n",
      "Sum of digits of 665: 17\n",
      "Sum of digits of 666: 18\n",
      "Sum of digits of 667: 19\n",
      "Sum of digits of 668: 20\n",
      "Sum of digits of 669: 21\n",
      "Sum of digits of 670: 13\n",
      "Sum of digits of 671: 14\n",
      "Sum of digits of 672: 15\n",
      "Sum of digits of 673: 16\n",
      "Sum of digits of 674: 17\n",
      "Sum of digits of 675: 18\n",
      "Sum of digits of 676: 19\n",
      "Sum of digits of 677: 20\n",
      "Sum of digits of 678: 21\n",
      "Sum of digits of 679: 22\n",
      "Sum of digits of 680: 14\n",
      "Sum of digits of 681: 15\n",
      "Sum of digits of 682: 16\n",
      "Sum of digits of 683: 17\n",
      "Sum of digits of 684: 18\n",
      "Sum of digits of 685: 19\n",
      "Sum of digits of 686: 20\n",
      "Sum of digits of 687: 21\n",
      "Sum of digits of 688: 22\n",
      "Sum of digits of 689: 23\n",
      "Sum of digits of 690: 15\n",
      "Sum of digits of 691: 16\n",
      "Sum of digits of 692: 17\n",
      "Sum of digits of 693: 18\n",
      "Sum of digits of 694: 19\n",
      "Sum of digits of 695: 20\n",
      "Sum of digits of 696: 21\n",
      "Sum of digits of 697: 22\n",
      "Sum of digits of 698: 23\n",
      "Sum of digits of 699: 24\n",
      "Sum of digits of 700: 7\n",
      "Sum of digits of 701: 8\n",
      "Sum of digits of 702: 9\n",
      "Sum of digits of 703: 10\n",
      "Sum of digits of 704: 11\n",
      "Sum of digits of 705: 12\n",
      "Sum of digits of 706: 13\n",
      "Sum of digits of 707: 14\n",
      "Sum of digits of 708: 15\n",
      "Sum of digits of 709: 16\n",
      "Sum of digits of 710: 8\n",
      "Sum of digits of 711: 9\n",
      "Sum of digits of 712: 10\n",
      "Sum of digits of 713: 11\n",
      "Sum of digits of 714: 12\n",
      "Sum of digits of 715: 13\n",
      "Sum of digits of 716: 14\n",
      "Sum of digits of 717: 15\n",
      "Sum of digits of 718: 16\n",
      "Sum of digits of 719: 17\n",
      "Sum of digits of 720: 9\n",
      "Sum of digits of 721: 10\n",
      "Sum of digits of 722: 11\n",
      "Sum of digits of 723: 12\n",
      "Sum of digits of 724: 13\n",
      "Sum of digits of 725: 14\n",
      "Sum of digits of 726: 15\n",
      "Sum of digits of 727: 16\n",
      "Sum of digits of 728: 17\n",
      "Sum of digits of 729: 18\n",
      "Sum of digits of 730: 10\n",
      "Sum of digits of 731: 11\n",
      "Sum of digits of 732: 12\n",
      "Sum of digits of 733: 13\n",
      "Sum of digits of 734: 14\n",
      "Sum of digits of 735: 15\n",
      "Sum of digits of 736: 16\n",
      "Sum of digits of 737: 17\n",
      "Sum of digits of 738: 18\n",
      "Sum of digits of 739: 19\n",
      "Sum of digits of 740: 11\n",
      "Sum of digits of 741: 12\n",
      "Sum of digits of 742: 13\n",
      "Sum of digits of 743: 14\n",
      "Sum of digits of 744: 15\n",
      "Sum of digits of 745: 16\n",
      "Sum of digits of 746: 17\n",
      "Sum of digits of 747: 18\n",
      "Sum of digits of 748: 19\n",
      "Sum of digits of 749: 20\n",
      "Sum of digits of 750: 12\n",
      "Sum of digits of 751: 13\n",
      "Sum of digits of 752: 14\n",
      "Sum of digits of 753: 15\n",
      "Sum of digits of 754: 16\n",
      "Sum of digits of 755: 17\n",
      "Sum of digits of 756: 18\n",
      "Sum of digits of 757: 19\n",
      "Sum of digits of 758: 20\n",
      "Sum of digits of 759: 21\n",
      "Sum of digits of 760: 13\n",
      "Sum of digits of 761: 14\n",
      "Sum of digits of 762: 15\n",
      "Sum of digits of 763: 16\n",
      "Sum of digits of 764: 17\n",
      "Sum of digits of 765: 18\n",
      "Sum of digits of 766: 19\n",
      "Sum of digits of 767: 20\n",
      "Sum of digits of 768: 21\n",
      "Sum of digits of 769: 22\n",
      "Sum of digits of 770: 14\n",
      "Sum of digits of 771: 15\n",
      "Sum of digits of 772: 16\n",
      "Sum of digits of 773: 17\n",
      "Sum of digits of 774: 18\n",
      "Sum of digits of 775: 19\n",
      "Sum of digits of 776: 20\n",
      "Sum of digits of 777: 21\n",
      "Sum of digits of 778: 22\n",
      "Sum of digits of 779: 23\n",
      "Sum of digits of 780: 15\n",
      "Sum of digits of 781: 16\n",
      "Sum of digits of 782: 17\n",
      "Sum of digits of 783: 18\n",
      "Sum of digits of 784: 19\n",
      "Sum of digits of 785: 20\n",
      "Sum of digits of 786: 21\n",
      "Sum of digits of 787: 22\n",
      "Sum of digits of 788: 23\n",
      "Sum of digits of 789: 24\n",
      "Sum of digits of 790: 16\n",
      "Sum of digits of 791: 17\n",
      "Sum of digits of 792: 18\n",
      "Sum of digits of 793: 19\n",
      "Sum of digits of 794: 20\n",
      "Sum of digits of 795: 21\n",
      "Sum of digits of 796: 22\n",
      "Sum of digits of 797: 23\n",
      "Sum of digits of 798: 24\n",
      "Sum of digits of 799: 25\n",
      "Sum of digits of 800: 8\n",
      "Sum of digits of 801: 9\n",
      "Sum of digits of 802: 10\n",
      "Sum of digits of 803: 11\n",
      "Sum of digits of 804: 12\n",
      "Sum of digits of 805: 13\n",
      "Sum of digits of 806: 14\n",
      "Sum of digits of 807: 15\n",
      "Sum of digits of 808: 16\n",
      "Sum of digits of 809: 17\n",
      "Sum of digits of 810: 9\n",
      "Sum of digits of 811: 10\n",
      "Sum of digits of 812: 11\n",
      "Sum of digits of 813: 12\n",
      "Sum of digits of 814: 13\n",
      "Sum of digits of 815: 14\n",
      "Sum of digits of 816: 15\n",
      "Sum of digits of 817: 16\n",
      "Sum of digits of 818: 17\n",
      "Sum of digits of 819: 18\n",
      "Sum of digits of 820: 10\n",
      "Sum of digits of 821: 11\n",
      "Sum of digits of 822: 12\n",
      "Sum of digits of 823: 13\n",
      "Sum of digits of 824: 14\n",
      "Sum of digits of 825: 15\n",
      "Sum of digits of 826: 16\n",
      "Sum of digits of 827: 17\n",
      "Sum of digits of 828: 18\n",
      "Sum of digits of 829: 19\n",
      "Sum of digits of 830: 11\n",
      "Sum of digits of 831: 12\n",
      "Sum of digits of 832: 13\n",
      "Sum of digits of 833: 14\n",
      "Sum of digits of 834: 15\n",
      "Sum of digits of 835: 16\n",
      "Sum of digits of 836: 17\n",
      "Sum of digits of 837: 18\n",
      "Sum of digits of 838: 19\n",
      "Sum of digits of 839: 20\n",
      "Sum of digits of 840: 12\n",
      "Sum of digits of 841: 13\n",
      "Sum of digits of 842: 14\n",
      "Sum of digits of 843: 15\n",
      "Sum of digits of 844: 16\n",
      "Sum of digits of 845: 17\n",
      "Sum of digits of 846: 18\n",
      "Sum of digits of 847: 19\n",
      "Sum of digits of 848: 20\n",
      "Sum of digits of 849: 21\n",
      "Sum of digits of 850: 13\n",
      "Sum of digits of 851: 14\n",
      "Sum of digits of 852: 15\n",
      "Sum of digits of 853: 16\n",
      "Sum of digits of 854: 17\n",
      "Sum of digits of 855: 18\n",
      "Sum of digits of 856: 19\n",
      "Sum of digits of 857: 20\n",
      "Sum of digits of 858: 21\n",
      "Sum of digits of 859: 22\n",
      "Sum of digits of 860: 14\n",
      "Sum of digits of 861: 15\n",
      "Sum of digits of 862: 16\n",
      "Sum of digits of 863: 17\n",
      "Sum of digits of 864: 18\n",
      "Sum of digits of 865: 19\n",
      "Sum of digits of 866: 20\n",
      "Sum of digits of 867: 21\n",
      "Sum of digits of 868: 22\n",
      "Sum of digits of 869: 23\n",
      "Sum of digits of 870: 15\n",
      "Sum of digits of 871: 16\n",
      "Sum of digits of 872: 17\n",
      "Sum of digits of 873: 18\n",
      "Sum of digits of 874: 19\n",
      "Sum of digits of 875: 20\n",
      "Sum of digits of 876: 21\n",
      "Sum of digits of 877: 22\n",
      "Sum of digits of 878: 23\n",
      "Sum of digits of 879: 24\n",
      "Sum of digits of 880: 16\n",
      "Sum of digits of 881: 17\n",
      "Sum of digits of 882: 18\n",
      "Sum of digits of 883: 19\n",
      "Sum of digits of 884: 20\n",
      "Sum of digits of 885: 21\n",
      "Sum of digits of 886: 22\n",
      "Sum of digits of 887: 23\n",
      "Sum of digits of 888: 24\n",
      "Sum of digits of 889: 25\n",
      "Sum of digits of 890: 17\n",
      "Sum of digits of 891: 18\n",
      "Sum of digits of 892: 19\n",
      "Sum of digits of 893: 20\n",
      "Sum of digits of 894: 21\n",
      "Sum of digits of 895: 22\n",
      "Sum of digits of 896: 23\n",
      "Sum of digits of 897: 24\n",
      "Sum of digits of 898: 25\n",
      "Sum of digits of 899: 26\n",
      "Sum of digits of 900: 9\n",
      "Sum of digits of 901: 10\n",
      "Sum of digits of 902: 11\n",
      "Sum of digits of 903: 12\n",
      "Sum of digits of 904: 13\n",
      "Sum of digits of 905: 14\n",
      "Sum of digits of 906: 15\n",
      "Sum of digits of 907: 16\n",
      "Sum of digits of 908: 17\n",
      "Sum of digits of 909: 18\n",
      "Sum of digits of 910: 10\n",
      "Sum of digits of 911: 11\n",
      "Sum of digits of 912: 12\n",
      "Sum of digits of 913: 13\n",
      "Sum of digits of 914: 14\n",
      "Sum of digits of 915: 15\n",
      "Sum of digits of 916: 16\n",
      "Sum of digits of 917: 17\n",
      "Sum of digits of 918: 18\n",
      "Sum of digits of 919: 19\n",
      "Sum of digits of 920: 11\n",
      "Sum of digits of 921: 12\n",
      "Sum of digits of 922: 13\n",
      "Sum of digits of 923: 14\n",
      "Sum of digits of 924: 15\n",
      "Sum of digits of 925: 16\n",
      "Sum of digits of 926: 17\n",
      "Sum of digits of 927: 18\n",
      "Sum of digits of 928: 19\n",
      "Sum of digits of 929: 20\n",
      "Sum of digits of 930: 12\n",
      "Sum of digits of 931: 13\n",
      "Sum of digits of 932: 14\n",
      "Sum of digits of 933: 15\n",
      "Sum of digits of 934: 16\n",
      "Sum of digits of 935: 17\n",
      "Sum of digits of 936: 18\n",
      "Sum of digits of 937: 19\n",
      "Sum of digits of 938: 20\n",
      "Sum of digits of 939: 21\n",
      "Sum of digits of 940: 13\n",
      "Sum of digits of 941: 14\n",
      "Sum of digits of 942: 15\n",
      "Sum of digits of 943: 16\n",
      "Sum of digits of 944: 17\n",
      "Sum of digits of 945: 18\n",
      "Sum of digits of 946: 19\n",
      "Sum of digits of 947: 20\n",
      "Sum of digits of 948: 21\n",
      "Sum of digits of 949: 22\n",
      "Sum of digits of 950: 14\n",
      "Sum of digits of 951: 15\n",
      "Sum of digits of 952: 16\n",
      "Sum of digits of 953: 17\n",
      "Sum of digits of 954: 18\n",
      "Sum of digits of 955: 19\n",
      "Sum of digits of 956: 20\n",
      "Sum of digits of 957: 21\n",
      "Sum of digits of 958: 22\n",
      "Sum of digits of 959: 23\n",
      "Sum of digits of 960: 15\n",
      "Sum of digits of 961: 16\n",
      "Sum of digits of 962: 17\n",
      "Sum of digits of 963: 18\n",
      "Sum of digits of 964: 19\n",
      "Sum of digits of 965: 20\n",
      "Sum of digits of 966: 21\n",
      "Sum of digits of 967: 22\n",
      "Sum of digits of 968: 23\n",
      "Sum of digits of 969: 24\n",
      "Sum of digits of 970: 16\n",
      "Sum of digits of 971: 17\n",
      "Sum of digits of 972: 18\n",
      "Sum of digits of 973: 19\n",
      "Sum of digits of 974: 20\n",
      "Sum of digits of 975: 21\n",
      "Sum of digits of 976: 22\n",
      "Sum of digits of 977: 23\n",
      "Sum of digits of 978: 24\n",
      "Sum of digits of 979: 25\n",
      "Sum of digits of 980: 17\n",
      "Sum of digits of 981: 18\n",
      "Sum of digits of 982: 19\n",
      "Sum of digits of 983: 20\n",
      "Sum of digits of 984: 21\n",
      "Sum of digits of 985: 22\n",
      "Sum of digits of 986: 23\n",
      "Sum of digits of 987: 24\n",
      "Sum of digits of 988: 25\n",
      "Sum of digits of 989: 26\n",
      "Sum of digits of 990: 18\n",
      "Sum of digits of 991: 19\n",
      "Sum of digits of 992: 20\n",
      "Sum of digits of 993: 21\n",
      "Sum of digits of 994: 22\n",
      "Sum of digits of 995: 23\n",
      "Sum of digits of 996: 24\n",
      "Sum of digits of 997: 25\n",
      "Sum of digits of 998: 26\n",
      "Sum of digits of 999: 27\n",
      "Sum of digits of 1000: 1\n"
     ]
    }
   ],
   "source": [
    "# Calculate the sum of digits of the numbers from 1 to 1000\n",
    "sums = [sum(int(digit) for digit in str(i)) for i in range(1, 1001)]\n",
    "\n",
    "# Print the results\n",
    "for i in range(1, 1001):\n",
    "    print(f\"Sum of digits of {i}:\", sums[i-1])"
   ]
  },
  {
   "cell_type": "markdown",
   "id": "4dbb8f88-ed65-4588-a83e-2c606d1a4088",
   "metadata": {},
   "source": [
    "40. Write a program that generates a list of prime palindromic numbers using list comprehension."
   ]
  },
  {
   "cell_type": "code",
   "execution_count": null,
   "id": "f76f4eed-0cea-4a9f-a0a5-8cad3670adad",
   "metadata": {},
   "outputs": [],
   "source": [
    "def isPrime(number):\n",
    "    isprime = True\n",
    "\n",
    "    if number > 1:\n",
    "        # If number is divisible by any other number then is is not a prime, so check for factors\n",
    "        for i in range(2, number):\n",
    "            if (number % i) == 0:\n",
    "                # number is divisilbe by i so it is not a prime number\n",
    "                isprime = False\n",
    "                break\n",
    "    else:\n",
    "        isprime = False\n",
    "    \n",
    "    return isprime\n",
    "\n",
    "# Get the user input for limit\n",
    "limit = int(input(\"Enter a limit to get palindromic numbers: \"))\n",
    "\n",
    "if limit < 0:\n",
    "    print(\"Please enter positive limit\")\n",
    "else:\n",
    "    # Use a list comprehension to generate a list of palindromic numbers\n",
    "    palindromic_numbers = [num for num in range(1, limit + 1) if isPrime(num) and str(num) == str(num)[::-1]]\n",
    "\n",
    "    # Print the list of palindromic numbers\n",
    "    print(f\"Palindromic numbers up to {limit}: {palindromic_numbers}\")\n"
   ]
  }
 ],
 "metadata": {
  "kernelspec": {
   "display_name": "Python 3 (ipykernel)",
   "language": "python",
   "name": "python3"
  },
  "language_info": {
   "codemirror_mode": {
    "name": "ipython",
    "version": 3
   },
   "file_extension": ".py",
   "mimetype": "text/x-python",
   "name": "python",
   "nbconvert_exporter": "python",
   "pygments_lexer": "ipython3",
   "version": "3.10.8"
  }
 },
 "nbformat": 4,
 "nbformat_minor": 5
}

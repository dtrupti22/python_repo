{
 "cells": [
  {
   "cell_type": "markdown",
   "id": "a9dfcb72-797c-42d1-99da-14b23a07d0d3",
   "metadata": {},
   "source": [
    "### 1. What is a Python library? Why do we use Python libraries?"
   ]
  },
  {
   "cell_type": "code",
   "execution_count": 2,
   "id": "07b49947-ba1c-485a-9ecd-8b6862c461cf",
   "metadata": {},
   "outputs": [],
   "source": [
    "# A Python library is a collection of modules and packages having different functionalities\n",
    "# library can be used by other programs or developers.\n",
    "# Libraries can be easily imported and utilized in Python scripts,which enables user to use the available functions which \n",
    "# saves the time and increase productivity.\n",
    "\n",
    "# Examples of libraries\n",
    "# NumPy, Pandas, Matplotlib, TensorFlow, Flask, and requests and many more.\n",
    "\n",
    "# usage / purpose of using libraries:\n",
    "\n",
    "# Code Reusability: Libraries consists reusable code, allowing developers to use existing solutions rather than writing \n",
    "# new code. This promotes code reusability and helps save time and effort.\n",
    "\n",
    "# Productivity: Libraries provide ready-to-use functions,\n",
    "# This allows users to focus on solving specific problems rather than wasting time on low-level details.\n",
    "\n",
    "# Performance: Many popular Python libraries are implemented in low-level languages like C or C++, provides \n",
    "#efficient and optimized code and performance.\n"
   ]
  },
  {
   "cell_type": "markdown",
   "id": "d6230df9-cd74-44d3-9f6e-0a946e6f6ea3",
   "metadata": {},
   "source": [
    "### 2. What is the difference between Numpy array and List?"
   ]
  },
  {
   "cell_type": "code",
   "execution_count": 3,
   "id": "82f26b48-3177-4268-9f2a-367d4ff9cbbd",
   "metadata": {},
   "outputs": [],
   "source": [
    "# Python lists are hetereogeneous, we can have elements of different data types. \n",
    "# For example, a list can contain integers, floats, strings, and other types in the same list.\n",
    "#whereas NumPy arrays are homogeneous, meaning all elements must be of the same data type.This homogeneity allows \n",
    "#for more efficient storage and operations.\n",
    "\n",
    "# NumPy arrays are more efficient in terms of memory usage and execution speed compared to Python lists. \n",
    "# Lists are more flexible but may be less efficient for large-scale numerical computations.\n",
    "\n",
    "# NumPy provides a various mathematical functions and operations that can be applied to entire arrays. \n",
    "#Lists provide fewer built-in operations for mathematical computations."
   ]
  },
  {
   "cell_type": "markdown",
   "id": "0976e3e2-e020-4e38-a000-b900e08e36a0",
   "metadata": {},
   "source": [
    "### 3. Find the shape, size and dimension of the following array?\n",
    "\n",
    "[[1, 2, 3, 4]\n",
    "\n",
    "[5, 6, 7, 8],\n",
    "\n",
    "[9, 10, 11, 12]]"
   ]
  },
  {
   "cell_type": "code",
   "execution_count": 8,
   "id": "dd008fb4-d73c-4e6f-8a4b-4875f6f80893",
   "metadata": {},
   "outputs": [
    {
     "name": "stdout",
     "output_type": "stream",
     "text": [
      "shape of an array:  (3, 4)\n",
      "Dimension of an array:  2\n"
     ]
    }
   ],
   "source": [
    "import numpy as np\n",
    "arr1 = np.array([[1, 2, 3, 4], [5, 6, 7, 8],[9, 10, 11, 12]])\n",
    "print(\"shape of an array: \", arr1.shape)\n",
    "print(\"Dimension of an array: \", arr1.ndim)"
   ]
  },
  {
   "cell_type": "markdown",
   "id": "741cbef3-112b-4a9e-b14f-f1f964eb3041",
   "metadata": {},
   "source": [
    "### 4. Write python code to access the first row of the following array?\n",
    "\n",
    "[[1, 2, 3, 4]\n",
    "\n",
    "[5, 6, 7, 8],\n",
    "\n",
    "[9, 10, 11, 12]]"
   ]
  },
  {
   "cell_type": "code",
   "execution_count": 9,
   "id": "74ceba1d-34df-415e-acf8-299562592715",
   "metadata": {},
   "outputs": [
    {
     "name": "stdout",
     "output_type": "stream",
     "text": [
      "first row of array is: [1 2 3 4]\n"
     ]
    }
   ],
   "source": [
    "arr = np.array([[1, 2, 3, 4], [5, 6, 7, 8],[9, 10, 11, 12]])\n",
    "print(\"first row of array is:\", arr[0])"
   ]
  },
  {
   "cell_type": "markdown",
   "id": "81f3472b-609b-46b7-8098-6afdd79110cd",
   "metadata": {},
   "source": [
    "### 5. How do you access the element at the third row and fourth column from the given numpy array?\n",
    "\n",
    "[[1, 2, 3, 4]\n",
    "\n",
    "[5, 6, 7, 8],\n",
    "\n",
    "[9, 10, 11, 12]]"
   ]
  },
  {
   "cell_type": "code",
   "execution_count": 10,
   "id": "80726aa3-e5cc-42ac-a323-d1d58a5a683c",
   "metadata": {},
   "outputs": [
    {
     "name": "stdout",
     "output_type": "stream",
     "text": [
      "Element at 3rd row and 4th column of array is: 12\n"
     ]
    }
   ],
   "source": [
    "arr = np.array([[1, 2, 3, 4], [5, 6, 7, 8],[9, 10, 11, 12]])\n",
    "print(\"Element at 3rd row and 4th column of array is:\", arr[2][3])"
   ]
  },
  {
   "cell_type": "markdown",
   "id": "4aa86c9a-8c4a-40c4-8745-11693ca43029",
   "metadata": {},
   "source": [
    "### 6. Write code to extract all odd indexed elements from the given numpy array?\n",
    "\n",
    "[[1, 2, 3, 4]\n",
    "\n",
    "[5, 6, 7, 8],\n",
    "\n",
    "[9, 10, 11, 12]]"
   ]
  },
  {
   "cell_type": "code",
   "execution_count": 11,
   "id": "385491b1-357b-4791-912a-266d86ae5c5c",
   "metadata": {},
   "outputs": [
    {
     "name": "stdout",
     "output_type": "stream",
     "text": [
      "All odd elements in array are: [ 1  3  5  7  9 11]\n"
     ]
    }
   ],
   "source": [
    "arr = np.array([[1, 2, 3, 4], [5, 6, 7, 8],[9, 10, 11, 12]])\n",
    "print(\"All odd elements in array are:\", arr[arr % 2 != 0])"
   ]
  },
  {
   "cell_type": "markdown",
   "id": "0999cdad-0e1a-45ac-a865-d13ff6cd8a16",
   "metadata": {},
   "source": [
    "### 7. How can you generate a random 3x3 matrix with values between 0 and 1?"
   ]
  },
  {
   "cell_type": "code",
   "execution_count": 18,
   "id": "3e60b5dc-7d39-43e4-883a-169d5186148a",
   "metadata": {},
   "outputs": [
    {
     "name": "stdout",
     "output_type": "stream",
     "text": [
      "[[0.18974896 0.85616538 0.23801681]\n",
      " [0.71836147 0.74666034 0.67623225]\n",
      " [0.63117758 0.91363395 0.31830232]]\n"
     ]
    }
   ],
   "source": [
    "random_mat = np.random.rand(3, 3)\n",
    "print(random_mat)"
   ]
  },
  {
   "cell_type": "markdown",
   "id": "931eda70-7248-4efc-8ed2-0794f0d2e78e",
   "metadata": {},
   "source": [
    "### 8. Describe the difference between np.random.rand and np.random.randn?"
   ]
  },
  {
   "cell_type": "code",
   "execution_count": 21,
   "id": "59e0b45c-d8be-4723-9020-11c95f2b9c86",
   "metadata": {},
   "outputs": [
    {
     "name": "stdout",
     "output_type": "stream",
     "text": [
      "output of np.random.rand\n",
      " [[0.99484523 0.85255194 0.83220012]\n",
      " [0.33263133 0.86552383 0.03870795]\n",
      " [0.51339832 0.92771954 0.34183163]]\n",
      "****************************************\n",
      "output of np.random.randn\n",
      " [[-0.40857885  0.52219935  0.02085623]\n",
      " [-2.49976767  1.08485805 -0.17552175]\n",
      " [-0.73178985  0.28686431 -0.71584602]]\n"
     ]
    }
   ],
   "source": [
    "# np.random.rand generates random numbers from a uniform distribution over the interval [0, 1).\n",
    "# whereas np.random.randn generates random numbers from a standard normal distribution \n",
    "# with a mean of 0 and a standard deviation of 1.\n",
    "\n",
    "#ex. \n",
    "print(\"output of np.random.rand\\n\", np.random.rand(3, 3))\n",
    "print(\"*\"*40)\n",
    "print(\"output of np.random.randn\\n\", np.random.randn(3, 3))"
   ]
  },
  {
   "cell_type": "markdown",
   "id": "82fbc02d-7bac-4159-b75c-e0ce5ca52e2e",
   "metadata": {},
   "source": [
    "### 9. Write code to increase the dimension of the following array?\n",
    "\n",
    "[[1, 2, 3, 4]\n",
    "\n",
    "[5, 6, 7, 8],\n",
    "\n",
    "[9, 10, 11, 12]]"
   ]
  },
  {
   "cell_type": "code",
   "execution_count": 30,
   "id": "b05fefd3-4ae1-4496-a161-53773e38f613",
   "metadata": {},
   "outputs": [
    {
     "name": "stdout",
     "output_type": "stream",
     "text": [
      "Original 1D array:\n",
      " [[ 1  2  3  4]\n",
      " [ 5  6  7  8]\n",
      " [ 9 10 11 12]]\n",
      "Array after increasing dimension:\n",
      " [[[ 1  2  3  4]]\n",
      "\n",
      " [[ 5  6  7  8]]\n",
      "\n",
      " [[ 9 10 11 12]]]\n"
     ]
    }
   ],
   "source": [
    "arr = np.array([[1, 2, 3, 4], [5, 6, 7, 8],[9, 10, 11, 12]])\n",
    "\n",
    "print(\"Original 1D array:\\n\", arr)\n",
    "\n",
    "print(\"Array after increasing dimension:\\n\", np.expand_dims(arr, axis=1))"
   ]
  },
  {
   "cell_type": "markdown",
   "id": "6f5851f1-5595-4af3-b4b4-356c865a6f7e",
   "metadata": {},
   "source": [
    "### 10. How to transpose the following array in NumPy?\n",
    "\n",
    "[[1, 2, 3, 4]\n",
    "\n",
    "[5, 6, 7, 8],\n",
    "\n",
    "[9, 10, 11, 12]]"
   ]
  },
  {
   "cell_type": "code",
   "execution_count": 31,
   "id": "204e62d3-5e48-4252-9d47-8a741efd2690",
   "metadata": {},
   "outputs": [
    {
     "name": "stdout",
     "output_type": "stream",
     "text": [
      "array before transpose\n",
      " [[ 1  2  3  4]\n",
      " [ 5  6  7  8]\n",
      " [ 9 10 11 12]]\n",
      "output of array transpose\n",
      " [[ 1  5  9]\n",
      " [ 2  6 10]\n",
      " [ 3  7 11]\n",
      " [ 4  8 12]]\n"
     ]
    }
   ],
   "source": [
    "arr = np.array([[1, 2, 3, 4], [5, 6, 7, 8],[9, 10, 11, 12]])\n",
    "\n",
    "print(\"array before transpose\\n\", arr)\n",
    "\n",
    "print(\"output of array transpose\\n\", arr.T)"
   ]
  },
  {
   "cell_type": "markdown",
   "id": "225f0b8c-6541-4ace-9801-f4b7dda491f0",
   "metadata": {},
   "source": [
    "### 11. Consider the following matrix:\n",
    "\n",
    "Matrix A2 [[1, 2, 3, 4] [5, 6, 7, 8],[9, 10, 11, 12]]\n",
    "\n",
    "Matrix B2 [[1, 2, 3, 4] [5, 6, 7, 8],[9, 10, 11, 12]]\n",
    "\n",
    "Perform the following operation using Python\n",
    "1. Index wise multiplication\n",
    "2. Matrix multiplication\n",
    "3. Add both the matrics\n",
    "4. Subtract matrix B from A\n",
    "5. Divide Matrix B by A"
   ]
  },
  {
   "cell_type": "code",
   "execution_count": 40,
   "id": "0325a4a4-64ed-4371-b1b2-4b05d272d05f",
   "metadata": {},
   "outputs": [
    {
     "name": "stdout",
     "output_type": "stream",
     "text": [
      "Index wise multiplicaton: \n",
      " [[  1   4   9  16]\n",
      " [ 25  36  49  64]\n",
      " [ 81 100 121 144]]\n",
      "\n",
      " Matrix multiplicaton: \n",
      " [[ 30  70 110]\n",
      " [ 70 174 278]\n",
      " [110 278 446]]\n",
      "\n",
      " Matrix Addition: \n",
      " [[ 2  4  6  8]\n",
      " [10 12 14 16]\n",
      " [18 20 22 24]]\n",
      "\n",
      " substract Matrix B from A: \n",
      " [[0 0 0 0]\n",
      " [0 0 0 0]\n",
      " [0 0 0 0]]\n",
      "\n",
      " Divide Matrix B by A [[1. 1. 1. 1.]\n",
      " [1. 1. 1. 1.]\n",
      " [1. 1. 1. 1.]]\n"
     ]
    }
   ],
   "source": [
    "matrixA = np.array([[1, 2, 3, 4], [5, 6, 7, 8],[9, 10, 11, 12]])\n",
    "matrixB = np.array([[1, 2, 3, 4], [5, 6, 7, 8],[9, 10, 11, 12]])\n",
    "\n",
    "print(\"Index wise multiplicaton: \\n\", matrixA * matrixB)\n",
    "print(\"\\n Matrix multiplicaton: \\n\", matrixA.dot(matrixB.T))\n",
    "print(\"\\n Matrix Addition: \\n\", matrixA + matrixB)\n",
    "print(\"\\n substract Matrix B from A: \\n\", matrixA - matrixB)\n",
    "print(\"\\n Divide Matrix B by A\", matrixB / matrixA)"
   ]
  },
  {
   "cell_type": "markdown",
   "id": "47d41a53-6406-4fcc-a448-3db651b87923",
   "metadata": {},
   "source": [
    "### 12.  Which function in Numpy can be used to swap the byte order of an array?"
   ]
  },
  {
   "cell_type": "code",
   "execution_count": 46,
   "id": "3c94fa5f-290a-4f0a-8e0e-c01790a3787b",
   "metadata": {},
   "outputs": [
    {
     "name": "stdout",
     "output_type": "stream",
     "text": [
      "Original Array: [1 2 3 4]\n",
      "Swapped Array: [16777216 33554432 50331648 67108864]\n"
     ]
    }
   ],
   "source": [
    "# In NumPy, the function np.ndarray.byteswap can be used to swap the byte order of an array.\n",
    "\n",
    "#ex.\n",
    "# Create an array with a specified byte order\n",
    "original_array = np.array([1, 2, 3, 4], dtype=np.int32) \n",
    "\n",
    "# Swap the byte order using byteswap\n",
    "swapped_array = original_array.byteswap(inplace=False)\n",
    "\n",
    "# Display the output\n",
    "print(\"Original Array:\", original_array)\n",
    "print(\"Swapped Array:\", swapped_array)\n"
   ]
  },
  {
   "cell_type": "markdown",
   "id": "f729711e-ec91-4a5f-abd9-eba1e662693f",
   "metadata": {},
   "source": [
    "### 13.  What is the significance of the np.linalg.inv function?"
   ]
  },
  {
   "cell_type": "code",
   "execution_count": 7,
   "id": "90b8bbd7-f1f2-4c65-8b42-3f6954c61a95",
   "metadata": {},
   "outputs": [
    {
     "name": "stdout",
     "output_type": "stream",
     "text": [
      "Original Matrix:\n",
      " [[4 7]\n",
      " [2 6]]\n",
      "\n",
      "Inverse Matrix:\n",
      " [[ 0.6 -0.7]\n",
      " [-0.2  0.4]]\n"
     ]
    }
   ],
   "source": [
    "# np.linalg.inv is used to compute the inverse matrix in Python.\n",
    "# The resulting matrix, when multiplied by the original matrix, gives the identity matrix.\n",
    "import numpy as np\n",
    "\n",
    "# Create a 2x2 matrix\n",
    "A = np.array([[4, 7],\n",
    "              [2, 6]])\n",
    "\n",
    "# Calculate the inverse of the matrix\n",
    "A_inv = np.linalg.inv(A)\n",
    "\n",
    "# Display the original and inverse matrices\n",
    "print(\"Original Matrix:\\n\", A)\n",
    "print(\"\\nInverse Matrix:\\n\", A_inv)\n"
   ]
  },
  {
   "cell_type": "markdown",
   "id": "76cc40a1-4df8-48ae-b1c6-37f688a1941b",
   "metadata": {},
   "source": [
    "### 14. What does the np.reshape function do, and how is it use?"
   ]
  },
  {
   "cell_type": "code",
   "execution_count": 10,
   "id": "f5139a69-1d27-4dd4-94f2-6f56c0c88956",
   "metadata": {},
   "outputs": [
    {
     "name": "stdout",
     "output_type": "stream",
     "text": [
      "Original Array:\n",
      " [1 2 3 4 5 6]\n",
      "\n",
      "Reshaped Array:\n",
      " [[1 2 3]\n",
      " [4 5 6]]\n"
     ]
    }
   ],
   "source": [
    "# The np.reshape function in NumPy is used to change the shape of an array.\n",
    "# It maintains the total number of elements. \n",
    "# The reshaping is done without modifying the original array; instead, a new array with the desired shape is returned.\n",
    "\n",
    "#e.g.\n",
    "\n",
    "orig_array = np.array([1, 2, 3, 4, 5, 6])\n",
    "reshaped_array = np.reshape(orig_array, (2, 3))\n",
    "\n",
    "print(\"Original Array:\\n\", orig_array)\n",
    "\n",
    "print(\"\\nReshaped Array:\\n\",reshaped_array)\n"
   ]
  },
  {
   "cell_type": "markdown",
   "id": "4aef2a4f-07f8-45ed-b086-d26543e82ffa",
   "metadata": {},
   "source": [
    "### 5. What is broadcasting in Numpy?"
   ]
  },
  {
   "cell_type": "code",
   "execution_count": 17,
   "id": "9294dc02-71d7-4a30-b2d4-ac8ec2e19101",
   "metadata": {},
   "outputs": [
    {
     "data": {
      "text/plain": [
       "array([ 5, 10, 15])"
      ]
     },
     "execution_count": 17,
     "metadata": {},
     "output_type": "execute_result"
    }
   ],
   "source": [
    "# Broadcasting in NumPy is a way that allows NumPy to perform operations on arrays of different shapes\n",
    "# and sizes.\n",
    "# generally the smaller array is “broadcast” across the larger array so that they have compatible shapes \n",
    "# It does this without explicitly creating copies of the data.\n",
    "\n",
    "# e.g.\n",
    "\n",
    "arr = np.array([1, 2, 3])\n",
    "b = 5\n",
    "arr * b"
   ]
  }
 ],
 "metadata": {
  "kernelspec": {
   "display_name": "Python 3 (ipykernel)",
   "language": "python",
   "name": "python3"
  },
  "language_info": {
   "codemirror_mode": {
    "name": "ipython",
    "version": 3
   },
   "file_extension": ".py",
   "mimetype": "text/x-python",
   "name": "python",
   "nbconvert_exporter": "python",
   "pygments_lexer": "ipython3",
   "version": "3.10.8"
  }
 },
 "nbformat": 4,
 "nbformat_minor": 5
}

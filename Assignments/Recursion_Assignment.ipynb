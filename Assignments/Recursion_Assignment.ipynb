{
 "cells": [
  {
   "cell_type": "markdown",
   "id": "569ff7c4-fac0-4308-a034-b722e1cc0583",
   "metadata": {},
   "source": [
    "Q.1 Can you explain the logic and working of the Tower of Hanoi algorithm by writing a Java program? \n",
    "How does the recursion work, and how are the movements of disks between rods accomplished?"
   ]
  },
  {
   "cell_type": "code",
   "execution_count": 1,
   "id": "f3528ef3-7459-41f1-b00a-5a69e37cca9e",
   "metadata": {},
   "outputs": [
    {
     "name": "stdout",
     "output_type": "stream",
     "text": [
      "Move disk 1 from rod A to rod C\n",
      "Move disk 2 from rod A to rod B\n",
      "Move disk 1 from rod C to rod B\n",
      "Move disk 3 from rod A to rod C\n",
      "Move disk 1 from rod B to rod A\n",
      "Move disk 2 from rod B to rod C\n",
      "Move disk 1 from rod A to rod C\n"
     ]
    }
   ],
   "source": [
    "# The problem consists of three rods and a number of disks of different sizes, which can slide onto any rod. \n",
    "# This starts with the disks in a stack in ascending order of size on one rod, the smallest at the top.\n",
    "\n",
    "# The task is to move the entire stack to another rod, following simple rules:\n",
    "\n",
    "# 1. Only one disk can be moved at a time.\n",
    "\n",
    "# 2. Each move consists of taking the upper disk from one of the stacks and placing it on top of another stack \n",
    "# or on an empty rod.\n",
    "\n",
    "# 3. No disk can be placed on top of a smaller disk.\n",
    "\n",
    "\n",
    "# Implementation:\n",
    "def tower_of_hanoi(n, source, destination, auxiliary):\n",
    "    if n == 1:\n",
    "        print(f\"Move disk 1 from rod {source} to rod {destination}\")\n",
    "        return\n",
    "\n",
    "    tower_of_hanoi(n - 1, source, auxiliary, destination )\n",
    "    print(f\"Move disk {n} from rod {source} to rod {destination}\")\n",
    "    tower_of_hanoi(n - 1, auxiliary, destination, source)\n",
    "\n",
    "tower_of_hanoi(3, 'A', 'C', 'B')\n",
    "\n",
    "# How recursion works:\n",
    "# Base Case: If n == 1, simply move the disk from the source rod to the destination rod.\n",
    "\n",
    "# Recursive Case: If n > 1, break the problem into smaller subproblems:\n",
    "\n",
    "# a. Move n-1 disks: Recursively move n-1 disks from the source rod to the destination rod using the auxiliary rod as a temporary storage.\n",
    "\n",
    "# b. Move the largest disk: Move the largest disk (disk n) from the source rod to the destination rod.\n",
    "\n",
    "# c. Move remaining disks: Recursively move the remaining n-1 disks from the auxiliary rod to the destination rod using the source rod as a temporary storage.\n",
    "\n",
    "# In this recursive way the algorithm can handle any number of disks by repeatedly breaking down the problem \n",
    "# into smaller subproblems."
   ]
  },
  {
   "cell_type": "markdown",
   "id": "0b13ca6c-4a92-4d49-bac0-caa34fa66d0b",
   "metadata": {},
   "source": [
    "## Q.2 Given two strings word1 and word2, return the minimum number of operations required to convert word1 to word2.\n",
    "\n",
    "Example 1:\n",
    "\n",
    " Input: word1 = \"horse\", word2 = \"ros\"\n",
    "\n",
    " Output: 3\n",
    "\n",
    " Explanation: \n",
    "\n",
    " horse -> rorse (replace 'h' with 'r')\n",
    "\n",
    " rorse -> rose (remove 'r')\n",
    "\n",
    " rose -> ros (remove 'e')"
   ]
  },
  {
   "cell_type": "code",
   "execution_count": 21,
   "id": "2d4664c5-0135-4048-8796-0dde30d5f5f1",
   "metadata": {},
   "outputs": [
    {
     "name": "stdout",
     "output_type": "stream",
     "text": [
      "The minimum number of operations to convert 'horse' to 'ros' is: 3\n"
     ]
    }
   ],
   "source": [
    "def min_operations(word1, word2, i, j):\n",
    "    if i == 0:\n",
    "        return j\n",
    "    if j == 0:\n",
    "        return i\n",
    "\n",
    "    if word1[i-1] == word2[j-1]:\n",
    "        return min_operations(word1, word2, i-1, j-1)\n",
    "        \n",
    "    return 1 + min(\n",
    "            min_operations(word1, word2, i, j-1),  # Insert\n",
    "            min_operations(word1, word2, i-1, j),  # Delete\n",
    "            min_operations(word1, word2, i-1, j-1)  # Substitute\n",
    "        )\n",
    "# example\n",
    "word1 = \"horse\"\n",
    "word2 = \"ros\"\n",
    "\n",
    "result = min_operations(word1, word2, len(word1), len(word2))\n",
    "print(f\"The minimum number of operations to convert '{word1}' to '{word2}' is: {result}\")"
   ]
  },
  {
   "cell_type": "markdown",
   "id": "20a9b69d-3941-4b5a-801a-9584a66bfdcb",
   "metadata": {},
   "source": [
    "## Q. 3 Print the max value of the array [ 13, 1, -3, 22, 5]"
   ]
  },
  {
   "cell_type": "code",
   "execution_count": 2,
   "id": "c6c20f76-887c-4d57-9d23-eb434333e1fe",
   "metadata": {},
   "outputs": [
    {
     "name": "stdout",
     "output_type": "stream",
     "text": [
      "Max Value of array [13, 1, -3, 22, 5] is:  22\n"
     ]
    }
   ],
   "source": [
    "def finaMaxElement(arr, index, max_value):\n",
    "    if index == len(arr):\n",
    "        # Base case: reached the end of the array\n",
    "        print(f\"Max Value of array {arr} is: \", max_value)\n",
    "        return\n",
    "\n",
    "    # Update max_value if the current element is greater\n",
    "    if arr[index] > max_value:\n",
    "        max_value = arr[index]\n",
    "\n",
    "    # Recursive call for the next index\n",
    "    finaMaxElement(arr, index + 1, max_value)\n",
    "\n",
    "# Driver Code\n",
    "arr = [ 13, 1, -3, 22, 5]\n",
    "finaMaxElement(arr, 0, 0)"
   ]
  },
  {
   "cell_type": "markdown",
   "id": "d70cefd5-1050-4a9c-8ebe-19823dbf673b",
   "metadata": {},
   "source": [
    "## Q.4 Find the sum of the values of the array [92, 23, 15, -20, 10]."
   ]
  },
  {
   "cell_type": "code",
   "execution_count": 3,
   "id": "0d890c26-881c-461f-a50a-0cec23e9a608",
   "metadata": {},
   "outputs": [
    {
     "name": "stdout",
     "output_type": "stream",
     "text": [
      "Sum of the array [92, 23, 15, -20, 10] is: 120\n"
     ]
    }
   ],
   "source": [
    "# Recursive Function to get sum\n",
    "def getArraySum(arr, index):\n",
    "    if index == len(arr):\n",
    "        # Base case: reached the end of the array\n",
    "        return 0\n",
    "\n",
    "    # Recursive call to sum the remaining elements\n",
    "    return arr[index] + getArraySum(arr, index + 1)\n",
    "\n",
    "# Driver Code\n",
    "array = [92, 23, 15, -20, 10]\n",
    "result = getArraySum(array, 0)\n",
    "print(f\"Sum of the array {array} is: {result}\")"
   ]
  },
  {
   "cell_type": "markdown",
   "id": "24401e48-973b-45ea-8617-dd030b52e400",
   "metadata": {},
   "source": [
    "## Q.5 Given a number n. Print if it is an armstrong number or not.An armstrong number is a number if the sum \n",
    "## of every digit in that number raised to the power of total digits in that number is equal to the number."
   ]
  },
  {
   "cell_type": "code",
   "execution_count": 4,
   "id": "0a233630-255a-42a7-9c49-6c5c5e57ef67",
   "metadata": {},
   "outputs": [
    {
     "name": "stdin",
     "output_type": "stream",
     "text": [
      "Enter a number:  153\n"
     ]
    },
    {
     "name": "stdout",
     "output_type": "stream",
     "text": [
      "153 is an Armstrong number.\n"
     ]
    },
    {
     "name": "stdin",
     "output_type": "stream",
     "text": [
      "Enter a number:  134\n"
     ]
    },
    {
     "name": "stdout",
     "output_type": "stream",
     "text": [
      "134 is not an Armstrong number.\n"
     ]
    }
   ],
   "source": [
    "def is_armstrong_recursive(n, original_n, power):\n",
    "    # Base case: if n is 0, it is an Armstrong number\n",
    "    if n == 0:\n",
    "        return original_n == 0\n",
    "\n",
    "    # Recursive call to check the next digit\n",
    "    digit = n % 10\n",
    "    return (digit ** power) + is_armstrong_recursive(n // 10, original_n, power)\n",
    "\n",
    "# Example usage\n",
    "number = int(input(\"Enter a number: \"))\n",
    "result = is_armstrong_recursive(number, number, len(str(number)))\n",
    "\n",
    "if result == number:\n",
    "    print(f\"{number} is an Armstrong number.\")\n",
    "else:\n",
    "    print(f\"{number} is not an Armstrong number.\")\n",
    "    \n",
    "number = int(input(\"Enter a number: \"))\n",
    "result = is_armstrong_recursive(number, number, len(str(number)))\n",
    "\n",
    "if result == number:\n",
    "    print(f\"{number} is an Armstrong number.\")\n",
    "else:\n",
    "    print(f\"{number} is not an Armstrong number.\")"
   ]
  },
  {
   "cell_type": "code",
   "execution_count": 6,
   "id": "072803ed-4fc1-4ba8-a136-d0ebe04aa62b",
   "metadata": {},
   "outputs": [
    {
     "name": "stdout",
     "output_type": "stream",
     "text": [
      "The minimum number of operations to convert 'horse' to 'ros' is: 3\n"
     ]
    }
   ],
   "source": [
    "def min_operations(word1, word2, i, j, memo):\n",
    "    if i == 0:\n",
    "        return j\n",
    "    if j == 0:\n",
    "        return i\n",
    "\n",
    "    if (i, j) in memo:\n",
    "        return memo[(i, j)]\n",
    "\n",
    "    if word1[i-1] == word2[j-1]:\n",
    "        memo[(i, j)] = min_operations(word1, word2, i-1, j-1, memo)\n",
    "    else:\n",
    "        memo[(i, j)] = 1 + min(\n",
    "            min_operations(word1, word2, i, j-1, memo),  # Insert\n",
    "            min_operations(word1, word2, i-1, j, memo),  # Delete\n",
    "            min_operations(word1, word2, i-1, j-1, memo)  # Substitute\n",
    "        )\n",
    "\n",
    "    return memo[(i, j)]\n",
    "\n",
    "def min_operations_wrapper(word1, word2):\n",
    "    return min_operations(word1, word2, len(word1), len(word2), {})\n",
    "\n",
    "# Example usage:\n",
    "word1 = \"horse\"\n",
    "word2 = \"ros\"\n",
    "result = min_operations_wrapper(word1, word2)\n",
    "print(f\"The minimum number of operations to convert '{word1}' to '{word2}' is: {result}\")"
   ]
  },
  {
   "cell_type": "code",
   "execution_count": null,
   "id": "b0a474f1-0d47-464d-9f02-1e227192f850",
   "metadata": {},
   "outputs": [],
   "source": []
  }
 ],
 "metadata": {
  "kernelspec": {
   "display_name": "Python 3 (ipykernel)",
   "language": "python",
   "name": "python3"
  },
  "language_info": {
   "codemirror_mode": {
    "name": "ipython",
    "version": 3
   },
   "file_extension": ".py",
   "mimetype": "text/x-python",
   "name": "python",
   "nbconvert_exporter": "python",
   "pygments_lexer": "ipython3",
   "version": "3.10.8"
  }
 },
 "nbformat": 4,
 "nbformat_minor": 5
}

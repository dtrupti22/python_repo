{
 "cells": [
  {
   "cell_type": "markdown",
   "id": "f95c5b34-ca6c-4a0f-b20a-58e7c70e96c7",
   "metadata": {},
   "source": [
    "# Basic If-Else Statements"
   ]
  },
  {
   "cell_type": "markdown",
   "id": "7352f47e-1e04-451a-9d23-31684e5d500e",
   "metadata": {},
   "source": [
    "1. Write a Python program to check if a given number is positive or negative."
   ]
  },
  {
   "cell_type": "code",
   "execution_count": 1,
   "id": "6ffddd6e-be83-484f-8661-6bb2ece507ff",
   "metadata": {},
   "outputs": [
    {
     "name": "stdin",
     "output_type": "stream",
     "text": [
      "Enter the number:  -2\n"
     ]
    },
    {
     "name": "stdout",
     "output_type": "stream",
     "text": [
      "The entered number -2 is Negative\n"
     ]
    }
   ],
   "source": [
    "# Step 1: Get input number from the user\n",
    "number = int(input(\"Enter the number: \"))\n",
    "\n",
    "# Step 2: Check if entered number is positive/ Negative\n",
    "if number < 0:\n",
    "    print(f\"The entered number {number} is Negative\")\n",
    "else:\n",
    "    print(f\"The entered number {number} is Positive\")"
   ]
  },
  {
   "cell_type": "markdown",
   "id": "f8470362-2211-4343-a089-1e740e0cb60a",
   "metadata": {},
   "source": [
    "2. Create a program that determines if a person is eligible to vote based on their age."
   ]
  },
  {
   "cell_type": "code",
   "execution_count": 6,
   "id": "e14dcdd4-eb5f-461d-9ab7-21f8bde290fd",
   "metadata": {},
   "outputs": [
    {
     "name": "stdin",
     "output_type": "stream",
     "text": [
      "Enter the age of the person:  16\n"
     ]
    },
    {
     "name": "stdout",
     "output_type": "stream",
     "text": [
      "The person is not eligible to vote, as his/her age 16 is less than minimu age criteria i.e. 18.\n"
     ]
    }
   ],
   "source": [
    "# Step 1: Get input (age of the person) from the user\n",
    "age = int(input(\"Enter the age of the person: \"))\n",
    "\n",
    "# Step 2: Check if person is eligible for voting i.e age >= 18\n",
    "if age < 18:\n",
    "    print(f\"The person is not eligible to vote, as his/her age {age} is less than minimu age criteria i.e. 18.\")\n",
    "else:\n",
    "    print(\"The person is eligible to vote..\")"
   ]
  },
  {
   "cell_type": "markdown",
   "id": "466d1930-0c58-4828-8d79-7beb100302ff",
   "metadata": {},
   "source": [
    "3. Develop a program to find the maximum of two numbers using if-else statements."
   ]
  },
  {
   "cell_type": "code",
   "execution_count": 8,
   "id": "22ba8a1b-e167-4290-99ef-ee4fb19cb6f7",
   "metadata": {},
   "outputs": [
    {
     "name": "stdin",
     "output_type": "stream",
     "text": [
      "Enter the first number:  12\n",
      "Enter the second number:  34\n"
     ]
    },
    {
     "name": "stdout",
     "output_type": "stream",
     "text": [
      "The maximum of 12 and 34 is: 34\n"
     ]
    }
   ],
   "source": [
    "# Step 1: Get two input numbers from user\n",
    "num1 = int(input(\"Enter the first number: \"))\n",
    "num2 = int(input(\"Enter the second number: \"))\n",
    "\n",
    "# Step 2: Find the max number by comparing them with each other\n",
    "if num1 > num2:\n",
    "    print(f\"The maximum of {num1} and {num2} is: {num1}\")\n",
    "else:\n",
    "    print(f\"The maximum of {num1} and {num2} is: {num2}\")"
   ]
  },
  {
   "cell_type": "markdown",
   "id": "a840bce0-38db-416a-b3a2-b8cb8dd8771b",
   "metadata": {},
   "source": [
    "4. Write a Python script to classify a given year as a leap year or not."
   ]
  },
  {
   "cell_type": "code",
   "execution_count": 14,
   "id": "f61b74b6-3e94-49b7-ae21-6fa99ca3233a",
   "metadata": {},
   "outputs": [
    {
     "name": "stdin",
     "output_type": "stream",
     "text": [
      "Enter the year to be checked for leap year:  70\n"
     ]
    },
    {
     "name": "stdout",
     "output_type": "stream",
     "text": [
      "Entered year 70 is Not a Leap Year\n"
     ]
    }
   ],
   "source": [
    "# Step 1: Get input (year) from the user\n",
    "year = int(input(\"Enter the year to be checked for leap year: \"))\n",
    "\n",
    "# If year is divisible by 4 but not a century year or year is divisible by 400 then it is leap year\n",
    "if (year%4==0 and year%100!=0) or (year%400 == 0):\n",
    "    print(f\"Entered year {year} is Leap Year\")\n",
    "else:\n",
    "    print(f\"Entered year {year} is Not a Leap Year\")"
   ]
  },
  {
   "cell_type": "markdown",
   "id": "892092ec-0105-420c-89bc-63888bfdee65",
   "metadata": {},
   "source": [
    "5. Create a program that checks whether a character is a vowel or a consonant."
   ]
  },
  {
   "cell_type": "code",
   "execution_count": 7,
   "id": "c70d45a3-06c5-4d05-a54a-d9aeccc3e97a",
   "metadata": {},
   "outputs": [
    {
     "name": "stdin",
     "output_type": "stream",
     "text": [
      "Enter the charcater:  e\n"
     ]
    },
    {
     "name": "stdout",
     "output_type": "stream",
     "text": [
      "The enterd character 'e' is vowel\n"
     ]
    }
   ],
   "source": [
    "# Step 1: Get input character from the user\n",
    "\n",
    "character = input(\"Enter the charcater: \")\n",
    "\n",
    "# Step 2: Declare tuple with vowels\n",
    "vowels = ('a', 'e', 'i', 'o', 'u')\n",
    "\n",
    "# Step 3: Check whether enetered character present in vowel tuple if it is then entered char is vowel else it is consonant\n",
    "if character.lower() in vowels:\n",
    "    print(f\"The enterd character '{character}' is vowel\")\n",
    "else:\n",
    "    print(f\"The enterd character '{character}' is consonant\")"
   ]
  },
  {
   "cell_type": "markdown",
   "id": "52876f24-93fe-4675-9cf6-59ef7b8d1726",
   "metadata": {},
   "source": [
    "6. Implement a program to determine whether a given number is even or odd."
   ]
  },
  {
   "cell_type": "code",
   "execution_count": 15,
   "id": "db621bad-9610-4604-9347-30ec4c163cca",
   "metadata": {},
   "outputs": [
    {
     "name": "stdin",
     "output_type": "stream",
     "text": [
      "Enter the number:  19\n"
     ]
    },
    {
     "name": "stdout",
     "output_type": "stream",
     "text": [
      "The enterd number '19' is an Odd number\n"
     ]
    }
   ],
   "source": [
    "# Step 1: Get input number from the user\n",
    "number = int(input(\"Enter the number: \"))\n",
    "\n",
    "# Step 2: check If nummber divisible by 2 i.e even else it is odd\n",
    "if number%2 == 0:\n",
    "    print(f\"The enterd number '{number}' is an Even number\")\n",
    "else:\n",
    "    print(f\"The enterd number '{number}' is an Odd number\")"
   ]
  },
  {
   "cell_type": "markdown",
   "id": "b5369385-8218-40ce-8f5d-768305f0f7fa",
   "metadata": {},
   "source": [
    "7. Write a Python function to calculate the absolute value of a number without using the `abs()` function."
   ]
  },
  {
   "cell_type": "code",
   "execution_count": 20,
   "id": "7284105a-dc8f-4917-93a7-20f0fe8ec218",
   "metadata": {},
   "outputs": [
    {
     "name": "stdin",
     "output_type": "stream",
     "text": [
      "Enter the number:  -11\n"
     ]
    },
    {
     "name": "stdout",
     "output_type": "stream",
     "text": [
      "The Absolute value of entered number '-11' is 11\n"
     ]
    }
   ],
   "source": [
    "# Step 1: Get input number from the user\n",
    "number = int(input(\"Enter the number: \"))\n",
    "\n",
    "# Step 2: declare a variable to store abolute value\n",
    "abs_val = 0\n",
    "\n",
    "# Step 3: If number is negative multiple it with -1 to get absolute value\n",
    "if number < 0 :\n",
    "        abs_val = number*-1\n",
    "else:\n",
    "        abs_val = number\n",
    "\n",
    "#Step 3: Print the absolute value of entered number\n",
    "print(f\"The Absolute value of entered number '{number}' is {abs_val}\")"
   ]
  },
  {
   "cell_type": "markdown",
   "id": "47003ed4-4101-4259-ba3d-5ef1dc8b262b",
   "metadata": {},
   "source": [
    "8. Develop a program that determines the largest of three given numbers using if-else statements."
   ]
  },
  {
   "cell_type": "code",
   "execution_count": 4,
   "id": "6960d065-fd82-486f-be87-84add31f9908",
   "metadata": {},
   "outputs": [
    {
     "name": "stdin",
     "output_type": "stream",
     "text": [
      "Enter the first number:  33\n",
      "Enter the second number:  4\n",
      "Enter the third number:  23\n"
     ]
    },
    {
     "name": "stdout",
     "output_type": "stream",
     "text": [
      "The largest number is:  33\n"
     ]
    }
   ],
   "source": [
    "# Step 1: Get three input numbers from user\n",
    "num1 = int(input(\"Enter the first number: \"))\n",
    "num2 = int(input(\"Enter the second number: \"))\n",
    "num3 = int(input(\"Enter the third number: \"))\n",
    "\n",
    "# Step 2: Declare a variable to store a largest number\n",
    "largest = 0\n",
    "\n",
    "if num1 >= num2 and num1 >= num3:\n",
    "    largest = num1\n",
    "elif num2 >= num1 and num2 >= num3:\n",
    "    largest = num2\n",
    "else:\n",
    "    largest = num3\n",
    "\n",
    "# Step 3: Print the largest of three numbers\n",
    "print(\"The largest number is: \", largest)"
   ]
  },
  {
   "cell_type": "markdown",
   "id": "398e1156-e945-427d-bc69-52f19f2f4fa9",
   "metadata": {},
   "source": [
    "9. Create a program that checks if a given string is a palindrome."
   ]
  },
  {
   "cell_type": "code",
   "execution_count": 27,
   "id": "e0ae927f-ae05-4d1d-bc94-a8e6725dd1b3",
   "metadata": {},
   "outputs": [
    {
     "name": "stdin",
     "output_type": "stream",
     "text": [
      "Enter the string to be checked for palindrome.. malayalam\n"
     ]
    },
    {
     "name": "stdout",
     "output_type": "stream",
     "text": [
      "The input string is a palindrome.\n"
     ]
    }
   ],
   "source": [
    "# Step 1: Get the input from the user\n",
    "str1 = input(\"Enter the string to be checked for palindrome..\")\n",
    "\n",
    "# Step 2: Reverse the string using reverse slicing\n",
    "rev_string = str1[::-1]\n",
    "\n",
    "# Step 3: Compare string with its reverse for palindrome check\n",
    "if str1 == rev_string:\n",
    "    print(\"The input string is a palindrome.\")\n",
    "else:\n",
    "    print(\"The input string is not a palindrome.\")"
   ]
  },
  {
   "cell_type": "markdown",
   "id": "3aaa81ac-7b86-4442-9f7d-d6b23ce67081",
   "metadata": {},
   "source": [
    "10. Write a Python program to calculate the grade based on a student's score."
   ]
  },
  {
   "cell_type": "code",
   "execution_count": 4,
   "id": "77933c73-675e-4905-8fbf-aa3289800faf",
   "metadata": {},
   "outputs": [
    {
     "name": "stdin",
     "output_type": "stream",
     "text": [
      "Enter student's marks:  79.9\n"
     ]
    },
    {
     "name": "stdout",
     "output_type": "stream",
     "text": [
      "Grade: A\n"
     ]
    }
   ],
   "source": [
    "# Step 1: Get the input marks from the user\n",
    "marks = float(input(\"Enter student's marks: \"))\n",
    "\n",
    "# Check marks and print respective gardes according to score\n",
    "if marks >= 80:\n",
    "    print(\"Grade: A+\")\n",
    "elif marks >= 70 and marks < 80:\n",
    "    print(\"Grade: A\")\n",
    "elif marks >= 60 and marks < 70:\n",
    "    print(\"Grade: B+\")\n",
    "elif marks >= 50 and marks < 60:\n",
    "    print(\"Grade: B\")\n",
    "elif marks >= 40 and marks < 50:\n",
    "    print(\"Grade: C\")\n",
    "else:\n",
    "    print(\"Grade: F\")"
   ]
  },
  {
   "cell_type": "markdown",
   "id": "bfdff3dd-3ad0-419d-bb18-cf71b4020aef",
   "metadata": {},
   "source": [
    "# Nested If-Else Statements"
   ]
  },
  {
   "cell_type": "markdown",
   "id": "bfc5c89b-70c2-47ac-80a3-ff89caeaa380",
   "metadata": {},
   "source": [
    "11. Write a program to find the largest among three numbers using nested if-else statements."
   ]
  },
  {
   "cell_type": "code",
   "execution_count": 6,
   "id": "ad11440f-ceb3-4adf-9c2d-73080c851145",
   "metadata": {},
   "outputs": [
    {
     "name": "stdin",
     "output_type": "stream",
     "text": [
      "Enter the first number:  7\n",
      "Enter the second number:  -1\n",
      "Enter the third number:  78\n"
     ]
    },
    {
     "name": "stdout",
     "output_type": "stream",
     "text": [
      "The largest number is:  78\n"
     ]
    }
   ],
   "source": [
    "# Step 1: Get two input numbers from user\n",
    "num1 = int(input(\"Enter the first number: \"))\n",
    "num2 = int(input(\"Enter the second number: \"))\n",
    "num3 = int(input(\"Enter the third number: \"))\n",
    "\n",
    "# Step 2: Declare a variable to store a largest number\n",
    "largest = 0\n",
    "\n",
    "if num1>num2:\n",
    "    if num1>num3:\n",
    "        largest=num1\n",
    "    else:\n",
    "        largest=num3\n",
    "else:\n",
    "    if num2>num3:\n",
    "        largest=num2\n",
    "    else:\n",
    "        largest=num3\n",
    "\n",
    "# Step 3: Print the largest of three numbers\n",
    "print(\"The largest number is: \", largest)"
   ]
  },
  {
   "cell_type": "markdown",
   "id": "114e3797-b726-4896-80d3-768416a18a80",
   "metadata": {},
   "source": [
    "12. Implement a program to determine if a triangle is equilateral, isosceles, or scalene."
   ]
  },
  {
   "cell_type": "code",
   "execution_count": 10,
   "id": "1b738290-9e19-4990-b50a-5c5385139e2f",
   "metadata": {},
   "outputs": [
    {
     "name": "stdin",
     "output_type": "stream",
     "text": [
      "Enter the first side:  23.5\n",
      "Enter the second side:  34\n",
      "Enter the third side:  23.5\n"
     ]
    },
    {
     "name": "stdout",
     "output_type": "stream",
     "text": [
      "The triangle is an isosceles triangle\n"
     ]
    }
   ],
   "source": [
    "# Step 1: Get Input sides of a triangle from user and store it in varaibles.\n",
    "side1 = float(input(\"Enter the first side: \"))\n",
    "side2 = float(input(\"Enter the second side: \"))\n",
    "side3 = float(input(\"Enter the third side: \"))\n",
    "\n",
    "# Step 2: Check if all sides are equal, then the triangle is equilateral.\n",
    "# If it is not an equilateral triangle then it may be isosceles.so Check if two sides are equal.\n",
    "# If it is neither equilateral nor isosceles then it scalene triangle i.e none of the side its sides are equal\n",
    "\n",
    "if side1 == side2 == side3:\n",
    "\tprint(\"The triangle is a Equilateral triangle\")\n",
    "elif side1==side2 or side2==side3 or side3==side1:\n",
    "\tprint(\"The triangle is an isosceles triangle\")\n",
    "else:\n",
    "\tprint(\"The triangle is a Scalene triangle\")"
   ]
  },
  {
   "cell_type": "markdown",
   "id": "b26a4390-34a9-4036-aa06-4634c69d24b8",
   "metadata": {},
   "source": [
    "13. Develop a program that checks if a year is a leap year and also if it is a century year."
   ]
  },
  {
   "cell_type": "code",
   "execution_count": 31,
   "id": "97335ee3-c2d9-45a1-8ba3-f7d05bde5bb1",
   "metadata": {},
   "outputs": [
    {
     "name": "stdin",
     "output_type": "stream",
     "text": [
      "Enter the year to be checked for leap year:  2024\n"
     ]
    },
    {
     "name": "stdout",
     "output_type": "stream",
     "text": [
      "Entered year 2024 is a leap year but not a century Year\n"
     ]
    }
   ],
   "source": [
    "# Step 1: Get input (year) from the user\n",
    "year = int(input(\"Enter the year to be checked for leap year: \"))\n",
    "\n",
    "# If year is divisible by 4 but not a century year or year is divisible by 400 then it is leap year\n",
    "if year%400==0:\n",
    "    if year%100!=0:\n",
    "            print(f\"Entered year {year} is a leap year but not a century Year\")\n",
    "    else:\n",
    "        print(f\"Entered year {year} is a leap year and also a century Year\")\n",
    "else:\n",
    "    if year%4==0:\n",
    "        if year%100!=0:\n",
    "            print(f\"Entered year {year} is a leap year but not a century Year\")\n",
    "    else:\n",
    "        print(f\"Entered year {year} is not a leap Year\")"
   ]
  },
  {
   "cell_type": "markdown",
   "id": "7f15a410-a8a3-49ef-b49d-201aec9ab28c",
   "metadata": {},
   "source": [
    "14. Write a Python script to determine if a number is positive, negative, or zero."
   ]
  },
  {
   "cell_type": "code",
   "execution_count": 39,
   "id": "c5dfd956-9142-49b5-9e2a-033eeb0a9680",
   "metadata": {},
   "outputs": [
    {
     "name": "stdin",
     "output_type": "stream",
     "text": [
      "Enter the number:  -8\n"
     ]
    },
    {
     "name": "stdout",
     "output_type": "stream",
     "text": [
      "The entered number -8 is Negative\n"
     ]
    }
   ],
   "source": [
    "# Step 1: Get input number from the user\n",
    "number = int(input(\"Enter the number: \"))\n",
    "\n",
    "# Step 2: Check if entered number is positive/ Negative/zero\n",
    "\n",
    "if number >= 0:\n",
    "    if number == 0:\n",
    "        print(f\"The entered number {number} is zero\")\n",
    "    else:\n",
    "        print(f\"The entered number {number} is Positive\")\n",
    "else:\n",
    "    print(f\"The entered number {number} is Negative\")"
   ]
  },
  {
   "cell_type": "markdown",
   "id": "7b6175d5-f61d-4a13-bc47-e445c416467a",
   "metadata": {},
   "source": [
    "15. Create a program to check if a person is a teenager (between 13 and 19 years old)."
   ]
  },
  {
   "cell_type": "code",
   "execution_count": 47,
   "id": "0fcc6088-0fe7-4582-9bb9-024531357aa8",
   "metadata": {},
   "outputs": [
    {
     "name": "stdin",
     "output_type": "stream",
     "text": [
      "Enter the age of the person:  18\n"
     ]
    },
    {
     "name": "stdout",
     "output_type": "stream",
     "text": [
      "The person is a teenager\n"
     ]
    }
   ],
   "source": [
    "# Step 1: Get input age from the user\n",
    "age = int(input(\"Enter the age of the person: \"))\n",
    "\n",
    "# Step 2: Check if entered age is posibetween 13 and 19\n",
    "\n",
    "if age >= 13:\n",
    "    if age <= 19:\n",
    "        print(\"The person is a teenager\")\n",
    "    else:\n",
    "        print(\"The person is an adult\")\n",
    "else:\n",
    "    print(\"The person is a child\")"
   ]
  },
  {
   "cell_type": "markdown",
   "id": "af6acc05-db61-435c-8610-130b44d1bc89",
   "metadata": {},
   "source": [
    "16. Develop a program that determines the type of angle based on its measure (acute, obtuse, or right)."
   ]
  },
  {
   "cell_type": "code",
   "execution_count": 6,
   "id": "767a03ee-2a0c-484f-9fee-3764167929d0",
   "metadata": {},
   "outputs": [
    {
     "name": "stdin",
     "output_type": "stream",
     "text": [
      "Enter the angle:  60\n"
     ]
    },
    {
     "name": "stdout",
     "output_type": "stream",
     "text": [
      "The entered angle is an acute angle\n"
     ]
    }
   ],
   "source": [
    "# Step 1: Get the input from the user\n",
    "angle = int(input(\"Enter the angle: \"))\n",
    "\n",
    "if angle < 180:\n",
    "    if angle == 90:\n",
    "        print(\"The entered angle is a right angle\")\n",
    "    elif angle == 0:\n",
    "        print(\"The entered angle is an Zero angle\")\n",
    "    elif angle > 90:\n",
    "        print(\"The entered angle is an obtuse angle\")\n",
    "    else:\n",
    "        print(\"The entered angle is an acute angle\")\n",
    "elif angle == 180:\n",
    "    print(\"The entered angle is straight angle\")\n",
    "else:\n",
    "    print(\"The entered angle is incorrect angle\")"
   ]
  },
  {
   "cell_type": "markdown",
   "id": "0719c2d0-9005-4bba-b92a-c4d515bf1674",
   "metadata": {},
   "source": [
    "17. Write a Python program to calculate the roots of a quadratic equation."
   ]
  },
  {
   "cell_type": "code",
   "execution_count": 10,
   "id": "406e55af-7774-4f59-97cf-c8cfa2dcabba",
   "metadata": {},
   "outputs": [
    {
     "name": "stdin",
     "output_type": "stream",
     "text": [
      "Enter the coefficient a:  4\n",
      "Enter the coefficient b:  4\n",
      "Enter the coefficient c:  1\n"
     ]
    },
    {
     "name": "stdout",
     "output_type": "stream",
     "text": [
      "Only one root: -0.5\n"
     ]
    }
   ],
   "source": [
    "#Equation - (-b ± (b ** 2 - 4 * a * c) ** 0.5) / (2 * a)\n",
    "\n",
    "# Get input coefficients from the user\n",
    "a = float(input(\"Enter the coefficient a: \"))\n",
    "b = float(input(\"Enter the coefficient b: \"))\n",
    "c = float(input(\"Enter the coefficient c: \"))\n",
    "\n",
    "# calculate the discriminant\n",
    "discriminant = b**2 - 4*a*c\n",
    "\n",
    "# Check the discriminant to determine the type of roots\n",
    "if discriminant > 0:\n",
    "    root1 = (-b+(d**0.5))/(2*a)\n",
    "    root2 = (-b-(d**0.5))/(2*a)\n",
    "    print(f\"Roots are real and distinct: {root1} and {root2}\")\n",
    "elif discriminant == 0:\n",
    "    root1 = -b / (2*a)\n",
    "    print(f\"Only one root: {root1}\")\n",
    "else:\n",
    "    print(f\"No root\")\n",
    "\n"
   ]
  },
  {
   "cell_type": "markdown",
   "id": "54813318-19b9-4117-8a4c-b987665c3472",
   "metadata": {},
   "source": [
    "18. Implement a program to determine the day of the week based on a user-provided number (1 for Monday, 2 \n",
    "for Tuesday, etc.)."
   ]
  },
  {
   "cell_type": "code",
   "execution_count": 13,
   "id": "a573f275-f2b3-4f4f-af20-1b7093492eea",
   "metadata": {},
   "outputs": [
    {
     "name": "stdin",
     "output_type": "stream",
     "text": [
      "Enter the day in number: 7\n"
     ]
    },
    {
     "name": "stdout",
     "output_type": "stream",
     "text": [
      "Entered day is Sunday\n"
     ]
    }
   ],
   "source": [
    "# Step 1: Get the input from the user\n",
    "day = int(input(\"Enter the day in number:\"))\n",
    "\n",
    "if day == 1:\n",
    "    print('Entered day is Monday')\n",
    "elif day == 2:\n",
    "    print('Entered day is Tuesday')\n",
    "elif day == 3:\n",
    "    print('Entered day is Wednesday')\n",
    "elif day == 4:\n",
    "    print('Entered day is Thursday')\n",
    "elif day == 5:\n",
    "    print('Entered day is Friday')\n",
    "elif day == 6:\n",
    "    print('Entered day is Saturday')\n",
    "elif day == 7:\n",
    "    print('Entered day is Sunday')\n",
    "elif day < 1 or day > 7:\n",
    "    print('Put a number between 1 and 7')"
   ]
  },
  {
   "cell_type": "markdown",
   "id": "df44962a-9164-4d9c-ba47-f7c71a58f33e",
   "metadata": {},
   "source": [
    "19. Create a program that determines if a year is a leap year and also if it is evenly divisible by 400."
   ]
  },
  {
   "cell_type": "code",
   "execution_count": 13,
   "id": "ee9b946f-4d4b-47c9-b4ca-da9cf38a0ba0",
   "metadata": {},
   "outputs": [
    {
     "name": "stdin",
     "output_type": "stream",
     "text": [
      "Enter the year to be checked for leap year:  700\n"
     ]
    },
    {
     "name": "stdout",
     "output_type": "stream",
     "text": [
      "Entered year 700 is not a leap Year\n"
     ]
    }
   ],
   "source": [
    "# Step 1: Get input (year) from the user\n",
    "year = int(input(\"Enter the year to be checked for leap year: \"))\n",
    "\n",
    "# If year is divisible by 4 and not a century year or year is divisible by 400 then it is leap year\n",
    "\n",
    "if year%4==0:\n",
    "    if year%100!=0:\n",
    "        print(f\"Entered year {year} is a leap year but not divisible by 100\")\n",
    "    elif year%400==0:\n",
    "        print(f\"Entered year {year} is a leap year and divisble by 400\")\n",
    "    else:\n",
    "        print(f\"Entered year {year} is not a leap Year\")\n",
    "elif year%400==0:\n",
    "    print(f\"Entered year {year} is a leap year and divisble by 400\")\n",
    "else:\n",
    "    print(f\"Entered year {year} is not a leap Year\")"
   ]
  },
  {
   "cell_type": "markdown",
   "id": "92f69527-b9c7-48da-aa02-30bee291812d",
   "metadata": {},
   "source": [
    "20. Develop a program that checks if a given number is prime or not using nested if-else statements."
   ]
  },
  {
   "cell_type": "code",
   "execution_count": 21,
   "id": "3289320b-cdd8-4644-ad96-ee579d7fcb0e",
   "metadata": {},
   "outputs": [
    {
     "name": "stdin",
     "output_type": "stream",
     "text": [
      "Enter a number:  4\n"
     ]
    },
    {
     "name": "stdout",
     "output_type": "stream",
     "text": [
      "Entered number 4 is not a prime number\n"
     ]
    }
   ],
   "source": [
    "# Step 1: Get input number from the user\n",
    "\n",
    "number = int(input(\"Enter a number: \"))\n",
    "isprime = True\n",
    "\n",
    "if number == 1:\n",
    "    print(f\"Entered number {number} is not a prime number\")\n",
    "elif number > 1:\n",
    "    # If number is divisible by any other number then is is not a prime, so check for factors\n",
    "    for i in range(2, number):\n",
    "        if (number % i) == 0:\n",
    "            # number is divisilbe by i so it is not a prime number\n",
    "            isprime = False\n",
    "            break\n",
    "            \n",
    "if isprime:\n",
    "    print(f\"Entered number {number} is a prime number\")\n",
    "else:\n",
    "    print(f\"Entered number {number} is not a prime number\")"
   ]
  },
  {
   "cell_type": "markdown",
   "id": "a9432d80-d675-42b9-a577-d73cf42de271",
   "metadata": {},
   "source": [
    "# elif Statements:"
   ]
  },
  {
   "cell_type": "markdown",
   "id": "19ae575c-23bb-4af6-a388-dfac2acec5f0",
   "metadata": {},
   "source": [
    "21. Write a Python program to assign grades based on different ranges of scores using elif statements."
   ]
  },
  {
   "cell_type": "code",
   "execution_count": 1,
   "id": "831dac82-4cdc-478a-be59-33fe9d9bbe0f",
   "metadata": {},
   "outputs": [
    {
     "name": "stdin",
     "output_type": "stream",
     "text": [
      "Enter student's marks:  67.5\n"
     ]
    },
    {
     "name": "stdout",
     "output_type": "stream",
     "text": [
      "Grade: B+\n"
     ]
    }
   ],
   "source": [
    "# Step 1: Get the input marks from the user\n",
    "marks = float(input(\"Enter student's marks: \"))\n",
    "\n",
    "# Check marks and print respective gardes according to score\n",
    "if marks >= 80:\n",
    "    print(\"Grade: A+\")\n",
    "elif marks >= 70 and marks < 80:\n",
    "    print(\"Grade: A\")\n",
    "elif marks >= 60 and marks < 70:\n",
    "    print(\"Grade: B+\")\n",
    "elif marks >= 50 and marks < 60:\n",
    "    print(\"Grade: B\")\n",
    "elif marks >= 40 and marks < 50:\n",
    "    print(\"Grade: C\")\n",
    "else:\n",
    "    print(\"Grade: F\")"
   ]
  },
  {
   "cell_type": "markdown",
   "id": "7e3987b8-fb8b-4c22-889e-15e4489862d4",
   "metadata": {},
   "source": [
    "22. Implement a program to determine the type of a triangle based on its angles."
   ]
  },
  {
   "cell_type": "code",
   "execution_count": 8,
   "id": "de5b919a-ed78-4a96-a95f-fc3ec95ce1d0",
   "metadata": {},
   "outputs": [
    {
     "name": "stdin",
     "output_type": "stream",
     "text": [
      "Enter the first angle:  100\n",
      "Enter the second angle:  40\n",
      "Enter the third angle:  40\n"
     ]
    },
    {
     "name": "stdout",
     "output_type": "stream",
     "text": [
      "The triangle is Obtuse angled Triangle\n"
     ]
    }
   ],
   "source": [
    "# Step 1: Get the input from the user (three angles)\n",
    "angle1 = int(input(\"Enter the first angle: \"))\n",
    "angle2 = int(input(\"Enter the second angle: \"))\n",
    "angle3 = int(input(\"Enter the third angle: \"))\n",
    "\n",
    "# Step 2: Calculate sum of all angles\n",
    "angle_sum = angle1 + angle2 + angle3\n",
    "\n",
    "# Step 3: check if angle sum and angles are valid or not\n",
    "if angle_sum == 180 and angle1 > 0 and angle2 > 0 and angle3 > 0:\n",
    "    # If all angles are less than 90 then it is ACute angled triangle\n",
    "    if angle1 < 90 and angle2 < 90 and angle3 < 90:\n",
    "        print(\"The triangle is Acute angled Triangle\")\n",
    "    # If any one angle is of 90 degree then it is ACute angled triangle\n",
    "    elif angle1 == 90 or angle2 == 90 or angle3 == 90:\n",
    "        print(\"The triangle is Right angled Triangle\")\n",
    "    # else triangle is obtuse\n",
    "    else:\n",
    "        print(\"The triangle is Obtuse angled Triangle\")\n",
    "else:\n",
    "    print(\"The triangle not possible\")"
   ]
  },
  {
   "cell_type": "markdown",
   "id": "55eadda1-4bf8-4b0e-b2f1-b0add8b70f68",
   "metadata": {},
   "source": [
    "23. Develop a program to categorize a given person's BMI into underweight, normal, overweight, or obese using \n",
    "elif statements."
   ]
  },
  {
   "cell_type": "code",
   "execution_count": 12,
   "id": "80e621c5-c3df-41e4-8079-3ca53eb37fd4",
   "metadata": {},
   "outputs": [
    {
     "name": "stdin",
     "output_type": "stream",
     "text": [
      "Enter the weight in kg: 50\n",
      "Enter the height in meter: 1.615\n"
     ]
    },
    {
     "name": "stdout",
     "output_type": "stream",
     "text": [
      "The person is Normal\n"
     ]
    }
   ],
   "source": [
    "#Step1 : get input weight and height from the user\n",
    "weight=float(input(\"Enter the weight in kg:\"))\n",
    "height=float(input(\"Enter the height in meter:\"))\n",
    "\n",
    "bmi= weight/(height)**2\n",
    "\n",
    "if bmi<18.5:\n",
    "    print(\"The person is Underweight\")\n",
    "elif bmi>=18.5 and bmi<25:\n",
    "    print(\"The person is Normal\")\n",
    "elif bmi>=25 and bmi<30:\n",
    "    print(\"The person is Overweight\")\n",
    "else:\n",
    "    print(\"Obesity\")"
   ]
  },
  {
   "cell_type": "markdown",
   "id": "d83b911e-d2e4-41de-980b-310d81b033d8",
   "metadata": {},
   "source": [
    "24. Create a program that determines whether a given number is positive, negative, or zero using elif \n",
    "statements."
   ]
  },
  {
   "cell_type": "code",
   "execution_count": 16,
   "id": "3fc9d19a-7192-4d4a-8ea0-754df5d54c4e",
   "metadata": {},
   "outputs": [
    {
     "name": "stdin",
     "output_type": "stream",
     "text": [
      "Enter the number:  -4\n"
     ]
    },
    {
     "name": "stdout",
     "output_type": "stream",
     "text": [
      "The entered number -4 is Negative\n"
     ]
    }
   ],
   "source": [
    "# Step 1: Get input number from the user\n",
    "number = int(input(\"Enter the number: \"))\n",
    "\n",
    "# Step 2: Check if entered number is positive/ Negative/zero\n",
    "\n",
    "if number < 0:\n",
    "    print(f\"The entered number {number} is Negative\")\n",
    "elif number == 0:\n",
    "    print(f\"The entered number {number} is zero\")\n",
    "else:\n",
    "        print(f\"The entered number {number} is Positive\")"
   ]
  },
  {
   "cell_type": "markdown",
   "id": "82d60115-a349-4bf0-bf12-e501dd376f78",
   "metadata": {},
   "source": [
    "25. Write a Python script to determine the type of a character (uppercase, lowercase, or special) using elif \n",
    "statements."
   ]
  },
  {
   "cell_type": "code",
   "execution_count": 7,
   "id": "e2dc5c53-c03c-47cd-977c-b58d83e1eb30",
   "metadata": {},
   "outputs": [
    {
     "name": "stdin",
     "output_type": "stream",
     "text": [
      "Enter the character:  @\n"
     ]
    },
    {
     "name": "stdout",
     "output_type": "stream",
     "text": [
      "The entered character @ is special character\n"
     ]
    }
   ],
   "source": [
    "# Step 1: Get input character from the user\n",
    "character = input(\"Enter the character: \")\n",
    "\n",
    "# Step 2: Check if entered character is upeer, lower or special using string functions\n",
    "\n",
    "if character.isupper():\n",
    "    print(f\"The entered character {character} is uppercase\")\n",
    "elif character.islower():\n",
    "    print(f\"The entered character {character} is lowercase\")\n",
    "elif character.isdigit():\n",
    "    print(f\"The entered character {character} is digit\")\n",
    "else:\n",
    "        print(f\"The entered character {character} is special character\")"
   ]
  },
  {
   "cell_type": "markdown",
   "id": "68e40772-5991-4938-ac36-21890976b431",
   "metadata": {},
   "source": [
    "26. Implement a program to calculate the discounted price based on different purchase amounts using elif \n",
    "statements."
   ]
  },
  {
   "cell_type": "code",
   "execution_count": 2,
   "id": "8481b62b-78aa-4890-b259-bacc52e91422",
   "metadata": {},
   "outputs": [
    {
     "name": "stdin",
     "output_type": "stream",
     "text": [
      "Enter purchase Amount:  7689\n"
     ]
    },
    {
     "name": "stdout",
     "output_type": "stream",
     "text": [
      "Discount on purchased amount is :  538.23\n",
      "Total Payable Amount  :  7150.77\n"
     ]
    }
   ],
   "source": [
    "# Get purchase amount input from the user\n",
    "amount = int(input(\"Enter purchase Amount: \"))\n",
    "discount = 0\n",
    "\n",
    "# calculate discount according to sale amount\n",
    "'''\n",
    "0-3999         5%\n",
    "4000-7999      7%\n",
    "8000-11999     10%\n",
    "12000-15999    15%\n",
    "above 15999    18%\n",
    "'''\n",
    "if(amount>0):\n",
    "    if amount<=3999:\n",
    "        discount = amount*0.05\n",
    "    elif amount<=7999:\n",
    "        discount=amount*0.07\n",
    "    elif amount<=11999:\n",
    "        discount=0.10 * amount\n",
    "    elif amount<=15999:\n",
    "        discount=0.15 * amount\n",
    "    else:\n",
    "         discount=0.18 * amount\n",
    "\n",
    "    print(\"Discount on purchased amount is : \",discount)\n",
    "    print(\"Total Payable Amount  : \",amount-discount)\n",
    "else:\n",
    "    print(\"Please enter valid Amount\")"
   ]
  },
  {
   "cell_type": "markdown",
   "id": "ae070b18-077d-46c4-83e7-af9215cac53c",
   "metadata": {},
   "source": [
    "27. Develop a program to calculate the electricity bill based on different consumption slabs using elif \n",
    "statements."
   ]
  },
  {
   "cell_type": "code",
   "execution_count": 4,
   "id": "77934692-d4c9-4dd2-8569-4f73d6674b15",
   "metadata": {},
   "outputs": [
    {
     "name": "stdin",
     "output_type": "stream",
     "text": [
      "Enter the consumption units:  86\n"
     ]
    },
    {
     "name": "stdout",
     "output_type": "stream",
     "text": [
      "Electicity bill pay=  505.26\n"
     ]
    }
   ],
   "source": [
    "# Get the consumption units from the user\n",
    "units = float(input(\"Enter the consumption units: \"))\n",
    "\n",
    "# Calculate the electricity bill\n",
    "\n",
    "'''\n",
    "(Considering MSEDCL)\n",
    "1 - 100 unit - 4.41/- \n",
    "101-300 unit - 9.64/- \n",
    "301-500 unit - 13.61/- \n",
    "above 500 - 15.57/-\n",
    "'''\n",
    "fix_charge = 126\n",
    "billCost = 0\n",
    "\n",
    "if units>0 and units<=100:\n",
    "    billCost=units*4.41\n",
    "elif units>100 and units<=300:\n",
    "    billCost=(100*4.41)+(units-100)*9.64\n",
    "elif units>300 and units<=500:\n",
    "    billCost=(100*4.41)+(300-100)*9.64+(units-300)*13.61\n",
    "elif units>500:\n",
    "    billCost=(100*4.41)+(300-100)*9.64+(500-300)*13.61+(units-500)*15.57\n",
    "else:\n",
    "    billCost=0;\n",
    "    \n",
    "TotalBill= billCost+fix_charge\n",
    "print(\"Electicity bill pay= \", TotalBill)"
   ]
  },
  {
   "cell_type": "markdown",
   "id": "6f9f88c8-7c85-4ecd-a8f9-973b2244dc42",
   "metadata": {},
   "source": [
    "28. Create a program to determine the type of quadrilateral based on its angles and sides using elif \n",
    "statements."
   ]
  },
  {
   "cell_type": "code",
   "execution_count": 17,
   "id": "d03da674-61b0-42d9-b2e4-d0ea122b2fd1",
   "metadata": {},
   "outputs": [
    {
     "name": "stdin",
     "output_type": "stream",
     "text": [
      "Enter first side:  34\n",
      "Enter second side:  34\n",
      "Enter third side:  34\n",
      "Enter fourth side:  34\n",
      "Enter first angle in degrees:  120\n",
      "Enter second angle in degrees:  60\n",
      "Enter third angle in degrees:  120\n",
      "Enter fourth angle in degrees:  60\n"
     ]
    },
    {
     "name": "stdout",
     "output_type": "stream",
     "text": [
      "It's a Rhombus\n"
     ]
    }
   ],
   "source": [
    "# get Input sides and angles from the user\n",
    "side1 = float(input(\"Enter first side: \"))\n",
    "side2 = float(input(\"Enter second side: \"))\n",
    "side3 = float(input(\"Enter third side: \"))\n",
    "side4 = float(input(\"Enter fourth side: \"))\n",
    "angle1 = float(input(\"Enter first angle in degrees: \"))\n",
    "angle2 = float(input(\"Enter second angle in degrees: \"))\n",
    "angle3 = float(input(\"Enter third angle in degrees: \"))\n",
    "angle4 = float(input(\"Enter fourth angle in degrees: \"))\n",
    "\n",
    "\n",
    "# Check if the sum of angles is 360 degrees\n",
    "if angle1 + angle2 + angle3 + angle4 == 360:\n",
    "    # Check if all sides are equal\n",
    "    if angle1 == angle2 == angle3 == angle4 == 90:\n",
    "        # Check if all angles are right angles (90 degrees)\n",
    "        if side1 == side2 == side3 == side4:\n",
    "            print(\"It's a Square\")\n",
    "        # Check if opposite angles are equal (parallelogram)\n",
    "        elif side1 == side3 and side2 == side4:\n",
    "            print(\"It's a Rectangle\")\n",
    "    elif side1 == side3 and side2== side4:\n",
    "            # Check if it's a rhombus (all sides are equal)\n",
    "            if side1 == side2:\n",
    "                print(\"It's a Rhombus\")\n",
    "            else:\n",
    "                print(\"It's a Parallelogram\")\n",
    "    elif (side1 == side2 and side3 == side4) or (side1 == side3 and side2 == side4):\n",
    "            print(\"It's a Kite\")\n",
    "    else:\n",
    "        print(\"It's a Quadrilateral\")\n",
    "else:\n",
    "    print(\"It's not a Quadrilateral\")"
   ]
  },
  {
   "cell_type": "markdown",
   "id": "a538adf4-05d7-427b-8522-314d4e0e53dc",
   "metadata": {},
   "source": [
    "29. Write a Python script to determine the season based on a user-provided month using elif statements."
   ]
  },
  {
   "cell_type": "code",
   "execution_count": 1,
   "id": "daaa3602-9311-4719-a5f4-fb0dcdf1eb19",
   "metadata": {},
   "outputs": [
    {
     "name": "stdin",
     "output_type": "stream",
     "text": [
      "Enter a month :  may\n"
     ]
    },
    {
     "name": "stdout",
     "output_type": "stream",
     "text": [
      "The season for May is Spring.\n"
     ]
    }
   ],
   "source": [
    "# Step 1:Get the month from the user\n",
    "month = input(\"Enter a month : \").capitalize()\n",
    "\n",
    "# Check input month lies in which season\n",
    "if month in [\"December\", \"January\", \"February\"]:\n",
    "    season = \"Winter\"\n",
    "elif month in [\"March\", \"April\", \"May\"]:\n",
    "    season = \"Spring\"\n",
    "elif month in [\"June\", \"July\", \"August\"]:\n",
    "    season = \"Summer\"\n",
    "elif month in [\"September\", \"October\", \"November\"]:\n",
    "    season = \"Autumn (Fall)\"\n",
    "else:\n",
    "    season = \"Invalid month\"\n",
    "\n",
    "# SHow the result\n",
    "if season != \"Invalid month\":\n",
    "    print(f\"The season for {month} is {season}.\")\n",
    "else:\n",
    "    print(\"Please enter a valid month.\")"
   ]
  },
  {
   "cell_type": "markdown",
   "id": "cb53a25c-1f97-4a86-9dee-788f6dd7c6c6",
   "metadata": {},
   "source": [
    "30. Implement a program to determine the type of a year (leap or common) and month (30 or 31 days) using \n",
    "elif statements."
   ]
  },
  {
   "cell_type": "code",
   "execution_count": 2,
   "id": "d5f786ee-7095-4efb-8ca3-64b20cf94312",
   "metadata": {},
   "outputs": [
    {
     "name": "stdin",
     "output_type": "stream",
     "text": [
      "Enter a year:  2000\n",
      "Enter a month:  2\n"
     ]
    },
    {
     "name": "stdout",
     "output_type": "stream",
     "text": [
      "2000 is a leap year.\n",
      "The month has 29 days.\n"
     ]
    }
   ],
   "source": [
    "# Step 1: Get the year input from the user\n",
    "year = int(input(\"Enter a year: \"))\n",
    "\n",
    "# Step 2: Check if it is a leap year or a common year\n",
    "if (year % 4 == 0 and year % 100 != 0) or (year % 400 == 0):\n",
    "    year_type = \"Leap\"\n",
    "else:\n",
    "    year_type = \"Common\"\n",
    "\n",
    "# Step 3: Get the month input from the user\n",
    "month = int(input(\"Enter a month: \"))\n",
    "\n",
    "# Step 4: Determine the number of days in the month\n",
    "if month < 1 or month > 12:\n",
    "    days_in_month = \"Invalid month\"\n",
    "elif month in [1, 3, 5, 7, 8, 10, 12]:\n",
    "    days_in_month = 31\n",
    "elif month in [4, 6, 9, 11]:\n",
    "    days_in_month = 30\n",
    "else:\n",
    "    if year_type == \"Leap\":\n",
    "        days_in_month = 29\n",
    "    else:\n",
    "        days_in_month = 28\n",
    "\n",
    "# Step 5: Show the results\n",
    "if year_type == \"Leap\":\n",
    "    print(f\"{year} is a leap year.\")\n",
    "else:\n",
    "    print(f\"{year} is a common year.\")\n",
    "\n",
    "if days_in_month != \"Invalid month\":\n",
    "    print(f\"The month has {days_in_month} days.\")\n",
    "else:\n",
    "    print(\"Please enter valid month.\")\n"
   ]
  },
  {
   "cell_type": "markdown",
   "id": "5656ce36-db82-4aed-ae65-b3bbbf5c85a7",
   "metadata": {},
   "source": [
    "## Intermediate level (Excluding repeat questions)"
   ]
  },
  {
   "cell_type": "markdown",
   "id": "08599211-a509-4ed0-b532-37654f6aeac1",
   "metadata": {},
   "source": [
    "13. Develop a program that calculates the factorial of a given number using recursion."
   ]
  },
  {
   "cell_type": "code",
   "execution_count": 12,
   "id": "b57104f9-788e-4cda-8789-b468592523f6",
   "metadata": {},
   "outputs": [
    {
     "name": "stdin",
     "output_type": "stream",
     "text": [
      "Enter a non-negative numer:  9\n"
     ]
    },
    {
     "name": "stdout",
     "output_type": "stream",
     "text": [
      "The factorial of 9 is 362880\n"
     ]
    }
   ],
   "source": [
    "# Step 1: Define factorial function to calculate factorial using recursion i.e function will call itself.\n",
    "\n",
    "def factorial(number):\n",
    "    if number == 0:\n",
    "        return 1\n",
    "    else:\n",
    "        return number * factorial(number - 1)\n",
    "\n",
    "# Get the input from the user\n",
    "num = int(input(\"Enter a non-negative numer: \"))\n",
    "if num < 0:\n",
    "    print(\"Please enter non negative number.\")\n",
    "else:\n",
    "    result = factorial(num)\n",
    "    print(f\"The factorial of {num} is {result}\")"
   ]
  },
  {
   "cell_type": "markdown",
   "id": "72445659-8941-409a-928e-53c7a520ce7e",
   "metadata": {},
   "source": [
    "15. Create a program that simulates a basic ATM transaction menu."
   ]
  },
  {
   "cell_type": "code",
   "execution_count": 2,
   "id": "df9809a4-5610-4e30-be77-02222d6f5196",
   "metadata": {},
   "outputs": [
    {
     "name": "stdout",
     "output_type": "stream",
     "text": [
      "\n",
      "ATM Menu:\n",
      "1. Check Balance\n",
      "2. Withdrawal\n",
      "3. Deposit\n",
      "4. Exit\n"
     ]
    },
    {
     "name": "stdin",
     "output_type": "stream",
     "text": [
      "Enter your choice from the Menu:  3\n",
      "Please enter your 4-digit PIN  3421\n"
     ]
    },
    {
     "name": "stdout",
     "output_type": "stream",
     "text": [
      "Entered password is incorrect\n",
      "\n",
      "ATM Menu:\n",
      "1. Check Balance\n",
      "2. Withdrawal\n",
      "3. Deposit\n",
      "4. Exit\n"
     ]
    },
    {
     "name": "stdin",
     "output_type": "stream",
     "text": [
      "Enter your choice from the Menu:  3\n",
      "Please enter your 4-digit PIN  1234\n"
     ]
    },
    {
     "name": "stdout",
     "output_type": "stream",
     "text": [
      "Login Successful\n"
     ]
    },
    {
     "name": "stdin",
     "output_type": "stream",
     "text": [
      "Enter the amount you wish to Deposit  4567\n"
     ]
    },
    {
     "name": "stdout",
     "output_type": "stream",
     "text": [
      "Depositing Rs. 4567.0\n"
     ]
    },
    {
     "name": "stdin",
     "output_type": "stream",
     "text": [
      "Confirm? Y/N >  y\n"
     ]
    },
    {
     "name": "stdout",
     "output_type": "stream",
     "text": [
      "Amount Deposited - Rs. 4567.0\n",
      "Toal balance - Rs. 15547.0\n"
     ]
    }
   ],
   "source": [
    "# Step 1: Define default balance and password\n",
    "balance = 10980\n",
    "user_pass = 1234\n",
    "\n",
    "# Create ATM Menu options for the user\n",
    "while True:\n",
    "    print(\"\\nATM Menu:\")\n",
    "    print(\"1. Check Balance\")\n",
    "    print(\"2. Withdrawal\")\n",
    "    print(\"3. Deposit\")\n",
    "    print(\"4. Exit\")\n",
    "\n",
    "    choice = int(input(\"Enter your choice from the Menu: \"))\n",
    "    input_pass = int(input(\"Please enter your 4-digit PIN \"))\n",
    "        \n",
    "    if input_pass == user_pass:\n",
    "        print(\"Login Successful\")\n",
    "        if choice == 1:\n",
    "            print(\"Your current balance is Rs.\", balance)\n",
    "            break\n",
    "        elif choice == 2:\n",
    "            withdraw_amt = float(input(\"Enter the amount you wish to withdraw \"))\n",
    "            if withdraw_amt > balance:\n",
    "                print(\"Insufficient account balance. Please enter a lower amount!\")\n",
    "            else:\n",
    "                print(\"Withdrawing Rs.\", withdraw_amt)\n",
    "                confrm_msg = input(\"Confirm? Y/N > \")\n",
    "                if confrm_msg in ('Y', 'y'):\n",
    "                    balance-=withdraw_amt\n",
    "                    print(\"Amount withdrawn - Rs.\", withdraw_amt)\n",
    "                    print(\"Remaining balance - Rs.\", balance)\n",
    "                    break\n",
    "                else:\n",
    "                    print(\"Withdrawl cancelled\")\n",
    "        elif choice == 3:\n",
    "            deposit_amt = float(input(\"Enter the amount you wish to Deposit \"))\n",
    "            print(\"Depositing Rs.\", deposit_amt)\n",
    "            confrm_msg = input(\"Confirm? Y/N > \")\n",
    "            if confrm_msg in ('Y', 'y'):\n",
    "                balance+=deposit_amt\n",
    "                print(\"Amount Deposited - Rs.\", deposit_amt)\n",
    "                print(\"Toal balance - Rs.\", balance)\n",
    "                break\n",
    "            else:\n",
    "                print(\"Deposit cancelled\")\n",
    "        elif choice == 4:\n",
    "            print(\"Thank you..!\")\n",
    "            break\n",
    "        else:\n",
    "            print(\"Invalid choice. Please enter 1, 2, 3, or 4.\")\n",
    "    else:\n",
    "        print(\"Entered password is incorrect\")        \n"
   ]
  },
  {
   "cell_type": "markdown",
   "id": "93c44721-417f-46ea-a8b3-64bf008b4dae",
   "metadata": {},
   "source": [
    "17. Write a program that calculates the average of a list of numbers, excluding the smallest and largest values."
   ]
  },
  {
   "cell_type": "code",
   "execution_count": 10,
   "id": "acbf7843-5602-41f4-9d5b-d919a3b8933c",
   "metadata": {},
   "outputs": [
    {
     "name": "stdin",
     "output_type": "stream",
     "text": [
      "Enter a list of numbers separated by spaces:  23.5 67 34 29.7 56\n"
     ]
    },
    {
     "name": "stdout",
     "output_type": "stream",
     "text": [
      "The average (excluding the smallest and largest) is: 39.9\n"
     ]
    }
   ],
   "source": [
    "# Step 1: Define function to calculate average\n",
    "\n",
    "def calculateAverage(numlist):\n",
    "    # Remove the smallest and largest values from the list\n",
    "    numlist.remove(min(numlist))\n",
    "    numlist.remove(max(numlist))\n",
    "\n",
    "    # Calculate the average of the remaining numbers\n",
    "    total = sum(numlist)\n",
    "    num_count = len(numlist)\n",
    "    return total / num_count\n",
    "\n",
    "# Step 2: Get input numbers' list from the user\n",
    "\n",
    "input_num = input(\"Enter a list of numbers separated by spaces: \").split()\n",
    "numbers = [float(x) for x in input_num] \n",
    "\n",
    "avg = calculateAverage(numbers)\n",
    "\n",
    "print(\"The average (excluding the smallest and largest) is:\", avg)\n",
    "\n"
   ]
  },
  {
   "cell_type": "markdown",
   "id": "267932d2-a27c-4c90-9f76-f26f374e6237",
   "metadata": {},
   "source": [
    "19. Create a program that simulates a basic calculator for addition, subtraction, multiplication, and division."
   ]
  },
  {
   "cell_type": "code",
   "execution_count": 13,
   "id": "16a5152c-ce58-44b5-bc64-90c25662b86b",
   "metadata": {},
   "outputs": [
    {
     "name": "stdout",
     "output_type": "stream",
     "text": [
      "Enter '+' for addition\n",
      "Enter '-' for subtraction\n",
      "Enter '*' for multiplication\n",
      "Enter '/' for division\n",
      "Enter 'stop' to end the program\n"
     ]
    },
    {
     "name": "stdin",
     "output_type": "stream",
     "text": [
      "Provide calculator operation option *\n",
      "Enter first number:  34\n",
      "Enter second number:  5.7\n"
     ]
    },
    {
     "name": "stdout",
     "output_type": "stream",
     "text": [
      "Result: 193.8\n",
      "Enter '+' for addition\n",
      "Enter '-' for subtraction\n",
      "Enter '*' for multiplication\n",
      "Enter '/' for division\n",
      "Enter 'stop' to end the program\n"
     ]
    },
    {
     "name": "stdin",
     "output_type": "stream",
     "text": [
      "Provide calculator operation option /\n",
      "Enter first number:  34\n",
      "Enter second number:  0\n"
     ]
    },
    {
     "name": "stdout",
     "output_type": "stream",
     "text": [
      "Result: Division by zero is not allowed.\n",
      "Enter '+' for addition\n",
      "Enter '-' for subtraction\n",
      "Enter '*' for multiplication\n",
      "Enter '/' for division\n",
      "Enter 'stop' to end the program\n"
     ]
    },
    {
     "name": "stdin",
     "output_type": "stream",
     "text": [
      "Provide calculator operation option stop\n"
     ]
    },
    {
     "name": "stdout",
     "output_type": "stream",
     "text": [
      "Exit\n"
     ]
    }
   ],
   "source": [
    "# Step1: Define Function to perform addition\n",
    "def add(x, y):\n",
    "    return x + y\n",
    "\n",
    "# Step2: Define Function to perform subtraction\n",
    "def subtract(x, y):\n",
    "    return x - y\n",
    "\n",
    "# Step3: Define Function to perform multiplication\n",
    "def multiply(x, y):\n",
    "    return x * y\n",
    "\n",
    "# Step4: Define Function to perform division\n",
    "def divide(x, y):\n",
    "    if y == 0:\n",
    "        return \"Division by zero is not allowed.\"\n",
    "    return x / y\n",
    "\n",
    "# Step 5: Define calculator options\n",
    "while True:\n",
    "    print(*\n",
    "    print(\"Enter '+' for addition\")\n",
    "    print(\"Enter '-' for subtraction\")\n",
    "    print(\"Enter '*' for multiplication\")\n",
    "    print(\"Enter '/' for division\")\n",
    "    print(\"Enter 'stop' to end the program\")\n",
    "\n",
    "    # Step 6: Get input from the user\n",
    "    user_input = input(\"Provide calculator operation option\")\n",
    "\n",
    "    if user_input == \"stop\":\n",
    "        print(\"Exit\")\n",
    "        break\n",
    "    elif user_input in [\"+\", \"-\", \"*\", \"/\"]:\n",
    "        num1 = float(input(\"Enter first number: \"))\n",
    "        num2 = float(input(\"Enter second number: \"))\n",
    "\n",
    "        if user_input == \"+\":\n",
    "            print(\"Result:\", add(num1, num2))\n",
    "        elif user_input == \"-\":\n",
    "            print(\"Result:\", subtract(num1, num2))\n",
    "        elif user_input == \"*\":\n",
    "            print(\"Result:\", multiply(num1, num2))\n",
    "        elif user_input == \"/\":\n",
    "             print(\"Result:\", divide(num1, num2))\n",
    "    else:\n",
    "        print(\"Invalid input. Please enter a valid operation.\")\n"
   ]
  },
  {
   "cell_type": "markdown",
   "id": "2e8c52f6-43bc-4333-87e9-567815b29f50",
   "metadata": {},
   "source": [
    "20. Write a program that determines the roots of a cubic equation using the Cardano formula."
   ]
  },
  {
   "cell_type": "code",
   "execution_count": null,
   "id": "7b7d3c3c-0ecd-48d4-a33e-dbefc19eea5a",
   "metadata": {},
   "outputs": [],
   "source": []
  },
  {
   "cell_type": "markdown",
   "id": "6c0333c5-fbb7-4cfe-9001-0fe93c644b30",
   "metadata": {},
   "source": [
    "## Advance Level (Excluding repetitive)"
   ]
  },
  {
   "cell_type": "markdown",
   "id": "ecad8075-c4df-4fed-94ea-c7f7bd169a7a",
   "metadata": {},
   "source": [
    "21. Create a program that calculates the income tax based on the user's income and tax brackets."
   ]
  },
  {
   "cell_type": "code",
   "execution_count": 9,
   "id": "69708855-c784-4aeb-8636-d9f01b359474",
   "metadata": {},
   "outputs": [
    {
     "name": "stdin",
     "output_type": "stream",
     "text": [
      "Enter your income Rs.: 678900\n"
     ]
    },
    {
     "name": "stdout",
     "output_type": "stream",
     "text": [
      "Your income tax is Rs.56835.0\n"
     ]
    }
   ],
   "source": [
    "# Define the tax brackets and rates as a dictionary\n",
    "tax_slabs = {\n",
    "    300000: 0.05,     # Income from 3,00,001 to 6,00,000 (5% tax)\n",
    "    600000: 0.10,     # Income from 6,00,001 to 9,00,000 (10% tax)\n",
    "    900000: 0.15,     # Income from 9,00,001 to 12,00,000 (15% tax)\n",
    "    1200000: 0.20,    # Income from 12,00,001 to 15,00,000 (15% tax)\n",
    "    1500000: 0.30     # Income above 15,00,000 (30% tax)\n",
    "}\n",
    "\n",
    "# Function to calculate income tax\n",
    "def calculate_incomeTax(income):\n",
    "    tax = 0\n",
    "    prev_slab = 0\n",
    "\n",
    "    for slab, rate in sorted(tax_slabs.items()):\n",
    "        if income <= slab:\n",
    "            tax += (income - prev_slab) * rate\n",
    "            break\n",
    "        else:\n",
    "            tax += (slab - prev_slab) * rate\n",
    "            prev_slab = slab\n",
    "\n",
    "    return tax\n",
    "\n",
    "# Get user input for income\n",
    "\n",
    "income = float(input(\"Enter your income Rs.:\"))\n",
    "if income < 0:\n",
    "    print(\"Please enter positive income.\")\n",
    "else:\n",
    "    tax = calculate_incomeTax(income)\n",
    "    print(f\"Your income tax is Rs.{tax}\")\n"
   ]
  },
  {
   "cell_type": "markdown",
   "id": "0d9bc727-540c-428a-a458-93d03bab708a",
   "metadata": {},
   "source": [
    "22. Write a program that simulates a rock-paper-scissors game against the computer."
   ]
  },
  {
   "cell_type": "code",
   "execution_count": 3,
   "id": "239bc3c6-fe7e-43ac-9c34-24c1ad8fb638",
   "metadata": {},
   "outputs": [
    {
     "name": "stdin",
     "output_type": "stream",
     "text": [
      "Enter your choice (rock, paper, or scissors):  scissors\n"
     ]
    },
    {
     "name": "stdout",
     "output_type": "stream",
     "text": [
      "You chose scissors.\n",
      "The computer chose rock.\n",
      "Sorry, You lost :(\n"
     ]
    },
    {
     "name": "stdin",
     "output_type": "stream",
     "text": [
      "Play again? (yes/no):  yes\n",
      "Enter your choice (rock, paper, or scissors):  rock\n"
     ]
    },
    {
     "name": "stdout",
     "output_type": "stream",
     "text": [
      "You chose rock.\n",
      "The computer chose scissors.\n",
      "Congratulations..You won!\n"
     ]
    },
    {
     "name": "stdin",
     "output_type": "stream",
     "text": [
      "Play again? (yes/no):  no\n"
     ]
    }
   ],
   "source": [
    "import random\n",
    "\n",
    "# Step1: Define a Function to get the computer's choice\n",
    "def get_computer_choice():\n",
    "    return random.choice([\"rock\", \"paper\", \"scissors\"])\n",
    "\n",
    "# Ste 2: Define a Function to check both choices and find out the winner\n",
    "def getWinner(user_choice, computer_choice):\n",
    "    if user_choice == computer_choice:\n",
    "        return \"It's a tie!\"\n",
    "    elif (\n",
    "        (user_choice == \"rock\" and computer_choice == \"scissors\") or\n",
    "        (user_choice == \"rock\" and computer_choice == \"paper\") or\n",
    "        (user_choice == \"scissors\" and computer_choice == \"paper\")\n",
    "    ):\n",
    "        return \"Congratulations..You won!\"\n",
    "    else:\n",
    "        return \"Sorry, You lost :(\"\n",
    "\n",
    "while True:\n",
    "        user_choice = input(\"Enter your choice (rock, paper, or scissors): \").lower()\n",
    "        if user_choice not in [\"rock\", \"paper\", \"scissors\"]:\n",
    "            print(\"Invalid choice. Please enter rock, paper, or scissors.\")\n",
    "            \n",
    "        computer_choice = get_computer_choice()\n",
    "\n",
    "        print(f\"You chose {user_choice}.\")\n",
    "        print(f\"The computer chose {computer_choice}.\")\n",
    "\n",
    "        result = getWinner(user_choice, computer_choice)\n",
    "        print(result)\n",
    "\n",
    "        play_again = input(\"Play again? (yes/no): \").lower()\n",
    "        if play_again != \"yes\":\n",
    "            break"
   ]
  },
  {
   "cell_type": "markdown",
   "id": "677bd87a-2978-4939-a189-7dadb627f7b3",
   "metadata": {},
   "source": [
    "23. Develop a program that generates a random password based on user preferences (length, complexity)."
   ]
  },
  {
   "cell_type": "code",
   "execution_count": 1,
   "id": "7721f4d2-0cda-4bda-9eb3-b6cd5950f16c",
   "metadata": {},
   "outputs": [
    {
     "name": "stdin",
     "output_type": "stream",
     "text": [
      "Enter the desired length of the password:  9\n",
      "Do you want to include uppercase letters? (y/n):  y\n",
      "Do you want to include lowercase letters? (y/n):  y\n",
      "Do you want to include digits? (y/n):  n\n",
      "Do you want to include special characters? (y/n):  y\n"
     ]
    },
    {
     "name": "stdout",
     "output_type": "stream",
     "text": [
      "Generated Password: IhT.]n&(%\n"
     ]
    }
   ],
   "source": [
    "import random\n",
    "import string\n",
    "\n",
    "# Define a Function to generate a random password\n",
    "def generatePassword(length, uppercase, lowercase, digits, special_chars):\n",
    "    characters = ''\n",
    "    \n",
    "    if uppercase:\n",
    "        characters += string.ascii_uppercase\n",
    "    if lowercase:\n",
    "        characters += string.ascii_lowercase\n",
    "    if digits:\n",
    "        characters += string.digits\n",
    "    if special_chars:\n",
    "        characters += string.punctuation\n",
    "\n",
    "    if not characters:\n",
    "        return \"Please select at least one complexity preference.\"\n",
    "\n",
    "    password = ''.join(random.sample(characters, k=length))\n",
    "    return password\n",
    "\n",
    "# Get user preferences for the password\n",
    "length = int(input(\"Enter the desired length of the password: \"))\n",
    "uppercase = input(\"Do you want to include uppercase letters? (y/n): \").lower() == \"y\"\n",
    "lowercase = input(\"Do you want to include lowercase letters? (y/n): \").lower() == \"y\"\n",
    "digits = input(\"Do you want to include digits? (y/n): \").lower() == \"y\"\n",
    "special_chars = input(\"Do you want to include special characters? (y/n): \").lower() == \"y\"\n",
    "\n",
    "password = generatePassword(length, uppercase, lowercase, digits, special_chars)\n",
    "print(\"Generated Password:\", password)"
   ]
  },
  {
   "cell_type": "markdown",
   "id": "5187b446-c11a-47af-8a84-36c00e7dbe38",
   "metadata": {},
   "source": [
    "24. Create a program that implements a simple text-based adventure game with branching scenarios."
   ]
  },
  {
   "cell_type": "code",
   "execution_count": 3,
   "id": "015123ab-666a-4444-ab1b-444fee90d7a1",
   "metadata": {},
   "outputs": [
    {
     "name": "stdout",
     "output_type": "stream",
     "text": [
      "Welcome to the Text-Based Adventure Game!\n",
      "You are in Dark room. You have two ways to get out of this and find treasure.\n",
      "1. Solve mathematical problem\n",
      "2. Answer the puzzle question\n"
     ]
    },
    {
     "name": "stdin",
     "output_type": "stream",
     "text": [
      "Enter your choice (1/2):  2\n",
      "What will be the next number in seqence? \n",
      " 3, 5, 7, 11, 13, 17, 19, 23, __. 29\n"
     ]
    },
    {
     "name": "stdout",
     "output_type": "stream",
     "text": [
      "Congratulations, you've found the treasure!\n"
     ]
    },
    {
     "name": "stdin",
     "output_type": "stream",
     "text": [
      "Do you want to continue the game? Y / N n\n"
     ]
    },
    {
     "name": "stdout",
     "output_type": "stream",
     "text": [
      "Exited...\n"
     ]
    }
   ],
   "source": [
    "# Function to handle the adventure scenario\n",
    "\n",
    "print(\"Welcome to the Text-Based Adventure Game!\")\n",
    "print(\"You are in Dark room. You have two ways to get out of this and find treasure.\")\n",
    "gameOn = True\n",
    "\n",
    "while gameOn:\n",
    "    print(\"1. Solve mathematical problem\")\n",
    "    print(\"2. Answer the puzzle question\")\n",
    "    choice = input(\"Enter your choice (1/2): \")\n",
    "\n",
    "    if choice == \"1\":\n",
    "            if input(\"What is the value of x after solving belowe equation? \\n 12x + 40 = 100:\") == \"5\":\n",
    "                print(\"Congratulations, you've found the treasure!\")\n",
    "            else:\n",
    "                print(\"Game Over. You exit the forest safely.\")\n",
    "                break\n",
    "    elif choice == \"2\":\n",
    "        if input(\"What will be the next number in seqence? \\n 3, 5, 7, 11, 13, 17, 19, 23, __.\") == \"29\":\n",
    "            print(\"Congratulations, you've found the treasure!\")\n",
    "        else:\n",
    "            print(\"Game Over. You exit the forest safely.\")\n",
    "            break\n",
    "    else:\n",
    "        print(\"Invalid choice. Please enter 1 or 2.\")\n",
    "        \n",
    "    if input(\"Do you want to continue the game? Y / N\").lower() == \"n\":\n",
    "        print(\"Exited...\")\n",
    "        break"
   ]
  },
  {
   "cell_type": "markdown",
   "id": "654c1972-aefc-47b3-ab31-919779e4b209",
   "metadata": {},
   "source": [
    "25. Build a program that solves a linear equation  for x, considering different cases."
   ]
  },
  {
   "cell_type": "code",
   "execution_count": 6,
   "id": "30e1add3-f8c3-474c-8861-ce84caf6006f",
   "metadata": {},
   "outputs": [
    {
     "name": "stdin",
     "output_type": "stream",
     "text": [
      "Enter the coefficient of x (a):  0\n",
      "Enter the constant term (b):  5.9\n"
     ]
    },
    {
     "name": "stdout",
     "output_type": "stream",
     "text": [
      "No solution as 0 ≠ 5.9\n"
     ]
    }
   ],
   "source": [
    "# Function to solve a linear equation for x\n",
    "def solve_linear_equation(a, b):\n",
    "    if a == 0:\n",
    "        if b == 0:\n",
    "            return \"Infinite solutions\"\n",
    "        else:\n",
    "            return \"No solution as 0 ≠ \" + str(b)\n",
    "    else:\n",
    "        x = -b / a\n",
    "        return \"Solution: x = \" + str(x)\n",
    "\n",
    "# Get coefficients from the user\n",
    "a = float(input(\"Enter the coefficient of x (a): \"))\n",
    "b = float(input(\"Enter the constant term (b): \"))\n",
    "\n",
    "result = solve_linear_equation(a, b)\n",
    "print(result)"
   ]
  },
  {
   "cell_type": "markdown",
   "id": "6a2671f7-51ac-4ee6-881c-e69736a8c903",
   "metadata": {},
   "source": [
    "26. Write a program that simulates a basic quiz game with multiple-choice questions and scoring."
   ]
  },
  {
   "cell_type": "code",
   "execution_count": 3,
   "id": "224d37a7-9b6b-443c-a9ba-45cafeff09ab",
   "metadata": {},
   "outputs": [
    {
     "name": "stdin",
     "output_type": "stream",
     "text": [
      "Hello. Welcome to the Quiz... Press enter to start \n"
     ]
    },
    {
     "name": "stdout",
     "output_type": "stream",
     "text": [
      "1. What name is given to the Chandrayaan 3 landing spot?\n",
      "A) Shiva Parvati Point\n",
      "B) Tiranga point\n",
      "C) Shiva Shakti Point\n",
      "D) Jawahar \n"
     ]
    },
    {
     "name": "stdin",
     "output_type": "stream",
     "text": [
      "Please provide Your answer (A/B/C/D):  c\n"
     ]
    },
    {
     "name": "stdout",
     "output_type": "stream",
     "text": [
      "2. August 23 will be celebrated as?\n",
      "A) Chandrayaan 3 Day\n",
      "B) Space Day\n",
      "C) ISRO Day\n",
      "D) National Space Day\n"
     ]
    },
    {
     "name": "stdin",
     "output_type": "stream",
     "text": [
      "Please provide Your answer (A/B/C/D):  b\n"
     ]
    },
    {
     "name": "stdout",
     "output_type": "stream",
     "text": [
      "3. Where does Chandrayaan 3 landed on the moon??\n",
      "A) Near the South Pole\n",
      "B) Near the North Pole\n",
      "C) In the equatorial region\n",
      "D) None of the above\n"
     ]
    },
    {
     "name": "stdin",
     "output_type": "stream",
     "text": [
      "Please provide Your answer (A/B/C/D):  a\n"
     ]
    },
    {
     "name": "stdout",
     "output_type": "stream",
     "text": [
      "4. What was the landing schedule for Chandrayaan 3?\n",
      "A)  August 29, 2023\n",
      "B) August 25, 2023\n",
      "C) August 23, 2023\n",
      "D) August 24, 2023\n"
     ]
    },
    {
     "name": "stdin",
     "output_type": "stream",
     "text": [
      "Please provide Your answer (A/B/C/D):  c\n"
     ]
    },
    {
     "name": "stdout",
     "output_type": "stream",
     "text": [
      "Your score is: 4/4\n"
     ]
    }
   ],
   "source": [
    "# Quiz questions and answers\n",
    "questions = [\n",
    "    {\n",
    "        \"question\": \"1. What name is given to the Chandrayaan 3 landing spot?\",\n",
    "        \"options\": [\"A) Shiva Parvati Point\", \"B) Tiranga point\", \"C) Shiva Shakti Point\", \"D) Jawahar \"],\n",
    "        \"answer\": \"C\"\n",
    "    },\n",
    "    {\n",
    "        \"question\": \"2. August 23 will be celebrated as?\",\n",
    "        \"options\": [\"A) Chandrayaan 3 Day\", \"B) Space Day\", \"C) ISRO Day\", \"D) National Space Day\"],\n",
    "        \"answer\": \"B\"\n",
    "    },\n",
    "    {\n",
    "        \"question\": \"3. Where does Chandrayaan 3 landed on the moon??\",\n",
    "        \"options\": [\"A) Near the South Pole\", \"B) Near the North Pole\", \"C) In the equatorial region\", \"D) None of the above\"],\n",
    "        \"answer\": \"A\"\n",
    "    },\n",
    "    {\n",
    "        \"question\": \"4. What was the landing schedule for Chandrayaan 3?\",\n",
    "        \"options\": [\"A)  August 29, 2023\", \"B) August 25, 2023\", \"C) August 23, 2023\", \"D) August 24, 2023\"],\n",
    "        \"answer\": \"C\"\n",
    "    },\n",
    "]\n",
    "\n",
    "# Define a Function to display a question and get the user's answer input\n",
    "def start_quiz(questionsdb):\n",
    "    print(questionsdb[\"question\"])\n",
    "    for option in questionsdb[\"options\"]:\n",
    "        print(option)\n",
    "    answer = input(\"Please provide Your answer (A/B/C/D): \").strip().upper()\n",
    "    return answer\n",
    "\n",
    "# Define a Function to grade the quiz\n",
    "def getQuizScore(questions, userAnswers):\n",
    "    score = 0\n",
    "    for index, questiondb in enumerate(questions):\n",
    "        userAnswer = userAnswers[index]\n",
    "        correct_answer = questiondb[\"answer\"]\n",
    "        if userAnswer == correct_answer:\n",
    "            score += 1\n",
    "    return score\n",
    "\n",
    "# Start The quiz\n",
    "\n",
    "input(\"Hello. Welcome to the Quiz... Press enter to start\")\n",
    "\n",
    "userAnswers = []\n",
    "for questiondb in questions:\n",
    "    userAnswer = start_quiz(questiondb)\n",
    "    userAnswers.append(userAnswer)\n",
    "\n",
    "score = getQuizScore(questions, userAnswers)\n",
    "\n",
    "print(f\"Your score is: {score}/{len(questions)}\")\n"
   ]
  },
  {
   "cell_type": "markdown",
   "id": "e9c53789-bb68-45f5-ae67-50e29ba19892",
   "metadata": {},
   "source": [
    "28. Create a program that sorts three numbers in ascending order using conditional statements."
   ]
  },
  {
   "cell_type": "code",
   "execution_count": 7,
   "id": "331ed091-9b1a-400a-be72-0703e54f40fe",
   "metadata": {},
   "outputs": [
    {
     "name": "stdin",
     "output_type": "stream",
     "text": [
      "Enter the first number:  33\n",
      "Enter the second number:  4\n",
      "Enter the third number:  23\n"
     ]
    },
    {
     "name": "stdout",
     "output_type": "stream",
     "text": [
      "The ascending order of three numbers is:  [4, 23, 33]\n"
     ]
    }
   ],
   "source": [
    "# Step 1: Get three input numbers from the user\n",
    "num1 = int(input(\"Enter the first number: \"))\n",
    "num2 = int(input(\"Enter the second number: \"))\n",
    "num3 = int(input(\"Enter the third number: \"))\n",
    "\n",
    "# Step 2: Declare a variable to store a largest number\n",
    "num_list = []\n",
    "\n",
    "if num1 <= num2 <= num3:\n",
    "    num_list.append(num1)\n",
    "    num_list.append(num2)\n",
    "    num_list.append(num3)\n",
    "elif num1 <= num3 <= num2:\n",
    "    num_list.append(num1)\n",
    "    num_list.append(num3)\n",
    "    num_list.append(num2)\n",
    "elif num2 <= num1 <= num3:\n",
    "    num_list.append(num2)\n",
    "    num_list.append(num1)\n",
    "    num_list.append(num3)\n",
    "elif num2 <= num3 <= num1:\n",
    "    num_list.append(num2)\n",
    "    num_list.append(num3)\n",
    "    num_list.append(num1)\n",
    "elif num3 <= num1 <= num2:\n",
    "    num_list.append(num3)\n",
    "    num_list.append(num1)\n",
    "    num_list.append(num2)\n",
    "else:\n",
    "    num_list.append(num3)\n",
    "    num_list.append(num2)\n",
    "    num_list.append(num1)  \n",
    "\n",
    "# Step 3: Print the ascending order of three numbers\n",
    "print(\"The ascending order of three numbers is: \", num_list)"
   ]
  },
  {
   "cell_type": "markdown",
   "id": "035ae28b-3b2a-42f5-be88-f57c9243148b",
   "metadata": {},
   "source": [
    "29. Build a program that determines the roots of a quartic equation using numerical methods."
   ]
  },
  {
   "cell_type": "code",
   "execution_count": null,
   "id": "462047d7-a7ed-4623-b314-a27c4d7d2b62",
   "metadata": {},
   "outputs": [],
   "source": []
  },
  {
   "cell_type": "markdown",
   "id": "3b62c0ad-81cb-4bef-b9cf-f75f58299f8f",
   "metadata": {},
   "source": [
    "## Challenge level"
   ]
  },
  {
   "cell_type": "markdown",
   "id": "c26ae013-e08d-4bac-b87e-42bd5b0bd672",
   "metadata": {},
   "source": [
    "31. Create a program that validates a password based on complexity rules (length, characters, etc.)."
   ]
  },
  {
   "cell_type": "code",
   "execution_count": 10,
   "id": "71f551c9-2ed7-49a7-8fb6-62c1f76cb408",
   "metadata": {},
   "outputs": [
    {
     "name": "stdin",
     "output_type": "stream",
     "text": [
      "Enter the password to validate:  Pass@202\n"
     ]
    },
    {
     "name": "stdout",
     "output_type": "stream",
     "text": [
      "Invalid Password. Password not matching complexity rules.\n"
     ]
    }
   ],
   "source": [
    "#Import library to check regular expressions\n",
    "import re\n",
    "\n",
    "# Define password complexity rules\n",
    "length = 9\n",
    "uppercase = True\n",
    "lowercase = True\n",
    "digits = True\n",
    "special_chars = True\n",
    "\n",
    "# Define a Function to validate a password\n",
    "def validatePassword(password):\n",
    "\n",
    "    # Check length (at least 8 characters)\n",
    "    if len(password) < length:\n",
    "        return False\n",
    "    if uppercase and not re.search(r'[A-Z]', password):\n",
    "            return False\n",
    "    if lowercase and not re.search(r'[a-z]', password):\n",
    "            return False\n",
    "    if digits and not re.search(r'\\d', password):\n",
    "            return False\n",
    "    if special_chars and not re.search(r'[!@#$%^&*()_+{}\\[\\]:;<>,.?~\\\\\\-]', password):\n",
    "            return False\n",
    "    return True\n",
    "\n",
    "# Get input from the user for a password\n",
    "password = input(\"Enter the password to validate: \")\n",
    "\n",
    "# Validate the password\n",
    "if validatePassword(password):\n",
    "    print(\"Password is valid.\")\n",
    "else:\n",
    "    print(\"Invalid Password. Password not matching complexity rules.\")"
   ]
  },
  {
   "cell_type": "markdown",
   "id": "6c5b9b9e-1825-4a58-a219-d5cd6327723c",
   "metadata": {},
   "source": [
    "32. Develop a program that performs matrix addition and subtraction based on user input."
   ]
  },
  {
   "cell_type": "code",
   "execution_count": 18,
   "id": "47ab7d72-47fb-4a42-8e41-d38b675aa04d",
   "metadata": {},
   "outputs": [
    {
     "name": "stdin",
     "output_type": "stream",
     "text": [
      "what do you want to perform Addition/Subtraction. Type + for Addition or - for subtraction:  +\n"
     ]
    },
    {
     "name": "stdout",
     "output_type": "stream",
     "text": [
      "Sum of the matrices:\n",
      "[123.0, 7.0]\n",
      "[123.0, 52.0]\n",
      "[57.0, 9.0]\n"
     ]
    }
   ],
   "source": [
    "# Function to create and display a matrix\n",
    "def createMatrix(rows, cols):\n",
    "    matrix = []\n",
    "    for i in range(rows):\n",
    "        row = []\n",
    "        for j in range(cols):\n",
    "            element = float(input(f\"Enter the element at row {i+1}, column {j+1}: \"))\n",
    "            row.append(element)\n",
    "        matrix.append(row)\n",
    "    return matrix\n",
    "\n",
    "# Function to perfrom matrix addition\n",
    "def matrixAddition(matrix1, matrix2):\n",
    "    #Check dimension of both matrix is same or not\n",
    "    if len(matrix1) != len(matrix2) or len(matrix1[0]) != len(matrix2[0]):\n",
    "        return False\n",
    "    result = []\n",
    "    for i in range(len(matrix1)): # For loop for rows\n",
    "        row = []\n",
    "        for j in range(len(matrix1[0])): # For loop for columns\n",
    "            row.append(matrix1[i][j] + matrix2[i][j])\n",
    "        result.append(row)\n",
    "    return result\n",
    "\n",
    "# Function to perfrom matrix subtraction\n",
    "def matrixSubtraction(matrix1, matrix2):\n",
    "    #Check dimension of both matrix is same or not\n",
    "    if len(matrix1) != len(matrix2) or len(matrix1[0]) != len(matrix2[0]):\n",
    "        return False\n",
    "    result = []\n",
    "    for i in range(len(matrix1)): # For loop for rows\n",
    "        row = []\n",
    "        for j in range(len(matrix1[0])): # For loop for columns\n",
    "            row.append(matrix1[i][j] - matrix2[i][j])\n",
    "        result.append(row)\n",
    "    return result\n",
    "\n",
    "matrix1 = [[56.0, 4.0], [34.0, 7.0], [34.0, 5.0]]\n",
    "matrix2 = [[67.0, 3.0], [89.0, 45.0],[23.0, 4.0] ]\n",
    "    \n",
    "choice = input(\"what do you want to perform Addition/Subtraction. Type + for Addition or - for subtraction: \")\n",
    "\n",
    "if choice == \"+\":\n",
    "    # Perform addition and subtraction\n",
    "    sum_result = matrixAddition(matrix1, matrix2)\n",
    "    if sum_result is not False:\n",
    "        print(\"Sum of the matrices:\")\n",
    "        for row in sum_result:\n",
    "            print(row)\n",
    "    else:\n",
    "        print(\"Matrix addition is not possible due to different dimensions.\")\n",
    "elif choice == \"-\":\n",
    "    diff_result = matrixSubtraction(matrix1, matrix2)\n",
    "    if difference_result is not None:\n",
    "        print(\"Difference of the matrices:\")\n",
    "        for row in diff_result:\n",
    "            print(row)\n",
    "    else:\n",
    "        print(\"Matrix subtraction is not possible due to different dimensions.\")\n",
    "else:\n",
    "    print(\"Invalid choice. Please enter + or -\")"
   ]
  },
  {
   "cell_type": "markdown",
   "id": "8923ed91-2fe5-40f5-918a-f9ea4aaf2209",
   "metadata": {},
   "source": [
    "33. Write a program that calculates the greatest common divisor (GCD) of two numbers using the Euclidean algorithm."
   ]
  },
  {
   "cell_type": "code",
   "execution_count": 6,
   "id": "da793c74-fb0d-4e9a-b2b1-9f7e6ced39a6",
   "metadata": {},
   "outputs": [
    {
     "name": "stdin",
     "output_type": "stream",
     "text": [
      "Enter the first number:  12\n",
      "Enter the second number:  20\n"
     ]
    },
    {
     "name": "stdout",
     "output_type": "stream",
     "text": [
      "The GCD of 12 and 20 is 4.\n"
     ]
    }
   ],
   "source": [
    "# Get input from the user for two numbers\n",
    "num1 = int(input(\"Enter the first number: \"))\n",
    "num2 = int(input(\"Enter the second number: \"))\n",
    "\n",
    "a= num1\n",
    "b = num2\n",
    "while b != 0:\n",
    "    a, b = b, a % b\n",
    "\n",
    "# Display the result\n",
    "print(f\"The GCD of {num1} and {num2} is {a}.\")\n"
   ]
  },
  {
   "cell_type": "markdown",
   "id": "3441fb8a-a644-4a47-8bb3-c52bbb2cb666",
   "metadata": {},
   "source": [
    "34. Build a program that performs matrix multiplication using nested loops and conditional statements."
   ]
  },
  {
   "cell_type": "code",
   "execution_count": 16,
   "id": "e4a53678-69e8-459e-a138-d44c8a80e2c7",
   "metadata": {},
   "outputs": [
    {
     "name": "stdout",
     "output_type": "stream",
     "text": [
      "Product of the matrices:\n",
      "[590.0, 1670.0]\n",
      "[980.0, 6510.0]\n",
      "[4042.0, 2820.0]\n"
     ]
    }
   ],
   "source": [
    "# Function to perform matrix multiplication\n",
    "def matrixMultiplication(matrix1, matrix2):\n",
    "    if len(matrix1[0]) != len(matrix2):\n",
    "        return False  # Matrices cannot be multiplied as cols numbers are not same\n",
    "\n",
    "    result = []\n",
    "    for i in range(len(matrix1)):\n",
    "        row = []\n",
    "        for j in range(len(matrix2[0])):\n",
    "            product = 0\n",
    "            for k in range(len(matrix2)):\n",
    "                product += matrix1[i][k] * matrix2[k][j]\n",
    "            row.append(product)\n",
    "        result.append(row)\n",
    "    return result\n",
    "\n",
    "matrix1 = [[9.0, 20.0], \n",
    "           [7.0, 90.0], \n",
    "           [80.0, 6.0]]\n",
    "matrix2 = [[50.0, 30.0], \n",
    "           [7.0, 70.0]]\n",
    "\n",
    "productRes = matrixMultiplication(matrix1, matrix2)\n",
    "\n",
    "if productRes is not False:\n",
    "    print(\"Product of the matrices:\")\n",
    "    for row in productRes:\n",
    "        print(row)\n",
    "else:\n",
    "    print(\"Matrix multiplication is not possible due to wrong dimensions.\")"
   ]
  },
  {
   "cell_type": "markdown",
   "id": "55b75bc7-d223-4b04-96a0-4a065aa89b9b",
   "metadata": {},
   "source": [
    "35. Create a program that simulates a basic text-based tic-tac-toe game against the computer."
   ]
  },
  {
   "cell_type": "code",
   "execution_count": 8,
   "id": "1453bf91-cb9e-4a6c-8930-c76931ed71c4",
   "metadata": {},
   "outputs": [
    {
     "name": "stdin",
     "output_type": "stream",
     "text": [
      "What is your choice 'X' or 'O' ? x\n"
     ]
    },
    {
     "name": "stdout",
     "output_type": "stream",
     "text": [
      "   |   |\n",
      "   |   |  \n",
      "   |   |\n",
      "-----------\n",
      "   |   |\n",
      "   |   |  \n",
      "   |   |\n",
      "-----------\n",
      "   |   |\n",
      "   |   |  \n",
      "   |   |\n"
     ]
    },
    {
     "name": "stdin",
     "output_type": "stream",
     "text": [
      "Enter your move (1-9):  1\n"
     ]
    },
    {
     "name": "stdout",
     "output_type": "stream",
     "text": [
      "in player move 1\n",
      "   |   |\n",
      " X | O |  \n",
      "   |   |\n",
      "-----------\n",
      "   |   |\n",
      "   |   |  \n",
      "   |   |\n",
      "-----------\n",
      "   |   |\n",
      "   |   |  \n",
      "   |   |\n"
     ]
    },
    {
     "name": "stdin",
     "output_type": "stream",
     "text": [
      "Enter your move (1-9):  5\n"
     ]
    },
    {
     "name": "stdout",
     "output_type": "stream",
     "text": [
      "in player move 5\n",
      "   |   |\n",
      " X | O |  \n",
      "   |   |\n",
      "-----------\n",
      "   |   |\n",
      "   | X |  \n",
      "   |   |\n",
      "-----------\n",
      "   |   |\n",
      "   |   | O\n",
      "   |   |\n"
     ]
    },
    {
     "name": "stdin",
     "output_type": "stream",
     "text": [
      "Enter your move (1-9):  4\n"
     ]
    },
    {
     "name": "stdout",
     "output_type": "stream",
     "text": [
      "in player move 4\n",
      "   |   |\n",
      " X | O |  \n",
      "   |   |\n",
      "-----------\n",
      "   |   |\n",
      " X | X | O\n",
      "   |   |\n",
      "-----------\n",
      "   |   |\n",
      "   |   | O\n",
      "   |   |\n"
     ]
    },
    {
     "name": "stdin",
     "output_type": "stream",
     "text": [
      "Enter your move (1-9):  7\n"
     ]
    },
    {
     "name": "stdout",
     "output_type": "stream",
     "text": [
      "in player move 7\n",
      "   |   |\n",
      " X | O |  \n",
      "   |   |\n",
      "-----------\n",
      "   |   |\n",
      " X | X | O\n",
      "   |   |\n",
      "-----------\n",
      "   |   |\n",
      " X |   | O\n",
      "   |   |\n",
      "Congratulations! You win!\n"
     ]
    },
    {
     "name": "stdin",
     "output_type": "stream",
     "text": [
      "Do you want to play again? (Y or N) n\n"
     ]
    }
   ],
   "source": [
    "import random\n",
    "\n",
    "def drawBoard(board):\n",
    "    print('   |   |')\n",
    "    print(' ' + board[1] + ' | ' + board[2] + ' | ' + board[3])\n",
    "    print('   |   |')\n",
    "    print('-----------')\n",
    "    print('   |   |')\n",
    "    print(' ' + board[4] + ' | ' + board[5] + ' | ' + board[6])\n",
    "    print('   |   |')\n",
    "    print('-----------')\n",
    "    print('   |   |')\n",
    "    print(' ' + board[7] + ' | ' + board[8] + ' | ' + board[9])\n",
    "    print('   |   |')\n",
    "    \n",
    "def getPlayerChoice():\n",
    "\n",
    "    letter = \" \"\n",
    "\n",
    "    while not (letter == 'X' or letter == 'O'):\n",
    "        letter = input(\"What is your choice 'X' or 'O' ?\").upper()\n",
    "\n",
    "    # return player and computer choice. If player opt for 'X' then computer choice will be 'O' and vice versa.\n",
    "    if letter == 'X':\n",
    "        return ['X', 'O']\n",
    "    else:\n",
    "        return ['O', 'X']\n",
    "    \n",
    "# Function for the computer's move\n",
    "def doComputerMove(board, playerLetter, computerLetter):\n",
    "    # First, check if the computer can win\n",
    "    for i in range(1,10):\n",
    "        if board[i] == \" \":\n",
    "            board[i] = computerLetter\n",
    "            if isWinner(board, computerLetter):\n",
    "                return i\n",
    "            board[i] = \" \"\n",
    "\n",
    "    # Then, check if the player can win, and block player\n",
    "    for i in range(1,10):\n",
    "        if board[i] == \" \":\n",
    "            board[i] = playerLetter\n",
    "            if isWinner(board, playerLetter):\n",
    "                return i\n",
    "            board[i] = \" \"\n",
    "\n",
    "    # If no winning move, take a random available spot\n",
    "    while True:\n",
    "        move = random.randint(1, 9)\n",
    "        if board[move] == \" \":\n",
    "            return move\n",
    "        \n",
    "# Function to check player is winner or not\n",
    "\n",
    "def isWinner(board, Move):\n",
    "    #print(\"In isWinner..\")\n",
    "    win_combinations = [\n",
    "        [1, 2, 3], [4, 5, 6], [7, 8, 9],  # Rows\n",
    "        [1, 4, 7], [2, 5, 8], [3, 6, 9],  # Columns\n",
    "        [1, 5, 9], [3, 5, 7]  # Diagonals\n",
    "    ]\n",
    "    for combination in win_combinations:\n",
    "        if all(board[i] == Move for i in combination):\n",
    "            return True\n",
    "    return False\n",
    "\n",
    "# Function to check if the game is over\n",
    "def isGameOver(board):\n",
    "    return (\n",
    "        isWinner(board, 'X') or isWinner(board, 'O') or \" \" not in board)\n",
    "\n",
    "\n",
    "# Main game loop\n",
    "while True:\n",
    "    board = [' '] * 10\n",
    "    board[0] = \"NA\"\n",
    "    playerLetter, CompLetter = getPlayerChoice()\n",
    "    while True:\n",
    "        drawBoard(board)\n",
    "\n",
    "        # Player's turn. Get a move from the player.\n",
    "        while True:\n",
    "            player_move = int(input(\"Enter your move (1-9): \"))\n",
    "            if 1 <= player_move <= 9 and board[player_move] == \" \":\n",
    "                print(\"in player move\", player_move)\n",
    "                board[player_move] = playerLetter\n",
    "                break\n",
    "            else:\n",
    "                print(\"Invalid move. Please try again.\")\n",
    "\n",
    "        # Check if the game is over after the player's move and declare the game status.\n",
    "        if isGameOver(board):\n",
    "            drawBoard(board)\n",
    "            if isWinner(board, playerLetter):\n",
    "                print(\"Congratulations! You win!\")\n",
    "            else:\n",
    "                print(\"It's a tie!\")\n",
    "            break\n",
    "\n",
    "        # Computer's turn. call doComputerMove function.\n",
    "        computer_choice = doComputerMove(board, playerLetter, CompLetter)\n",
    "        board[computer_choice] = CompLetter\n",
    "\n",
    "        # Check if the game is over after the computer's move and declare the game status\n",
    "        if isGameOver(board):\n",
    "            drawBoard(board)\n",
    "            if isWinner(board, CompLetter):\n",
    "                print(\"Computer wins!.\")\n",
    "            else:\n",
    "                print(\"It's a tie!\")\n",
    "            break\n",
    "\n",
    "        if gameOver:\n",
    "            playAgain = input('Do you want to play again? (Y or N)').upper()\n",
    "            if playAgain == \"N\":\n",
    "                break\n",
    "            else:\n",
    "                board = [' '] * 10\n",
    "                board[0] = \"NA\"\n",
    "                drawBoard(board)\n",
    "                \n",
    "    if input('Do you want to play again? (Y or N)').upper() == \"N\":\n",
    "        break\n",
    "\n"
   ]
  },
  {
   "cell_type": "markdown",
   "id": "ba33ccd4-05ac-4e8f-8d9a-1028ddd1485f",
   "metadata": {},
   "source": [
    "36. Write a program that generates Fibonacci numbers up to a specified term using iterative methods."
   ]
  },
  {
   "cell_type": "code",
   "execution_count": 5,
   "id": "113e48ec-f4ba-427d-9495-e3a565c260ae",
   "metadata": {},
   "outputs": [
    {
     "name": "stdin",
     "output_type": "stream",
     "text": [
      "Enter the number to generate fibbonacci sequence:  10\n"
     ]
    },
    {
     "name": "stdout",
     "output_type": "stream",
     "text": [
      "0\n",
      "1\n",
      "1\n",
      "2\n",
      "3\n",
      "5\n",
      "8\n",
      "13\n",
      "21\n",
      "34\n"
     ]
    }
   ],
   "source": [
    "#Define function to generate fibonacci series\n",
    "\n",
    "def fib(num):\n",
    "    x,y,z = 0,1,0\n",
    "    for i in range(0, num):\n",
    "        print(x)\n",
    "        z = x + y\n",
    "        x = y\n",
    "        y = z\n",
    "\n",
    "# Get the input number from user\n",
    "num = int(input(\"Enter the number to generate fibbonacci sequence: \"))\n",
    "\n",
    "# Call defined function\n",
    "fib(num)"
   ]
  },
  {
   "cell_type": "markdown",
   "id": "2d55791c-a0b0-4f52-b054-5b6df592bbb8",
   "metadata": {},
   "source": [
    "37. Develop a program that calculates the nth term of the Fibonacci sequence using memoization."
   ]
  },
  {
   "cell_type": "code",
   "execution_count": 11,
   "id": "e252518a-f13e-495a-9fc7-d014005a718c",
   "metadata": {},
   "outputs": [
    {
     "name": "stdin",
     "output_type": "stream",
     "text": [
      "Enter the number to generate fibbonacci sequence:  10\n"
     ]
    },
    {
     "name": "stdout",
     "output_type": "stream",
     "text": [
      "Output:\n",
      "0\n",
      "1\n",
      "1\n",
      "2\n",
      "3\n",
      "5\n",
      "8\n",
      "13\n",
      "21\n",
      "34\n"
     ]
    }
   ],
   "source": [
    "#Define function to get fibonacci series\n",
    "def fibonacci(n):\n",
    "    if n <= 1:\n",
    "        return n\n",
    "    return fibonacci(n-1) + fibonacci(n-2)\n",
    "\n",
    "# Get the input number from user\n",
    "num = int(input(\"Enter the number to generate fibbonacci sequence: \"))\n",
    "\n",
    "# Call defined function\n",
    "print(\"Output:\")\n",
    "for i in range(num):\n",
    "       print(fibonacci(i))"
   ]
  },
  {
   "cell_type": "markdown",
   "id": "aa85ce52-2359-408f-9e5a-eff84bdda084",
   "metadata": {},
   "source": [
    "38. Create a program that generates a calendar for a given month and year using conditional statements."
   ]
  },
  {
   "cell_type": "code",
   "execution_count": 21,
   "id": "0c99f484-7737-4fae-a1b1-d3d1f4a5136a",
   "metadata": {},
   "outputs": [
    {
     "name": "stdin",
     "output_type": "stream",
     "text": [
      "Enter the year:  2023\n",
      "Enter the month (1-12):  9\n"
     ]
    },
    {
     "name": "stdout",
     "output_type": "stream",
     "text": [
      "Calendar for September 2023\n",
      "Su Mo Tu We Th Fr Sa\n",
      "                1  2 \n",
      " 3  4  5  6  7  8  9 \n",
      "10 11 12 13 14 15 16 \n",
      "17 18 19 20 21 22 23 \n",
      "24 25 26 27 28 29 30 \n"
     ]
    }
   ],
   "source": [
    "def generate_calendar(month, year):\n",
    "    months = ['January', 'February',' March', 'April', 'May', 'June', 'July', 'August', 'September', 'October', 'November', 'December']\n",
    "    number_of_days_in_month = 31\n",
    "    if month in {2, 4, 6, 9, 11}:\n",
    "        number_of_days_in_month = 30\n",
    "    elif month == 2:\n",
    "        if year % 4 == 0 and (year % 100 != 0 or year % 400 == 0):\n",
    "            number_of_days_in_month = 29\n",
    "        else:\n",
    "            number_of_days_in_month = 28\n",
    "\n",
    "  # Get the day of the week on which the first day of the month falls.\n",
    "    first_day_of_month = (1 + (year - 1) + (year - 1) // 4 - (year - 1) // 100 + (year - 1) // 400 + month + (month - 1) // 2) % 7\n",
    "    first_day_of_month -=1\n",
    "    \n",
    "    print(f\"Calendar for {months[month- 1]} {year}\")\n",
    "    print(\"Su Mo Tu We Th Fr Sa\")\n",
    "\n",
    "    # Generate the calendar.\n",
    "    # Print the spaces for the first week\n",
    "    print(\"   \" * (first_day_of_month), end=\"\")\n",
    "\n",
    "    for day in range(1, number_of_days_in_month + 1):\n",
    "        print(f\"{day:2} \", end=\"\")\n",
    "        if (day + first_day_of_month) % 7 == 0 or day == number_of_days_in_month:\n",
    "            print()\n",
    "\n",
    "year = int(input(\"Enter the year: \"))\n",
    "month = int(input(\"Enter the month (1-12): \"))\n",
    "\n",
    "if month < 1 or month > 12:\n",
    "    print(\"Invalid month. Please enter a month between 1 and 12.\")\n",
    "else:\n",
    "    generate_calendar(month,year)"
   ]
  },
  {
   "cell_type": "markdown",
   "id": "4afb35f5-6b03-4417-8ec1-67a3a1d3ce22",
   "metadata": {},
   "source": [
    "39. Build a program that simulates a basic text-based blackjack game against the computer."
   ]
  },
  {
   "cell_type": "code",
   "execution_count": 16,
   "id": "6666611c-a31f-4701-bd12-581e345c721f",
   "metadata": {},
   "outputs": [
    {
     "name": "stdout",
     "output_type": "stream",
     "text": [
      "**************************************************\n",
      "Your hand:\n",
      "9 of Clubs\n",
      "5 of Spades\n",
      "Total value: 14\n",
      "\n",
      "Dealer's hand:\n",
      "8 of Clubs\n",
      "2 of Clubs\n",
      "Total value: 10\n"
     ]
    },
    {
     "name": "stdin",
     "output_type": "stream",
     "text": [
      "\n",
      "Do you want to Hit (H) or Stand (S)?  H\n"
     ]
    },
    {
     "name": "stdout",
     "output_type": "stream",
     "text": [
      "**************************************************\n",
      "Your hand:\n",
      "9 of Clubs\n",
      "5 of Spades\n",
      "4 of Diamonds\n",
      "Total value: 18\n",
      "\n",
      "Dealer's hand:\n",
      "8 of Clubs\n",
      "2 of Clubs\n",
      "Total value: 10\n"
     ]
    },
    {
     "name": "stdin",
     "output_type": "stream",
     "text": [
      "\n",
      "Do you want to Hit (H) or Stand (S)?  S\n"
     ]
    },
    {
     "name": "stdout",
     "output_type": "stream",
     "text": [
      "**************************************************\n",
      "Your hand:\n",
      "9 of Clubs\n",
      "5 of Spades\n",
      "4 of Diamonds\n",
      "Total value: 18\n",
      "\n",
      "Dealer's hand:\n",
      "8 of Clubs\n",
      "2 of Clubs\n",
      "4 of Hearts\n",
      "Ace of Diamonds\n",
      "Total value: 25\n",
      "**************************************************\n",
      "Game Result:  Player\n"
     ]
    },
    {
     "name": "stdin",
     "output_type": "stream",
     "text": [
      "Do you want to play again? (Y/N):  n\n"
     ]
    }
   ],
   "source": [
    "import random\n",
    "\n",
    "categories = ['Hearts', 'Diamonds', 'Clubs', 'Spades']\n",
    "ranks = ['Ace', '2', '3', '4', '5', '6', '7', '8', '9', '10', 'Jack', 'Queen', 'King']\n",
    "deck = [(card, category) for category in categories for card in ranks]\n",
    "\n",
    "# Function to get card value\n",
    "def getCardValue(card):\n",
    "    if card[0] in ['Jack', 'Queen', 'King']:\n",
    "        return 10\n",
    "    elif card[0] == 'Ace':\n",
    "        return 11\n",
    "    else:\n",
    "        return int(card[0])\n",
    "\n",
    "# Function to get hand value\n",
    "def getHandValue(hand):\n",
    "    value = sum(getCardValue(card) for card in hand)\n",
    "    # Handle Aces\n",
    "    for card in hand:\n",
    "        if card[1] == 'Ace' and value > 21:\n",
    "            value -= 10\n",
    "    return value\n",
    "\n",
    "# Function to display the player's and dealer's hands\n",
    "def displayHands(player_hand, dealer_hand):\n",
    "    print(\"*\"*50)\n",
    "    print(\"Your hand:\")\n",
    "    for card in player_hand:\n",
    "        print(f\"{card[0]} of {card[1]}\")\n",
    "    print(f\"Total value: {getHandValue(player_hand)}\")\n",
    "\n",
    "    print(\"\\nDealer's hand:\")\n",
    "    for card in dealer_hand:\n",
    "        print(f\"{card[0]} of {card[1]}\")\n",
    "    print(f\"Total value: {getHandValue(dealer_hand)}\")\n",
    "    \n",
    "# Function for player's turn\n",
    "def player_turn(player_hand, dealer_hand):\n",
    "    while getHandValue(player_hand) < 21:\n",
    "        action = input(\"\\nDo you want to Hit (H) or Stand (S)? \").upper()\n",
    "        if action == 'H':\n",
    "            player_hand.append(deck.pop())\n",
    "            displayHands(player_hand, dealer_hand)\n",
    "        elif action == 'S':\n",
    "            break\n",
    "        else:\n",
    "            print(\"Invalid input. Please enter H or S.\")\n",
    "\n",
    "# Function for dealer's turn\n",
    "def dealer_turn(dealer_hand):\n",
    "    while getHandValue(dealer_hand) < 17:\n",
    "        dealer_hand.append(deck.pop()) \n",
    "        \n",
    "# Get the game result winner\n",
    "def getWinner(player_hand, dealer_hand):\n",
    "    player_value = getHandValue(player_hand)\n",
    "    dealer_value = getHandValue(dealer_hand)\n",
    "\n",
    "    if player_value > 21:\n",
    "        return \"Dealer\"\n",
    "    elif dealer_value > 21:\n",
    "        return \"Player\"\n",
    "    elif player_value == dealer_value:\n",
    "        return \"It's a Tie\"\n",
    "    elif player_value > dealer_value:\n",
    "        return \"Player\"\n",
    "    else:\n",
    "        return \"Dealer\"\n",
    "\n",
    "while True:\n",
    "    random.shuffle(deck)\n",
    "    player_card = [deck.pop(), deck.pop()]\n",
    "    dealer_card = [deck.pop(), deck.pop()]\n",
    "    \n",
    "    player_score = sum(getCardValue(card) for card in player_card)\n",
    "    dealer_score = sum(getCardValue(card) for card in dealer_card)\n",
    "    \n",
    "    displayHands(player_card, dealer_card)   \n",
    "    \n",
    "    player_turn(player_card, dealer_card)\n",
    "    \n",
    "    dealer_turn(dealer_card)\n",
    "    \n",
    "    result = getWinner(player_card, dealer_card)\n",
    "    \n",
    "    displayHands(player_card, dealer_card)\n",
    "    \n",
    "    print(\"*\"*50)\n",
    "    print(\"Game Result: \", result)\n",
    "    \n",
    "# check if the player wants to play again\n",
    "    play_again = input(\"Do you want to play again? (Y/N): \").upper()\n",
    "    if play_again != 'Y':\n",
    "        break\n"
   ]
  },
  {
   "cell_type": "markdown",
   "id": "de604c2b-829d-42a0-bb7d-74b7901fa2be",
   "metadata": {},
   "source": [
    "40. Write a program that generates the prime factors of a given number using trial division."
   ]
  },
  {
   "cell_type": "code",
   "execution_count": 10,
   "id": "73aec017-74dd-462e-9405-3f9f98c5ef9e",
   "metadata": {},
   "outputs": [
    {
     "name": "stdin",
     "output_type": "stream",
     "text": [
      "Enter any positive number:  675\n"
     ]
    },
    {
     "name": "stdout",
     "output_type": "stream",
     "text": [
      "The prime factors of 675 are: [3, 3, 3, 5, 5]\n"
     ]
    }
   ],
   "source": [
    "# Function to generate prime factors using trial division\n",
    "def getPrimeFactors(n):\n",
    "    factors = []\n",
    "    divisor = 2\n",
    "    count = 0\n",
    "\n",
    "    while n > 1:\n",
    "        while n % divisor == 0:\n",
    "            #print(n, divisor)\n",
    "            factors.append(divisor)\n",
    "            n //= divisor\n",
    "        #print(\"divisor\", divisor)\n",
    "        divisor += 1\n",
    "\n",
    "    return factors\n",
    "\n",
    "# Get input from the user for the number\n",
    "num = int(input(\"Enter any positive number: \"))\n",
    "\n",
    "if num <= 0:\n",
    "    print(\"Please enter a positive number.\")\n",
    "else:\n",
    "    factors = getPrimeFactors(num)\n",
    "    if len(factors) == 0:\n",
    "        print(f\"{num} has no prime factors.\")\n",
    "    else:\n",
    "        print(f\"The prime factors of {num} are: {factors}\")"
   ]
  }
 ],
 "metadata": {
  "kernelspec": {
   "display_name": "Python 3 (ipykernel)",
   "language": "python",
   "name": "python3"
  },
  "language_info": {
   "codemirror_mode": {
    "name": "ipython",
    "version": 3
   },
   "file_extension": ".py",
   "mimetype": "text/x-python",
   "name": "python",
   "nbconvert_exporter": "python",
   "pygments_lexer": "ipython3",
   "version": "3.10.8"
  }
 },
 "nbformat": 4,
 "nbformat_minor": 5
}

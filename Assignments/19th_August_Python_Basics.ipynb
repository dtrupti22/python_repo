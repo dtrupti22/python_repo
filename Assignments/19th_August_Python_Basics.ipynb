{
 "cells": [
  {
   "cell_type": "markdown",
   "id": "1c99f504-b77d-4a06-9254-ef89fb58cc60",
   "metadata": {},
   "source": [
    "1. Declare two variables, `x` and `y`, and assign them integer values. Swap the values of these variables without using any temporary variable."
   ]
  },
  {
   "cell_type": "code",
   "execution_count": 1,
   "id": "421b5253-ff0a-4c78-a90d-d3fc2a2508c6",
   "metadata": {},
   "outputs": [
    {
     "name": "stdout",
     "output_type": "stream",
     "text": [
      "x and y before swap respetively:  10 20\n",
      "x and y after swap respetively:  20 10\n"
     ]
    }
   ],
   "source": [
    "# Initialize variables\n",
    "x = 10\n",
    "y = 20\n",
    "#print initial values of variables before swap\n",
    "print(\"x and y before swap respetively: \", x, y)\n",
    "\n",
    "# Swap the variables (without using any third temp variable)\n",
    "x, y = y, x\n",
    "\n",
    "#print values of variables after swap\n",
    "print(\"x and y after swap respetively: \", x, y)"
   ]
  },
  {
   "cell_type": "markdown",
   "id": "9556a243-6c4a-4f46-b98e-452ba1623b2e",
   "metadata": {},
   "source": [
    "2. Create a program that calculates the area of a rectangle. Take the length and width as inputs from the user and store them in variables. Calculate and display the area."
   ]
  },
  {
   "cell_type": "code",
   "execution_count": 2,
   "id": "4b355510-e998-4c1b-b905-faf099f873eb",
   "metadata": {},
   "outputs": [
    {
     "name": "stdin",
     "output_type": "stream",
     "text": [
      "Please enter the length of a rectangle 20\n",
      "Please enter the length of a rectangle 23.2\n"
     ]
    },
    {
     "name": "stdout",
     "output_type": "stream",
     "text": [
      "Area of Rectangle:  464.0\n"
     ]
    }
   ],
   "source": [
    "''' Take the input i.e length and width values from the user.\n",
    "Here converting them into float as length and width values can be in float. '''\n",
    "\n",
    "length = float(input(\"Please enter the length of a rectangle\"))\n",
    "width = float(input(\"Please enter the length of a rectangle\"))\n",
    "\n",
    "# Calculate area of rectangle\n",
    "area = length * width\n",
    "\n",
    "# Print calculated area of rectangle\n",
    "print(\"Area of Rectangle: \", area)"
   ]
  },
  {
   "cell_type": "markdown",
   "id": "63942d70-6e3e-4db8-8e79-ea0131511391",
   "metadata": {},
   "source": [
    "3. Write a Python program that converts temperatures from Celsius to Fahrenheit. Take the temperature in Celsius as input, store it in a variable, convert it to Fahrenheit, and display the result."
   ]
  },
  {
   "cell_type": "code",
   "execution_count": 3,
   "id": "75b87eb0-4cc2-4b66-b5cd-b519548d1f4c",
   "metadata": {},
   "outputs": [
    {
     "name": "stdin",
     "output_type": "stream",
     "text": [
      "Please enter the temperature in celsius 32.4\n"
     ]
    },
    {
     "name": "stdout",
     "output_type": "stream",
     "text": [
      "Temperature in Celsius:  32.4\n",
      "Temperature in Fahrenheit:  90.32\n"
     ]
    }
   ],
   "source": [
    "''' Take the input i.e temperature in the celcius from the user.\n",
    "Here converting input into float as temperature value can be in float. '''\n",
    "\n",
    "temperature = float(input(\"Please enter the temperature in celsius\"))\n",
    "\n",
    "#Print entered tempearature in celsius.\n",
    "print(\"Temperature in Celsius: \", temperature)\n",
    "\n",
    "# Calculate temperature in Fahrenheit by using formula\n",
    "temperature = (temperature * 1.8) + 32\n",
    "\n",
    "#Print entered tempearature in celsius.\n",
    "print(\"Temperature in Fahrenheit: \", temperature)"
   ]
  },
  {
   "cell_type": "markdown",
   "id": "d0d82a18-2563-45b4-9f10-461244bf6424",
   "metadata": {},
   "source": [
    "# String based questions"
   ]
  },
  {
   "cell_type": "markdown",
   "id": "ca914efb-19e9-4cc0-b2d3-7a50fba26ab5",
   "metadata": {},
   "source": [
    "1. Write a Python program that takes a string as input and prints the length of the string."
   ]
  },
  {
   "cell_type": "code",
   "execution_count": 4,
   "id": "caab91f9-f1cd-4a2b-8026-a2888771b725",
   "metadata": {},
   "outputs": [
    {
     "name": "stdin",
     "output_type": "stream",
     "text": [
      "Enter the string to find length of it characters\n"
     ]
    },
    {
     "name": "stdout",
     "output_type": "stream",
     "text": [
      "Length of entered string 10\n"
     ]
    }
   ],
   "source": [
    "# Take the input from user\n",
    "str = input(\"Enter the string to find length of it\")\n",
    "\n",
    "# print the length of the string by using 'len' function\n",
    "print(\"Length of entered string\", len(str))"
   ]
  },
  {
   "cell_type": "markdown",
   "id": "50b5db16-c2ad-49a8-8758-524e0267a9be",
   "metadata": {},
   "source": [
    "2. Create a program that takes a sentence from the user and counts the number of vowels (a, e, i, o, u) in the string."
   ]
  },
  {
   "cell_type": "code",
   "execution_count": 5,
   "id": "3fade9b7-a268-4561-85f7-7aaf1cae99bb",
   "metadata": {},
   "outputs": [
    {
     "name": "stdin",
     "output_type": "stream",
     "text": [
      "Enter the sentence to get the no. of vowels.. I have an orange colored umbrella\n"
     ]
    },
    {
     "name": "stdout",
     "output_type": "stream",
     "text": [
      "The count of vowels:  13\n"
     ]
    }
   ],
   "source": [
    "# Take the input from the user and convert it lower case to consider upper as well as lower characters\n",
    "str_vow = input(\"Enter the sentence to get the no. of vowels..\").lower()\n",
    "\n",
    "# Initialize vowels counter to zero\n",
    "vow_count = 0\n",
    "\n",
    "# Get each character from string \n",
    "for char in str_vow:\n",
    "    if char in \"aeiou\":  # Check if character is vowel or not\n",
    "        vow_count+=1     # Increment the vowel counter as character is vowel\n",
    "\n",
    "# Print the vowels count\n",
    "print(\"The count of vowels: \", vow_count)"
   ]
  },
  {
   "cell_type": "markdown",
   "id": "d0fbd60c-3aec-46fc-894c-77bcb5b946f4",
   "metadata": {},
   "source": [
    "3. Given a string, reverse the order of characters using string slicing and print the reversed string."
   ]
  },
  {
   "cell_type": "code",
   "execution_count": 6,
   "id": "395c6148-d7ab-4f94-85ce-7a2f42eeb0aa",
   "metadata": {},
   "outputs": [
    {
     "name": "stdin",
     "output_type": "stream",
     "text": [
      "Enter the word to be reversed.. retsof\n"
     ]
    },
    {
     "name": "stdout",
     "output_type": "stream",
     "text": [
      "Entered string:  retsof\n",
      "Reversed string:  foster\n"
     ]
    }
   ],
   "source": [
    "# Take the input from the User\n",
    "string1 = input(\"Enter the word to be reversed..\")\n",
    "\n",
    "# Print the entered string before reversing it.\n",
    "print(\"Entered string: \", string1)\n",
    "\n",
    "# Print the string after reverse. Here reverse slicing is used for reversal of a string\n",
    "print(\"Reversed string: \", string1[::-1])"
   ]
  },
  {
   "cell_type": "markdown",
   "id": "674595a4-8cb6-4867-8f4b-3e71516a5a18",
   "metadata": {},
   "source": [
    "4. Write a program that takes a string as input and checks if it is a palindrome (reads the same forwards and backwards)."
   ]
  },
  {
   "cell_type": "code",
   "execution_count": 7,
   "id": "89e8f4f7-edd9-4f9a-af50-f7ec4c056a25",
   "metadata": {},
   "outputs": [
    {
     "name": "stdin",
     "output_type": "stream",
     "text": [
      "Enter the string to be checked for palindrome.. racecar\n"
     ]
    },
    {
     "name": "stdout",
     "output_type": "stream",
     "text": [
      "The input string is a palindrome.\n"
     ]
    }
   ],
   "source": [
    "#Take the input from the user\n",
    "str1 = input(\"Enter the string to be checked for palindrome..\")\n",
    "\n",
    "# Reverse the string using reverse slicing\n",
    "rev_string = str1[::-1]\n",
    "\n",
    "# Compare string with its reverse for palindrome check\n",
    "if str1 == rev_string:\n",
    "    print(\"The input string is a palindrome.\")\n",
    "else:\n",
    "    print(\"The input string is not a palindrome.\")"
   ]
  },
  {
   "cell_type": "markdown",
   "id": "951df1ad-207f-4bae-a7a6-dae84af3c77d",
   "metadata": {},
   "source": [
    "5. Create a program that takes a string as input and removes all the spaces from it. Print the modified string without spaces."
   ]
  },
  {
   "cell_type": "code",
   "execution_count": 8,
   "id": "cfbd0802-16e1-4591-98e8-ede2e70fd325",
   "metadata": {},
   "outputs": [
    {
     "name": "stdin",
     "output_type": "stream",
     "text": [
      "Enter the string from which spaces need to be removed:        'Good Morning..!'    \n"
     ]
    },
    {
     "name": "stdout",
     "output_type": "stream",
     "text": [
      "The String after removal of all the spaces: 'Good Morning..!'\n"
     ]
    }
   ],
   "source": [
    "# Take the input from the user. The string should contain spaces.\n",
    "str_wtSpaces = input(\"Enter the string from which spaces need to be removed:\")\n",
    "\n",
    "# Remove all spaces by using rstrip and lstrip methods\n",
    "str_withoutSpaces = str_wtSpaces.rstrip().lstrip()\n",
    "\n",
    "# Print the string after removing all the spaces\n",
    "print(\"The String after removal of all the spaces:\", str_withoutSpaces)"
   ]
  }
 ],
 "metadata": {
  "kernelspec": {
   "display_name": "Python 3 (ipykernel)",
   "language": "python",
   "name": "python3"
  },
  "language_info": {
   "codemirror_mode": {
    "name": "ipython",
    "version": 3
   },
   "file_extension": ".py",
   "mimetype": "text/x-python",
   "name": "python",
   "nbconvert_exporter": "python",
   "pygments_lexer": "ipython3",
   "version": "3.10.8"
  }
 },
 "nbformat": 4,
 "nbformat_minor": 5
}

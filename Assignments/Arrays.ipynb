{
 "cells": [
  {
   "cell_type": "markdown",
   "id": "8139a45f-f1b0-4cff-a0db-23861a6d39e1",
   "metadata": {},
   "source": [
    "## 1. Given an array, check if it contains any duplicates or not. \n",
    "## arr = [1, 2, 4, 2, 5, 9] \n",
    "## Output = True"
   ]
  },
  {
   "cell_type": "code",
   "execution_count": 6,
   "id": "6d57f33d-30ec-43a6-a085-13f10e2cbf8e",
   "metadata": {},
   "outputs": [
    {
     "name": "stdout",
     "output_type": "stream",
     "text": [
      "The array contains duplicates.\n",
      "The array contains duplicates.\n"
     ]
    }
   ],
   "source": [
    "def hasDuplicates(arr):\n",
    "  # Create a set to store unique elements\n",
    "  unique_ele = set()\n",
    "\n",
    "  # Iterate through the array\n",
    "  for ele in arr:\n",
    "    # If the element is already in the set, it's a duplicate\n",
    "    if ele in unique_ele:\n",
    "        return True\n",
    "\n",
    "    # Add the element to the set\n",
    "    unique_ele.add(ele)\n",
    "\n",
    "  # No duplicates\n",
    "  return False\n",
    "\n",
    "arr = [1, 2, 4, 2, 5, 9]\n",
    "result = hasDuplicates(arr)\n",
    "if result:\n",
    "    print(\"The array contains duplicates.\")\n",
    "else:\n",
    "    print(\"The array does not contain duplicates.\")\n",
    "\n",
    "# Approach 2\n",
    "\n",
    "def hasDuplicates(arr):\n",
    "    # Convert the array to a set\n",
    "    unique_ele = set(arr)\n",
    "    \n",
    "    # If the lengths are different, there are duplicates\n",
    "    return len(arr) != len(unique_ele)\n",
    "\n",
    "arr = [1, 2, 4, 2, 5, 9]\n",
    "result = hasDuplicates(arr)\n",
    "\n",
    "if result:\n",
    "    print(\"The array contains duplicates.\")\n",
    "else:\n",
    "    print(\"The array does not contain duplicates.\")\n"
   ]
  },
  {
   "cell_type": "markdown",
   "id": "7857d171-ec0f-434b-a49f-b68d58d66257",
   "metadata": {},
   "source": [
    "## 2. Given an array and an integer k, rotate the array to the right by k steps. \n",
    "## arr = [1, 2, 3, 4, 5, 6, 7] k = 3 \n",
    "## Output = [5, 6, 7, 1, 2, 3, 4]"
   ]
  },
  {
   "cell_type": "code",
   "execution_count": 14,
   "id": "a6cab989-b5d9-45a2-8612-6e73cd4d0b85",
   "metadata": {},
   "outputs": [
    {
     "name": "stdout",
     "output_type": "stream",
     "text": [
      "rotation index:  3\n",
      "[5, 6, 7]\n",
      "[1, 2, 3, 4]\n",
      "Original Array: [1, 2, 3, 4, 5, 6, 7]\n",
      "Rotated Array: [5, 6, 7, 1, 2, 3, 4]\n"
     ]
    }
   ],
   "source": [
    "def rotate_array(arr, i):\n",
    "    # Calculate the rotation index\n",
    "    i = i % len(arr)\n",
    "    print(\"rotation index: \",i)\n",
    "    \n",
    "    # Rotate the array using slicing\n",
    "    print(arr[-i:])\n",
    "    print(arr[:-i])\n",
    "    rotated_array = arr[-i:] + arr[:-i]\n",
    "    \n",
    "    return rotated_array\n",
    "\n",
    "arr = [1, 2, 3, 4, 5, 6, 7]\n",
    "i = 3\n",
    "result = rotate_array(arr, i)\n",
    "\n",
    "print(\"Original Array:\", arr)\n",
    "print(\"Rotated Array:\", result)\n"
   ]
  },
  {
   "cell_type": "markdown",
   "id": "dc117456-74bb-48ef-9e32-83edda4f5c8f",
   "metadata": {},
   "source": [
    "## 3. Reverse the given array in-place, means without using any extra data structure. \n",
    "## arr = [2, 4, 5, 7, 9, 12] \n",
    "## Output = [12, 9, 7, 5, 4, 2]"
   ]
  },
  {
   "cell_type": "code",
   "execution_count": 12,
   "id": "10606c4d-aeb4-4e39-a554-3ba40756f782",
   "metadata": {},
   "outputs": [
    {
     "name": "stdout",
     "output_type": "stream",
     "text": [
      "Original Array: [2, 4, 5, 7, 9, 12]\n",
      "Reversed Array: [12, 9, 7, 5, 4, 2]\n"
     ]
    }
   ],
   "source": [
    "def reverse_array(arr):\n",
    "    # Get the length of the array\n",
    "    n = len(arr)\n",
    "    \n",
    "    # Iterate through the first half of the array and swap elements\n",
    "    for i in range(n // 2):\n",
    "        # Swap elements at indices i and n-i-1\n",
    "        arr[i], arr[n - i - 1] = arr[n - i - 1], arr[i]\n",
    "\n",
    "arr = [2, 4, 5, 7, 9, 12]\n",
    "print(\"Original Array:\", arr)\n",
    "\n",
    "# Reverse the array\n",
    "reverse_array(arr)\n",
    "print(\"Reversed Array:\", arr)\n",
    "\n",
    "# approch 2\n",
    "#arr = arr[-1::-1]\n",
    "#print(\"Reversed Array:\", arr)"
   ]
  },
  {
   "cell_type": "markdown",
   "id": "3f8f6b8b-b0fe-41fa-89e5-6517a124aa1d",
   "metadata": {},
   "source": [
    "# 4. Given an array of integers, find the maximum element in an array\n",
    "# arr = [10, 5, 20, 8, 15]\n",
    "# Output = 20"
   ]
  },
  {
   "cell_type": "code",
   "execution_count": 17,
   "id": "177dc096-8b2b-4ab3-a44f-0847f8945714",
   "metadata": {},
   "outputs": [
    {
     "name": "stdout",
     "output_type": "stream",
     "text": [
      "Maximum element in array [10, 5, 20, 8, 15] is 20\n"
     ]
    }
   ],
   "source": [
    "def finaMaxElement(arr):\n",
    "    max_ele = arr[0]\n",
    "    for i in range(1, len(arr)):\n",
    "        if arr[i] > max_ele:\n",
    "            max_ele = arr[i]\n",
    "    return max_ele\n",
    "\n",
    "arr = [10,5,20,8,15]\n",
    "\n",
    "print(f\"Maximum element in array {arr} is {finaMaxElement(arr)}\")\n",
    "            "
   ]
  },
  {
   "cell_type": "markdown",
   "id": "54f82bcc-a749-478c-a91a-3e55d503174d",
   "metadata": {},
   "source": [
    "## 5. Given a sorted array, remove the duplicate element without using any extra data structure. \n",
    "## arr = [1, 1, 2, 2, 2, 3, 3, 4, 4, 4, 5, 5] \n",
    "## Output = [1, 2, 3, 4, 5]"
   ]
  },
  {
   "cell_type": "code",
   "execution_count": 10,
   "id": "b7c3d1b2-f376-42f1-be65-023f3c147aae",
   "metadata": {},
   "outputs": [
    {
     "name": "stdout",
     "output_type": "stream",
     "text": [
      "Original Array: [1, 1, 2, 2, 2, 3, 3, 4, 4, 4, 5, 5]\n",
      "Array without Duplicates: [1, 2, 3, 4, 5]\n"
     ]
    }
   ],
   "source": [
    "def remove_duplicates(arr):\n",
    "\n",
    "    # Initialize an index to store the next non-duplicate element\n",
    "    unique_index = 0\n",
    "\n",
    "    # Iterate through the array to remove duplicates\n",
    "    for i in range(1, len(arr)):\n",
    "        # If the current element is not equal to the previous one, update the array\n",
    "        if arr[i] != arr[unique_index]:\n",
    "            unique_index += 1\n",
    "            arr[unique_index] = arr[i]\n",
    "\n",
    "    return arr[:unique_index + 1]\n",
    "\n",
    "# Example usage\n",
    "arr = [1, 1, 2, 2, 2, 3, 3, 4, 4, 4, 5, 5]\n",
    "print(\"Original Array:\", arr)\n",
    "\n",
    "# Remove duplicates in-place\n",
    "print(\"Array without Duplicates:\", remove_duplicates(arr))"
   ]
  },
  {
   "cell_type": "code",
   "execution_count": null,
   "id": "b5c6ef64-0a13-4809-9f8a-93c33e7a5a1a",
   "metadata": {},
   "outputs": [],
   "source": []
  }
 ],
 "metadata": {
  "kernelspec": {
   "display_name": "Python 3 (ipykernel)",
   "language": "python",
   "name": "python3"
  },
  "language_info": {
   "codemirror_mode": {
    "name": "ipython",
    "version": 3
   },
   "file_extension": ".py",
   "mimetype": "text/x-python",
   "name": "python",
   "nbconvert_exporter": "python",
   "pygments_lexer": "ipython3",
   "version": "3.10.8"
  }
 },
 "nbformat": 4,
 "nbformat_minor": 5
}

{
 "cells": [
  {
   "cell_type": "markdown",
   "id": "86b47d4f-860e-4702-83a0-0145887ab41a",
   "metadata": {},
   "source": [
    "Problem 1: Bank Account Create a class representing a bank account with attributes like account number, account holder name, and balance. Implement methods to deposit and withdraw money from the account."
   ]
  },
  {
   "cell_type": "code",
   "execution_count": 4,
   "id": "fef1683a-faa4-4d27-a0a6-7a742e512e9b",
   "metadata": {},
   "outputs": [
    {
     "name": "stdout",
     "output_type": "stream",
     "text": [
      "Deposited Rs.500. New balance: Rs.1550\n",
      "Withdraw Rs.200. New balance: Rs.1350\n",
      "Invalid withdrawal amount or insufficient balance.\n"
     ]
    }
   ],
   "source": [
    "class BankAccount:\n",
    "    def __init__(self, account_number, account_holder_name, initial_balance=0.0):\n",
    "        self.account_number = account_number\n",
    "        self.account_holder_name = account_holder_name\n",
    "        self.balance = initial_balance\n",
    "\n",
    "    def deposit(self, amount):\n",
    "        if amount > 0:\n",
    "            self.balance += amount\n",
    "            return f\"Deposited Rs.{amount}. New balance: Rs.{self.balance}\"\n",
    "        else:\n",
    "            return \"Invalid deposit amount.\"\n",
    "\n",
    "    def withdraw(self, amount):\n",
    "        if amount > 0 and amount <= self.balance:\n",
    "            self.balance -= amount\n",
    "            return f\"Withdraw Rs.{amount}. New balance: Rs.{self.balance}\"\n",
    "        else:\n",
    "            return \"Invalid withdrawal amount or insufficient balance.\"\n",
    "        \n",
    "my_account = BankAccount(\"012345\", \"Trupti D\", 1050)\n",
    "\n",
    "# Deposit and withdraw money\n",
    "print(my_account.deposit(500))\n",
    "print(my_account.withdraw(200))\n",
    "\n",
    "# Withdraw more than the balance\n",
    "print(my_account.withdraw(1500))"
   ]
  },
  {
   "cell_type": "markdown",
   "id": "fe889ae6-831f-4dfc-97fa-da52995ec764",
   "metadata": {},
   "source": [
    "Problem 2: Employee Management Create a class representing an employee with attributes like employee ID, name, and salary. Implement methods to calculate the yearly bonus and display employee details."
   ]
  },
  {
   "cell_type": "code",
   "execution_count": 13,
   "id": "34b269c5-441b-49d3-8b4c-c1b61ae84cd2",
   "metadata": {},
   "outputs": [
    {
     "name": "stdout",
     "output_type": "stream",
     "text": [
      "Yearly Bonus: Rs.5200.0\n",
      "Employee ID: 1\n",
      "Name: Jayesh S\n",
      "Salary: Rs.65000\n"
     ]
    }
   ],
   "source": [
    "class Employee:\n",
    "    def __init__(self, employee_id, name, salary):\n",
    "        self.employee_id = employee_id\n",
    "        self.name = name\n",
    "        self.salary = salary\n",
    "\n",
    "    def calculate_yearly_bonus(self, bonus_percentage):\n",
    "        bonus_amount = (bonus_percentage / 100) * self.salary\n",
    "        return bonus_amount\n",
    "\n",
    "    def display_details(self):\n",
    "        return f\"Employee ID: {self.employee_id}\\nName: {self.name}\\nSalary: Rs.{self.salary}\"\n",
    "\n",
    "# Create a new employee object\n",
    "employee1 = Employee(1, \"Jayesh S\", 65000)\n",
    "\n",
    "# Calculate and display the yearly bonus\n",
    "bonus_percentage = 8\n",
    "bonus = employee1.calculate_yearly_bonus(bonus_percentage)\n",
    "print(f\"Yearly Bonus: Rs.{bonus}\")\n",
    "\n",
    "# Display employee details\n",
    "print(employee1.display_details())"
   ]
  },
  {
   "cell_type": "markdown",
   "id": "dc85e086-a28b-4cda-8ad4-fbddbb2237f1",
   "metadata": {},
   "source": [
    "Problem 3: Vehicle Rental Create a class representing a vehicle rental system. Implement methods to rent a vehicle, return a vehicle, and display available vehicles."
   ]
  },
  {
   "cell_type": "code",
   "execution_count": 20,
   "id": "5d415bd1-50b2-4817-b024-ba687ed495ba",
   "metadata": {},
   "outputs": [
    {
     "name": "stdout",
     "output_type": "stream",
     "text": [
      "Added 10 quantity of (ID: Car) to the available vehicles.\n",
      "Added 5 quantity of (ID: Bike) to the available vehicles.\n",
      "Added 30 quantity of (ID: Scooter) to the available vehicles.\n",
      "Rented (ID: Bike) to Sush.\n",
      "Rented (ID: Car) to Mihir.\n",
      "******************************\n",
      "Available Vehicles:\n",
      "Car: Available Qty 9 \n",
      "Bike: Available Qty 4 \n",
      "Scooter: Available Qty 30 \n",
      "Returned (ID: Car) by Mihir.\n",
      "******************************\n",
      "Available Vehicles:\n",
      "Car: Available Qty 10 \n",
      "Bike: Available Qty 4 \n",
      "Scooter: Available Qty 30 \n"
     ]
    }
   ],
   "source": [
    "class VehicleRentalSystem:\n",
    "    def __init__(self):\n",
    "        self.available_vehicles = {}\n",
    "        self.rented_vehicles = {}\n",
    "\n",
    "    def add_vehicle(self, vehicle_id, vehicle_qty):\n",
    "            self.available_vehicles[vehicle_id] = vehicle_qty\n",
    "            return f\"Added {vehicle_qty} quantity of (ID: {vehicle_id}) to the available vehicles.\"\n",
    "\n",
    "    def rent_vehicle(self, vehicle_id, customer_name):\n",
    "        if vehicle_id in self.available_vehicles:\n",
    "            self.available_vehicles[vehicle_id] = self.available_vehicles[vehicle_id] - 1\n",
    "            self.rented_vehicles[customer_name] = vehicle_id\n",
    "            return f\"Rented (ID: {vehicle_id}) to {customer_name}.\"\n",
    "        else:\n",
    "            return f\"Vehicle with ID {vehicle_id} is not available for rent.\"\n",
    "\n",
    "    def return_vehicle(self, customer_name):\n",
    "        if customer_name in self.rented_vehicles:\n",
    "            vehicle_id = self.rented_vehicles.pop(customer_name)\n",
    "            self.available_vehicles[vehicle_id] = self.available_vehicles[vehicle_id] + 1\n",
    "            return f\"Returned (ID: {vehicle_id}) by {customer_name}.\"\n",
    "        else:\n",
    "            return f\"Vehicle with ID {vehicle_id} is not currently rented.\"\n",
    "\n",
    "    def display_available_vehicles(self):\n",
    "        return \"Available Vehicles:\\n\" + \"\\n\".join([f\"{vehicle_id}: Available Qty {vehicle_qty} \" for vehicle_id, vehicle_qty in self.available_vehicles.items()])\n",
    "\n",
    "\n",
    "rental_system = VehicleRentalSystem()\n",
    "\n",
    "print(rental_system.add_vehicle(\"Car\", 10))\n",
    "print(rental_system.add_vehicle(\"Bike\", 5))\n",
    "print(rental_system.add_vehicle(\"Scooter\", 30))\n",
    "\n",
    "print(rental_system.rent_vehicle(\"Bike\", \"Sush\"))\n",
    "print(rental_system.rent_vehicle(\"Car\", \"Mihir\"))\n",
    "\n",
    "print(\"*\"*30)\n",
    "print(rental_system.display_available_vehicles())\n",
    "\n",
    "print(rental_system.return_vehicle(\"Mihir\"))\n",
    "print(\"*\"*30)\n",
    "print(rental_system.display_available_vehicles())\n"
   ]
  },
  {
   "cell_type": "markdown",
   "id": "e0ba969a-8fb5-4921-b46f-521badd28255",
   "metadata": {},
   "source": [
    "Problem 4: Library Catalog Create classes representing a library and a book. Implement methods to add books to the library, borrow books, and display available books."
   ]
  },
  {
   "cell_type": "code",
   "execution_count": 23,
   "id": "ea317fe6-6a7c-4d40-bbaf-0fa20e2702f0",
   "metadata": {},
   "outputs": [
    {
     "name": "stdout",
     "output_type": "stream",
     "text": [
      "Added 'Introduction to Python' to the library catalog.\n",
      "Added 'The C++ Programming Language' to the library catalog.\n",
      "Added 'Python Programming' to the library catalog.\n",
      "****************************************\n",
      "Borrowed 'Introduction to Python'.\n",
      "Borrowed 'The C++ Programming Language'.\n",
      "'Introduction to Python' is already borrowed.\n",
      "****************************************\n",
      "Available Books:\n",
      "Title: Python Programming\n",
      "Author: Bob Williams\n",
      "Serial No.: 55555\n",
      "Status: Available\n"
     ]
    }
   ],
   "source": [
    "class Book:\n",
    "    def __init__(self, title, author, serialno):\n",
    "        self.title = title\n",
    "        self.author = author\n",
    "        self.serialno = serialno\n",
    "        self.available = True\n",
    "    \n",
    "    # Func to print the object\n",
    "    def __str__(self):\n",
    "        return f\"Title: {self.title}\\nAuthor: {self.author}\\nSerial No.: {self.serialno}\\nStatus: {'Available' if self.available else 'Borrowed'}\"\n",
    "\n",
    "class Library:\n",
    "    def __init__(self):\n",
    "        self.books = {}\n",
    "\n",
    "    def add_book(self, book):\n",
    "        if book.serialno not in self.books:\n",
    "            self.books[book.serialno] = book\n",
    "            return f\"Added '{book.title}' to the library catalog.\"\n",
    "        else:\n",
    "            return f\"Book with ISBN {book.serialno} already exists in the catalog.\"\n",
    "\n",
    "    def borrow_book(self, serialno):\n",
    "        if serialno in self.books:\n",
    "            book = self.books[serialno]\n",
    "            if book.available:\n",
    "                book.available = False\n",
    "                return f\"Borrowed '{book.title}'.\"\n",
    "            else:\n",
    "                return f\"'{book.title}' is already borrowed.\"\n",
    "        else:\n",
    "            return f\"Book with Serial No. {serialno} is not in the catalog.\"\n",
    "\n",
    "    def display_available_books(self):\n",
    "        available_books = [book for book in self.books.values() if book.available]\n",
    "        if available_books:\n",
    "            return \"Available Books:\\n\" + \"\\n\\n\".join(str(book) for book in available_books)\n",
    "        else:\n",
    "            return \"No books are currently available in the library.\"\n",
    "\n",
    "\n",
    "library = Library()\n",
    "\n",
    "book1 = Book(\"Introduction to Python\", \"John Smith\", \"12345\")\n",
    "book2 = Book(\"The C++ Programming Language\", \"bjarne stroustrup\", \"67890\")\n",
    "book3 = Book(\"Python Programming\", \"Bob Williams\", \"55555\")\n",
    "\n",
    "print(library.add_book(book1))\n",
    "print(library.add_book(book2))\n",
    "print(library.add_book(book3))\n",
    "print(\"*\"*40)\n",
    "print(library.borrow_book(\"12345\"))\n",
    "print(library.borrow_book(\"67890\"))  \n",
    "print(library.borrow_book(\"12345\")) # Attempt to borrow the first book again\n",
    "print(\"*\"*40)\n",
    "print(library.display_available_books())\n"
   ]
  },
  {
   "cell_type": "markdown",
   "id": "c9eb25b8-9cf9-4133-b5e5-1263d992f67f",
   "metadata": {},
   "source": [
    "Problem 5: Product Inventory Create classes representing a product and an inventory system. Implement methods to add products to the inventory, update product quantity, and display available products."
   ]
  },
  {
   "cell_type": "code",
   "execution_count": 24,
   "id": "aabdfafe-7280-4e11-aa72-2a7127f630c7",
   "metadata": {},
   "outputs": [
    {
     "name": "stdout",
     "output_type": "stream",
     "text": [
      "Added 'TV' to the inventory.\n",
      "Added 'Refrigerator' to the inventory.\n",
      "Added 'Smartphone' to the inventory.\n",
      "****************************************\n",
      "Updated quantity of 'TV' to 35.\n",
      "Updated quantity of 'Refrigerator' to 25.\n",
      "****************************************\n",
      "Available Products:\n",
      "Product ID: 1\n",
      "Name: TV\n",
      "Price: Rs.15000\n",
      "Quantity: 35\n",
      "\n",
      "Product ID: 2\n",
      "Name: Refrigerator\n",
      "Price: Rs.19000\n",
      "Quantity: 25\n",
      "\n",
      "Product ID: 3\n",
      "Name: Smartphone\n",
      "Price: Rs.10000\n",
      "Quantity: 50\n"
     ]
    }
   ],
   "source": [
    "class Product:\n",
    "    def __init__(self, product_id, name, price, quantity):\n",
    "        self.product_id = product_id\n",
    "        self.name = name\n",
    "        self.price = price\n",
    "        self.quantity = quantity\n",
    "\n",
    "    def __str__(self):\n",
    "        return f\"Product ID: {self.product_id}\\nName: {self.name}\\nPrice: Rs.{self.price}\\nQuantity: {self.quantity}\"\n",
    "\n",
    "class InventorySystem:\n",
    "    def __init__(self):\n",
    "        self.products = {}\n",
    "\n",
    "    def add_product(self, product):\n",
    "        if product.product_id not in self.products:\n",
    "            self.products[product.product_id] = product\n",
    "            return f\"Added '{product.name}' to the inventory.\"\n",
    "        else:\n",
    "            return f\"Product with ID {product.product_id} already exists in the inventory.\"\n",
    "\n",
    "    def update_quantity(self, product_id, new_quantity):\n",
    "        if product_id in self.products:\n",
    "            product = self.products[product_id]\n",
    "            product.quantity = new_quantity\n",
    "            return f\"Updated quantity of '{product.name}' to {new_quantity}.\"\n",
    "        else:\n",
    "            return f\"Product with ID {product_id} is not in the inventory.\"\n",
    "\n",
    "    def display_available_products(self):\n",
    "        available_products = [product for product in self.products.values() if product.quantity > 0]\n",
    "        if available_products:\n",
    "            return \"Available Products:\\n\" + \"\\n\\n\".join(str(product) for product in available_products)\n",
    "        else:\n",
    "            return \"No products are currently available in the inventory.\"\n",
    "\n",
    "inventory_system = InventorySystem()\n",
    "\n",
    "product1 = Product(1, \"TV\", 15000, 30)\n",
    "product2 = Product(2, \"Refrigerator\", 19000, 20)\n",
    "product3 = Product(3, \"Smartphone\", 10000, 50)\n",
    "\n",
    "print(inventory_system.add_product(product1))\n",
    "print(inventory_system.add_product(product2))\n",
    "print(inventory_system.add_product(product3))\n",
    "print(\"*\"*40)\n",
    "print(inventory_system.update_quantity(1, 35))\n",
    "print(inventory_system.update_quantity(2, 25))\n",
    "print(\"*\"*40)\n",
    "print(inventory_system.display_available_products())\n"
   ]
  },
  {
   "cell_type": "markdown",
   "id": "b514c142-1a1c-415a-afbd-394ae5e75d57",
   "metadata": {},
   "source": [
    "Problem 6: Shape Calculation Create a class representing a shape with attributes like length, width, and height. Implement methods to calculate the area and perimeter of the shape."
   ]
  },
  {
   "cell_type": "code",
   "execution_count": 10,
   "id": "ee6e3e31-53aa-4f31-b478-6e42fab32f6b",
   "metadata": {},
   "outputs": [
    {
     "name": "stdout",
     "output_type": "stream",
     "text": [
      "Rectangle Area: 24\n",
      "Rectangle Perimeter: 20\n",
      "****************************************\n",
      "Triangle Area: 6.0\n",
      "Triangle Perimeter: 12\n",
      "****************************************\n",
      "Circle Area: 50.26544\n",
      "Circle Perimeter: 25.13272\n"
     ]
    }
   ],
   "source": [
    "class Shape:\n",
    "\n",
    "    # Function will be overridden by child class\n",
    "    def calculate_area(self):\n",
    "        pass\n",
    "\n",
    "    # Function will be overridden by child class\n",
    "    def calculate_perimeter(self):\n",
    "        pass\n",
    "\n",
    "class Rectangle(Shape):\n",
    "    def __init__(self, length=0, width=0):\n",
    "        self.length = length\n",
    "        self.width = width\n",
    "    \n",
    "    def calculate_area(self):\n",
    "        return self.length * self.width\n",
    "\n",
    "    def calculate_perimeter(self):\n",
    "        return 2 * (self.length + self.width)\n",
    "\n",
    "class Triangle(Shape):\n",
    "    def __init__(self, side1=0, side2=0, side3=0):\n",
    "        self.side1 = side1\n",
    "        self.side2 = side2\n",
    "        self.side3 = side3\n",
    "    \n",
    "    def calculate_area(self):\n",
    "        s = (self.side1 + self.side2 + self.side3)/2 # Semi permieter\n",
    "        return (s * (s - self.side1) * (s - self.side2) * (s - self.side3))**0.5\n",
    "    \n",
    "    def calculate_perimeter(self):\n",
    "        return self.side1 + self.side2 + self.side3\n",
    "\n",
    "class Circle(Shape):\n",
    "    def __init__(self, radius=0):\n",
    "        self.radius = radius\n",
    "    \n",
    "    def calculate_area(self):\n",
    "        return 3.14159 * self.radius ** 2\n",
    "    \n",
    "    def calculate_perimeter(self):\n",
    "        return 2 * 3.14159 * self.radius\n",
    "\n",
    "# Example usage:\n",
    "if __name__ == \"__main__\":\n",
    "    rectangle = Rectangle(4, 6)\n",
    "    triangle = Triangle(3,4,5)\n",
    "    circle = Circle(4)\n",
    "\n",
    "    print(f\"Rectangle Area: {rectangle.calculate_area()}\")\n",
    "    print(f\"Rectangle Perimeter: {rectangle.calculate_perimeter()}\")\n",
    "\n",
    "    print(\"*\"*40)    \n",
    "    print(f\"Triangle Area: {triangle.calculate_area()}\")\n",
    "    print(f\"Triangle Perimeter: {triangle.calculate_perimeter()}\")\n",
    "    print(\"*\"*40)    \n",
    "    print(f\"Circle Area: {circle.calculate_area()}\")\n",
    "    print(f\"Circle Perimeter: {circle.calculate_perimeter()}\")"
   ]
  },
  {
   "cell_type": "markdown",
   "id": "6ad64f35-f9a2-4484-8b91-9c4e323dbfff",
   "metadata": {},
   "source": [
    "Problem 7: Student Management Create a class representing a student with attributes like student ID, name, and grades. Implement methods to calculate the average grade and display student details."
   ]
  },
  {
   "cell_type": "code",
   "execution_count": 25,
   "id": "bb0bde7f-2cec-4708-b55b-5882255e8a1c",
   "metadata": {},
   "outputs": [
    {
     "name": "stdout",
     "output_type": "stream",
     "text": [
      "Student ID: S001\n",
      "Name: Khushi\n",
      "Average Grade: 84.33333333333333\n",
      "****************************************\n",
      "Student ID: S002\n",
      "Name: Shruti\n",
      "Average Grade: 91.66666666666667\n"
     ]
    }
   ],
   "source": [
    "class Student:\n",
    "    def __init__(self, student_id, name):\n",
    "        self.student_id = student_id\n",
    "        self.name = name\n",
    "        self.grades = []\n",
    "\n",
    "    def add_grade(self, grade):\n",
    "        self.grades.append(grade)\n",
    "\n",
    "    def calculate_average_grade(self):\n",
    "        if len(self.grades) > 0:\n",
    "            return sum(self.grades) / len(self.grades)\n",
    "        else:\n",
    "            return 0\n",
    "\n",
    "    def display_details(self):\n",
    "        return f\"Student ID: {self.student_id}\\nName: {self.name}\\nAverage Grade: {self.calculate_average_grade()}\"\n",
    "\n",
    "student1 = Student(\"S001\", \"Khushi\")\n",
    "student1.add_grade(85)\n",
    "student1.add_grade(90)\n",
    "student1.add_grade(78)\n",
    "\n",
    "student2 = Student(\"S002\", \"Shruti\")\n",
    "student2.add_grade(92)\n",
    "student2.add_grade(88)\n",
    "student2.add_grade(95)\n",
    "\n",
    "print(student1.display_details())\n",
    "print(\"*\"*40)\n",
    "print(student2.display_details())"
   ]
  },
  {
   "cell_type": "markdown",
   "id": "079e8ff0-f662-4306-8968-c5c6d863b17a",
   "metadata": {},
   "source": [
    "Problem 8: Email Management Create a class representing an email with attributes like sender, recipient, and subject. Implement methods to send an email and display email details."
   ]
  },
  {
   "cell_type": "code",
   "execution_count": 27,
   "id": "886889b7-5a16-46dd-ad1f-b87245c86aea",
   "metadata": {},
   "outputs": [
    {
     "name": "stdout",
     "output_type": "stream",
     "text": [
      "Email sent from abc@example.com to jef@example.com\n",
      "****************************************\n",
      "Sender: abc@example.com\n",
      "Recipient: jef@example.com\n",
      "Subject: Meeting\n",
      "Message: Hello, let's meet at 2 PM.\n",
      "Status: Sent\n",
      "****************************************\n",
      "Sender: cad@example.com\n",
      "Recipient: dev@example.com\n",
      "Subject: Report\n",
      "Message: Attached is the final report.\n",
      "Status: Draft\n"
     ]
    }
   ],
   "source": [
    "class Email:\n",
    "    def __init__(self, sender, recipient, subject, message):\n",
    "        self.sender = sender\n",
    "        self.recipient = recipient\n",
    "        self.subject = subject\n",
    "        self.message = message\n",
    "        self.sent = False\n",
    "\n",
    "    def send_email(self):\n",
    "        if not self.sent:\n",
    "            self.sent = True\n",
    "            return f\"Email sent from {self.sender} to {self.recipient}\"\n",
    "        else:\n",
    "            return \"This email has already been sent.\"\n",
    "\n",
    "    def display_details(self):\n",
    "        return f\"Sender: {self.sender}\\nRecipient: {self.recipient}\\nSubject: {self.subject}\\nMessage: {self.message}\\nStatus: {'Sent' if self.sent else 'Draft'}\"\n",
    "\n",
    "# Example usage:\n",
    "if __name__ == \"__main__\":\n",
    "    email1 = Email(\"abc@example.com\", \"jef@example.com\", \"Meeting\", \"Hello, let's meet at 2 PM.\")\n",
    "    email2 = Email(\"cad@example.com\", \"dev@example.com\", \"Report\", \"Attached is the final report.\")\n",
    "\n",
    "    print(email1.send_email())\n",
    "    print(\"*\"*40)\n",
    "    print(email1.display_details())\n",
    "    print(\"*\"*40)\n",
    "    print(email2.display_details())"
   ]
  },
  {
   "cell_type": "markdown",
   "id": "c0d49fa2-ac24-4731-97d9-8dbcefa78ea9",
   "metadata": {},
   "source": [
    "Problem 9: Social Media Profile Create a class representing a social media profile with attributes like username and posts. Implement methods to add posts, display posts, and search for posts by keyword."
   ]
  },
  {
   "cell_type": "code",
   "execution_count": 11,
   "id": "bd9cab68-1341-4c61-845a-800463688722",
   "metadata": {},
   "outputs": [
    {
     "name": "stdout",
     "output_type": "stream",
     "text": [
      "****************************************\n",
      "Posts by trupz_social:\n",
      "calm over chaos.. Loved the mountains\n",
      "New recipe..\n",
      "Visited the mountains today..!\n",
      "****************************************\n",
      "Search results for 'mountains':\n",
      "calm over chaos.. Loved the mountains\n",
      "Visited the mountains today..!\n"
     ]
    }
   ],
   "source": [
    "class SocialMediaProfile:\n",
    "    def __init__(self, username):\n",
    "        self.username = username\n",
    "        self.posts = []\n",
    "\n",
    "    def add_post(self, content):\n",
    "        self.posts.append(content)\n",
    "\n",
    "    def display_posts(self):\n",
    "        return \"\\n\".join(self.posts)\n",
    "\n",
    "    def search_posts(self, keyword):\n",
    "        matching_posts = [post for post in self.posts if keyword.lower() in post.lower()]\n",
    "        if matching_posts:\n",
    "            return \"\\n\".join(matching_posts)\n",
    "        else:\n",
    "            return \"No posts found matching the keyword.\"\n",
    "\n",
    "# Example usage:\n",
    "if __name__ == \"__main__\":\n",
    "    profile = SocialMediaProfile(\"trupz_social\")\n",
    "\n",
    "    profile.add_post(\"calm over chaos.. Loved the mountains\")\n",
    "    profile.add_post(\"New recipe..\")\n",
    "    profile.add_post(\"Visited the mountains today..!\")\n",
    "\n",
    "    print(\"*\"*40)\n",
    "    print(f\"Posts by {profile.username}:\")\n",
    "    print(profile.display_posts())\n",
    "    print(\"*\"*40) \n",
    "\n",
    "    keyword = \"mountains\"\n",
    "    print(f\"Search results for '{keyword}':\")\n",
    "    print(profile.search_posts(keyword))\n"
   ]
  },
  {
   "cell_type": "markdown",
   "id": "09348f3e-862e-4696-87c3-7ea6eca0960c",
   "metadata": {},
   "source": [
    "Problem 10: ToDo List Create a class representing a ToDo list with attributes like tasks and due dates. Implement methods to add tasks, mark tasks as completed, and display pending tasks."
   ]
  },
  {
   "cell_type": "code",
   "execution_count": 15,
   "id": "c65c6967-b368-40b8-89a9-c608d87a8f1d",
   "metadata": {},
   "outputs": [
    {
     "name": "stdout",
     "output_type": "stream",
     "text": [
      "Task 'Buy groceries' added with a due date of 2023-11-04.\n",
      "Task 'Prepare Report' added with a due date of 2023-11-05.\n",
      "Task 'Buy groceries' already exists in the list.\n",
      "**********Pending tasks**********\n",
      "Task: Buy groceries, Due Date: 2023-11-04\n",
      "Task: Prepare Report, Due Date: 2023-11-05\n",
      "Task 'Buy groceries' marked as completed.\n",
      "Task 'send mail' is not in the list.\n",
      "**********Pending tasks**********\n",
      "Task: Prepare Report, Due Date: 2023-11-05\n"
     ]
    }
   ],
   "source": [
    "class ToDoList:\n",
    "    def __init__(self):\n",
    "        self.tasks = {}\n",
    "\n",
    "    def add_task(self, task, due_date):\n",
    "        if task not in self.tasks:\n",
    "            self.tasks[task] = due_date\n",
    "            return f\"Task '{task}' added with a due date of {due_date}.\"\n",
    "        else:\n",
    "            return f\"Task '{task}' already exists in the list.\"\n",
    "\n",
    "    def mark_task_completed(self, task):\n",
    "        if task in self.tasks:\n",
    "            del self.tasks[task]\n",
    "            return f\"Task '{task}' marked as completed.\"\n",
    "        else:\n",
    "            return f\"Task '{task}' is not in the list.\"\n",
    "\n",
    "    def display_pending_tasks(self):\n",
    "        print(\"*\"*10 + \"Pending tasks\" + \"*\"*10)\n",
    "        if self.tasks:\n",
    "            return \"\\n\".join([f\"Task: {task}, Due Date: {due_date}\" for task, due_date in self.tasks.items()])\n",
    "        else:\n",
    "            return \"No pending tasks in the list.\"\n",
    "\n",
    "# Example usage:\n",
    "if __name__ == \"__main__\":\n",
    "    todo_list = ToDoList()\n",
    "\n",
    "    print(todo_list.add_task(\"Buy groceries\", \"2023-11-04\"))\n",
    "    print(todo_list.add_task(\"Prepare Report\", \"2023-11-05\"))\n",
    "    print(todo_list.add_task(\"Buy groceries\", \"2023-11-04\"))  # Trying to add same task\n",
    "\n",
    "    print(todo_list.display_pending_tasks())\n",
    "\n",
    "    print(todo_list.mark_task_completed(\"Buy groceries\"))\n",
    "    print(todo_list.mark_task_completed(\"send mail\"))\n",
    "\n",
    "    print(todo_list.display_pending_tasks())\n"
   ]
  }
 ],
 "metadata": {
  "kernelspec": {
   "display_name": "Python 3 (ipykernel)",
   "language": "python",
   "name": "python3"
  },
  "language_info": {
   "codemirror_mode": {
    "name": "ipython",
    "version": 3
   },
   "file_extension": ".py",
   "mimetype": "text/x-python",
   "name": "python",
   "nbconvert_exporter": "python",
   "pygments_lexer": "ipython3",
   "version": "3.10.8"
  }
 },
 "nbformat": 4,
 "nbformat_minor": 5
}

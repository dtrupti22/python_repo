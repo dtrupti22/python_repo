{
 "cells": [
  {
   "cell_type": "markdown",
   "id": "90db8b51-9ed4-4f69-9449-4ce0cdf21f61",
   "metadata": {},
   "source": [
    "### For Loop"
   ]
  },
  {
   "cell_type": "markdown",
   "id": "143201dc-fe55-4710-a62e-8ce68220253d",
   "metadata": {},
   "source": [
    "1.\tWrite a Python program to print numbers from 1 to 10 using a for loop"
   ]
  },
  {
   "cell_type": "code",
   "execution_count": 5,
   "id": "f6452347-c1f1-483f-be19-5f9ea8c713fb",
   "metadata": {},
   "outputs": [
    {
     "name": "stdout",
     "output_type": "stream",
     "text": [
      "1\n",
      "2\n",
      "3\n",
      "4\n",
      "5\n",
      "6\n",
      "7\n",
      "8\n",
      "9\n",
      "10\n"
     ]
    }
   ],
   "source": [
    "# Run for loop for the range of 1 to 10\n",
    "for i in range(1, 11):\n",
    "    # Print the number\n",
    "    print(i)"
   ]
  },
  {
   "cell_type": "markdown",
   "id": "3b8904ed-d7e1-4309-8aa2-35f53cb0eea4",
   "metadata": {},
   "source": [
    "2.\tExplain the difference between a for loop and a while loop in Python."
   ]
  },
  {
   "cell_type": "code",
   "execution_count": 3,
   "id": "b5caf632-a276-4ae8-bdc7-9832d0ed78a3",
   "metadata": {},
   "outputs": [
    {
     "name": "stdout",
     "output_type": "stream",
     "text": [
      "1\n",
      "2\n",
      "3\n",
      "4\n",
      "5\n"
     ]
    },
    {
     "name": "stdin",
     "output_type": "stream",
     "text": [
      "Do you want to exit y/n y\n"
     ]
    },
    {
     "name": "stdout",
     "output_type": "stream",
     "text": [
      "Exited\n"
     ]
    }
   ],
   "source": [
    "#1. 'for' loop iterates over a sequence of values, while a 'while' loop iterates as long as a condition is true.\n",
    "#e.g This for loop will iterate over the numbers from 1 to 5\n",
    "for i in range(1, 6):\n",
    "    print(i)\n",
    "\n",
    "while True:\n",
    "    if input(\"Do you want to exit y/n\").lower() == \"y\":\n",
    "        print(\"Exited\")\n",
    "        break\n",
    "#2.  For loops are efficient than while loops as no. of iterations are known in advance and compiler can optimize the loop.\n",
    "\n",
    "#3. For Loopis less prone to infinite loops since the number of iterations is known and finite.whereas while loop is \n",
    "# more susceptible to infinite loops if the condition is not correctly updated within the loop.\n"
   ]
  },
  {
   "cell_type": "markdown",
   "id": "dd75f96e-b5bf-44c2-9c98-a4e0f582b06f",
   "metadata": {},
   "source": [
    "3.\tWrite a Python program to calculate the sum of all numbers from 1 to 100 using a for loop."
   ]
  },
  {
   "cell_type": "code",
   "execution_count": 6,
   "id": "8f765576-2039-4286-8e2c-7a1d06fba28b",
   "metadata": {},
   "outputs": [
    {
     "name": "stdout",
     "output_type": "stream",
     "text": [
      "sum of numbers from 1 to 100 is:  5050\n"
     ]
    }
   ],
   "source": [
    "summation = 0\n",
    "# Run for loop for the range of 1 to 100\n",
    "for num in range(1, 101):\n",
    "    summation += num\n",
    "\n",
    "print(\"sum of numbers from 1 to 100 is: \", summation)"
   ]
  },
  {
   "cell_type": "markdown",
   "id": "dec42582-0843-4c39-bc3e-3e28607f49fc",
   "metadata": {},
   "source": [
    "4.\tHow do you iterate through a list using a for loop in Python?"
   ]
  },
  {
   "cell_type": "code",
   "execution_count": 7,
   "id": "70f40308-d5fe-475a-9234-2fa0353ab062",
   "metadata": {},
   "outputs": [
    {
     "name": "stdout",
     "output_type": "stream",
     "text": [
      "1\n",
      "2\n",
      "3\n",
      "4\n",
      "5\n",
      "6\n",
      "7\n",
      "8\n"
     ]
    }
   ],
   "source": [
    "lst = [1,2,3,4,5,6,7,8]\n",
    "\n",
    "for ele in lst:\n",
    "    print(ele)"
   ]
  },
  {
   "cell_type": "markdown",
   "id": "acf6a8f4-5ae9-4f5b-9a5b-18b3382a7aa8",
   "metadata": {},
   "source": [
    "5.\tWrite a Python program to find the product of all elements in a list using a for loop."
   ]
  },
  {
   "cell_type": "code",
   "execution_count": 12,
   "id": "2ddc27ab-76c6-4f1c-8685-2eacf561af8d",
   "metadata": {},
   "outputs": [
    {
     "name": "stdout",
     "output_type": "stream",
     "text": [
      "Product of all elements in list [1, 2, 12, 4, 6, 9, 3] is 15552.\n"
     ]
    }
   ],
   "source": [
    "numbers = [1,2,12,4,6,9,3]\n",
    "product = 1\n",
    "\n",
    "for num in numbers:\n",
    "    product *= num\n",
    "\n",
    "print(f\"Product of all elements in list {numbers} is {product}.\")"
   ]
  },
  {
   "cell_type": "markdown",
   "id": "716b3859-3836-46b1-a288-c6d36e41761c",
   "metadata": {},
   "source": [
    "6.\tCreate a Python program that prints all even numbers from 1 to 20 using a for loop."
   ]
  },
  {
   "cell_type": "code",
   "execution_count": 15,
   "id": "1db73657-d1c5-4935-8abd-5d813a9a1236",
   "metadata": {},
   "outputs": [
    {
     "name": "stdout",
     "output_type": "stream",
     "text": [
      "The even numbers in the list [23, 11, 44, 89, 12, 56, 63, 78] are: [44, 12, 56, 78]\n"
     ]
    }
   ],
   "source": [
    "# Declare list of numbers and sum variable\n",
    "numbers = [23, 11, 44, 89,12, 56, 63,78]\n",
    "even_num = []\n",
    "\n",
    "for num in numbers:\n",
    "    if num %2 == 0:\n",
    "        even_num.append(num)\n",
    "\n",
    "print(f\"The even numbers in the list {numbers} are: {even_num}\")"
   ]
  },
  {
   "cell_type": "markdown",
   "id": "92b22a95-c961-4324-bf2b-df59bacae0fd",
   "metadata": {},
   "source": [
    "7.\tWrite a Python program that calculates the factorial of a number using a for loop."
   ]
  },
  {
   "cell_type": "code",
   "execution_count": 17,
   "id": "6b1881fc-aba4-4909-bb59-1165f2669390",
   "metadata": {},
   "outputs": [
    {
     "name": "stdin",
     "output_type": "stream",
     "text": [
      "Enter the number:  5\n"
     ]
    },
    {
     "name": "stdout",
     "output_type": "stream",
     "text": [
      "Factorial of number 5 is: 120\n"
     ]
    }
   ],
   "source": [
    "# get the user input \n",
    "\n",
    "number = int(input(\"Enter the number: \"))\n",
    "\n",
    "# Declare result variable and initialize it o 1 as 0 and 1! is 1\n",
    "fact = 1\n",
    "\n",
    "if number < 0:\n",
    "    print(\"Please enter positive number\")\n",
    "else:\n",
    "    for i in range(2,number+1):\n",
    "        fact*=i\n",
    "    print(f\"Factorial of number {number} is: {fact}\")"
   ]
  },
  {
   "cell_type": "markdown",
   "id": "cc83918f-4eaa-42a0-934e-89b2f8721941",
   "metadata": {},
   "source": [
    "8.\tHow can you iterate through the characters of a string using a for loop in Python?"
   ]
  },
  {
   "cell_type": "code",
   "execution_count": 19,
   "id": "7e3bd677-6ce0-4521-a038-54f0e1c975b2",
   "metadata": {},
   "outputs": [
    {
     "name": "stdout",
     "output_type": "stream",
     "text": [
      "i\n",
      "n\n",
      "s\n",
      "t\n",
      "a\n",
      "n\n",
      "t\n",
      "a\n",
      "n\n",
      "e\n",
      "o\n",
      "u\n",
      "s\n"
     ]
    }
   ],
   "source": [
    "#Define a string\n",
    "string = \"instantaneous\"\n",
    "\n",
    "# Iterate through string and print each character\n",
    "for ch in string:\n",
    "    print(ch)"
   ]
  },
  {
   "cell_type": "markdown",
   "id": "e270c239-cbbe-4fed-be39-b4bfed114317",
   "metadata": {},
   "source": [
    "9.\tWrite a Python program to find the largest number in a list using a for loop."
   ]
  },
  {
   "cell_type": "code",
   "execution_count": 22,
   "id": "7ea2ca8b-d4bc-452d-be66-4c5601ad3f4f",
   "metadata": {},
   "outputs": [
    {
     "name": "stdout",
     "output_type": "stream",
     "text": [
      "The largest number in list [12, 34, 1, 2, 4, 13, 23] is 34\n"
     ]
    }
   ],
   "source": [
    "# Define a number list\n",
    "num = [12,34,1,2,4,13,23]\n",
    "\n",
    "#Declare largest variable\n",
    "largest = num[0]\n",
    "\n",
    "for i in range(1,len(num)):\n",
    "    if num[i] > largest:\n",
    "        largest = num[i]\n",
    "\n",
    "print(f\"The largest number in list {num} is {largest}\")\n"
   ]
  },
  {
   "cell_type": "markdown",
   "id": "f2f805ec-8fd6-4157-bb3a-b1aab9fc5aa2",
   "metadata": {},
   "source": [
    "10.\tCreate a Python program that prints the Fibonacci sequence up to a specified limit using a for loop."
   ]
  },
  {
   "cell_type": "code",
   "execution_count": 23,
   "id": "8bef7009-d507-4b69-94ec-f92422e632e3",
   "metadata": {},
   "outputs": [
    {
     "name": "stdin",
     "output_type": "stream",
     "text": [
      "enter the limit to print fibonacci sequence 5\n"
     ]
    },
    {
     "name": "stdout",
     "output_type": "stream",
     "text": [
      "0\n",
      "1\n",
      "1\n",
      "2\n",
      "3\n"
     ]
    }
   ],
   "source": [
    "limit = int(input(\"enter the limit to print fibonacci sequence\"))\n",
    "\n",
    "x,y,z = 0,1,0\n",
    "for i in range(0, limit):\n",
    "    print(x)\n",
    "    z = x + y\n",
    "    x = y\n",
    "    y = z\n",
    "    "
   ]
  },
  {
   "cell_type": "markdown",
   "id": "bed9b95a-0f67-4cc6-9bb5-de91d84a6bce",
   "metadata": {},
   "source": [
    "11.\tWrite a Python program to count the number of vowels in a given string using a for loop."
   ]
  },
  {
   "cell_type": "code",
   "execution_count": 24,
   "id": "c685650e-0383-4a43-a28e-83fa24f09b06",
   "metadata": {},
   "outputs": [
    {
     "name": "stdin",
     "output_type": "stream",
     "text": [
      "Enter the string to calculate vowels initiative\n"
     ]
    },
    {
     "name": "stdout",
     "output_type": "stream",
     "text": [
      "The vowels count in entered string initiative is:  6\n"
     ]
    }
   ],
   "source": [
    "# get the input string\n",
    "\n",
    "string = input(\"Enter the string to calculate vowels\")\n",
    "\n",
    "# Declare the vowels counter variable\n",
    "vowels_count = 0\n",
    "\n",
    "# Iterate through each element and increment length counter variable\n",
    "for char in string:\n",
    "    if char.lower() in 'aeiou':\n",
    "        vowels_count+=1\n",
    "\n",
    "# Print the output\n",
    "print(f\"The vowels count in entered string {string} is: \", vowels_count)  "
   ]
  },
  {
   "cell_type": "markdown",
   "id": "d725d643-e5a7-4e43-bb5f-e458d3180556",
   "metadata": {},
   "source": [
    "12.\tCreate a Python program that generates a multiplication table for a given number using a for loop."
   ]
  },
  {
   "cell_type": "code",
   "execution_count": 25,
   "id": "307c617b-b613-4899-8db9-25f88f985088",
   "metadata": {},
   "outputs": [
    {
     "name": "stdin",
     "output_type": "stream",
     "text": [
      "Enter the number to print multiplication table:  8\n"
     ]
    },
    {
     "name": "stdout",
     "output_type": "stream",
     "text": [
      "\n",
      "8 x 1 =  8\n",
      "8 x 2 =  16\n",
      "8 x 3 =  24\n",
      "8 x 4 =  32\n",
      "8 x 5 =  40\n",
      "8 x 6 =  48\n",
      "8 x 7 =  56\n",
      "8 x 8 =  64\n",
      "8 x 9 =  72\n",
      "8 x 10 =  80\n"
     ]
    }
   ],
   "source": [
    "#Get the user input\n",
    "number = int(input(\"Enter the number to print multiplication table: \"))\n",
    "\n",
    "print(\"\")\n",
    "\n",
    "for i in range(1, 11):\n",
    "    print(f\"{number} x {i} = \", number*i)"
   ]
  },
  {
   "cell_type": "markdown",
   "id": "f70e0685-a34f-40d2-90a2-b8acf77d0b69",
   "metadata": {},
   "source": [
    "13.\tWrite a Python program to reverse a list using a for loop."
   ]
  },
  {
   "cell_type": "code",
   "execution_count": 2,
   "id": "c44d989b-4b7b-4a65-8e6c-ff61a36d3b9f",
   "metadata": {},
   "outputs": [
    {
     "name": "stdout",
     "output_type": "stream",
     "text": [
      "List before reverse :  [12, 23, 45, 11, 3, 78]\n",
      "List after reverse :  [78, 3, 11, 45, 23, 12]\n"
     ]
    }
   ],
   "source": [
    "# Declare the list\n",
    "og_lst = [12,23,45,11,3,78]\n",
    "\n",
    "# Declare empty list\n",
    "reversed_list = []\n",
    "\n",
    "# Iterate through original list and insert elemnet\n",
    "for value in og_lst:\n",
    "    reversed_list.insert(0,value)\n",
    "    \n",
    "print(\"List before reverse : \", og_lst)\n",
    "print(\"List after reverse : \", reversed_list)"
   ]
  },
  {
   "cell_type": "markdown",
   "id": "bce10455-14ab-4297-b7e3-90af9e240dba",
   "metadata": {},
   "source": [
    "14.\tWrite a Python program to find the common elements between two lists using a for loop."
   ]
  },
  {
   "cell_type": "code",
   "execution_count": 5,
   "id": "7dfcfc6d-e907-4c55-8fb5-1f73330e23cc",
   "metadata": {},
   "outputs": [
    {
     "name": "stdout",
     "output_type": "stream",
     "text": [
      "Common elements in two lists are:  [23, 45, 78]\n"
     ]
    }
   ],
   "source": [
    "ls1 = [12,23,45,1,33,78]\n",
    "ls2 = [2,23,4,11,45,3,78]\n",
    "\n",
    "common = []\n",
    "\n",
    "for ele in ls1:\n",
    "    if ele in ls2:\n",
    "        common.append(ele)\n",
    "\n",
    "print(\"Common elements in two lists are: \", common)"
   ]
  },
  {
   "cell_type": "markdown",
   "id": "fb3f05f9-67e6-48c7-a08b-6960623e82c6",
   "metadata": {},
   "source": [
    "15.\tExplain how to use a for loop to iterate through the keys and values of a dictionary in Python."
   ]
  },
  {
   "cell_type": "code",
   "execution_count": 11,
   "id": "9b2f3e18-6c74-48e5-9993-e879315ca145",
   "metadata": {},
   "outputs": [
    {
     "name": "stdout",
     "output_type": "stream",
     "text": [
      "Keys:\n",
      "name\n",
      "Keys:\n",
      "age\n",
      "Keys:\n",
      "occupation\n",
      "Values:\n",
      "Alice\n",
      "Values:\n",
      "25\n",
      "Values:\n",
      "Software Engineer\n",
      "****************************************\n",
      "name: Alice\n",
      "age: 25\n",
      "occupation: Software Engineer\n",
      "****************************************\n",
      "Key: name, Value: abc\n",
      "Key: age, Value: 22\n",
      "Key: role, Value: Software Developer\n"
     ]
    }
   ],
   "source": [
    "my_dict = {\"name\": \"abc\", \"age\": 22, \"role\": \"Software Developer\"}\n",
    "\n",
    "# Approach 1 - Using key and values functions\n",
    "# Step 1: Define a for loop with the dictionary object as the iterable.\n",
    "# Step 2: Inside the for loop, use the key and value methods to access the current key and value of the dictionary.\n",
    "\n",
    "# Iterate through the keys of the dictionary.\n",
    "for key in my_dictionary:\n",
    "    print(\"Keys:\")\n",
    "    print(key)\n",
    "    \n",
    "# Iterate through the values of the dictionary.\n",
    "for value in my_dictionary.values():\n",
    "    print(\"Values:\")\n",
    "    print(value)\n",
    "\n",
    "print(\"*\"*40)\n",
    "    \n",
    "# Approach 2 - Using items() method\n",
    "# Step 1: Iterate through the keys and values of the dictionary using items() method and print it\n",
    "for key, value in my_dictionary.items():\n",
    "    print(f\"{key}: {value}\")\n",
    "\n",
    "print(\"*\"*40)\n",
    "\n",
    "# Approach 3: Iterating dictionary directly\n",
    "# Step 1: Iterate over the dictionary's keys.\n",
    "# Step 2: Access the value associated with each key\n",
    "\n",
    "for key in my_dict:\n",
    "    value = my_dict[key]\n",
    "    print(f'Key: {key}, Value: {value}')"
   ]
  },
  {
   "cell_type": "markdown",
   "id": "31c57c00-0767-4732-8d72-d66857b239b6",
   "metadata": {},
   "source": [
    "16.\tWrite a Python program to find the GCD (Greatest Common Divisor) of two numbers using a for loop."
   ]
  },
  {
   "cell_type": "code",
   "execution_count": 12,
   "id": "ddfa47a7-ccda-4f2b-b017-cd6b8bed3feb",
   "metadata": {},
   "outputs": [
    {
     "name": "stdin",
     "output_type": "stream",
     "text": [
      "Enter the first number:  12\n",
      "Enter the second number:  24\n"
     ]
    },
    {
     "name": "stdout",
     "output_type": "stream",
     "text": [
      "The greatest common divisor of 12 and 24 is 12.\n"
     ]
    }
   ],
   "source": [
    "# Get input numbers from the user\n",
    "num1 = int(input(\"Enter the first number: \"))\n",
    "num2 = int(input(\"Enter the second number: \"))\n",
    "\n",
    "if num1 > num2:\n",
    "    num1, num2 = num2, num1\n",
    "\n",
    "# Iterate through all possible divisors\n",
    "for i in range(1, num1 + 1):\n",
    "    if num1 % i == 0 and num2 % i == 0:\n",
    "        gcd = i\n",
    "\n",
    "# Print the GCD\n",
    "print(f\"The greatest common divisor of {num1} and {num2} is {gcd}.\")\n"
   ]
  },
  {
   "cell_type": "markdown",
   "id": "e927337e-b61e-457f-91d1-c46b26d945ae",
   "metadata": {},
   "source": [
    "17.\tCreate a Python program that checks if a string is a palindrome using a for loop."
   ]
  },
  {
   "cell_type": "code",
   "execution_count": 14,
   "id": "63d0b364-5320-4e23-8b0a-5586259bb34b",
   "metadata": {},
   "outputs": [
    {
     "name": "stdin",
     "output_type": "stream",
     "text": [
      "Enter the string to check for palindrome malayalam\n"
     ]
    },
    {
     "name": "stdout",
     "output_type": "stream",
     "text": [
      "The inout string malayalam is palindrome.\n"
     ]
    }
   ],
   "source": [
    "# Get the user input\n",
    "string = input(\"Enter the string to check for palindrome\")\n",
    "\n",
    "if string == string[::-1]:\n",
    "    print(f\"The inout string {string} is palindrome.\")\n",
    "else:\n",
    "    print(f\"The inout string {string} is not a palindrome.\")"
   ]
  },
  {
   "cell_type": "markdown",
   "id": "4acc7614-7842-4de1-9ebe-be6bb87660ed",
   "metadata": {},
   "source": [
    "18.\tWrite a Python program to remove duplicates from a list using a for loop."
   ]
  },
  {
   "cell_type": "code",
   "execution_count": 15,
   "id": "0d6ac83f-61b7-4baa-b2bb-9fd784b0051e",
   "metadata": {},
   "outputs": [
    {
     "name": "stdout",
     "output_type": "stream",
     "text": [
      "List after removing duplicates:  [23, 11, 45, 89, 12, 56, 63, 78]\n"
     ]
    }
   ],
   "source": [
    "# Declare list of numbers and sum variable\n",
    "numbers = [23, 11, 45, 89,12, 56, 63, 78, 56, 11]\n",
    "\n",
    "# Declare unique numbers list\n",
    "unique = []\n",
    "\n",
    "for num in numbers:\n",
    "    if num not in unique:\n",
    "        unique.append(num)\n",
    "        \n",
    "print(f\"List after removing duplicates: \", unique)"
   ]
  },
  {
   "cell_type": "markdown",
   "id": "73fa63a2-cea4-4e35-91c0-de09fb53a5d7",
   "metadata": {},
   "source": [
    "19.\tCreate a Python program that counts the number of words in a sentence using a for loop."
   ]
  },
  {
   "cell_type": "code",
   "execution_count": 16,
   "id": "2f96d82a-4836-40e9-8067-d09ae933c55f",
   "metadata": {},
   "outputs": [
    {
     "name": "stdin",
     "output_type": "stream",
     "text": [
      "Enter the string to calculate vowels actual\n"
     ]
    },
    {
     "name": "stdout",
     "output_type": "stream",
     "text": [
      "The vowels count in entered string actual is:  3\n"
     ]
    }
   ],
   "source": [
    "# get the input string\n",
    "\n",
    "string = input(\"Enter the string to calculate vowels\")\n",
    "\n",
    "# Declare the vowels counter variable\n",
    "vowels_count = 0\n",
    "\n",
    "# Iterate through each element and increment length counter variable\n",
    "for char in string:\n",
    "    if char.lower() in 'aeiou':\n",
    "        vowels_count+=1\n",
    "\n",
    "# Print the output\n",
    "print(f\"The vowels count in entered string {string} is: \", vowels_count)  "
   ]
  },
  {
   "cell_type": "markdown",
   "id": "ab6c1cb3-769b-4344-969c-758c06e69dc8",
   "metadata": {},
   "source": [
    "20.\tWrite a Python program to find the sum of all odd numbers from 1 to 50 using a for loop."
   ]
  },
  {
   "cell_type": "code",
   "execution_count": 19,
   "id": "7103323c-b74a-4686-822f-a418cbb63c5f",
   "metadata": {},
   "outputs": [
    {
     "name": "stdout",
     "output_type": "stream",
     "text": [
      "Sum of Odd Numbers from 1 to 50 is: 625\n"
     ]
    }
   ],
   "source": [
    "# declare result variable\n",
    "\n",
    "sum_odd = 0\n",
    "\n",
    "for num in range(1, 51):\n",
    "    if num %2 != 0:\n",
    "        sum_odd+=num\n",
    "\n",
    "print(\"Sum of Odd Numbers from 1 to 50 is:\", sum_odd)"
   ]
  },
  {
   "cell_type": "markdown",
   "id": "a6fa283f-af45-4184-b8c2-99bc9dc9d1c3",
   "metadata": {},
   "source": [
    "21.\tWrite a Python program that checks if a given year is a leap year using a for loop."
   ]
  },
  {
   "cell_type": "code",
   "execution_count": 20,
   "id": "b22e25d9-9977-4134-add4-8908dded54b2",
   "metadata": {},
   "outputs": [
    {
     "name": "stdin",
     "output_type": "stream",
     "text": [
      "Enter the year to be checked for leap year:  2000\n"
     ]
    },
    {
     "name": "stdout",
     "output_type": "stream",
     "text": [
      "Entered year 2000 is Leap Year\n"
     ]
    }
   ],
   "source": [
    "# Step 1: Get input (year) from the user\n",
    "year = int(input(\"Enter the year to be checked for leap year: \"))\n",
    "\n",
    "# If year is divisible by 4 but not a century year or year is divisible by 400 then it is leap year\n",
    "if (year%4==0 and year%100!=0) or (year%400 == 0):\n",
    "    print(f\"Entered year {year} is Leap Year\")\n",
    "else:\n",
    "    print(f\"Entered year {year} is Not a Leap Year\")"
   ]
  },
  {
   "cell_type": "markdown",
   "id": "f7ab0faf-ff81-402e-a159-0277ebf3feb8",
   "metadata": {},
   "source": [
    "22.\tCreate a Python program that calculates the square root of a number using a for loop."
   ]
  },
  {
   "cell_type": "code",
   "execution_count": 7,
   "id": "b142d945-56a6-4ec2-bd42-2a30ca5b77e5",
   "metadata": {},
   "outputs": [
    {
     "name": "stdin",
     "output_type": "stream",
     "text": [
      "Enter the number to calculate square root 69\n"
     ]
    },
    {
     "name": "stdout",
     "output_type": "stream",
     "text": [
      "i: 1\n",
      "i: 2\n",
      "i: 3\n",
      "i: 4\n",
      "i: 5\n",
      "i: 6\n",
      "i: 7\n",
      "i: 8\n",
      "i: 9\n"
     ]
    },
    {
     "data": {
      "text/plain": [
       "9"
      ]
     },
     "execution_count": 7,
     "metadata": {},
     "output_type": "execute_result"
    }
   ],
   "source": [
    "# Define function to calculate the square root\n",
    "\n",
    "def calculateSquareRoot(num):\n",
    "    if num == 0 and num ==1:\n",
    "        return num\n",
    "    \n",
    "    for i in range(1,num):\n",
    "        #print(\"i:\",i)\n",
    "        result = i*i\n",
    "        if (result >= num):\n",
    "            return i\n",
    "\n",
    "num = int(input(\"Enter the number to calculate square root\"))\n",
    "\n",
    "calculateSquareRoot(num)"
   ]
  },
  {
   "cell_type": "markdown",
   "id": "879f6e97-fa12-4dcc-b3eb-40b7a7952430",
   "metadata": {},
   "source": [
    "23.\t Write a Python program to find the LCM (Least Common Multiple) of two numbers using a for loop."
   ]
  },
  {
   "cell_type": "code",
   "execution_count": 12,
   "id": "60bce793-341b-417a-87c0-6fda80c412d7",
   "metadata": {},
   "outputs": [
    {
     "name": "stdin",
     "output_type": "stream",
     "text": [
      "Enter the first number: 20\n",
      "Enter the second number: 24\n"
     ]
    },
    {
     "name": "stdout",
     "output_type": "stream",
     "text": [
      "The LCM of 20 and 24 is 120\n"
     ]
    }
   ],
   "source": [
    "num1 = int(input(\"Enter the first number:\"))\n",
    "num2 = int(input(\"Enter the second number:\"))\n",
    "\n",
    "for i in range(max(num1, num2), 1 + (num1 * num2)):\n",
    "    if i % num1 == i % num2 == 0:\n",
    "        lcm = i\n",
    "        break\n",
    "print(\"The LCM of\", num1, \"and\", num2, \"is\", lcm)"
   ]
  },
  {
   "cell_type": "markdown",
   "id": "6ed1e148-5cce-49c6-a460-9b976f77d05e",
   "metadata": {},
   "source": [
    "### If else"
   ]
  },
  {
   "cell_type": "markdown",
   "id": "8d1900e1-3747-4bd9-aa35-402bbbd65935",
   "metadata": {},
   "source": [
    "1.\tWrite a Python program to check if a number is positive, negative, or zero using an if-else statement."
   ]
  },
  {
   "cell_type": "code",
   "execution_count": 4,
   "id": "70a36a17-b09a-4520-9569-b5409a1f168e",
   "metadata": {},
   "outputs": [
    {
     "name": "stdin",
     "output_type": "stream",
     "text": [
      "Enter the number:  -9\n"
     ]
    },
    {
     "name": "stdout",
     "output_type": "stream",
     "text": [
      "The entered number -9 is Negative\n"
     ]
    }
   ],
   "source": [
    "# Step 1: Get input number from the user\n",
    "number = int(input(\"Enter the number: \"))\n",
    "\n",
    "# Step 2: Check if entered number is positive/ Negative/zero\n",
    "\n",
    "if number >= 0:\n",
    "    if number == 0:\n",
    "        print(f\"The entered number {number} is zero\")\n",
    "    else:\n",
    "        print(f\"The entered number {number} is Positive\")\n",
    "else:\n",
    "    print(f\"The entered number {number} is Negative\")"
   ]
  },
  {
   "cell_type": "markdown",
   "id": "90524237-c997-45e9-a97b-dca576f09d87",
   "metadata": {},
   "source": [
    "2.\tCreate a Python program that checks if a given number is even or odd using an if-else statement."
   ]
  },
  {
   "cell_type": "code",
   "execution_count": 5,
   "id": "f38c20f9-d56c-4df1-b896-07f904331556",
   "metadata": {},
   "outputs": [
    {
     "name": "stdin",
     "output_type": "stream",
     "text": [
      "Enter the number:  75\n"
     ]
    },
    {
     "name": "stdout",
     "output_type": "stream",
     "text": [
      "The enterd number '75' is an Odd number\n"
     ]
    }
   ],
   "source": [
    "# Step 1: Get input number from the user\n",
    "number = int(input(\"Enter the number: \"))\n",
    "\n",
    "# Step 2: check If nummber divisible by 2 i.e even else it is odd\n",
    "if number%2 == 0:\n",
    "    print(f\"The enterd number '{number}' is an Even number\")\n",
    "else:\n",
    "    print(f\"The enterd number '{number}' is an Odd number\")"
   ]
  },
  {
   "cell_type": "markdown",
   "id": "2c2dcbd9-6e35-4479-bc45-15dca2962fd7",
   "metadata": {},
   "source": [
    "3.\tHow can you use nested if-else statements in Python, and provide an example?"
   ]
  },
  {
   "cell_type": "code",
   "execution_count": 2,
   "id": "00984007-6b63-4a04-b4f8-364cc0a8c669",
   "metadata": {},
   "outputs": [
    {
     "name": "stdout",
     "output_type": "stream",
     "text": [
      "Your grade is: C\n"
     ]
    }
   ],
   "source": [
    "'''We can create conditional structures within conditional structures suing nested if-else. \n",
    "By this we can check multiple conditions and execute different blocks of code based on the conditions. \n",
    "We can create nested if-else by placing one if-else statement inside another# if-else statement. The inner if-else statement is only \n",
    "executed if the condition of the outer if-else statement is true.'''\n",
    "\n",
    "score = 75\n",
    "if score >= 90:\n",
    "    grade = \"A\"\n",
    "else:\n",
    "    if score >= 80:\n",
    "        grade = \"B\"\n",
    "    else:\n",
    "        if score >= 70:\n",
    "            grade = \"C\"\n",
    "        else:\n",
    "            if score >= 60:\n",
    "                grade = \"D\"\n",
    "            else:\n",
    "                grade = \"F\"\n",
    "                \n",
    "print(\"Your grade is:\", grade)"
   ]
  },
  {
   "cell_type": "markdown",
   "id": "9f4ec96d-563a-426e-b45d-47f7af7a9549",
   "metadata": {},
   "source": [
    "4.\tWrite a Python program to determine the largest of three numbers using if-else."
   ]
  },
  {
   "cell_type": "code",
   "execution_count": 3,
   "id": "ce274f18-837c-449d-b976-de6906c4c6d4",
   "metadata": {},
   "outputs": [
    {
     "name": "stdin",
     "output_type": "stream",
     "text": [
      "Enter the first number:  56\n",
      "Enter the second number:  4\n",
      "Enter the third number:  35\n"
     ]
    },
    {
     "name": "stdout",
     "output_type": "stream",
     "text": [
      "The largest number is:  56\n"
     ]
    }
   ],
   "source": [
    "# Step 1: Get three input numbers from user\n",
    "num1 = int(input(\"Enter the first number: \"))\n",
    "num2 = int(input(\"Enter the second number: \"))\n",
    "num3 = int(input(\"Enter the third number: \"))\n",
    "\n",
    "# Step 2: Declare a variable to store a largest number\n",
    "largest = 0\n",
    "\n",
    "if num1 >= num2 and num1 >= num3:\n",
    "    largest = num1\n",
    "elif num2 >= num1 and num2 >= num3:\n",
    "    largest = num2\n",
    "else:\n",
    "    largest = num3\n",
    "\n",
    "# Step 3: Print the largest of three numbers\n",
    "print(\"The largest number is: \", largest)"
   ]
  },
  {
   "cell_type": "markdown",
   "id": "592cd5cb-3c0b-42ff-bfd0-3925a300abfe",
   "metadata": {},
   "source": [
    "5.\tWrite a Python program that calculates the absolute value of a number using if-else."
   ]
  },
  {
   "cell_type": "code",
   "execution_count": 4,
   "id": "ea0df3cc-1d2a-46a2-bce8-688df7f257e2",
   "metadata": {},
   "outputs": [
    {
     "name": "stdin",
     "output_type": "stream",
     "text": [
      "Enter the number:  -6\n"
     ]
    },
    {
     "name": "stdout",
     "output_type": "stream",
     "text": [
      "The Absolute value of entered number '-6' is 6\n"
     ]
    }
   ],
   "source": [
    "# Step 1: Get input number from the user\n",
    "number = int(input(\"Enter the number: \"))\n",
    "\n",
    "# Step 2: declare a variable to store abolute value\n",
    "abs_val = 0\n",
    "\n",
    "# Step 3: If number is negative multiple it with -1 to get absolute value\n",
    "if number < 0 :\n",
    "        abs_val = number*-1\n",
    "else:\n",
    "        abs_val = number\n",
    "\n",
    "#Step 3: Print the absolute value of entered number\n",
    "print(f\"The Absolute value of entered number '{number}' is {abs_val}\")"
   ]
  },
  {
   "cell_type": "markdown",
   "id": "41aea886-ea51-401b-80a7-4c94f1beda17",
   "metadata": {},
   "source": [
    "6.\tCreate a Python program that checks if a given character is a vowel or consonant using if-else."
   ]
  },
  {
   "cell_type": "code",
   "execution_count": 6,
   "id": "940e9d61-62d2-42b1-9d79-128b5688d715",
   "metadata": {},
   "outputs": [
    {
     "name": "stdin",
     "output_type": "stream",
     "text": [
      "Enter the charcater:  e\n"
     ]
    },
    {
     "name": "stdout",
     "output_type": "stream",
     "text": [
      "The enterd character 'e' is vowel\n"
     ]
    }
   ],
   "source": [
    "# Step 1: Get input character from the user\n",
    "\n",
    "character = input(\"Enter the charcater: \")\n",
    "\n",
    "# Step 2: Declare tuple with vowels\n",
    "vowels = ('a', 'e', 'i', 'o', 'u')\n",
    "\n",
    "# Step 3: Check whether enetered character present in vowel tuple if it is then entered char is vowel else it is consonant\n",
    "if character.lower() in vowels:\n",
    "    print(f\"The enterd character '{character}' is vowel\")\n",
    "else:\n",
    "    print(f\"The enterd character '{character}' is consonant\")"
   ]
  },
  {
   "cell_type": "markdown",
   "id": "ea907bec-4f8d-49ad-9cb7-d54cf68f778c",
   "metadata": {},
   "source": [
    "7.\tWrite a Python program to determine if a user is eligible to vote based on their age using if-else."
   ]
  },
  {
   "cell_type": "code",
   "execution_count": 8,
   "id": "aac4a6c3-1327-47c2-8de4-b45a36199210",
   "metadata": {},
   "outputs": [
    {
     "name": "stdin",
     "output_type": "stream",
     "text": [
      "Enter the age of the person:  17\n"
     ]
    },
    {
     "name": "stdout",
     "output_type": "stream",
     "text": [
      "The person is not eligible to vote, as his/her age 17 is less than minimum age criteria i.e. 18.\n"
     ]
    }
   ],
   "source": [
    "# Step 1: Get input (age of the person) from the user\n",
    "age = int(input(\"Enter the age of the person: \"))\n",
    "\n",
    "# Step 2: Check if person is eligible for voting i.e age >= 18\n",
    "if age < 18:\n",
    "    print(f\"The person is not eligible to vote, as his/her age {age} is less than minimum age criteria i.e. 18.\")\n",
    "else:\n",
    "    print(\"The person is eligible to vote..\")"
   ]
  },
  {
   "cell_type": "markdown",
   "id": "218c0e0e-dc58-4ef5-a527-3fede064b8e9",
   "metadata": {},
   "source": [
    "8.\tCreate a Python program that calculates the discount amount based on the purchase amount using if-else."
   ]
  },
  {
   "cell_type": "code",
   "execution_count": 9,
   "id": "c307b54f-3a1d-48f3-8894-9a6865f340b4",
   "metadata": {},
   "outputs": [
    {
     "name": "stdin",
     "output_type": "stream",
     "text": [
      "Enter purchase Amount:  6789\n"
     ]
    },
    {
     "name": "stdout",
     "output_type": "stream",
     "text": [
      "Discount on purchased amount is :  475.23\n",
      "Total Payable Amount  :  6313.77\n"
     ]
    }
   ],
   "source": [
    "# Get purchase amount input from the user\n",
    "amount = int(input(\"Enter purchase Amount: \"))\n",
    "discount = 0\n",
    "\n",
    "# calculate discount according to sale amount\n",
    "'''\n",
    "0-3999         5%\n",
    "4000-7999      7%\n",
    "8000-11999     10%\n",
    "12000-15999    15%\n",
    "above 15999    18%\n",
    "'''\n",
    "if(amount>0):\n",
    "    if amount<=3999:\n",
    "        discount = amount*0.05\n",
    "    elif amount<=7999:\n",
    "        discount=amount*0.07\n",
    "    elif amount<=11999:\n",
    "        discount=0.10 * amount\n",
    "    elif amount<=15999:\n",
    "        discount=0.15 * amount\n",
    "    else:\n",
    "         discount=0.18 * amount\n",
    "\n",
    "    print(\"Discount on purchased amount is : \",discount)\n",
    "    print(\"Total Payable Amount  : \",amount-discount)\n",
    "else:\n",
    "    print(\"Please enter valid Amount\")"
   ]
  },
  {
   "cell_type": "markdown",
   "id": "a52824bd-4486-4bdf-919a-21a53fb5283d",
   "metadata": {},
   "source": [
    "9.\tWrite a Python program to check if a number is within a specified range using if-else."
   ]
  },
  {
   "cell_type": "code",
   "execution_count": 10,
   "id": "477d7c09-0409-48b9-9457-5eea31f00faa",
   "metadata": {},
   "outputs": [
    {
     "name": "stdin",
     "output_type": "stream",
     "text": [
      "Enter a number: 46\n"
     ]
    },
    {
     "name": "stdout",
     "output_type": "stream",
     "text": [
      "46 is within the specified range [10, 90].\n"
     ]
    }
   ],
   "source": [
    "# Specify the limit\n",
    "lower_limit = 10\n",
    "upper_limit = 90\n",
    "\n",
    "# Get the user input\n",
    "number = int(input(\"Enter a number:\"))\n",
    "\n",
    "# Check if the number is within the specified range\n",
    "if lower_limit <= number <= upper_limit:\n",
    "    print(f\"{number} is within the specified range [{lower_limit}, {upper_limit}].\")\n",
    "else:\n",
    "    print(f\"{number} is outside the specified range [{lower_limit}, {upper_limit}].\")"
   ]
  },
  {
   "cell_type": "markdown",
   "id": "12a224cb-5e73-4177-92dc-35a3fbe297f8",
   "metadata": {},
   "source": [
    "10.\tCreate a Python program that determines the grade of a student based on their score using if-else."
   ]
  },
  {
   "cell_type": "code",
   "execution_count": 11,
   "id": "f5447f94-c6c2-490d-8d05-6d02ebf6e7a5",
   "metadata": {},
   "outputs": [
    {
     "name": "stdin",
     "output_type": "stream",
     "text": [
      "Enter student's marks:  67\n"
     ]
    },
    {
     "name": "stdout",
     "output_type": "stream",
     "text": [
      "Grade: B+\n"
     ]
    }
   ],
   "source": [
    "# Step 1: Get the input marks from the user\n",
    "marks = float(input(\"Enter student's marks: \"))\n",
    "\n",
    "# Check marks and print respective gardes according to score\n",
    "if marks >= 80:\n",
    "    print(\"Grade: A+\")\n",
    "elif marks >= 70 and marks < 80:\n",
    "    print(\"Grade: A\")\n",
    "elif marks >= 60 and marks < 70:\n",
    "    print(\"Grade: B+\")\n",
    "elif marks >= 50 and marks < 60:\n",
    "    print(\"Grade: B\")\n",
    "elif marks >= 40 and marks < 50:\n",
    "    print(\"Grade: C\")\n",
    "else:\n",
    "    print(\"Grade: F\")"
   ]
  },
  {
   "cell_type": "markdown",
   "id": "5c0eda22-f2d0-4ec2-9f40-1be4f5479e4a",
   "metadata": {},
   "source": [
    "11.\tWrite a Python program to check if a string is empty or not using if-else."
   ]
  },
  {
   "cell_type": "code",
   "execution_count": 13,
   "id": "2861618e-8252-41c4-b0cd-54e6473af5c7",
   "metadata": {},
   "outputs": [
    {
     "name": "stdout",
     "output_type": "stream",
     "text": [
      "String is empty\n",
      "String 'Apple' is not empty\n"
     ]
    }
   ],
   "source": [
    "def chechStringEmpty(string):\n",
    "    if len(string) > 0:\n",
    "        return f\"String '{string}' is not empty\"\n",
    "    else:\n",
    "        return f\"String is empty\"\n",
    "    \n",
    "str1 = \"\"\n",
    "str2 = \"Apple\"\n",
    "\n",
    "print(chechStringEmpty(str1))\n",
    "print(chechStringEmpty(str2))"
   ]
  },
  {
   "cell_type": "markdown",
   "id": "303d61fe-f940-4cbc-a647-f94ae04f9f98",
   "metadata": {},
   "source": [
    "12.\tCreate a Python program that identifies the type of a triangle (e.g., equilateral, isosceles, or scalene) based on input values using if-else."
   ]
  },
  {
   "cell_type": "code",
   "execution_count": 14,
   "id": "d87f3770-9169-4659-b8d0-843df5d74d78",
   "metadata": {},
   "outputs": [
    {
     "name": "stdin",
     "output_type": "stream",
     "text": [
      "Enter the first side:  23\n",
      "Enter the second side:  45\n",
      "Enter the third side:  34\n"
     ]
    },
    {
     "name": "stdout",
     "output_type": "stream",
     "text": [
      "The triangle is a Scalene triangle\n"
     ]
    }
   ],
   "source": [
    "# Step 1: Get Input sides of a triangle from user and store it in varaibles.\n",
    "side1 = float(input(\"Enter the first side: \"))\n",
    "side2 = float(input(\"Enter the second side: \"))\n",
    "side3 = float(input(\"Enter the third side: \"))\n",
    "\n",
    "# Step 2: Check if all sides are equal, then the triangle is equilateral.\n",
    "# If it is not an equilateral triangle then it may be isosceles.so Check if two sides are equal.\n",
    "# If it is neither equilateral nor isosceles then it scalene triangle i.e none of the side its sides are equal\n",
    "\n",
    "if side1 == side2 == side3:\n",
    "\tprint(\"The triangle is a Equilateral triangle\")\n",
    "elif side1==side2 or side2==side3 or side3==side1:\n",
    "\tprint(\"The triangle is an isosceles triangle\")\n",
    "else:\n",
    "\tprint(\"The triangle is a Scalene triangle\")"
   ]
  },
  {
   "cell_type": "markdown",
   "id": "b5f9faea-818d-484c-bc22-506417262976",
   "metadata": {},
   "source": [
    "13.\tWrite a Python program to determine the day of the week based on a user-provided number using if-else."
   ]
  },
  {
   "cell_type": "code",
   "execution_count": 15,
   "id": "7bea688a-7cd8-4f17-b8d7-c3b3395d99f8",
   "metadata": {},
   "outputs": [
    {
     "name": "stdin",
     "output_type": "stream",
     "text": [
      "Enter the day in number: 4\n"
     ]
    },
    {
     "name": "stdout",
     "output_type": "stream",
     "text": [
      "Entered day is Thursday\n"
     ]
    }
   ],
   "source": [
    "# Step 1: Get the input from the user\n",
    "day = int(input(\"Enter the day in number:\"))\n",
    "\n",
    "if day == 1:\n",
    "    print('Entered day is Monday')\n",
    "elif day == 2:\n",
    "    print('Entered day is Tuesday')\n",
    "elif day == 3:\n",
    "    print('Entered day is Wednesday')\n",
    "elif day == 4:\n",
    "    print('Entered day is Thursday')\n",
    "elif day == 5:\n",
    "    print('Entered day is Friday')\n",
    "elif day == 6:\n",
    "    print('Entered day is Saturday')\n",
    "elif day == 7:\n",
    "    print('Entered day is Sunday')\n",
    "elif day < 1 or day > 7:\n",
    "    print('Put a number between 1 and 7')"
   ]
  },
  {
   "cell_type": "markdown",
   "id": "c0e8cce6-6bfa-4e49-ad84-dcdc4f58529a",
   "metadata": {},
   "source": [
    "14.\tCreate a Python program that checks if a given year is a leap year using both if-else and a function."
   ]
  },
  {
   "cell_type": "code",
   "execution_count": null,
   "id": "8d0a1553-cd39-4ac2-885f-2206ba5e7640",
   "metadata": {},
   "outputs": [],
   "source": [
    "#Step 1: Define a function\n",
    "#If year is divisible by 4 but not a century year or year is divisible by 400 then it is leap year\n",
    "def chekIsLeapYear(year):\n",
    "    if (year%4==0 and year%100!=0) or (year%400 == 0):\n",
    "        print(f\"Entered year {year} is Leap Year\")\n",
    "    else:\n",
    "        print(f\"Entered year {year} is Not a Leap Year\")\n",
    "    \n",
    "# Step 2: Get input (year) from the user\n",
    "year = int(input(\"Enter the year to be checked for leap year: \"))\n",
    "\n",
    "# Step 3: Call a function\n",
    "check"
   ]
  },
  {
   "cell_type": "markdown",
   "id": "749d3bdd-cc58-4495-9b00-03998c5816a0",
   "metadata": {},
   "source": [
    "15.\tHow do you use the \"assert\" statement in Python to add debugging checks within if-else blocks?"
   ]
  },
  {
   "cell_type": "code",
   "execution_count": 7,
   "id": "7fc8fe43-9194-47f5-99b7-f836eb362e05",
   "metadata": {},
   "outputs": [
    {
     "name": "stdin",
     "output_type": "stream",
     "text": [
      "Credit card accepted in shop? Y/N n\n"
     ]
    },
    {
     "name": "stdout",
     "output_type": "stream",
     "text": [
      "N\n"
     ]
    },
    {
     "ename": "AssertionError",
     "evalue": "Credit card not accepted, Don't make purchase",
     "output_type": "error",
     "traceback": [
      "\u001b[0;31m---------------------------------------------------------------------------\u001b[0m",
      "\u001b[0;31mAssertionError\u001b[0m                            Traceback (most recent call last)",
      "Cell \u001b[0;32mIn[7], line 12\u001b[0m\n\u001b[1;32m      8\u001b[0m     \u001b[38;5;28;01mreturn\u001b[39;00m \u001b[38;5;28;01mTrue\u001b[39;00m\n\u001b[1;32m     10\u001b[0m acc \u001b[38;5;241m=\u001b[39m \u001b[38;5;28minput\u001b[39m(\u001b[38;5;124m\"\u001b[39m\u001b[38;5;124mCredit card accepted in shop? Y/N\u001b[39m\u001b[38;5;124m\"\u001b[39m)\n\u001b[0;32m---> 12\u001b[0m result \u001b[38;5;241m=\u001b[39m \u001b[43mcheckIfCreditCardAccepted\u001b[49m\u001b[43m(\u001b[49m\u001b[43macc\u001b[49m\u001b[38;5;241;43m.\u001b[39;49m\u001b[43mupper\u001b[49m\u001b[43m(\u001b[49m\u001b[43m)\u001b[49m\u001b[43m)\u001b[49m\n\u001b[1;32m     13\u001b[0m \u001b[38;5;28mprint\u001b[39m(\u001b[38;5;124mf\u001b[39m\u001b[38;5;124m\"\u001b[39m\u001b[38;5;124mResult: \u001b[39m\u001b[38;5;132;01m{\u001b[39;00mresult\u001b[38;5;132;01m}\u001b[39;00m\u001b[38;5;124m\"\u001b[39m)\n",
      "Cell \u001b[0;32mIn[7], line 7\u001b[0m, in \u001b[0;36mcheckIfCreditCardAccepted\u001b[0;34m(status)\u001b[0m\n\u001b[1;32m      5\u001b[0m \u001b[38;5;28;01mdef\u001b[39;00m \u001b[38;5;21mcheckIfCreditCardAccepted\u001b[39m(status):\n\u001b[1;32m      6\u001b[0m     \u001b[38;5;28mprint\u001b[39m(status)\n\u001b[0;32m----> 7\u001b[0m     \u001b[38;5;28;01massert\u001b[39;00m status \u001b[38;5;241m!=\u001b[39m \u001b[38;5;124m\"\u001b[39m\u001b[38;5;124mN\u001b[39m\u001b[38;5;124m\"\u001b[39m, \u001b[38;5;124m\"\u001b[39m\u001b[38;5;124mCredit card not accepted, Don\u001b[39m\u001b[38;5;124m'\u001b[39m\u001b[38;5;124mt make purchase\u001b[39m\u001b[38;5;124m\"\u001b[39m\n\u001b[1;32m      8\u001b[0m     \u001b[38;5;28;01mreturn\u001b[39;00m \u001b[38;5;28;01mTrue\u001b[39;00m\n",
      "\u001b[0;31mAssertionError\u001b[0m: Credit card not accepted, Don't make purchase"
     ]
    }
   ],
   "source": [
    "'''The assert statement in Python is a useful for adding debugging checks within if-else blocks. \n",
    "Using asset we can check that a certain condition is met during program execution, and if the condition is False, \n",
    "it raises an AssertionError exception, which helps to identify and debug issues in the code.'''\n",
    "\n",
    "def checkIfCreditCardAccepted(status):\n",
    "    print(status)\n",
    "    assert status != \"N\", \"Credit card not accepted, Don't make purchase\"\n",
    "    return True\n",
    "\n",
    "acc = input(\"Credit card accepted in shop? Y/N\")\n",
    "\n",
    "result = checkIfCreditCardAccepted(acc.upper())\n",
    "print(f\"Result: {result}\")"
   ]
  },
  {
   "cell_type": "markdown",
   "id": "5ecdc65b-b04b-4f2b-9ec4-7ccb3a529506",
   "metadata": {},
   "source": [
    "16.\tCreate a Python program that determines the eligibility of a person for a senior citizen discount based on age using if-else."
   ]
  },
  {
   "cell_type": "code",
   "execution_count": 10,
   "id": "6cce2cfd-ae60-499b-ae35-1c9421625df4",
   "metadata": {},
   "outputs": [
    {
     "name": "stdin",
     "output_type": "stream",
     "text": [
      "Enter the age of the person:  59\n"
     ]
    },
    {
     "name": "stdout",
     "output_type": "stream",
     "text": [
      "The person is not eligible for senior citizen discount as minimum age criteria is (age >=60)\n"
     ]
    }
   ],
   "source": [
    "# Step 1: Get input (age of the person) from the user\n",
    "age = int(input(\"Enter the age of the person: \"))\n",
    "\n",
    "# Step 2: Check if person is eligible for senior citizen discount i.e age >= 60\n",
    "if age < 60:\n",
    "    print(f\"The person is not eligible for senior citizen discount as minimum age criteria is (age >=60)\")\n",
    "else:\n",
    "    print(\"The person is eligible for senior citizen discount.\")"
   ]
  },
  {
   "cell_type": "markdown",
   "id": "63fa7878-b233-4daf-9dc5-9ccfa4a07de7",
   "metadata": {},
   "source": [
    "17.\tWrite a Python program to categorize a given character as uppercase, lowercase, or neither using if-else."
   ]
  },
  {
   "cell_type": "code",
   "execution_count": 11,
   "id": "63ecd12b-4607-4492-a641-2ea91a465e06",
   "metadata": {},
   "outputs": [
    {
     "name": "stdin",
     "output_type": "stream",
     "text": [
      "Enter the character:  r\n"
     ]
    },
    {
     "name": "stdout",
     "output_type": "stream",
     "text": [
      "The entered character r is lowercase\n"
     ]
    }
   ],
   "source": [
    "# Step 1: Get input character from the user\n",
    "character = input(\"Enter the character: \")\n",
    "\n",
    "# Step 2: Check if entered character is upeer, lower or special using string functions\n",
    "\n",
    "if character.isupper():\n",
    "    print(f\"The entered character {character} is uppercase\")\n",
    "elif character.islower():\n",
    "    print(f\"The entered character {character} is lowercase\")\n",
    "elif character.isdigit():\n",
    "    print(f\"The entered character {character} is digit\")\n",
    "else:\n",
    "        print(f\"The entered character {character} is special character\")"
   ]
  },
  {
   "cell_type": "markdown",
   "id": "a2819737-d94d-47be-bbbc-ba2d028f80f6",
   "metadata": {},
   "source": [
    "18.\tWrite a Python program to determine the roots of a quadratic equation using if-else."
   ]
  },
  {
   "cell_type": "code",
   "execution_count": 13,
   "id": "f8b88850-a856-46d1-b409-ed709449968d",
   "metadata": {},
   "outputs": [
    {
     "name": "stdin",
     "output_type": "stream",
     "text": [
      "Enter the coefficient a:  -2\n",
      "Enter the coefficient b:  2\n",
      "Enter the coefficient c:  1\n"
     ]
    },
    {
     "name": "stdout",
     "output_type": "stream",
     "text": [
      "Roots are real and distinct: -0.3660254037844386 and 1.3660254037844386\n"
     ]
    }
   ],
   "source": [
    "#Equation - (-b ± (b ** 2 - 4 * a * c) ** 0.5) / (2 * a)\n",
    "\n",
    "# Get input coefficients from the user\n",
    "a = float(input(\"Enter the coefficient a: \"))\n",
    "b = float(input(\"Enter the coefficient b: \"))\n",
    "c = float(input(\"Enter the coefficient c: \"))\n",
    "\n",
    "# calculate the discriminant\n",
    "discriminant = b**2 - 4*a*c\n",
    "\n",
    "# Check the discriminant to determine the type of roots\n",
    "if discriminant > 0:\n",
    "    root1 = (-b+(discriminant**0.5))/(2*a)\n",
    "    root2 = (-b-(discriminant**0.5))/(2*a)\n",
    "    print(f\"Roots are real and distinct: {root1} and {root2}\")\n",
    "elif discriminant == 0:\n",
    "    root1 = -b / (2*a)\n",
    "    print(f\"Only one root: {root1}\")\n",
    "else:\n",
    "    print(f\"No root\")"
   ]
  },
  {
   "cell_type": "markdown",
   "id": "17fd4468-043d-484f-86ab-a7020eee11f9",
   "metadata": {},
   "source": [
    "19.\tCreate a Python program that checks if a given year is a century year or not using if-else."
   ]
  },
  {
   "cell_type": "code",
   "execution_count": 14,
   "id": "29499b13-991c-4e2d-baa4-62f44def4ef2",
   "metadata": {},
   "outputs": [
    {
     "name": "stdin",
     "output_type": "stream",
     "text": [
      "Enter the year to be checked for leap year:  2000\n"
     ]
    },
    {
     "name": "stdout",
     "output_type": "stream",
     "text": [
      "Entered year 2000 is a century year\n"
     ]
    }
   ],
   "source": [
    "# Step 1: Get input (year) from the user\n",
    "year = int(input(\"Enter the year to be checked for leap year: \"))\n",
    "\n",
    "# If year is divisible by 100 then it is century year.\n",
    "\n",
    "if year%100==0:\n",
    "    print(f\"Entered year {year} is a century year\")\n",
    "else:\n",
    "    print(f\"Entered year {year} is not a century year\")"
   ]
  },
  {
   "cell_type": "markdown",
   "id": "83007263-372d-4894-a7d9-abe84c113f99",
   "metadata": {},
   "source": [
    "20.\tWrite a Python program to determine if a given number is a perfect square using if-else."
   ]
  },
  {
   "cell_type": "code",
   "execution_count": 22,
   "id": "eb54f90a-ec3a-42fa-b747-bed3448d15dd",
   "metadata": {},
   "outputs": [
    {
     "name": "stdin",
     "output_type": "stream",
     "text": [
      "Enter a number:  26\n"
     ]
    },
    {
     "name": "stdout",
     "output_type": "stream",
     "text": [
      "26 is not a perfect square.\n"
     ]
    }
   ],
   "source": [
    "def is_perfect_square(number):\n",
    "    if number < 0:\n",
    "        return False  # Negative numbers can't be perfect squares\n",
    "\n",
    "    # Use a loop to check if the square of 'guess' is equal to 'number'\n",
    "    guess = 0\n",
    "    while guess * guess <= number:\n",
    "        if guess * guess == number:\n",
    "            return True\n",
    "        guess += 1\n",
    "\n",
    "    return False\n",
    "\n",
    "# Get input from the user\n",
    "num = int(input(\"Enter a number: \"))\n",
    "\n",
    "if is_perfect_square(num):\n",
    "    print(f\"{num} is a perfect square.\")\n",
    "else:\n",
    "    print(f\"{num} is not a perfect square.\")"
   ]
  },
  {
   "cell_type": "markdown",
   "id": "3110e4bc-cf02-4056-8bbf-bb17b564d372",
   "metadata": {},
   "source": [
    "21.\tExplain the purpose of the \"continue\" and \"break\" statements within if-else loops."
   ]
  },
  {
   "cell_type": "code",
   "execution_count": 24,
   "id": "cd93a73d-ed03-4a0b-b3e3-7624f97b77e8",
   "metadata": {},
   "outputs": [
    {
     "name": "stdout",
     "output_type": "stream",
     "text": [
      "********Continue********\n",
      "1\n",
      "2\n",
      "4\n",
      "********Break********\n",
      "1\n",
      "2\n"
     ]
    }
   ],
   "source": [
    "''' \"continue\" statement:\n",
    "The \"continue\" statement is used to skip the current iteration of a loop and move to the next iteration, \n",
    "without executing the remaining code within the loop for the current iteration.'''\n",
    "\n",
    "print(\"*\"*8 + \"Continue\" + \"*\"*8)\n",
    "for i in range(1, 5):\n",
    "    if i == 3:\n",
    "        continue  # Skip iteration when i is 3\n",
    "    print(i)\n",
    "\n",
    "'''\"break\" statement:\n",
    "\n",
    "The \"break\" statement is used to exit the loop, stopping further iterations, \n",
    "even if the loop's condition or range is not exhausted.'''\n",
    "\n",
    "print(\"*\"*8 + \"Break\" + \"*\"*8)\n",
    "for i in range(1, 5):\n",
    "    if i == 3:\n",
    "        break  # Exit the loop when i is 3\n",
    "    print(i)"
   ]
  },
  {
   "cell_type": "markdown",
   "id": "2ad859d2-bf73-46d1-a27b-ffd026f744f4",
   "metadata": {},
   "source": [
    "22.\tCreate a Python program that calculates the BMI (Body Mass Index) of a person based on their weight and height using if-else."
   ]
  },
  {
   "cell_type": "code",
   "execution_count": 25,
   "id": "4740481c-6129-4ab6-978d-625bb979207d",
   "metadata": {},
   "outputs": [
    {
     "name": "stdin",
     "output_type": "stream",
     "text": [
      "Enter the weight in kg: 50\n",
      "Enter the height in meter: 1.61\n"
     ]
    },
    {
     "name": "stdout",
     "output_type": "stream",
     "text": [
      "The person is Normal\n"
     ]
    }
   ],
   "source": [
    "#Step1 : get input weight and height from the user\n",
    "weight=float(input(\"Enter the weight in kg:\"))\n",
    "height=float(input(\"Enter the height in meter:\"))\n",
    "\n",
    "bmi= weight/(height)**2\n",
    "\n",
    "if bmi<18.5:\n",
    "    print(\"The person is Underweight\")\n",
    "elif bmi>=18.5 and bmi<25:\n",
    "    print(\"The person is Normal\")\n",
    "elif bmi>=25 and bmi<30:\n",
    "    print(\"The person is Overweight\")\n",
    "else:\n",
    "    print(\"Obesity\")"
   ]
  },
  {
   "cell_type": "markdown",
   "id": "d43320fa-e236-44e5-8b60-6cbf905a8840",
   "metadata": {},
   "source": [
    "23.\tHow can you use the \"filter()\" function with if-else statements to filter elements from a list?"
   ]
  },
  {
   "cell_type": "code",
   "execution_count": 1,
   "id": "bfe822f4-5bb6-49a5-8a00-835d1c380886",
   "metadata": {},
   "outputs": [
    {
     "name": "stdout",
     "output_type": "stream",
     "text": [
      "Even numbers: [2, 4, 6, 8, 10]\n"
     ]
    }
   ],
   "source": [
    "'''\n",
    "We can define a custom function that takes an element from the list as an argument.\n",
    "\n",
    "Within the custom function, we can write if-else statements to apply filtering criteria. \n",
    "If the condition is met (returns True), include the element; otherwise, exclude it (returns False).\n",
    "\n",
    "Use the filter() function with the custom function and the list as arguments. \n",
    "The filter() function will create an iterable containing only the elements for which the custom function returns True.\n",
    "\n",
    "Convert the iterable returned by filter() to a list to obtain the filtered elements.\n",
    "'''\n",
    "\n",
    "# List of values\n",
    "values = [1, 2, 3, 4, 5, 6, 7, 8, 9, 10]\n",
    "\n",
    "# Custom function with if-else to filter even numbers\n",
    "def filter_even_numbers(value):\n",
    "    if value % 2 == 0:  # Check if the value is even\n",
    "        return True\n",
    "    else:\n",
    "        return False\n",
    "\n",
    "# Use filter() to filter even numbers\n",
    "filtered_values = list(filter(filter_even_numbers, values))\n",
    "\n",
    "# Print the filtered even numbers\n",
    "print(\"Even numbers:\", filtered_values)\n"
   ]
  },
  {
   "cell_type": "markdown",
   "id": "5bc289c4-4513-466e-ae65-417ca5206600",
   "metadata": {},
   "source": [
    "24.\tWrite a Python program to determine if a given number is prime or not using if-else."
   ]
  },
  {
   "cell_type": "code",
   "execution_count": 27,
   "id": "81f71a82-9e15-47e7-9c6d-c24102a807f3",
   "metadata": {},
   "outputs": [
    {
     "name": "stdin",
     "output_type": "stream",
     "text": [
      "Enter a number:  11\n"
     ]
    },
    {
     "name": "stdout",
     "output_type": "stream",
     "text": [
      "Entered number 11 is a prime number\n"
     ]
    }
   ],
   "source": [
    "# Step 1: Get input number from the user\n",
    "\n",
    "number = int(input(\"Enter a number: \"))\n",
    "isprime = True\n",
    "\n",
    "if number == 1:\n",
    "    print(f\"Entered number {number} is not a prime number\")\n",
    "elif number > 1:\n",
    "    # If number is divisible by any other number then is is not a prime, so check for factors\n",
    "    for i in range(2, int(number**0.5)+1):\n",
    "        if (number % i) == 0:\n",
    "            # number is divisilbe by i so it is not a prime number\n",
    "            isprime = False\n",
    "            break\n",
    "            \n",
    "if isprime:\n",
    "    print(f\"Entered number {number} is a prime number\")\n",
    "else:\n",
    "    print(f\"Entered number {number} is not a prime number\")"
   ]
  },
  {
   "cell_type": "markdown",
   "id": "51c931f4-59f0-4cd8-b40a-4a0516d086db",
   "metadata": {},
   "source": [
    "### Map"
   ]
  },
  {
   "cell_type": "markdown",
   "id": "981e62d1-cd5b-44ed-80e7-f576423cb9ad",
   "metadata": {},
   "source": [
    "1.\tExplain the purpose of the `map()` function in Python and provide an example of how it can be used to apply a function to each element of an iterable."
   ]
  },
  {
   "cell_type": "code",
   "execution_count": 3,
   "id": "159cbd70-da28-4d14-8cf6-5ac92278ffcc",
   "metadata": {},
   "outputs": [
    {
     "name": "stdout",
     "output_type": "stream",
     "text": [
      "[4, 9, 16, 25]\n"
     ]
    }
   ],
   "source": [
    "'''\n",
    "The map() function in Python is used to apply a specified function to each element \n",
    "in an iterable (e.g., a list, tuple, or other iterable). \n",
    "It returns an iterable containing the results of applying the function to each element. \n",
    "The purpose of the map() function is to efficiently transform or process every item in the iterable \n",
    "without the need for explicit loops.\n",
    "'''\n",
    "\n",
    "#e.g\n",
    "\n",
    "# List of numbers\n",
    "numbers = [2, 3, 4, 5]\n",
    "\n",
    "# Define a function to square a number\n",
    "def square(x):\n",
    "    return x ** 2\n",
    "\n",
    "# Use map() to apply the square function to each element in the list\n",
    "squared_numbers = list(map(square, numbers))\n",
    "\n",
    "# Print the squared numbers\n",
    "print(squared_numbers)\n"
   ]
  },
  {
   "cell_type": "markdown",
   "id": "439faf81-9527-4a1e-b0ae-76ea736e55d4",
   "metadata": {},
   "source": [
    "2.\tWrite a Python program that uses the `map()` function to square each element of a list of numbers."
   ]
  },
  {
   "cell_type": "code",
   "execution_count": 14,
   "id": "20d9fae8-5b2d-4385-98f3-40a4dbd0f4a4",
   "metadata": {},
   "outputs": [
    {
     "data": {
      "text/plain": [
       "[4, 16, 49, 25, 64]"
      ]
     },
     "execution_count": 14,
     "metadata": {},
     "output_type": "execute_result"
    }
   ],
   "source": [
    "# List of numbers\n",
    "lst = [2,4,7,5,8]\n",
    "\n",
    "# Use the map() function to apply square functionality to each element in the list\n",
    "list(map(lambda a:a**2, lst))"
   ]
  },
  {
   "cell_type": "markdown",
   "id": "2411cce5-da4d-4955-ae2e-0654e0234bc3",
   "metadata": {},
   "source": [
    "3.\tHow does the `map()` function differ from a list comprehension in Python, and when would you choose one over the other?"
   ]
  },
  {
   "cell_type": "code",
   "execution_count": null,
   "id": "4f2408c3-1d9e-4c36-a538-3e40b83820f9",
   "metadata": {},
   "outputs": [],
   "source": [
    "#map() Function:\n",
    "\n",
    "'''The map() function applies a specified function to each element of an iterable and returns an iterable (usually a map object, which can be converted to a list or another data structure).\n",
    "It is a more functional programming approach.\n",
    "It separates the mapping logic from the iteration over the iterable.\n",
    "It is generally used for applying a function to elements of multiple iterables in parallel.'''\n",
    "\n",
    "#List Comprehensions:\n",
    "\n",
    "'''List comprehensions provide a concise way to create new lists by performing operations on elements from \n",
    "an existing iterable.\n",
    "They combine the mapping logic and iteration into a single expression.\n",
    "They are suitable for creating lists based on a simple transformation or filtering of elements from one iterable \n",
    "to another.\n",
    "They are often preferred for their readability and ease of use. '''\n",
    "\n",
    "\n",
    "#map() Function:\n",
    "\n",
    "'''Choose map() when you want to apply a function to elements of multiple iterables in parallel (e.g., two lists of the same length).\n",
    "Use map() when the mapping logic is complex or involves custom functions.\n",
    "It's a better choice when you want to maintain a functional programming style in your code.''\n",
    "List Comprehensions:\n",
    "\n",
    "Choose list comprehensions when you want to create a new list based on a straightforward transformation or filtering of elements from an existing iterable.\n",
    "List comprehensions are often the more readable and Pythonic choice for simple mapping and filtering operations.\n",
    "They are well-suited for creating new lists from a single iterable '''"
   ]
  },
  {
   "cell_type": "markdown",
   "id": "45329377-b940-412f-9afc-e9d7e42efc24",
   "metadata": {},
   "source": [
    "4.\tCreate a Python program that uses the `map()` function to convert a list of names to uppercase."
   ]
  },
  {
   "cell_type": "code",
   "execution_count": 15,
   "id": "8fa6d91e-2969-4136-9b42-e56765afc5ae",
   "metadata": {},
   "outputs": [
    {
     "data": {
      "text/plain": [
       "['ANKITA', 'ROHAN', 'SUSHANT', 'VINITA']"
      ]
     },
     "execution_count": 15,
     "metadata": {},
     "output_type": "execute_result"
    }
   ],
   "source": [
    "# List of names\n",
    "name_lst = ['ankita', 'rohan', 'sushant', 'vinita']\n",
    "\n",
    "# Use the map() function to apply the upper function to each element in the list\n",
    "list(map(lambda name: name.upper(), name_lst))"
   ]
  },
  {
   "cell_type": "markdown",
   "id": "d6401b29-6862-4e77-bb3f-4fd2b3d6bfc6",
   "metadata": {},
   "source": [
    "5.\tWrite a Python program that uses the `map()` function to calculate the length of each word in a list of strings."
   ]
  },
  {
   "cell_type": "code",
   "execution_count": 12,
   "id": "f7a057d7-d02b-47b3-b46d-a9ac86baedb2",
   "metadata": {},
   "outputs": [
    {
     "name": "stdout",
     "output_type": "stream",
     "text": [
      "Length of each word in ls is [5, 6, 10, 9]\n"
     ]
    }
   ],
   "source": [
    "# List of words\n",
    "ls = ['apple','banana','watermelon','jackfruit']\n",
    "\n",
    "# Use the map() function to apply the len function to each element in the list\n",
    "print(\"Length of each word in ls is\",list(map(lambda ele: len(ele), ls)))"
   ]
  },
  {
   "cell_type": "markdown",
   "id": "5293eb75-e479-4b17-a139-c7c660286480",
   "metadata": {},
   "source": [
    "6.\tHow can you use the `map()` function to apply a custom function to elements of multiple lists simultaneously in Python?"
   ]
  },
  {
   "cell_type": "code",
   "execution_count": 2,
   "id": "f63edce2-f0d3-4da0-86f3-cbd67c767524",
   "metadata": {},
   "outputs": [
    {
     "name": "stdout",
     "output_type": "stream",
     "text": [
      "[7, 26, 10, 12]\n"
     ]
    }
   ],
   "source": [
    "# Define a function with expected functionality\n",
    "# Use that function name as first argument to the map function and provide lists as iterable arguments\n",
    "\n",
    "#e.g\n",
    "\n",
    "# Define a custom function that takes two arguments\n",
    "def add_two_numbers(x, y):\n",
    "    return x + y\n",
    "\n",
    "# Lists of numbers\n",
    "list1 = [2, 20, 3, 4]\n",
    "list2 = [5, 6, 7, 8]\n",
    "\n",
    "# Use map() to apply the custom function to the elements of both lists\n",
    "result = list(map(add_two_numbers, list1, list2))\n",
    "\n",
    "# Print the result\n",
    "print(result)"
   ]
  },
  {
   "cell_type": "markdown",
   "id": "891b5b01-9967-44aa-a2b3-742b43c309ff",
   "metadata": {},
   "source": [
    "7.\tCreate a Python program that uses `map()` to convert a list of temperatures from Celsius to Fahrenheit."
   ]
  },
  {
   "cell_type": "code",
   "execution_count": 13,
   "id": "a2241ee6-9f56-4484-914f-666af806d616",
   "metadata": {},
   "outputs": [
    {
     "name": "stdout",
     "output_type": "stream",
     "text": [
      "Temperatures in celsius:  [25, 90, -10, 36, 0]\n",
      "Corresponding fahrenheit temperatures:  [77.0, 194.0, 14.0, 96.8, 32.0]\n"
     ]
    }
   ],
   "source": [
    "# List of temperatures in Celsius\n",
    "temperatures_celsius = [25, 90, -10, 36, 0]\n",
    "\n",
    "# Define a function to convert Celsius to Fahrenheit\n",
    "def celsius_to_fahrenheit(celsius):\n",
    "    return (celsius * 9/5) + 32\n",
    "\n",
    "# Use the map() function to apply the conversion function to each element in the list\n",
    "temperatures_fahrenheit = list(map(celsius_to_fahrenheit, temperatures_celsius))\n",
    "\n",
    "# Print the original temperatures and their corresponding temperatures in Fahrenheit\n",
    "print(\"Temperatures in celsius: \", temperatures_celsius)\n",
    "print(\"Corresponding fahrenheit temperatures: \", temperatures_fahrenheit)\n"
   ]
  },
  {
   "cell_type": "markdown",
   "id": "8b254bda-09d0-4b67-87b5-8c48dcede76e",
   "metadata": {},
   "source": [
    "8.\tWrite a Python program that uses the `map()` function to round each element of a list of floating-point numbers to the nearest integer."
   ]
  },
  {
   "cell_type": "code",
   "execution_count": 7,
   "id": "972fbb9d-8f02-4330-9658-4234c623dd9c",
   "metadata": {},
   "outputs": [
    {
     "name": "stdout",
     "output_type": "stream",
     "text": [
      "Original numbers: [3.14, 2.718, 1.618, 4.669]\n",
      "Rounded integers: [3, 3, 2, 5]\n"
     ]
    }
   ],
   "source": [
    "# List of floating-point numbers\n",
    "float_numbers = [3.14, 2.718, 1.618, 4.669]\n",
    "\n",
    "# Use the map() function to apply the function to each element in the list\n",
    "rounded_integers = list(map(lambda num: round(num), float_numbers))\n",
    "\n",
    "# Print the rounded integers\n",
    "print(\"Original numbers:\", float_numbers)\n",
    "print(\"Rounded integers:\", rounded_integers)\n"
   ]
  },
  {
   "cell_type": "markdown",
   "id": "11d7175a-b709-4245-b553-d4d3944fe6ab",
   "metadata": {},
   "source": [
    "### Reduce"
   ]
  },
  {
   "cell_type": "markdown",
   "id": "b4aaaed6-b5f0-4b93-ac02-1873737ee0f1",
   "metadata": {},
   "source": [
    "1.\tWhat is the `reduce()` function in Python, and what module should you import to use it? Provide an example of its basic usage."
   ]
  },
  {
   "cell_type": "code",
   "execution_count": 4,
   "id": "2e29b083-b39f-4d67-a93b-49436cee8560",
   "metadata": {},
   "outputs": [
    {
     "name": "stdout",
     "output_type": "stream",
     "text": [
      "Product of numbers [1, 2, 3, 4, 5] is: 120\n"
     ]
    }
   ],
   "source": [
    "'''\n",
    "\n",
    "The reduce() function in Python is a function that is used to cumulatively apply a function\n",
    "to the elements of an iterable, reducing the iterable to a single accumulated result. \n",
    "\n",
    "It is part of the functools module, so we should import it using:\n",
    "\n",
    "from functools import reduce\n",
    "'''\n",
    "\n",
    "#e.g\n",
    "\n",
    "from functools import reduce\n",
    "\n",
    "# List of numbers\n",
    "numbers = [1, 2, 3, 4, 5]\n",
    "\n",
    "\n",
    "# Use reduce() to find the product of all elements in the list\n",
    "result = reduce(lambda x,y:x*y, numbers)\n",
    "\n",
    "# Print the result\n",
    "print(f\"Product of numbers {numbers} is: {result}\")\n"
   ]
  },
  {
   "cell_type": "markdown",
   "id": "92c3328a-177c-49c2-9af5-203699c247ab",
   "metadata": {},
   "source": [
    "2.\tWrite a Python program that uses the `reduce()` function to find the product of all elements in a list."
   ]
  },
  {
   "cell_type": "code",
   "execution_count": 29,
   "id": "dd5d775b-d7e8-4409-a39d-9f83e864860b",
   "metadata": {},
   "outputs": [
    {
     "name": "stdout",
     "output_type": "stream",
     "text": [
      "The product of [2, 4, 7, 5] is: 280\n"
     ]
    }
   ],
   "source": [
    "# Import reduce module\n",
    "from functools import reduce\n",
    "\n",
    "# List of numbers\n",
    "lst = [2,4,7,5]\n",
    "\n",
    "# Use the reduce() function to get the product of elemnts\n",
    "print(f\"The product of {lst} is: {reduce(lambda a,b:a*b, lst)}\")\n"
   ]
  },
  {
   "cell_type": "markdown",
   "id": "38b0b885-ef5e-4f2b-becd-58c657047033",
   "metadata": {},
   "source": [
    "3.\tCreate a Python program that uses `reduce()` to find the maximum element in a list of numbers."
   ]
  },
  {
   "cell_type": "code",
   "execution_count": 10,
   "id": "58e40155-2a05-4499-bc82-26f2cb730048",
   "metadata": {},
   "outputs": [
    {
     "name": "stdout",
     "output_type": "stream",
     "text": [
      "The maximum element of [2, 4, 7, 50, 56, 4] is: 56\n"
     ]
    }
   ],
   "source": [
    "# List of numbers\n",
    "lst_max = [2,4,7,50,56,4]\n",
    "\n",
    "# Use the reduce() function to get the maximum of elemnt\n",
    "print(f\"The maximum element of {lst_max} is: {reduce(lambda a,b:a if a > b else b, lst_max)}\")"
   ]
  },
  {
   "cell_type": "markdown",
   "id": "fde59692-ffd3-4842-878e-713aabb0c709",
   "metadata": {},
   "source": [
    "4.\tHow can you use the `reduce()` function to concatenate a list of strings into a single string?"
   ]
  },
  {
   "cell_type": "code",
   "execution_count": 15,
   "id": "658dbb35-cfe0-41df-968a-e01c5edde018",
   "metadata": {},
   "outputs": [
    {
     "name": "stdout",
     "output_type": "stream",
     "text": [
      "The single string after concatenating all elements of ['Hello', ',', ' Good', ' Morning'] is: Hello, Good Morning\n"
     ]
    }
   ],
   "source": [
    "#List of strings\n",
    "lst_str = [\"Hello\", \",\", \" Good\", \" Morning\"]\n",
    "\n",
    "#Use the reduce() function to concatenate all string elements\n",
    "print(f\"The single string after concatenating all elements of {lst_str} is: {reduce(lambda a,b: a+b, lst_str)}\")"
   ]
  },
  {
   "cell_type": "markdown",
   "id": "3e276466-1441-44f6-8163-4a9fd65b247a",
   "metadata": {},
   "source": [
    "5.\tWrite a Python program that calculates the factorial of a number using the `reduce()` function."
   ]
  },
  {
   "cell_type": "code",
   "execution_count": 18,
   "id": "ed9de8f8-4e3b-408d-87f6-709761117c19",
   "metadata": {},
   "outputs": [
    {
     "name": "stdin",
     "output_type": "stream",
     "text": [
      "Enter the number to calculate factorial 5\n"
     ]
    },
    {
     "name": "stdout",
     "output_type": "stream",
     "text": [
      "The factorial of 5 is: 120\n"
     ]
    }
   ],
   "source": [
    "# Get the user input\n",
    "num = int(input(\"Enter the number to calculate factorial\"))\n",
    "\n",
    "# Use the reduce() function to get the product of elemnts\n",
    "print(f\"The factorial of {num} is: {reduce(lambda a,b:a*b, range(1, num+1))}\")"
   ]
  },
  {
   "cell_type": "markdown",
   "id": "e6ea7eb5-297f-438d-9fb9-f49df5d429c8",
   "metadata": {},
   "source": [
    "6.\tCreate a Python program that uses `reduce()` to find the GCD (Greatest Common Divisor) of a list of numbers."
   ]
  },
  {
   "cell_type": "code",
   "execution_count": 3,
   "id": "a31d6264-cfe0-4c84-889c-d691ac314edb",
   "metadata": {},
   "outputs": [
    {
     "name": "stdout",
     "output_type": "stream",
     "text": [
      "The greatest common divisor of [4, 12, 20] is 4.\n"
     ]
    }
   ],
   "source": [
    "# List iof numbers\n",
    "\n",
    "lst_gcd = [4,12,20]\n",
    "\n",
    "# Define function to find GCD\n",
    "def getGCD(num1, num2):\n",
    "    if num1 > num2:\n",
    "        num1, num2 = num2, num1\n",
    "\n",
    "    # Iterate through all possible divisors\n",
    "    for i in range(1, num1 + 1):\n",
    "        if num1 % i == 0 and num2 % i == 0:\n",
    "            gcd = i\n",
    "    return gcd\n",
    "\n",
    "# Use the reduce() function to get the product of elemnts\n",
    "print(f\"The greatest common divisor of {lst_gcd} is {reduce(getGCD, lst_gcd)}.\")"
   ]
  },
  {
   "cell_type": "markdown",
   "id": "01eed847-14d4-4e4f-9683-e44657dc5d6f",
   "metadata": {},
   "source": [
    "7.\tWrite a Python program that uses the `reduce()` function to find the sum of the digits of a given number."
   ]
  },
  {
   "cell_type": "code",
   "execution_count": 7,
   "id": "29d64d32-8bb8-4abe-b850-67e4bc20c6de",
   "metadata": {},
   "outputs": [
    {
     "name": "stdout",
     "output_type": "stream",
     "text": [
      "The sum of digits of 1234 is: 10\n"
     ]
    }
   ],
   "source": [
    "def getSumOfDigits(num):\n",
    "    summation = 0\n",
    "    for digit in str(num): \n",
    "        summation += int(digit)\n",
    "    return summation\n",
    "\n",
    "num = 1234\n",
    "print(f\"The sum of digits of {num} is: {reduce(lambda a,b:a+b, [int(digit) for digit in str(num)])}\")"
   ]
  },
  {
   "cell_type": "markdown",
   "id": "e78cd21d-ad44-482f-a3bd-f5a8349f6164",
   "metadata": {},
   "source": [
    "### Filter "
   ]
  },
  {
   "cell_type": "markdown",
   "id": "ffd3d2f2-fec0-40b5-ad81-a9f0702365f4",
   "metadata": {},
   "source": [
    "1.\tExplain the purpose of the `filter()` function in Python and provide an example of how it can be used to filter elements from an iterable."
   ]
  },
  {
   "cell_type": "code",
   "execution_count": 7,
   "id": "5a9b2d91-c34f-4dbc-8a2e-f1f2f5d25faa",
   "metadata": {},
   "outputs": [],
   "source": [
    "#The filter() function in Python is used to filter elements from an iterable (e.g., a list, tuple, or other iterable) \n",
    "#based on a specified condition. \n",
    "#It returns an iterable containing the elements for which the condition is True. \n",
    "#The purpose of the filter() function is to selectively include or exclude elements from the original iterable, \n",
    "#depending onthe given condition.\n",
    "\n",
    "#The basic syntax of the filter() function is as follows:\n",
    "\n",
    "#filter(function, iterable)"
   ]
  },
  {
   "cell_type": "markdown",
   "id": "a7b2cf60-ea7e-487d-ad74-051a1c6359d9",
   "metadata": {},
   "source": [
    "2.\tWrite a Python program that uses the `filter()` function to select even numbers from a list of integers."
   ]
  },
  {
   "cell_type": "code",
   "execution_count": 10,
   "id": "697de4a3-8265-4863-bddb-6a75c6b512a4",
   "metadata": {},
   "outputs": [
    {
     "name": "stdout",
     "output_type": "stream",
     "text": [
      "Even numbers: [2, 4, 6, 8, 10]\n"
     ]
    }
   ],
   "source": [
    "# List of integers\n",
    "numbers = [1, 2, 3, 4, 5, 6, 7, 8, 9, 10]\n",
    "\n",
    "# Use filter to select even numbers\n",
    "even_numbers = list(filter(lambda a:a % 2 == 0, numbers))\n",
    "\n",
    "# Output the even numbers\n",
    "print(\"Even numbers:\", even_numbers)"
   ]
  },
  {
   "cell_type": "markdown",
   "id": "9e3a162e-6261-4160-b2d6-d4bf5aef778c",
   "metadata": {},
   "source": [
    "3.\tCreate a Python program that uses the `filter()` function to select names that start with a specific letter from a list of strings."
   ]
  },
  {
   "cell_type": "code",
   "execution_count": 11,
   "id": "1cae0a0a-15c4-4081-8d9d-4700c6d03451",
   "metadata": {},
   "outputs": [
    {
     "name": "stdout",
     "output_type": "stream",
     "text": [
      "Names starting with letter 'p' are:  ['Parrot', 'piegon']\n"
     ]
    }
   ],
   "source": [
    "names = [\"Parrot\",\"piegon\",\"crow\",\"owl\",\"sparrow\"]\n",
    "\n",
    "letter = 'p'\n",
    "\n",
    "names_p = list(filter(lambda n:n[0].lower() == 'p', names))\n",
    "\n",
    "print(\"Names starting with letter 'p' are: \",names_p)"
   ]
  },
  {
   "cell_type": "markdown",
   "id": "93853dfa-8eef-401d-807b-becf13685764",
   "metadata": {},
   "source": [
    "4.\tWrite a Python program that uses the `filter()` function to select prime numbers from a list of integers."
   ]
  },
  {
   "cell_type": "code",
   "execution_count": 18,
   "id": "125c888b-5743-4f30-b589-6a467ca419a8",
   "metadata": {},
   "outputs": [
    {
     "name": "stdout",
     "output_type": "stream",
     "text": [
      "The prime numbers from [12, 33, 54, 63, 79, 43] are: [79, 43]\n"
     ]
    }
   ],
   "source": [
    "number = [12,33,54,63,79,43]\n",
    "\n",
    "def isPrime(num):\n",
    "    isprime = True\n",
    "    for i in range(2, num):\n",
    "        if (num % i) == 0:\n",
    "            # number is divisilbe by i so it is not a prime number\n",
    "            isprime = False\n",
    "            break\n",
    "    return isprime\n",
    "    \n",
    "print(f\"The prime numbers from {number} are: {list(filter(isPrime,number))}\")"
   ]
  },
  {
   "cell_type": "markdown",
   "id": "969d5eab-b4f7-457d-ade6-e3200666a16d",
   "metadata": {},
   "source": [
    "5.\tHow can you use the `filter()` function to remove None values from a list in Python?"
   ]
  },
  {
   "cell_type": "code",
   "execution_count": 20,
   "id": "e03ac816-a1f2-44e6-995f-3cd133561f40",
   "metadata": {},
   "outputs": [
    {
     "name": "stdout",
     "output_type": "stream",
     "text": [
      "Filtered list without None values [1, 2, 3, 4, 5]\n"
     ]
    }
   ],
   "source": [
    "# List with None values\n",
    "my_list = [1, None, 2, None, 3, 4, None, 5]\n",
    "\n",
    "# Use filter() to remove None values\n",
    "filtered_list = list(filter(lambda value: value is not None, my_list))\n",
    "\n",
    "# Print the filtered list\n",
    "print(\"Filtered list without None values\",filtered_list)\n"
   ]
  },
  {
   "cell_type": "markdown",
   "id": "6218f06d-45cb-422e-a5d6-9b27b0f129cf",
   "metadata": {},
   "source": [
    "6.\tCreate a Python program that uses `filter()` to select words longer than a certain length from a list of strings."
   ]
  },
  {
   "cell_type": "code",
   "execution_count": 24,
   "id": "663deb9d-12af-450c-b91e-4122f1601a11",
   "metadata": {},
   "outputs": [
    {
     "name": "stdout",
     "output_type": "stream",
     "text": [
      "Words longer than 6 character in list are ['pomegranate', 'watermelon', 'chickoo']\n"
     ]
    }
   ],
   "source": [
    "words = ['apple', 'banana', 'pomegranate', 'watermelon', 'chickoo']\n",
    "\n",
    "\n",
    "length = 6\n",
    "\n",
    "# Use filter() to remove words longer than 6 characters length\n",
    "filtered_list = list(filter(lambda word: len(word) > length, words))\n",
    "\n",
    "print(\"Words longer than 6 character in list are\",filtered_list)"
   ]
  },
  {
   "cell_type": "markdown",
   "id": "bc819cfd-8eb3-4955-9380-5eb7df489081",
   "metadata": {},
   "source": [
    "7.\tWrite a Python program that uses the `filter()` function to select elements greater than a specified threshold from a list of values."
   ]
  },
  {
   "cell_type": "code",
   "execution_count": 25,
   "id": "7806ac18-bd55-4fb3-ba17-392368938ccb",
   "metadata": {},
   "outputs": [
    {
     "name": "stdout",
     "output_type": "stream",
     "text": [
      "Values greater than 10: [12, 23, 16, 30]\n"
     ]
    }
   ],
   "source": [
    "# List of values\n",
    "values = [12, 5, 23, 8, 16, 9, 4, 30, 7]\n",
    "\n",
    "# Threshold value\n",
    "threshold = 10\n",
    "\n",
    "# Use filter() to select elements greater than the threshold\n",
    "selected_values = list(filter(lambda val: val > threshold, values))\n",
    "\n",
    "# Print the selected values\n",
    "print(f\"Values greater than {threshold}: {selected_values}\")\n"
   ]
  },
  {
   "cell_type": "markdown",
   "id": "5cb29ac4-e364-4141-9ef7-9b71855cbe18",
   "metadata": {},
   "source": [
    "### Recursion"
   ]
  },
  {
   "cell_type": "markdown",
   "id": "61eb738a-b40d-413c-af22-0ac99a94efb7",
   "metadata": {},
   "source": [
    "1.\tExplain the concept of recursion in Python. How does it differ from iteration?"
   ]
  },
  {
   "cell_type": "code",
   "execution_count": 12,
   "id": "a9f1e691-a0cc-4409-80d6-d0ff230b005a",
   "metadata": {},
   "outputs": [],
   "source": [
    "#Recursion is a concept in which a function calls itself. \n",
    "#It's a way of solving complex problems by breaking them down into smaller, more manageable sub-problems. \n",
    "#Recursion is particularly suited for problems that exhibit self-similarity or can be divided into smaller instances \n",
    "#of the same problem.\n",
    "\n",
    "#In Python, a recursive function is a function that calls itself within its own definition. \n",
    "#Recursion consists of two main parts:\n",
    "\n",
    "#Base Case: A termination condition that defines when the recursion should stop. \n",
    "#When the base case is met, the function returns a result without making any further recursive calls.\n",
    "\n",
    "#Recursive Case: The part of the function that calls itself with modified arguments, \n",
    "#moving closer to the base case. This allows the function to work on smaller instances of the problem."
   ]
  },
  {
   "cell_type": "markdown",
   "id": "fd49c2bb-ccfd-4a07-9109-9f32ae08f78b",
   "metadata": {},
   "source": [
    "2.\tWrite a Python program to calculate the factorial of a number using recursion."
   ]
  },
  {
   "cell_type": "code",
   "execution_count": 29,
   "id": "d0c20f4b-f2c6-4db0-b4b7-12c94467cf47",
   "metadata": {},
   "outputs": [
    {
     "name": "stdin",
     "output_type": "stream",
     "text": [
      "Enter the number to calculate factirial 7\n"
     ]
    },
    {
     "name": "stdout",
     "output_type": "stream",
     "text": [
      "5040\n"
     ]
    }
   ],
   "source": [
    "# Function to calculate the factorial of a number\n",
    "def factorial(n):\n",
    "    if n == 0:\n",
    "        return 1\n",
    "    else:\n",
    "        return n * factorial(n - 1)\n",
    "\n",
    "# get the user input\n",
    "num = int(input(\"Enter the number to calculate factirial\"))\n",
    "\n",
    "print(factorial(num))\n"
   ]
  },
  {
   "cell_type": "markdown",
   "id": "f4ac04bb-1ee8-41a6-a67a-4391df5c5783",
   "metadata": {},
   "source": [
    "3.\tCreate a recursive Python function to find the nth Fibonacci number."
   ]
  },
  {
   "cell_type": "code",
   "execution_count": 2,
   "id": "543da9fa-45f7-44cb-83ac-54e75d32b6db",
   "metadata": {},
   "outputs": [
    {
     "name": "stdin",
     "output_type": "stream",
     "text": [
      "Enter the value of n:  8\n"
     ]
    },
    {
     "name": "stdout",
     "output_type": "stream",
     "text": [
      "The 8th Fibonacci number is 13.\n"
     ]
    }
   ],
   "source": [
    "def fibonacci_recursive(n):\n",
    "    if n <= 0:\n",
    "        return None\n",
    "    elif n == 1:\n",
    "        return 0\n",
    "    elif n == 2:\n",
    "        return 1\n",
    "    else:\n",
    "        return fibonacci_recursive(n - 1) + fibonacci_recursive(n - 2)\n",
    "\n",
    "n = int(input(\"Enter the value of n: \"))\n",
    "if n <= 0:\n",
    "    print(\"Please enter a positive integer.\")\n",
    "else:\n",
    "    result = fibonacci_recursive(n)\n",
    "    if result is not None:\n",
    "        print(f\"The {n}th Fibonacci number is {result}.\")\n",
    "    else:\n",
    "        print(\"The Fibonacci sequence starts from 0, so there's no 0th Fibonacci number.\")"
   ]
  },
  {
   "cell_type": "markdown",
   "id": "cf057444-2740-42ea-b253-a4292fa5d82f",
   "metadata": {},
   "source": [
    "4.\tWrite a recursive Python function to calculate the sum of all elements in a list."
   ]
  },
  {
   "cell_type": "code",
   "execution_count": 3,
   "id": "f2bff44e-fc49-4725-97d4-ed1deb6e8a68",
   "metadata": {},
   "outputs": [
    {
     "name": "stdout",
     "output_type": "stream",
     "text": [
      "Sum of all values in list [23, 11, 45, 89, 12, 56] is: 236\n"
     ]
    }
   ],
   "source": [
    "# Declare list of numbers and sum variable\n",
    "numbers = [23, 11, 45, 89,12, 56]\n",
    "toal_sum = 0\n",
    "\n",
    "for num in numbers:\n",
    "    toal_sum += num\n",
    "\n",
    "print(f\"Sum of all values in list {numbers} is: {toal_sum}\")"
   ]
  },
  {
   "cell_type": "markdown",
   "id": "1fe268b4-c179-4e50-86ba-12cb50fb6cb8",
   "metadata": {},
   "source": [
    "5.\tHow can you prevent a recursive function from running indefinitely, causing a stack overflow error?"
   ]
  },
  {
   "cell_type": "code",
   "execution_count": 1,
   "id": "bf7f3604-909e-4136-ab70-cc68f5f5f0bb",
   "metadata": {},
   "outputs": [],
   "source": [
    "#Define base/ Termination case\n",
    "#Every recursive function should have one or more base cases. \n",
    "#A base case is a condition that, when met, stops the recursion and returns a result. \n",
    "#Base cases are crucial to prevent infinite recursion. \n",
    "# We have to ensure that base cases are well-defined and reachable.\n",
    "\n",
    "#Ensure execution Toward Base Case: \n",
    "#In addition to base cases, recursive function should make progress toward those base cases with each recursive call.\n",
    "#This means that the arguments passed to the recursive call should move closer to the base case. \n",
    "#If the arguments don't change or move away from the base case, it may cause infinite recursion."
   ]
  },
  {
   "cell_type": "markdown",
   "id": "bff01c40-eebd-4eac-a8a4-49af038a8fc5",
   "metadata": {},
   "source": [
    "6.\tCreate a recursive Python function to find the greatest common divisor (GCD) of two numbers using the Euclidean algorithm."
   ]
  },
  {
   "cell_type": "code",
   "execution_count": 4,
   "id": "b1e4b06b-b509-438b-bbf0-88d6cd2ae441",
   "metadata": {},
   "outputs": [
    {
     "name": "stdin",
     "output_type": "stream",
     "text": [
      "Enter the first number:  12\n",
      "Enter the second number:  20\n"
     ]
    },
    {
     "name": "stdout",
     "output_type": "stream",
     "text": [
      "The GCD of 12 and 20 is 4.\n"
     ]
    }
   ],
   "source": [
    "def euclidean_gcd(a, b):\n",
    "    if b == 0:\n",
    "        return a\n",
    "    else:\n",
    "        return euclidean_gcd(b, a % b)\n",
    "\n",
    "# Get input from the user\n",
    "\n",
    "num1 = int(input(\"Enter the first number: \"))\n",
    "num2 = int(input(\"Enter the second number: \"))\n",
    "\n",
    "if num1 < 0 or num2 < 0:\n",
    "    print(\"Please enter positive integers.\")\n",
    "else:\n",
    "    gcd = euclidean_gcd(num1, num2)\n",
    "    print(f\"The GCD of {num1} and {num2} is {gcd}.\")"
   ]
  },
  {
   "cell_type": "markdown",
   "id": "19ed3a90-b9d6-428a-89ea-208b05126ad4",
   "metadata": {},
   "source": [
    "7.\tWrite a recursive Python function to reverse a string."
   ]
  },
  {
   "cell_type": "code",
   "execution_count": 5,
   "id": "419f7abe-6846-4efc-b249-fea99c4f0882",
   "metadata": {},
   "outputs": [
    {
     "name": "stdin",
     "output_type": "stream",
     "text": [
      "Enter a string:  apple\n"
     ]
    },
    {
     "name": "stdout",
     "output_type": "stream",
     "text": [
      "Reversed string: elppa\n"
     ]
    }
   ],
   "source": [
    "def reverse_string_recursive(input_str):\n",
    "    # Base case: If the string is empty or has only one character, it's already reversed\n",
    "    if len(input_str) <= 1:\n",
    "        return input_str\n",
    "\n",
    "    # Recursive case: Reverse the string by reversing the substring except the first character\n",
    "    return reverse_string_recursive(input_str[1:]) + input_str[0]\n",
    "\n",
    "# Get input from the user\n",
    "\n",
    "user_input = input(\"Enter a string: \")\n",
    "reversed_str = reverse_string_recursive(user_input)\n",
    "print(f\"Reversed string: {reversed_str}\")"
   ]
  },
  {
   "cell_type": "markdown",
   "id": "ff74b38c-7fd6-47cc-9509-4b34018ad3bf",
   "metadata": {},
   "source": [
    "8.\tCreate a recursive Python function to calculate the power of a number (x^n)."
   ]
  },
  {
   "cell_type": "code",
   "execution_count": 6,
   "id": "337f6ff4-43ab-4c72-8ef4-e248fb5475fb",
   "metadata": {},
   "outputs": [
    {
     "name": "stdin",
     "output_type": "stream",
     "text": [
      "Enter the base (x):  2\n",
      "Enter the exponent (n):  3\n"
     ]
    },
    {
     "name": "stdout",
     "output_type": "stream",
     "text": [
      "2.0^3 is 8.00\n"
     ]
    }
   ],
   "source": [
    "def power(x, n):\n",
    "    if n == 0:\n",
    "        return 1\n",
    "    elif n < 0:\n",
    "        return 1 / power(x, -n)\n",
    "    else:\n",
    "        return x * power(x, n - 1)\n",
    "\n",
    "# Get input from the user\n",
    "\n",
    "base = float(input(\"Enter the base (x): \"))\n",
    "exponent = int(input(\"Enter the exponent (n): \"))\n",
    "\n",
    "result = power(base, exponent)\n",
    "print(f\"{base}^{exponent} is {result:.2f}\")"
   ]
  },
  {
   "cell_type": "markdown",
   "id": "d66e49d7-5cda-4113-b805-b888935e978c",
   "metadata": {},
   "source": [
    "9.\tWrite a recursive Python function to find all permutations of a given string."
   ]
  },
  {
   "cell_type": "code",
   "execution_count": 6,
   "id": "93f5b9b1-66a8-495f-b58c-7a4b16cad65a",
   "metadata": {},
   "outputs": [
    {
     "name": "stdin",
     "output_type": "stream",
     "text": [
      "Enter a string:  pros\n"
     ]
    },
    {
     "name": "stdout",
     "output_type": "stream",
     "text": [
      "All permutations of pros:\n",
      "pros\n",
      "prso\n",
      "pors\n",
      "posr\n",
      "psro\n",
      "psor\n",
      "rpos\n",
      "rpso\n",
      "rops\n",
      "rosp\n",
      "rspo\n",
      "rsop\n",
      "oprs\n",
      "opsr\n",
      "orps\n",
      "orsp\n",
      "ospr\n",
      "osrp\n",
      "spro\n",
      "spor\n",
      "srpo\n",
      "srop\n",
      "sopr\n",
      "sorp\n"
     ]
    }
   ],
   "source": [
    "def get_permutations(input_str):\n",
    "    if len(input_str) <= 1:\n",
    "        return [input_str]\n",
    "\n",
    "    # Recursive case: Generate permutations by selecting each character as the first character\n",
    "    permutations = []\n",
    "    for i, char in enumerate(input_str):\n",
    "        remaining_chars = input_str[:i] + input_str[i+1:]\n",
    "        #print(remaining_chars)\n",
    "        for perm in get_permutations(remaining_chars):\n",
    "            permutations.append(char + perm)\n",
    "\n",
    "    return permutations\n",
    "\n",
    "# Get input from the user\n",
    "user_input = input(\"Enter a string: \")\n",
    "\n",
    "if user_input:\n",
    "    permutations = get_permutations(user_input)\n",
    "    print(f\"All permutations of {user_input}:\")\n",
    "    for perm in permutations:\n",
    "        print(perm)\n",
    "else:\n",
    "    print(\"Please enter a non-empty string.\")\n"
   ]
  },
  {
   "cell_type": "markdown",
   "id": "052e4507-3a1a-468b-92bf-15c47ad85224",
   "metadata": {},
   "source": [
    "10.\tWrite a recursive Python function to check if a string is a palindrome."
   ]
  },
  {
   "cell_type": "code",
   "execution_count": null,
   "id": "72c2aa17-cb75-4b50-9ad6-a5b9911337d6",
   "metadata": {},
   "outputs": [],
   "source": [
    "def is_palindrome(s):\n",
    "    # Base case: An empty string or a single-character string is a palindrome.\n",
    "    if len(s) <= 1:\n",
    "        return True\n",
    "\n",
    "    # Compare the first and last characters, and check the remaining substring recursively.\n",
    "    if s[0] == s[-1]:\n",
    "        return is_palindrome(s[1:-1])\n",
    "    else:\n",
    "        return False\n",
    "\n",
    "# Get input from the user\n",
    "\n",
    "user_str = input(\"Enter a string: \")\n",
    "\n",
    "if is_palindrome(user_str):\n",
    "    print(f\"{user_str} is a palindrome.\")\n",
    "else:\n",
    "    print(f\"{user_str} is not a palindrome.\")"
   ]
  },
  {
   "cell_type": "markdown",
   "id": "12967b86-94cc-4421-ae94-d32b8480cff7",
   "metadata": {},
   "source": [
    "11.\tCreate a recursive Python function to generate all possible combinations of a list of elements."
   ]
  },
  {
   "cell_type": "code",
   "execution_count": 6,
   "id": "42acff98-cd5d-41ed-a8a8-68d22800e70f",
   "metadata": {},
   "outputs": [
    {
     "name": "stdin",
     "output_type": "stream",
     "text": [
      "Enter elements separated by spaces:  12 2 3 1\n"
     ]
    },
    {
     "name": "stdout",
     "output_type": "stream",
     "text": [
      "All combinations:\n",
      "[]\n",
      "['12']\n",
      "['2']\n",
      "['12', '2']\n",
      "['3']\n",
      "['12', '3']\n",
      "['2', '3']\n",
      "['12', '2', '3']\n",
      "['1']\n",
      "['12', '1']\n",
      "['2', '1']\n",
      "['12', '2', '1']\n",
      "['3', '1']\n",
      "['12', '3', '1']\n",
      "['2', '3', '1']\n",
      "['12', '2', '3', '1']\n"
     ]
    }
   ],
   "source": [
    "def get_combinations(elements):\n",
    "    # If list is empty then return empty list itself\n",
    "    if len(elements) == 0:\n",
    "        return [[]]\n",
    "\n",
    "    first_element = elements[0]\n",
    "    rest_of_elements = elements[1:]\n",
    "\n",
    "    # Get combinations without the first element\n",
    "    combinations_without_first = get_combinations(rest_of_elements)\n",
    "\n",
    "    # Combine the first element with each combination without it\n",
    "    combinations_with_first = []\n",
    "    for combo in combinations_without_first:\n",
    "        combinations_with_first.append(combo)\n",
    "        combinations_with_first.append([first_element] + combo)\n",
    "\n",
    "    return combinations_with_first\n",
    "\n",
    "# Get input from the user\n",
    "\n",
    "elements = input(\"Enter elements separated by spaces: \").split()\n",
    "\n",
    "if elements:\n",
    "    combinations = get_combinations(elements)\n",
    "    print(\"All combinations:\")\n",
    "    for combo in combinations:\n",
    "        print(combo)\n",
    "else:\n",
    "    print(\"Please enter at least one element.\")\n"
   ]
  },
  {
   "cell_type": "markdown",
   "id": "3763105b-967b-412d-8475-14e4ac02e214",
   "metadata": {},
   "source": [
    "### Basics of Functions"
   ]
  },
  {
   "cell_type": "markdown",
   "id": "da75aae8-aeb1-4557-b774-a7b2e3cd063a",
   "metadata": {},
   "source": [
    "1.\tWhat is a function in Python, and why is it used?"
   ]
  },
  {
   "cell_type": "code",
   "execution_count": 2,
   "id": "f410e24d-b981-4f66-9b9f-199ac80fe1f7",
   "metadata": {},
   "outputs": [],
   "source": [
    "#A function in Python is a block of code that performs a specific task. \n",
    "#Functions can be used to organize your code and make it more reusable.\n",
    "\n",
    "#Functions are used for a below reasons:\n",
    "\n",
    "#- To organize the code and make it more reusable.\n",
    "#- To break down complex tasks into smaller, more manageable chunks.\n",
    "#- To create custom functionality that is not available in the built-in functions.\n",
    "#- To encapsulate data and logic, making it easier to protect and maintain.\n",
    "#- To do unit testing of specific parts of a code"
   ]
  },
  {
   "cell_type": "markdown",
   "id": "535bae9c-d190-4444-9aff-7f3d0e1d7bd8",
   "metadata": {},
   "source": [
    "2.\tHow do you define a function in Python? Provide an example."
   ]
  },
  {
   "cell_type": "code",
   "execution_count": 3,
   "id": "10c2c27c-70c3-472a-ac5f-31282ff289e0",
   "metadata": {},
   "outputs": [],
   "source": [
    "#In Python, we can define a function using the def keyword followed by the function name \n",
    "#and a pair of parentheses that may contain parameters. \n",
    "#The function's code block is beneath the function definition. \n",
    "#below is the basic syntax of defining a function:\n",
    "\n",
    "def function_name(parameters):\n",
    "    # Function code goes here\n",
    "    # ...\n",
    "    return result  # Optional return statement\n",
    "\n",
    "#- function_name: is the name you give to your function.\n",
    "#- parameters: Parameters are optional and represent the input values that the function accepts.\n",
    "#- The function code is indented under the def statement.\n",
    "#- A return statement is optional, and it specifies the value that the function should return. \n",
    "#If there's no return statement, the function returns None by default.\n",
    "\n",
    "#Below is an example of defining a simple Python function that adds two numbers:\n",
    "\n",
    "def add_numbers(a, b):\n",
    "    result = a + b\n",
    "    return result"
   ]
  },
  {
   "cell_type": "markdown",
   "id": "76aaa472-e127-4894-9ec3-d95f6da2fa4f",
   "metadata": {},
   "source": [
    "3.\tExplain the difference between a function definition and a function call."
   ]
  },
  {
   "cell_type": "code",
   "execution_count": 4,
   "id": "5cca5671-2acd-4ff4-9813-7232b9cf8476",
   "metadata": {},
   "outputs": [
    {
     "name": "stdout",
     "output_type": "stream",
     "text": [
      "10 20\n"
     ]
    }
   ],
   "source": [
    "#Function Definition:\n",
    "\n",
    "#Purpose: A function definition is the way to create and specify the behavior of a function and business logic. \n",
    "#It defines the name of the function, its parameters (if any), and the code that should be \n",
    "#executed when the function is called.\n",
    "\n",
    "#Function Call:\n",
    "\n",
    "#Purpose: A function call is the way of invoking a function defined in the code. \n",
    "#When we call a function, we're instructing the program to execute the code within the function definition\n",
    "#with specific arguments (if required).\n",
    "\n",
    "\n",
    "def display(a,b):\n",
    "    print(a, b)\n",
    "\n",
    "a, b = 10,20\n",
    "\n",
    "display(a,b)"
   ]
  },
  {
   "cell_type": "markdown",
   "id": "79829e2d-eb90-4bec-ab61-28f4018903a8",
   "metadata": {},
   "source": [
    "4.\tWrite a Python program that defines a function to calculate the sum of two numbers and then calls the function."
   ]
  },
  {
   "cell_type": "code",
   "execution_count": 15,
   "id": "5f7a93a2-5812-4f9e-9991-72e8522acf91",
   "metadata": {},
   "outputs": [
    {
     "name": "stdout",
     "output_type": "stream",
     "text": [
      "Sum of 10 and 20 is: 30\n"
     ]
    }
   ],
   "source": [
    "def add_numbers(a, b):\n",
    "    result = a + b\n",
    "    return result\n",
    "\n",
    "a, b = 10,20\n",
    "\n",
    "print(f\"Sum of {a} and {b} is: {add_numbers(a,b)}\")"
   ]
  },
  {
   "cell_type": "markdown",
   "id": "9473ac5b-c8f3-43ca-b47d-72eb0e89f8c0",
   "metadata": {},
   "source": [
    "5.\tWhat is a function signature, and what information does it typically include?"
   ]
  },
  {
   "cell_type": "code",
   "execution_count": 5,
   "id": "1da9ee68-3711-4e65-b6be-a40af0e21bcd",
   "metadata": {},
   "outputs": [],
   "source": [
    "#A function signatureis a function prototype, it describes the name of the function,\n",
    "#its parameters, and its return type. Function signatures are used to document functions \n",
    "#and to help developers to understand how to use them.\n",
    "\n",
    "def multiply(x: int, y: int) -> int:\n",
    "    return x*y"
   ]
  },
  {
   "cell_type": "markdown",
   "id": "ff3cbce8-23fc-4bfa-a3c8-fd003d6fe89f",
   "metadata": {},
   "source": [
    "6.\tCreate a Python function that takes two arguments and returns their product."
   ]
  },
  {
   "cell_type": "code",
   "execution_count": 20,
   "id": "ca2f9501-ead8-4158-9f0b-41d54342eaea",
   "metadata": {},
   "outputs": [
    {
     "name": "stdout",
     "output_type": "stream",
     "text": [
      "product of 10 and 20 is 200\n"
     ]
    }
   ],
   "source": [
    "def multiply(x, y):\n",
    "    return x*y\n",
    "\n",
    "a,b = 10,20\n",
    "\n",
    "print(f\"product of {a} and {b} is {multiply(a,b)}\")"
   ]
  },
  {
   "cell_type": "markdown",
   "id": "ed2e45d7-b335-4c88-bda0-941e9797c9d9",
   "metadata": {},
   "source": [
    "### Function Parameters and Arguments"
   ]
  },
  {
   "cell_type": "markdown",
   "id": "4fe7e488-2bdc-496f-8272-e1cadcd79cda",
   "metadata": {},
   "source": [
    "1.\tExplain the concepts of formal parameters and actual arguments in Python functions."
   ]
  },
  {
   "cell_type": "code",
   "execution_count": 19,
   "id": "1406f69e-9ba8-4be1-9145-097757cd8703",
   "metadata": {},
   "outputs": [
    {
     "data": {
      "text/plain": [
       "5"
      ]
     },
     "execution_count": 19,
     "metadata": {},
     "output_type": "execute_result"
    }
   ],
   "source": [
    "#Formal parameters\n",
    "#These parameters are the variables defined in the function's parameter list, \n",
    "#which are holders for the data we want to pass into the function.\n",
    "#They are specified in the function's signature and serve as local variables within the function's scope.\n",
    "#Formal parameters are used to receive and work with the values provided by the actual arguments.\n",
    "#e.g\n",
    "def add(num1, num2):\n",
    "    return num1 + num2\n",
    "\n",
    "# Here num1 and num2 are formal parameters\n",
    "\n",
    "#Actual arguments\n",
    "\n",
    "#Actual arguments, are the values that we provide while calling a function.\n",
    "#These are the concrete values that are assigned to the formal parameters of the function.\n",
    "#Arguments are used to supply data to the function when it is called, \n",
    "#and they are used to populate the formal parameters within the function's code.\n",
    "\n",
    "#e.g\n",
    "add(2,3)\n",
    "\n",
    "#Here 2 and 3 are actual arguments for the formal parameters num1 and num2"
   ]
  },
  {
   "cell_type": "markdown",
   "id": "d44db115-b4a7-4283-892d-913666723dc9",
   "metadata": {},
   "source": [
    "2.\tWrite a Python program that defines a function with default argument values."
   ]
  },
  {
   "cell_type": "code",
   "execution_count": 23,
   "id": "6aa45a5a-2573-4779-aa74-3e89b7f9bfc6",
   "metadata": {},
   "outputs": [
    {
     "name": "stdout",
     "output_type": "stream",
     "text": [
      "product of 10 and 20 when we pass both parameters is 200\n",
      "product of 10 and default b value when we pass only a is 20\n"
     ]
    }
   ],
   "source": [
    "def multiply(x, y=2):\n",
    "    return x*y\n",
    "\n",
    "a,b = 10,20\n",
    "\n",
    "print(f\"product of {a} and {b} when we pass both parameters is {multiply(a,b)}\")\n",
    "print(f\"product of {a} and default b value when we pass only a is {multiply(a)}\")"
   ]
  },
  {
   "cell_type": "markdown",
   "id": "9753baaf-c2cf-4953-8beb-5ec2b739728f",
   "metadata": {},
   "source": [
    "3.\tHow do you use keyword arguments in Python function calls? Provide an example."
   ]
  },
  {
   "cell_type": "code",
   "execution_count": 17,
   "id": "63efa0f3-6fa7-4726-b7d6-ad170279f332",
   "metadata": {},
   "outputs": [
    {
     "name": "stdout",
     "output_type": "stream",
     "text": [
      "Name: Rohit, Role: Software Developer\n",
      "Name: Shreyas, Role: Tester\n"
     ]
    }
   ],
   "source": [
    "#In Python, we can use keyword arguments in function calls to specify the arguments by their parameter names, \n",
    "#rather than relying on their position. This allows us to make our code more readable and provide arguments \n",
    "#in any order, as long as we use the parameter names.\n",
    "\n",
    "#e.g.\n",
    "\n",
    "def details(name, role):\n",
    "    print(f\"Name: {name}, Role: {role}\")\n",
    "\n",
    "# Using keyword arguments\n",
    "details(name=\"Rohit\", role=\"Software Developer\")\n",
    "details(role=\"Tester\", name=\"Shreyas\")\n"
   ]
  },
  {
   "cell_type": "markdown",
   "id": "d792e9f4-2c82-43c0-80f5-3a0addc35a92",
   "metadata": {},
   "source": [
    "4.\tCreate a Python function that accepts a variable number of arguments and calculates their sum."
   ]
  },
  {
   "cell_type": "code",
   "execution_count": 18,
   "id": "ecc3faca-a5de-4602-be70-2971e8e039bb",
   "metadata": {},
   "outputs": [
    {
     "name": "stdout",
     "output_type": "stream",
     "text": [
      "Sum of 1,2,3,4,5 is:  15\n",
      "Sum of 10,20,30 is:  60\n"
     ]
    }
   ],
   "source": [
    "def calculate_sum(*args):\n",
    "    total = 0\n",
    "    for arg in args:\n",
    "        total += arg\n",
    "    return total\n",
    "\n",
    "# Example usage\n",
    "result = calculate_sum(1, 2, 3, 4, 5)\n",
    "print(\"Sum of 1,2,3,4,5 is: \", result)\n",
    "\n",
    "result = calculate_sum(10, 20, 30)\n",
    "print(\"Sum of 10,20,30 is: \", result)\n"
   ]
  },
  {
   "cell_type": "markdown",
   "id": "8733fc1d-4af2-49a3-941e-4d6751ece365",
   "metadata": {},
   "source": [
    "5.\tWhat is the purpose of the `*args` and `**kwargs` syntax in function parameter lists?"
   ]
  },
  {
   "cell_type": "code",
   "execution_count": null,
   "id": "48a1e570-eff8-48a4-8327-966fe3b9f0e9",
   "metadata": {},
   "outputs": [],
   "source": [
    "#The *args and **kwargs syntax in function parameter lists in Python provide flexibility for working with variable \n",
    "#numbers of arguments and keyword arguments in functions. They serve the following purposes:\n",
    "\n",
    "#*args:\n",
    "\n",
    "#The *args syntax allows a function to accept a variable number of positional arguments.\n",
    "#It collects any extra positional arguments passed to the function into a tuple.\n",
    "#This is useful when we want to create a function that can handle a variable number of arguments\n",
    "#without explicitly specifying them in the function signature.\n",
    "\n",
    "#**kwargs (Arbitrary Keyword Arguments):\n",
    "\n",
    "#The **kwargs syntax allows a function to accept a variable number of keyword arguments.\n",
    "#It collects any extra keyword arguments passed to the function into a dictionary,\n",
    "#where the keys are the parameter names and the values are the corresponding argument values.\n",
    "#This is useful when we want to create a function that can handle a variable number of keyword arguments \n",
    "#without explicitly specifying them in the function signature."
   ]
  },
  {
   "cell_type": "markdown",
   "id": "a78a4969-9857-4a1f-b7d4-6ab5d2bfdd3c",
   "metadata": {},
   "source": [
    "### Return Values and Scoping"
   ]
  },
  {
   "cell_type": "markdown",
   "id": "1f002cc7-7294-46db-b42d-0a5365c7d767",
   "metadata": {},
   "source": [
    "1.\tDescribe the role of the `return` statement in Python functions and provide examples."
   ]
  },
  {
   "cell_type": "code",
   "execution_count": null,
   "id": "40eebfc8-2d2c-4061-b605-9b33c074bfb2",
   "metadata": {},
   "outputs": [],
   "source": [
    "#Returning Values: \n",
    "#The main purpose of the return statement is to specify the value that a function should produce as its result.\n",
    "#When a function is called, and the return statement is executed, it immediately ends the function's execution\n",
    "#and sends the specified value back to the caller.\n",
    "\n",
    "#Terminating Execution: \n",
    "#The return statement also serves as a way to terminate the execution of a function prematurely. \n",
    "#When the return statement is encountered, the function exits, and control is returned to the calling code.\n",
    "\n",
    "#Function may have multiple return statements but only one return statement will get executed."
   ]
  },
  {
   "cell_type": "markdown",
   "id": "a3468a39-fce1-4459-8775-64a94682c3a9",
   "metadata": {},
   "source": [
    "2.\tExplain the concept of variable scope in Python, including local and global variables."
   ]
  },
  {
   "cell_type": "code",
   "execution_count": 18,
   "id": "a23b68e4-6d0f-4fa8-8f4c-fbd165749025",
   "metadata": {},
   "outputs": [],
   "source": [
    "#Variable scope in Python defines where a variable is accessible and where it is not. \n",
    "#There are two primary types of variable scope: local and global.\n",
    "\n",
    "#Local Variables:\n",
    "\n",
    "#Local variables are defined within a specific block of code, such as a function or a code block within a function.\n",
    "#They are only accessible and visible within the block where they are defined.\n",
    "#The local variable goes out of scope and is no longer accessible after block execution.\n",
    "\n",
    "#Global Variables:\n",
    "\n",
    "#Global variables are defined outside of any specific code block and have a global scope.\n",
    "#They are accessible from anywhere within the program, including functions.\n",
    "#Global variables persist throughout the program's execution.\n",
    "#Modifying a global variable from within a function requires the use of the global keyword"
   ]
  },
  {
   "cell_type": "markdown",
   "id": "5f63f66c-f860-4826-8772-14518b0c2e5d",
   "metadata": {},
   "source": [
    "3.\tWrite a Python program that demonstrates the use of global variables within functions."
   ]
  },
  {
   "cell_type": "code",
   "execution_count": 19,
   "id": "4c7f111e-ac0f-485c-9524-267156160152",
   "metadata": {},
   "outputs": [
    {
     "name": "stdout",
     "output_type": "stream",
     "text": [
      "x before modification:  10\n",
      "x after modification in function:  20\n"
     ]
    }
   ],
   "source": [
    "x = 10\n",
    "\n",
    "def myfunc():\n",
    "    global x\n",
    "    print(\"x before modification: \", x)\n",
    "    x = 20\n",
    "\n",
    "myfunc()\n",
    "\n",
    "print(\"x after modification in function: \",x)"
   ]
  },
  {
   "cell_type": "markdown",
   "id": "b8970842-3d88-4f22-9a99-b504b6631c9e",
   "metadata": {},
   "source": [
    "4.\tCreate a Python function that calculates the factorial of a number and returns it."
   ]
  },
  {
   "cell_type": "code",
   "execution_count": 22,
   "id": "fb395ae4-19e0-4b59-b535-4798a9b994b7",
   "metadata": {},
   "outputs": [
    {
     "name": "stdin",
     "output_type": "stream",
     "text": [
      "Enter the number to calculate factorial 4\n"
     ]
    },
    {
     "name": "stdout",
     "output_type": "stream",
     "text": [
      "Factorial of 4 is 24\n"
     ]
    }
   ],
   "source": [
    "def fact(n):\n",
    "    if n == 0:\n",
    "        return 1\n",
    "    return n* fact(n-1)\n",
    "\n",
    "num = int(input(\"Enter the number to calculate factorial\"))\n",
    "\n",
    "print(f\"Factorial of {num} is {fact(num)}\")"
   ]
  },
  {
   "cell_type": "markdown",
   "id": "46310344-15dc-4a9a-90bc-a94e18c72db5",
   "metadata": {},
   "source": [
    "5.\tHow can you access variables defined outside a function from within the function?"
   ]
  },
  {
   "cell_type": "code",
   "execution_count": 23,
   "id": "636d957b-0ca9-4a75-8a78-02eddc930804",
   "metadata": {},
   "outputs": [
    {
     "name": "stdout",
     "output_type": "stream",
     "text": [
      "x before modification:  10\n",
      "x after modification in function:  20\n"
     ]
    }
   ],
   "source": [
    "# We can use global variables for this requirement\n",
    "\n",
    "x = 10\n",
    "\n",
    "def myfunc():\n",
    "    global x\n",
    "    print(\"x before modification: \", x)\n",
    "    x = 20\n",
    "\n",
    "myfunc()\n",
    "\n",
    "print(\"x after modification in function: \",x)"
   ]
  },
  {
   "cell_type": "markdown",
   "id": "9ff220d1-2b01-4c41-b8ea-60f1a6f898f5",
   "metadata": {},
   "source": [
    "### Lambda Functions and Higher-Order Functions"
   ]
  },
  {
   "cell_type": "markdown",
   "id": "43230ba6-c77e-48be-b742-a169bb420ecf",
   "metadata": {},
   "source": [
    "1.\tWhat are lambda functions in Python, and when are they typically used?"
   ]
  },
  {
   "cell_type": "code",
   "execution_count": 25,
   "id": "1d31b1de-b858-4ef3-b30c-2335ff90badc",
   "metadata": {},
   "outputs": [],
   "source": [
    "#Lambda functions, also known as anonymous functions or lambda expressions, \n",
    "# It allows user to create small, unnamed functions on the fly. \n",
    "#They are typically used in situations where we need a simple, short function for a brief period.\n",
    "#Lambda functions syntax:\n",
    "\n",
    "#lambda arguments: expression\n",
    "\n",
    "# lambda function characteristics:\n",
    "#No Name: Lambda functions are anonymous, they don't have a name like regular functions defined with the def keyword.\n",
    "\n",
    "#Lambda functions consist of a single expression, not a block of statements. This expression is evaluated and returned.\n",
    "\n",
    "#Lambda functions are suitable for simple operations and are not intended for complex logic.\n",
    "\n",
    "\n",
    "#Commonly used for sroting, filtering, mapping usecases."
   ]
  },
  {
   "cell_type": "markdown",
   "id": "4bc2a95e-881c-4139-8e43-224d19b894ec",
   "metadata": {},
   "source": [
    "2.\tWrite a Python program that uses lambda functions to sort a list of tuples based on the second element."
   ]
  },
  {
   "cell_type": "code",
   "execution_count": 3,
   "id": "3a790880-202e-4592-b681-53ab12c0da88",
   "metadata": {},
   "outputs": [
    {
     "name": "stdout",
     "output_type": "stream",
     "text": [
      "(3, 1)\n",
      "(4, 4)\n",
      "(1, 5)\n",
      "(2, 9)\n"
     ]
    }
   ],
   "source": [
    "# Sample list of tuples\n",
    "data = [(1, 5), (3, 1), (2, 9), (4, 4)]\n",
    "\n",
    "# Sort the list based on the second element of each tuple\n",
    "sorted_data = sorted(data, key=lambda x: x[1])\n",
    "\n",
    "# Print the sorted list\n",
    "for item in sorted_data:\n",
    "    print(item)\n"
   ]
  },
  {
   "cell_type": "markdown",
   "id": "5ce82def-558e-4f0f-86a7-0e1c5a64a7c0",
   "metadata": {},
   "source": [
    "3.\tExplain the concept of higher-order functions in Python, and provide an example."
   ]
  },
  {
   "cell_type": "code",
   "execution_count": 8,
   "id": "a27dd97e-ba37-4964-b1a3-f2a53fc1120d",
   "metadata": {},
   "outputs": [
    {
     "name": "stdout",
     "output_type": "stream",
     "text": [
      "********** Higher-Order Function returning result **********\n",
      "\n",
      "[1, 4, 9, 16, 25]\n",
      "\n",
      "********** Higher-Order Function returning a function **********\n",
      "15\n"
     ]
    }
   ],
   "source": [
    "#In Python, a higher-order function is a function that can take one or more functions as arguments, \n",
    "#return a function as a result, or both. \n",
    "\n",
    "# Higher-order functions enable user to work with functions as first-class objects, It allows user to pass \n",
    "# functions as data, use functions to create other functions.\n",
    "\n",
    "# e.g. 1: Higher-Order Function Taking a Function as an Argument\n",
    "\n",
    "print(\"*\"*10 + \" Higher-Order Function returning result \" + \"*\"*10 + \"\\n\")\n",
    "\n",
    "# A higher-order function that applies a function to a list of numbers\n",
    "def apply_func_to_list(func, numbers):\n",
    "    result = []\n",
    "    for number in numbers:\n",
    "        result.append(func(number))\n",
    "    return result\n",
    "\n",
    "# A function to square a number\n",
    "def square(x):\n",
    "    return x ** 2\n",
    "\n",
    "# A list of numbers\n",
    "numbers = [1, 2, 3, 4, 5]\n",
    "\n",
    "# Using the higher-order function to square each number in the list\n",
    "squared_numbers = apply_func_to_list(square, numbers)\n",
    "print(squared_numbers) \n",
    "\n",
    "# Example 2: Higher-Order Function Returning a Function\n",
    "\n",
    "print(\"\\n\" + \"*\"*10 + \" Higher-Order Function returning a function \" + \"*\"*10)\n",
    "\n",
    "# A higher-order function that returns a function to add a constant\n",
    "def create_multiplier(constant):\n",
    "    def product(x):\n",
    "        return x + constant\n",
    "    return product\n",
    "\n",
    "# Create an adder function that adds 10 to a number\n",
    "multiply_10 = create_multiplier(10)\n",
    "\n",
    "# Use the created multiplier function\n",
    "result = multiply_10(5)\n",
    "print(result)\n"
   ]
  },
  {
   "cell_type": "markdown",
   "id": "c4de4082-5abf-42a7-a363-fccc15c96f85",
   "metadata": {},
   "source": [
    "4.\tCreate a Python function that takes a list of numbers and a function as arguments, applying the function to each element in the list."
   ]
  },
  {
   "cell_type": "code",
   "execution_count": 9,
   "id": "8c8c6c69-0eba-4e66-8c55-016c0c084f2d",
   "metadata": {},
   "outputs": [
    {
     "name": "stdout",
     "output_type": "stream",
     "text": [
      "[2, 4, 6, 8, 10]\n"
     ]
    }
   ],
   "source": [
    "# A higher-order function that applies a function to a list of numbers\n",
    "def apply_func_to_list(func, numbers):\n",
    "    result = []\n",
    "    for number in numbers:\n",
    "        result.append(func(number))\n",
    "    return result\n",
    "\n",
    "# A function to square a number\n",
    "def double(x):\n",
    "    return x * 2\n",
    "\n",
    "# A list of numbers\n",
    "numbers = [1, 2, 3, 4, 5]\n",
    "\n",
    "# Using the higher-order function to square each number in the list\n",
    "squared_numbers = apply_func_to_list(double, numbers)\n",
    "print(squared_numbers) "
   ]
  },
  {
   "cell_type": "markdown",
   "id": "c3f45ef1-4d75-458b-a96c-f61613dadd18",
   "metadata": {},
   "source": [
    "### Built-in Functions"
   ]
  },
  {
   "cell_type": "markdown",
   "id": "afd4541d-f9c2-4605-b059-9d47ce5a7926",
   "metadata": {},
   "source": [
    "1.\tDescribe the role of built-in functions like `len()`, `max()`, and `min()` in Python."
   ]
  },
  {
   "cell_type": "code",
   "execution_count": 13,
   "id": "218dbf01-6b09-42ab-8cb8-a86f497d193f",
   "metadata": {},
   "outputs": [],
   "source": [
    "# Built-in functions like len(), max(), and min() are essential tools in Python for performing \n",
    "# common operations on data structures and sequences.\n",
    "\n",
    "#len() Function:\n",
    "\n",
    "# The len() function is used to determine the length or the number of items in various data structures, \n",
    "# including strings, lists, tuples, dictionaries, and more.\n",
    "\n",
    "# max() and min() Functions:\n",
    "\n",
    "# The max() function returns the largest item in an iterable or the largest of two or more arguments.\n",
    "# The min() function returns the smallest item in an iterable or the smallest of two or more arguments."
   ]
  },
  {
   "cell_type": "markdown",
   "id": "89541323-4125-48ac-931b-1814f6e15db0",
   "metadata": {},
   "source": [
    "2.\tWrite a Python program that uses the `map()` function to apply a function to each element of a list."
   ]
  },
  {
   "cell_type": "code",
   "execution_count": 17,
   "id": "fe4d16ea-d171-4aa1-9a94-d16be95b1861",
   "metadata": {},
   "outputs": [
    {
     "name": "stdout",
     "output_type": "stream",
     "text": [
      "The doubled number list:  [4, 40, 6, 8]\n"
     ]
    }
   ],
   "source": [
    "# Define a custom function that takes two arguments\n",
    "def double(x):\n",
    "    return x*2\n",
    "\n",
    "# Lists of numbers\n",
    "list1 = [2, 20, 3, 4]\n",
    "\n",
    "# Use map() to apply the custom function to the elements of both lists\n",
    "print(\"The doubled number list: \",list(map(double, list1)))"
   ]
  },
  {
   "cell_type": "markdown",
   "id": "0a2bc787-595e-449f-9ad2-0279db54abb8",
   "metadata": {},
   "source": [
    "3. How does the `filter()` function work in Python, and when would you use it?"
   ]
  },
  {
   "cell_type": "code",
   "execution_count": 19,
   "id": "941dfcfe-47d9-456b-b31e-b6bccbe1eb5f",
   "metadata": {},
   "outputs": [],
   "source": [
    "# The filter() function in Python is a built-in function used to filter elements from \n",
    "# an iterable (e.g. a list, tuple, or string) based on a given filtering function or condition.\n",
    "# It works by applying the filtering function to each item in the iterable and returning a \n",
    "# new iterable containing only the elements for which the function evaluates to True.\n",
    "\n",
    "# When to use:\n",
    "\n",
    "# - Filtering elements from a sequence based on a specific condition or criterion.\n",
    "# - Cleaning and sanitizing data by removing unwanted or invalid entries.\n",
    "# - Selecting items from a list that meet certain criteria, such as selecting products \n",
    "# with specific attributes from a product database"
   ]
  },
  {
   "cell_type": "markdown",
   "id": "93994702-4085-4e02-ad31-bd3f26830ceb",
   "metadata": {},
   "source": [
    "4.\tCreate a Python program that uses the `reduce()` function to find the product of all elements in a list."
   ]
  },
  {
   "cell_type": "code",
   "execution_count": 23,
   "id": "f9f19792-272e-4947-8adf-ab9c01fa49d1",
   "metadata": {},
   "outputs": [
    {
     "name": "stdout",
     "output_type": "stream",
     "text": [
      "The product of [2, 4, 7, 5] is: 280\n"
     ]
    }
   ],
   "source": [
    "# Import reduce module\n",
    "from functools import reduce\n",
    "\n",
    "# List of numbers\n",
    "lst = [2,4,7,5]\n",
    "\n",
    "# Use the reduce() function to get the product of elemnts\n",
    "print(f\"The product of {lst} is: {reduce(lambda a,b:a*b, lst)}\")"
   ]
  },
  {
   "cell_type": "markdown",
   "id": "3bdc6c04-c459-43c6-af9b-d05a2202a76c",
   "metadata": {},
   "source": [
    "### Function Documentation and Best Practices:"
   ]
  },
  {
   "cell_type": "markdown",
   "id": "f8cfea23-4492-43ba-9125-1ed45fe205c5",
   "metadata": {},
   "source": [
    "1.\tExplain the purpose of docstrings in Python functions and how to write them."
   ]
  },
  {
   "cell_type": "code",
   "execution_count": 2,
   "id": "ab044ce6-ee2a-4c3d-a40b-7512a94571ee",
   "metadata": {},
   "outputs": [],
   "source": [
    "# Docstrings in Python are used to provide documentation for functions, classes, methods, and modules. \n",
    "# They are inline documentation, helping developers and users to understand how \n",
    "# to use the code and what it does.\n",
    "\n",
    "# Documentation: \n",
    "# Docstrings provide information about the purpose and usage of the code element like function, classes etc..\n",
    "\n",
    "# Help and Autocompletion:\n",
    "# Integrated development environments (IDEs) and tools can extract and display docstrings, \n",
    "# making it easier for developers to understand the code and use it correctly.\n",
    "\n",
    "# Readability:\n",
    "# Well-written docstrings enhance code readability by explaining the functionality and providing usage examples.\n",
    "\n",
    "# API Documentation:\n",
    "# Docstrings can be automatically extracted to create documentation for a code"
   ]
  },
  {
   "cell_type": "markdown",
   "id": "04bff213-6d21-411a-b631-678a930ccbfb",
   "metadata": {},
   "source": [
    "2.\tDescribe some best practices for naming functions and variables in Python, including naming conventions and guidelines."
   ]
  },
  {
   "cell_type": "code",
   "execution_count": null,
   "id": "a0421c20-2bfa-4325-900b-15bf5356b388",
   "metadata": {},
   "outputs": [],
   "source": [
    "#Use lowercase letters for function and variable names.\n",
    "#Separate words in function and variable names with underscores (e.g., my_function, my_variable)\n",
    "\n",
    "# Use meaningful and descriptive names for functions and variables. \n",
    "# Names should reflect the purpose of the function or the variable.\n",
    "# Avoid generic names like temp, data, or single-character names like x or i.\n",
    "# Describe the action the function performs. For example, use names like calculate_interest or validate_password.\n",
    "\n",
    "# Do not use Python keywords or built-in names (e.g., if, else, list) to prevent conflicts and confusion.\n",
    "#Constants or macros should be named using uppercase letters with underscores (e.g., MAX_LENGTH).\n",
    "\n",
    "# USe docstrings to provide usage information."
   ]
  }
 ],
 "metadata": {
  "kernelspec": {
   "display_name": "Python 3 (ipykernel)",
   "language": "python",
   "name": "python3"
  },
  "language_info": {
   "codemirror_mode": {
    "name": "ipython",
    "version": 3
   },
   "file_extension": ".py",
   "mimetype": "text/x-python",
   "name": "python",
   "nbconvert_exporter": "python",
   "pygments_lexer": "ipython3",
   "version": "3.10.8"
  }
 },
 "nbformat": 4,
 "nbformat_minor": 5
}
